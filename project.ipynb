{
 "metadata": {
  "language_info": {
   "codemirror_mode": {
    "name": "ipython",
    "version": 3
   },
   "file_extension": ".py",
   "mimetype": "text/x-python",
   "name": "python",
   "nbconvert_exporter": "python",
   "pygments_lexer": "ipython3",
   "version": "3.7.10"
  },
  "orig_nbformat": 2,
  "kernelspec": {
   "name": "python3710jvsc74a57bd0dcdf9362a78d2e47476587dd97a2a2a16cc1350fce3c333babf091014691f33e",
   "display_name": "Python 3.7.10 64-bit ('tfx-last': conda)"
  },
  "metadata": {
   "interpreter": {
    "hash": "31f2aee4e71d21fbe5cf8b01ff0e069b9275f58929596ceb00d14d90e3e16cd6"
   }
  }
 },
 "nbformat": 4,
 "nbformat_minor": 2,
 "cells": [
  {
   "source": [
    "# Final Project MPC\n",
    "## Houses Price prediction"
   ],
   "cell_type": "markdown",
   "metadata": {}
  },
  {
   "cell_type": "code",
   "execution_count": 4,
   "metadata": {},
   "outputs": [],
   "source": [
    "import pandas as pd\n",
    "import numpy as np\n",
    "import seaborn as sns\n",
    "import statsmodels.api as sm\n",
    "from sklearn.model_selection import train_test_split\n",
    "from sklearn.model_selection import KFold\n",
    "import matplotlib.pyplot as plt\n",
    "%matplotlib inline\n",
    "from IPython.display import clear_output"
   ]
  },
  {
   "cell_type": "code",
   "execution_count": 5,
   "metadata": {},
   "outputs": [
    {
     "output_type": "execute_result",
     "data": {
      "text/plain": [
       "        price  bedrooms  bathrooms  sqft_living  sqft_lot  floors  waterfront  \\\n",
       "6681    3.500         3       2.25         1860      8378     2.0         0.0   \n",
       "17798   5.925         4       3.00         2170      8240     1.0         0.0   \n",
       "18854   2.555         2       1.00         1440     43560     1.0         0.0   \n",
       "13478  13.300         4       2.25         3260      4640     2.0         0.0   \n",
       "10509   3.891         2       1.00          840      5400     1.0         0.0   \n",
       "...       ...       ...        ...          ...       ...     ...         ...   \n",
       "16125   2.900         2       1.00          930      7740     1.0         0.0   \n",
       "19004   3.150         3       2.50         1730      6368     2.0         0.0   \n",
       "9094    6.850         3       2.50         3450      8000     3.0         0.0   \n",
       "3537    3.260         6       1.50         1930      8400     1.0         0.0   \n",
       "10054   3.150         2       2.25         1290      2436     2.0         0.0   \n",
       "\n",
       "       view  condition  grade  sqft_above  sqft_basement  yr_built  \\\n",
       "6681    0.0          3      7        1860              0      1995   \n",
       "17798   0.0          4      8        1370            800      1968   \n",
       "18854   0.0          4      7        1150            290      1965   \n",
       "13478   0.0          5      9        2360            900      1907   \n",
       "10509   0.0          4      7         840              0      1948   \n",
       "...     ...        ...    ...         ...            ...       ...   \n",
       "16125   0.0          3      6         930              0      1924   \n",
       "19004   0.0          3      7        1730              0      1993   \n",
       "9094    0.0          4      8        2970            480      1927   \n",
       "3537    0.0          3      7        1030            900      1971   \n",
       "10054   0.0          3      7        1290              0      1984   \n",
       "\n",
       "       yr_renovated  zipcode      lat     long  sqft_living15  sqft_lot15  \n",
       "6681            0.0    98038  47.3875 -122.032           1870        8378  \n",
       "17798           0.0    98052  47.6291 -122.093           2020        7944  \n",
       "18854           0.0    98027  47.4916 -122.082           1870       56628  \n",
       "13478           0.0    98112  47.6272 -122.312           3240        5800  \n",
       "10509           0.0    98118  47.5489 -122.271           1340        5400  \n",
       "...             ...      ...      ...      ...            ...         ...  \n",
       "16125           0.0    98125  47.7091 -122.292           1250        7740  \n",
       "19004           0.0    98038  47.3505 -122.032           1780        6597  \n",
       "9094         1975.0    98116  47.5605 -122.402           1880        6135  \n",
       "3537            0.0    98146  47.4869 -122.340           1780        9520  \n",
       "10054           0.0    98052  47.6803 -122.156           1360        3088  \n",
       "\n",
       "[13397 rows x 19 columns]"
      ],
      "text/html": "<div>\n<style scoped>\n    .dataframe tbody tr th:only-of-type {\n        vertical-align: middle;\n    }\n\n    .dataframe tbody tr th {\n        vertical-align: top;\n    }\n\n    .dataframe thead th {\n        text-align: right;\n    }\n</style>\n<table border=\"1\" class=\"dataframe\">\n  <thead>\n    <tr style=\"text-align: right;\">\n      <th></th>\n      <th>price</th>\n      <th>bedrooms</th>\n      <th>bathrooms</th>\n      <th>sqft_living</th>\n      <th>sqft_lot</th>\n      <th>floors</th>\n      <th>waterfront</th>\n      <th>view</th>\n      <th>condition</th>\n      <th>grade</th>\n      <th>sqft_above</th>\n      <th>sqft_basement</th>\n      <th>yr_built</th>\n      <th>yr_renovated</th>\n      <th>zipcode</th>\n      <th>lat</th>\n      <th>long</th>\n      <th>sqft_living15</th>\n      <th>sqft_lot15</th>\n    </tr>\n  </thead>\n  <tbody>\n    <tr>\n      <th>6681</th>\n      <td>3.500</td>\n      <td>3</td>\n      <td>2.25</td>\n      <td>1860</td>\n      <td>8378</td>\n      <td>2.0</td>\n      <td>0.0</td>\n      <td>0.0</td>\n      <td>3</td>\n      <td>7</td>\n      <td>1860</td>\n      <td>0</td>\n      <td>1995</td>\n      <td>0.0</td>\n      <td>98038</td>\n      <td>47.3875</td>\n      <td>-122.032</td>\n      <td>1870</td>\n      <td>8378</td>\n    </tr>\n    <tr>\n      <th>17798</th>\n      <td>5.925</td>\n      <td>4</td>\n      <td>3.00</td>\n      <td>2170</td>\n      <td>8240</td>\n      <td>1.0</td>\n      <td>0.0</td>\n      <td>0.0</td>\n      <td>4</td>\n      <td>8</td>\n      <td>1370</td>\n      <td>800</td>\n      <td>1968</td>\n      <td>0.0</td>\n      <td>98052</td>\n      <td>47.6291</td>\n      <td>-122.093</td>\n      <td>2020</td>\n      <td>7944</td>\n    </tr>\n    <tr>\n      <th>18854</th>\n      <td>2.555</td>\n      <td>2</td>\n      <td>1.00</td>\n      <td>1440</td>\n      <td>43560</td>\n      <td>1.0</td>\n      <td>0.0</td>\n      <td>0.0</td>\n      <td>4</td>\n      <td>7</td>\n      <td>1150</td>\n      <td>290</td>\n      <td>1965</td>\n      <td>0.0</td>\n      <td>98027</td>\n      <td>47.4916</td>\n      <td>-122.082</td>\n      <td>1870</td>\n      <td>56628</td>\n    </tr>\n    <tr>\n      <th>13478</th>\n      <td>13.300</td>\n      <td>4</td>\n      <td>2.25</td>\n      <td>3260</td>\n      <td>4640</td>\n      <td>2.0</td>\n      <td>0.0</td>\n      <td>0.0</td>\n      <td>5</td>\n      <td>9</td>\n      <td>2360</td>\n      <td>900</td>\n      <td>1907</td>\n      <td>0.0</td>\n      <td>98112</td>\n      <td>47.6272</td>\n      <td>-122.312</td>\n      <td>3240</td>\n      <td>5800</td>\n    </tr>\n    <tr>\n      <th>10509</th>\n      <td>3.891</td>\n      <td>2</td>\n      <td>1.00</td>\n      <td>840</td>\n      <td>5400</td>\n      <td>1.0</td>\n      <td>0.0</td>\n      <td>0.0</td>\n      <td>4</td>\n      <td>7</td>\n      <td>840</td>\n      <td>0</td>\n      <td>1948</td>\n      <td>0.0</td>\n      <td>98118</td>\n      <td>47.5489</td>\n      <td>-122.271</td>\n      <td>1340</td>\n      <td>5400</td>\n    </tr>\n    <tr>\n      <th>...</th>\n      <td>...</td>\n      <td>...</td>\n      <td>...</td>\n      <td>...</td>\n      <td>...</td>\n      <td>...</td>\n      <td>...</td>\n      <td>...</td>\n      <td>...</td>\n      <td>...</td>\n      <td>...</td>\n      <td>...</td>\n      <td>...</td>\n      <td>...</td>\n      <td>...</td>\n      <td>...</td>\n      <td>...</td>\n      <td>...</td>\n      <td>...</td>\n    </tr>\n    <tr>\n      <th>16125</th>\n      <td>2.900</td>\n      <td>2</td>\n      <td>1.00</td>\n      <td>930</td>\n      <td>7740</td>\n      <td>1.0</td>\n      <td>0.0</td>\n      <td>0.0</td>\n      <td>3</td>\n      <td>6</td>\n      <td>930</td>\n      <td>0</td>\n      <td>1924</td>\n      <td>0.0</td>\n      <td>98125</td>\n      <td>47.7091</td>\n      <td>-122.292</td>\n      <td>1250</td>\n      <td>7740</td>\n    </tr>\n    <tr>\n      <th>19004</th>\n      <td>3.150</td>\n      <td>3</td>\n      <td>2.50</td>\n      <td>1730</td>\n      <td>6368</td>\n      <td>2.0</td>\n      <td>0.0</td>\n      <td>0.0</td>\n      <td>3</td>\n      <td>7</td>\n      <td>1730</td>\n      <td>0</td>\n      <td>1993</td>\n      <td>0.0</td>\n      <td>98038</td>\n      <td>47.3505</td>\n      <td>-122.032</td>\n      <td>1780</td>\n      <td>6597</td>\n    </tr>\n    <tr>\n      <th>9094</th>\n      <td>6.850</td>\n      <td>3</td>\n      <td>2.50</td>\n      <td>3450</td>\n      <td>8000</td>\n      <td>3.0</td>\n      <td>0.0</td>\n      <td>0.0</td>\n      <td>4</td>\n      <td>8</td>\n      <td>2970</td>\n      <td>480</td>\n      <td>1927</td>\n      <td>1975.0</td>\n      <td>98116</td>\n      <td>47.5605</td>\n      <td>-122.402</td>\n      <td>1880</td>\n      <td>6135</td>\n    </tr>\n    <tr>\n      <th>3537</th>\n      <td>3.260</td>\n      <td>6</td>\n      <td>1.50</td>\n      <td>1930</td>\n      <td>8400</td>\n      <td>1.0</td>\n      <td>0.0</td>\n      <td>0.0</td>\n      <td>3</td>\n      <td>7</td>\n      <td>1030</td>\n      <td>900</td>\n      <td>1971</td>\n      <td>0.0</td>\n      <td>98146</td>\n      <td>47.4869</td>\n      <td>-122.340</td>\n      <td>1780</td>\n      <td>9520</td>\n    </tr>\n    <tr>\n      <th>10054</th>\n      <td>3.150</td>\n      <td>2</td>\n      <td>2.25</td>\n      <td>1290</td>\n      <td>2436</td>\n      <td>2.0</td>\n      <td>0.0</td>\n      <td>0.0</td>\n      <td>3</td>\n      <td>7</td>\n      <td>1290</td>\n      <td>0</td>\n      <td>1984</td>\n      <td>0.0</td>\n      <td>98052</td>\n      <td>47.6803</td>\n      <td>-122.156</td>\n      <td>1360</td>\n      <td>3088</td>\n    </tr>\n  </tbody>\n</table>\n<p>13397 rows × 19 columns</p>\n</div>"
     },
     "metadata": {},
     "execution_count": 5
    }
   ],
   "source": [
    "# Load data\n",
    "houses = pd.read_csv('houses.csv', index_col=0)\n",
    "houses_competition = pd.read_csv('houses_competition.csv', index_col=0)\n",
    "houses_competition.insert(0, 'Fake price', np.nan) # to have same indexes for predictions\n",
    "houses"
   ]
  },
  {
   "source": [
    "## Descriptive analysis"
   ],
   "cell_type": "markdown",
   "metadata": {}
  },
  {
   "cell_type": "code",
   "execution_count": 3,
   "metadata": {},
   "outputs": [
    {
     "output_type": "stream",
     "name": "stdout",
     "text": [
      "13397 individuals described by 19 variables\n"
     ]
    }
   ],
   "source": [
    "row, col = houses.shape\n",
    "print(\"{} individuals described by {} variables\".format(row, col))"
   ]
  },
  {
   "cell_type": "code",
   "execution_count": 4,
   "metadata": {},
   "outputs": [
    {
     "output_type": "execute_result",
     "data": {
      "text/plain": [
       "              price      bedrooms     bathrooms   sqft_living      sqft_lot  \\\n",
       "count  13397.000000  13397.000000  13397.000000  13397.000000  1.339700e+04   \n",
       "mean       5.411905      3.379861      2.122509   2085.261775  1.525303e+04   \n",
       "std        3.727862      0.938934      0.764619    919.172404  3.973164e+04   \n",
       "min        0.820000      1.000000      0.500000    370.000000  5.200000e+02   \n",
       "25%        3.220000      3.000000      1.750000   1430.000000  5.050000e+03   \n",
       "50%        4.500000      3.000000      2.250000   1920.000000  7.617000e+03   \n",
       "75%        6.440000      4.000000      2.500000   2550.000000  1.072000e+04   \n",
       "max       77.000000     33.000000      8.000000  13540.000000  1.164794e+06   \n",
       "\n",
       "             floors    waterfront          view     condition         grade  \\\n",
       "count  13397.000000  13397.000000  13397.000000  13397.000000  13397.000000   \n",
       "mean       1.495185      0.006867      0.225648      3.412406      7.662312   \n",
       "std        0.539493      0.082587      0.752068      0.652101      1.168484   \n",
       "min        1.000000      0.000000      0.000000      1.000000      3.000000   \n",
       "25%        1.000000      0.000000      0.000000      3.000000      7.000000   \n",
       "50%        1.500000      0.000000      0.000000      3.000000      7.000000   \n",
       "75%        2.000000      0.000000      0.000000      4.000000      8.000000   \n",
       "max        3.500000      1.000000      4.000000      5.000000     13.000000   \n",
       "\n",
       "         sqft_above  sqft_basement      yr_built  yr_renovated       zipcode  \\\n",
       "count  13397.000000   13397.000000  13397.000000  13397.000000  13397.000000   \n",
       "mean    1792.022542     293.030604   1971.132642     83.006494  98077.574756   \n",
       "std      827.231993     443.115894     29.360525    398.562717     53.391212   \n",
       "min      370.000000       0.000000   1900.000000      0.000000  98001.000000   \n",
       "25%     1200.000000       0.000000   1952.000000      0.000000  98032.000000   \n",
       "50%     1564.000000       0.000000   1975.000000      0.000000  98065.000000   \n",
       "75%     2210.000000     560.000000   1997.000000      0.000000  98117.000000   \n",
       "max     9410.000000    4130.000000   2015.000000   2015.000000  98199.000000   \n",
       "\n",
       "                lat          long  sqft_living15     sqft_lot15  \n",
       "count  13397.000000  13397.000000   13397.000000   13397.000000  \n",
       "mean      47.559242   -122.213414    1987.884750   12774.004180  \n",
       "std        0.138897      0.140730     680.418605   25855.329281  \n",
       "min       47.155900   -122.519000     399.000000     660.000000  \n",
       "25%       47.469300   -122.328000    1490.000000    5100.000000  \n",
       "50%       47.571500   -122.229000    1840.000000    7620.000000  \n",
       "75%       47.677500   -122.123000    2360.000000   10091.000000  \n",
       "max       47.777600   -121.315000    6210.000000  434728.000000  "
      ],
      "text/html": "<div>\n<style scoped>\n    .dataframe tbody tr th:only-of-type {\n        vertical-align: middle;\n    }\n\n    .dataframe tbody tr th {\n        vertical-align: top;\n    }\n\n    .dataframe thead th {\n        text-align: right;\n    }\n</style>\n<table border=\"1\" class=\"dataframe\">\n  <thead>\n    <tr style=\"text-align: right;\">\n      <th></th>\n      <th>price</th>\n      <th>bedrooms</th>\n      <th>bathrooms</th>\n      <th>sqft_living</th>\n      <th>sqft_lot</th>\n      <th>floors</th>\n      <th>waterfront</th>\n      <th>view</th>\n      <th>condition</th>\n      <th>grade</th>\n      <th>sqft_above</th>\n      <th>sqft_basement</th>\n      <th>yr_built</th>\n      <th>yr_renovated</th>\n      <th>zipcode</th>\n      <th>lat</th>\n      <th>long</th>\n      <th>sqft_living15</th>\n      <th>sqft_lot15</th>\n    </tr>\n  </thead>\n  <tbody>\n    <tr>\n      <th>count</th>\n      <td>13397.000000</td>\n      <td>13397.000000</td>\n      <td>13397.000000</td>\n      <td>13397.000000</td>\n      <td>1.339700e+04</td>\n      <td>13397.000000</td>\n      <td>13397.000000</td>\n      <td>13397.000000</td>\n      <td>13397.000000</td>\n      <td>13397.000000</td>\n      <td>13397.000000</td>\n      <td>13397.000000</td>\n      <td>13397.000000</td>\n      <td>13397.000000</td>\n      <td>13397.000000</td>\n      <td>13397.000000</td>\n      <td>13397.000000</td>\n      <td>13397.000000</td>\n      <td>13397.000000</td>\n    </tr>\n    <tr>\n      <th>mean</th>\n      <td>5.411905</td>\n      <td>3.379861</td>\n      <td>2.122509</td>\n      <td>2085.261775</td>\n      <td>1.525303e+04</td>\n      <td>1.495185</td>\n      <td>0.006867</td>\n      <td>0.225648</td>\n      <td>3.412406</td>\n      <td>7.662312</td>\n      <td>1792.022542</td>\n      <td>293.030604</td>\n      <td>1971.132642</td>\n      <td>83.006494</td>\n      <td>98077.574756</td>\n      <td>47.559242</td>\n      <td>-122.213414</td>\n      <td>1987.884750</td>\n      <td>12774.004180</td>\n    </tr>\n    <tr>\n      <th>std</th>\n      <td>3.727862</td>\n      <td>0.938934</td>\n      <td>0.764619</td>\n      <td>919.172404</td>\n      <td>3.973164e+04</td>\n      <td>0.539493</td>\n      <td>0.082587</td>\n      <td>0.752068</td>\n      <td>0.652101</td>\n      <td>1.168484</td>\n      <td>827.231993</td>\n      <td>443.115894</td>\n      <td>29.360525</td>\n      <td>398.562717</td>\n      <td>53.391212</td>\n      <td>0.138897</td>\n      <td>0.140730</td>\n      <td>680.418605</td>\n      <td>25855.329281</td>\n    </tr>\n    <tr>\n      <th>min</th>\n      <td>0.820000</td>\n      <td>1.000000</td>\n      <td>0.500000</td>\n      <td>370.000000</td>\n      <td>5.200000e+02</td>\n      <td>1.000000</td>\n      <td>0.000000</td>\n      <td>0.000000</td>\n      <td>1.000000</td>\n      <td>3.000000</td>\n      <td>370.000000</td>\n      <td>0.000000</td>\n      <td>1900.000000</td>\n      <td>0.000000</td>\n      <td>98001.000000</td>\n      <td>47.155900</td>\n      <td>-122.519000</td>\n      <td>399.000000</td>\n      <td>660.000000</td>\n    </tr>\n    <tr>\n      <th>25%</th>\n      <td>3.220000</td>\n      <td>3.000000</td>\n      <td>1.750000</td>\n      <td>1430.000000</td>\n      <td>5.050000e+03</td>\n      <td>1.000000</td>\n      <td>0.000000</td>\n      <td>0.000000</td>\n      <td>3.000000</td>\n      <td>7.000000</td>\n      <td>1200.000000</td>\n      <td>0.000000</td>\n      <td>1952.000000</td>\n      <td>0.000000</td>\n      <td>98032.000000</td>\n      <td>47.469300</td>\n      <td>-122.328000</td>\n      <td>1490.000000</td>\n      <td>5100.000000</td>\n    </tr>\n    <tr>\n      <th>50%</th>\n      <td>4.500000</td>\n      <td>3.000000</td>\n      <td>2.250000</td>\n      <td>1920.000000</td>\n      <td>7.617000e+03</td>\n      <td>1.500000</td>\n      <td>0.000000</td>\n      <td>0.000000</td>\n      <td>3.000000</td>\n      <td>7.000000</td>\n      <td>1564.000000</td>\n      <td>0.000000</td>\n      <td>1975.000000</td>\n      <td>0.000000</td>\n      <td>98065.000000</td>\n      <td>47.571500</td>\n      <td>-122.229000</td>\n      <td>1840.000000</td>\n      <td>7620.000000</td>\n    </tr>\n    <tr>\n      <th>75%</th>\n      <td>6.440000</td>\n      <td>4.000000</td>\n      <td>2.500000</td>\n      <td>2550.000000</td>\n      <td>1.072000e+04</td>\n      <td>2.000000</td>\n      <td>0.000000</td>\n      <td>0.000000</td>\n      <td>4.000000</td>\n      <td>8.000000</td>\n      <td>2210.000000</td>\n      <td>560.000000</td>\n      <td>1997.000000</td>\n      <td>0.000000</td>\n      <td>98117.000000</td>\n      <td>47.677500</td>\n      <td>-122.123000</td>\n      <td>2360.000000</td>\n      <td>10091.000000</td>\n    </tr>\n    <tr>\n      <th>max</th>\n      <td>77.000000</td>\n      <td>33.000000</td>\n      <td>8.000000</td>\n      <td>13540.000000</td>\n      <td>1.164794e+06</td>\n      <td>3.500000</td>\n      <td>1.000000</td>\n      <td>4.000000</td>\n      <td>5.000000</td>\n      <td>13.000000</td>\n      <td>9410.000000</td>\n      <td>4130.000000</td>\n      <td>2015.000000</td>\n      <td>2015.000000</td>\n      <td>98199.000000</td>\n      <td>47.777600</td>\n      <td>-121.315000</td>\n      <td>6210.000000</td>\n      <td>434728.000000</td>\n    </tr>\n  </tbody>\n</table>\n</div>"
     },
     "metadata": {},
     "execution_count": 4
    }
   ],
   "source": [
    "houses.describe()"
   ]
  },
  {
   "source": [
    "We can notice from the description above that :\n",
    "- 'waterfront', 'view', 'sqft_basement', 'yr_renovated': have more than half of their values nulls\n",
    "- 'waterfront' is mostly null\n",
    "- 'lat', 'long': have almost constants values"
   ],
   "cell_type": "markdown",
   "metadata": {}
  },
  {
   "source": [
    "### Correlation matrix"
   ],
   "cell_type": "markdown",
   "metadata": {}
  },
  {
   "cell_type": "code",
   "execution_count": 5,
   "metadata": {},
   "outputs": [
    {
     "output_type": "display_data",
     "data": {
      "text/plain": "<Figure size 720x720 with 2 Axes>",
      "image/svg+xml": "<?xml version=\"1.0\" encoding=\"utf-8\" standalone=\"no\"?>\n<!DOCTYPE svg PUBLIC \"-//W3C//DTD SVG 1.1//EN\"\n  \"http://www.w3.org/Graphics/SVG/1.1/DTD/svg11.dtd\">\n<!-- Created with matplotlib (https://matplotlib.org/) -->\n<svg height=\"579.433775pt\" version=\"1.1\" viewBox=\"0 0 634.339375 579.433775\" width=\"634.339375pt\" xmlns=\"http://www.w3.org/2000/svg\" xmlns:xlink=\"http://www.w3.org/1999/xlink\">\n <metadata>\n  <rdf:RDF xmlns:cc=\"http://creativecommons.org/ns#\" xmlns:dc=\"http://purl.org/dc/elements/1.1/\" xmlns:rdf=\"http://www.w3.org/1999/02/22-rdf-syntax-ns#\">\n   <cc:Work>\n    <dc:type rdf:resource=\"http://purl.org/dc/dcmitype/StillImage\"/>\n    <dc:date>2021-04-28T20:07:24.316977</dc:date>\n    <dc:format>image/svg+xml</dc:format>\n    <dc:creator>\n     <cc:Agent>\n      <dc:title>Matplotlib v3.3.3, https://matplotlib.org/</dc:title>\n     </cc:Agent>\n    </dc:creator>\n   </cc:Work>\n  </rdf:RDF>\n </metadata>\n <defs>\n  <style type=\"text/css\">*{stroke-linecap:butt;stroke-linejoin:round;}</style>\n </defs>\n <g id=\"figure_1\">\n  <g id=\"patch_1\">\n   <path d=\"M 0 579.433775 \nL 634.339375 579.433775 \nL 634.339375 0 \nL 0 0 \nz\n\" style=\"fill:none;\"/>\n  </g>\n  <g id=\"axes_1\">\n   <g id=\"patch_2\">\n    <path d=\"M 88.014063 505.999219 \nL 534.414063 505.999219 \nL 534.414063 59.599219 \nL 88.014063 59.599219 \nz\n\" style=\"fill:#ffffff;\"/>\n   </g>\n   <g id=\"QuadMesh_1\">\n    <path clip-path=\"url(#p1faaa7d2d2)\" d=\"M 88.014063 59.599219 \nL 111.508799 59.599219 \nL 111.508799 83.093956 \nL 88.014063 83.093956 \nL 88.014063 59.599219 \n\" style=\"fill:#3f7f93;\"/>\n    <path clip-path=\"url(#p1faaa7d2d2)\" d=\"M 111.508799 59.599219 \nL 135.003536 59.599219 \nL 135.003536 83.093956 \nL 111.508799 83.093956 \nL 111.508799 59.599219 \n\" style=\"fill:#b9cfd5;\"/>\n    <path clip-path=\"url(#p1faaa7d2d2)\" d=\"M 135.003536 59.599219 \nL 158.498273 59.599219 \nL 158.498273 83.093956 \nL 135.003536 83.093956 \nL 135.003536 59.599219 \n\" style=\"fill:#92b5c0;\"/>\n    <path clip-path=\"url(#p1faaa7d2d2)\" d=\"M 158.498273 59.599219 \nL 181.99301 59.599219 \nL 181.99301 83.093956 \nL 158.498273 83.093956 \nL 158.498273 59.599219 \n\" style=\"fill:#72a0af;\"/>\n    <path clip-path=\"url(#p1faaa7d2d2)\" d=\"M 181.99301 59.599219 \nL 205.487747 59.599219 \nL 205.487747 83.093956 \nL 181.99301 83.093956 \nL 181.99301 59.599219 \n\" style=\"fill:#dfe7ea;\"/>\n    <path clip-path=\"url(#p1faaa7d2d2)\" d=\"M 205.487747 59.599219 \nL 228.982484 59.599219 \nL 228.982484 83.093956 \nL 205.487747 83.093956 \nL 205.487747 59.599219 \n\" style=\"fill:#c0d3d9;\"/>\n    <path clip-path=\"url(#p1faaa7d2d2)\" d=\"M 228.982484 59.599219 \nL 252.47722 59.599219 \nL 252.47722 83.093956 \nL 228.982484 83.093956 \nL 228.982484 59.599219 \n\" style=\"fill:#bfd2d8;\"/>\n    <path clip-path=\"url(#p1faaa7d2d2)\" d=\"M 252.47722 59.599219 \nL 275.971957 59.599219 \nL 275.971957 83.093956 \nL 252.47722 83.093956 \nL 252.47722 59.599219 \n\" style=\"fill:#abc6ce;\"/>\n    <path clip-path=\"url(#p1faaa7d2d2)\" d=\"M 275.971957 59.599219 \nL 299.466694 59.599219 \nL 299.466694 83.093956 \nL 275.971957 83.093956 \nL 275.971957 59.599219 \n\" style=\"fill:#eaeef0;\"/>\n    <path clip-path=\"url(#p1faaa7d2d2)\" d=\"M 299.466694 59.599219 \nL 322.961431 59.599219 \nL 322.961431 83.093956 \nL 299.466694 83.093956 \nL 299.466694 59.599219 \n\" style=\"fill:#79a5b3;\"/>\n    <path clip-path=\"url(#p1faaa7d2d2)\" d=\"M 322.961431 59.599219 \nL 346.456168 59.599219 \nL 346.456168 83.093956 \nL 322.961431 83.093956 \nL 322.961431 59.599219 \n\" style=\"fill:#81aab7;\"/>\n    <path clip-path=\"url(#p1faaa7d2d2)\" d=\"M 346.456168 59.599219 \nL 369.950905 59.599219 \nL 369.950905 83.093956 \nL 346.456168 83.093956 \nL 346.456168 59.599219 \n\" style=\"fill:#b8ced5;\"/>\n    <path clip-path=\"url(#p1faaa7d2d2)\" d=\"M 369.950905 59.599219 \nL 393.445641 59.599219 \nL 393.445641 83.093956 \nL 369.950905 83.093956 \nL 369.950905 59.599219 \n\" style=\"fill:#e8edef;\"/>\n    <path clip-path=\"url(#p1faaa7d2d2)\" d=\"M 393.445641 59.599219 \nL 416.940378 59.599219 \nL 416.940378 83.093956 \nL 393.445641 83.093956 \nL 393.445641 59.599219 \n\" style=\"fill:#d9e3e7;\"/>\n    <path clip-path=\"url(#p1faaa7d2d2)\" d=\"M 416.940378 59.599219 \nL 440.435115 59.599219 \nL 440.435115 83.093956 \nL 416.940378 83.093956 \nL 416.940378 59.599219 \n\" style=\"fill:#f1ebe9;\"/>\n    <path clip-path=\"url(#p1faaa7d2d2)\" d=\"M 440.435115 59.599219 \nL 463.929852 59.599219 \nL 463.929852 83.093956 \nL 440.435115 83.093956 \nL 440.435115 59.599219 \n\" style=\"fill:#b9cfd5;\"/>\n    <path clip-path=\"url(#p1faaa7d2d2)\" d=\"M 463.929852 59.599219 \nL 487.424589 59.599219 \nL 487.424589 83.093956 \nL 463.929852 83.093956 \nL 463.929852 59.599219 \n\" style=\"fill:#eef1f2;\"/>\n    <path clip-path=\"url(#p1faaa7d2d2)\" d=\"M 487.424589 59.599219 \nL 510.919326 59.599219 \nL 510.919326 83.093956 \nL 487.424589 83.093956 \nL 487.424589 59.599219 \n\" style=\"fill:#87aeba;\"/>\n    <path clip-path=\"url(#p1faaa7d2d2)\" d=\"M 510.919326 59.599219 \nL 534.414062 59.599219 \nL 534.414062 83.093956 \nL 510.919326 83.093956 \nL 510.919326 59.599219 \n\" style=\"fill:#e3e9ec;\"/>\n    <path clip-path=\"url(#p1faaa7d2d2)\" d=\"M 88.014063 83.093956 \nL 111.508799 83.093956 \nL 111.508799 106.588692 \nL 88.014063 106.588692 \nL 88.014063 83.093956 \n\" style=\"fill:#b9cfd5;\"/>\n    <path clip-path=\"url(#p1faaa7d2d2)\" d=\"M 111.508799 83.093956 \nL 135.003536 83.093956 \nL 135.003536 106.588692 \nL 111.508799 106.588692 \nL 111.508799 83.093956 \n\" style=\"fill:#3f7f93;\"/>\n    <path clip-path=\"url(#p1faaa7d2d2)\" d=\"M 135.003536 83.093956 \nL 158.498273 83.093956 \nL 158.498273 106.588692 \nL 135.003536 106.588692 \nL 135.003536 83.093956 \n\" style=\"fill:#93b6c1;\"/>\n    <path clip-path=\"url(#p1faaa7d2d2)\" d=\"M 158.498273 83.093956 \nL 181.99301 83.093956 \nL 181.99301 106.588692 \nL 158.498273 106.588692 \nL 158.498273 83.093956 \n\" style=\"fill:#8ab0bb;\"/>\n    <path clip-path=\"url(#p1faaa7d2d2)\" d=\"M 181.99301 83.093956 \nL 205.487747 83.093956 \nL 205.487747 106.588692 \nL 181.99301 106.588692 \nL 181.99301 83.093956 \n\" style=\"fill:#ebeff0;\"/>\n    <path clip-path=\"url(#p1faaa7d2d2)\" d=\"M 205.487747 83.093956 \nL 228.982484 83.093956 \nL 228.982484 106.588692 \nL 205.487747 106.588692 \nL 205.487747 83.093956 \n\" style=\"fill:#d1dee2;\"/>\n    <path clip-path=\"url(#p1faaa7d2d2)\" d=\"M 228.982484 83.093956 \nL 252.47722 83.093956 \nL 252.47722 106.588692 \nL 228.982484 106.588692 \nL 228.982484 83.093956 \n\" style=\"fill:#f2f1f1;\"/>\n    <path clip-path=\"url(#p1faaa7d2d2)\" d=\"M 252.47722 83.093956 \nL 275.971957 83.093956 \nL 275.971957 106.588692 \nL 252.47722 106.588692 \nL 252.47722 83.093956 \n\" style=\"fill:#e1e9eb;\"/>\n    <path clip-path=\"url(#p1faaa7d2d2)\" d=\"M 275.971957 83.093956 \nL 299.466694 83.093956 \nL 299.466694 106.588692 \nL 275.971957 106.588692 \nL 275.971957 83.093956 \n\" style=\"fill:#ebeff0;\"/>\n    <path clip-path=\"url(#p1faaa7d2d2)\" d=\"M 299.466694 83.093956 \nL 322.961431 83.093956 \nL 322.961431 106.588692 \nL 299.466694 106.588692 \nL 299.466694 83.093956 \n\" style=\"fill:#b2cad2;\"/>\n    <path clip-path=\"url(#p1faaa7d2d2)\" d=\"M 322.961431 83.093956 \nL 346.456168 83.093956 \nL 346.456168 106.588692 \nL 322.961431 106.588692 \nL 322.961431 83.093956 \n\" style=\"fill:#9bbbc5;\"/>\n    <path clip-path=\"url(#p1faaa7d2d2)\" d=\"M 346.456168 83.093956 \nL 369.950905 83.093956 \nL 369.950905 106.588692 \nL 346.456168 106.588692 \nL 346.456168 83.093956 \n\" style=\"fill:#b9cfd5;\"/>\n    <path clip-path=\"url(#p1faaa7d2d2)\" d=\"M 369.950905 83.093956 \nL 393.445641 83.093956 \nL 393.445641 106.588692 \nL 369.950905 106.588692 \nL 369.950905 83.093956 \n\" style=\"fill:#d5e0e4;\"/>\n    <path clip-path=\"url(#p1faaa7d2d2)\" d=\"M 393.445641 83.093956 \nL 416.940378 83.093956 \nL 416.940378 106.588692 \nL 393.445641 106.588692 \nL 393.445641 83.093956 \n\" style=\"fill:#f0f2f2;\"/>\n    <path clip-path=\"url(#p1faaa7d2d2)\" d=\"M 416.940378 83.093956 \nL 440.435115 83.093956 \nL 440.435115 106.588692 \nL 416.940378 106.588692 \nL 416.940378 83.093956 \n\" style=\"fill:#ecdbd7;\"/>\n    <path clip-path=\"url(#p1faaa7d2d2)\" d=\"M 440.435115 83.093956 \nL 463.929852 83.093956 \nL 463.929852 106.588692 \nL 440.435115 106.588692 \nL 440.435115 83.093956 \n\" style=\"fill:#f2f1f1;\"/>\n    <path clip-path=\"url(#p1faaa7d2d2)\" d=\"M 463.929852 83.093956 \nL 487.424589 83.093956 \nL 487.424589 106.588692 \nL 463.929852 106.588692 \nL 463.929852 83.093956 \n\" style=\"fill:#d9e3e7;\"/>\n    <path clip-path=\"url(#p1faaa7d2d2)\" d=\"M 487.424589 83.093956 \nL 510.919326 83.093956 \nL 510.919326 106.588692 \nL 487.424589 106.588692 \nL 487.424589 83.093956 \n\" style=\"fill:#abc6ce;\"/>\n    <path clip-path=\"url(#p1faaa7d2d2)\" d=\"M 510.919326 83.093956 \nL 534.414062 83.093956 \nL 534.414062 106.588692 \nL 510.919326 106.588692 \nL 510.919326 83.093956 \n\" style=\"fill:#ebeff0;\"/>\n    <path clip-path=\"url(#p1faaa7d2d2)\" d=\"M 88.014063 106.588692 \nL 111.508799 106.588692 \nL 111.508799 130.083429 \nL 88.014063 130.083429 \nL 88.014063 106.588692 \n\" style=\"fill:#92b5c0;\"/>\n    <path clip-path=\"url(#p1faaa7d2d2)\" d=\"M 111.508799 106.588692 \nL 135.003536 106.588692 \nL 135.003536 130.083429 \nL 111.508799 130.083429 \nL 111.508799 106.588692 \n\" style=\"fill:#93b6c1;\"/>\n    <path clip-path=\"url(#p1faaa7d2d2)\" d=\"M 135.003536 106.588692 \nL 158.498273 106.588692 \nL 158.498273 130.083429 \nL 135.003536 130.083429 \nL 135.003536 106.588692 \n\" style=\"fill:#3f7f93;\"/>\n    <path clip-path=\"url(#p1faaa7d2d2)\" d=\"M 158.498273 106.588692 \nL 181.99301 106.588692 \nL 181.99301 130.083429 \nL 158.498273 130.083429 \nL 158.498273 106.588692 \n\" style=\"fill:#689aaa;\"/>\n    <path clip-path=\"url(#p1faaa7d2d2)\" d=\"M 181.99301 106.588692 \nL 205.487747 106.588692 \nL 205.487747 130.083429 \nL 181.99301 130.083429 \nL 181.99301 106.588692 \n\" style=\"fill:#e1e9eb;\"/>\n    <path clip-path=\"url(#p1faaa7d2d2)\" d=\"M 205.487747 106.588692 \nL 228.982484 106.588692 \nL 228.982484 130.083429 \nL 205.487747 130.083429 \nL 205.487747 106.588692 \n\" style=\"fill:#96b8c2;\"/>\n    <path clip-path=\"url(#p1faaa7d2d2)\" d=\"M 228.982484 106.588692 \nL 252.47722 106.588692 \nL 252.47722 130.083429 \nL 228.982484 130.083429 \nL 228.982484 106.588692 \n\" style=\"fill:#e3e9ec;\"/>\n    <path clip-path=\"url(#p1faaa7d2d2)\" d=\"M 252.47722 106.588692 \nL 275.971957 106.588692 \nL 275.971957 130.083429 \nL 252.47722 130.083429 \nL 252.47722 106.588692 \n\" style=\"fill:#cfdde1;\"/>\n    <path clip-path=\"url(#p1faaa7d2d2)\" d=\"M 275.971957 106.588692 \nL 299.466694 106.588692 \nL 299.466694 130.083429 \nL 275.971957 130.083429 \nL 275.971957 106.588692 \n\" style=\"fill:#ecddda;\"/>\n    <path clip-path=\"url(#p1faaa7d2d2)\" d=\"M 299.466694 106.588692 \nL 322.961431 106.588692 \nL 322.961431 130.083429 \nL 299.466694 130.083429 \nL 299.466694 106.588692 \n\" style=\"fill:#79a5b3;\"/>\n    <path clip-path=\"url(#p1faaa7d2d2)\" d=\"M 322.961431 106.588692 \nL 346.456168 106.588692 \nL 346.456168 130.083429 \nL 322.961431 130.083429 \nL 322.961431 106.588692 \n\" style=\"fill:#75a2b0;\"/>\n    <path clip-path=\"url(#p1faaa7d2d2)\" d=\"M 346.456168 106.588692 \nL 369.950905 106.588692 \nL 369.950905 130.083429 \nL 346.456168 130.083429 \nL 346.456168 106.588692 \n\" style=\"fill:#bfd2d8;\"/>\n    <path clip-path=\"url(#p1faaa7d2d2)\" d=\"M 369.950905 106.588692 \nL 393.445641 106.588692 \nL 393.445641 130.083429 \nL 369.950905 130.083429 \nL 369.950905 106.588692 \n\" style=\"fill:#96b8c2;\"/>\n    <path clip-path=\"url(#p1faaa7d2d2)\" d=\"M 393.445641 106.588692 \nL 416.940378 106.588692 \nL 416.940378 130.083429 \nL 393.445641 130.083429 \nL 393.445641 106.588692 \n\" style=\"fill:#e8edef;\"/>\n    <path clip-path=\"url(#p1faaa7d2d2)\" d=\"M 416.940378 106.588692 \nL 440.435115 106.588692 \nL 440.435115 130.083429 \nL 416.940378 130.083429 \nL 416.940378 106.588692 \n\" style=\"fill:#e9d2cd;\"/>\n    <path clip-path=\"url(#p1faaa7d2d2)\" d=\"M 440.435115 106.588692 \nL 463.929852 106.588692 \nL 463.929852 130.083429 \nL 440.435115 130.083429 \nL 440.435115 106.588692 \n\" style=\"fill:#eaeef0;\"/>\n    <path clip-path=\"url(#p1faaa7d2d2)\" d=\"M 463.929852 106.588692 \nL 487.424589 106.588692 \nL 487.424589 130.083429 \nL 463.929852 130.083429 \nL 463.929852 106.588692 \n\" style=\"fill:#cad9de;\"/>\n    <path clip-path=\"url(#p1faaa7d2d2)\" d=\"M 487.424589 106.588692 \nL 510.919326 106.588692 \nL 510.919326 130.083429 \nL 487.424589 130.083429 \nL 487.424589 106.588692 \n\" style=\"fill:#8bb1bc;\"/>\n    <path clip-path=\"url(#p1faaa7d2d2)\" d=\"M 510.919326 106.588692 \nL 534.414062 106.588692 \nL 534.414062 130.083429 \nL 510.919326 130.083429 \nL 510.919326 106.588692 \n\" style=\"fill:#e1e9eb;\"/>\n    <path clip-path=\"url(#p1faaa7d2d2)\" d=\"M 88.014063 130.083429 \nL 111.508799 130.083429 \nL 111.508799 153.578166 \nL 88.014063 153.578166 \nL 88.014063 130.083429 \n\" style=\"fill:#72a0af;\"/>\n    <path clip-path=\"url(#p1faaa7d2d2)\" d=\"M 111.508799 130.083429 \nL 135.003536 130.083429 \nL 135.003536 153.578166 \nL 111.508799 153.578166 \nL 111.508799 130.083429 \n\" style=\"fill:#8ab0bb;\"/>\n    <path clip-path=\"url(#p1faaa7d2d2)\" d=\"M 135.003536 130.083429 \nL 158.498273 130.083429 \nL 158.498273 153.578166 \nL 135.003536 153.578166 \nL 135.003536 130.083429 \n\" style=\"fill:#689aaa;\"/>\n    <path clip-path=\"url(#p1faaa7d2d2)\" d=\"M 158.498273 130.083429 \nL 181.99301 130.083429 \nL 181.99301 153.578166 \nL 158.498273 153.578166 \nL 158.498273 130.083429 \n\" style=\"fill:#3f7f93;\"/>\n    <path clip-path=\"url(#p1faaa7d2d2)\" d=\"M 181.99301 130.083429 \nL 205.487747 130.083429 \nL 205.487747 153.578166 \nL 181.99301 153.578166 \nL 181.99301 130.083429 \n\" style=\"fill:#d2dfe3;\"/>\n    <path clip-path=\"url(#p1faaa7d2d2)\" d=\"M 205.487747 130.083429 \nL 228.982484 130.083429 \nL 228.982484 153.578166 \nL 205.487747 153.578166 \nL 205.487747 130.083429 \n\" style=\"fill:#b1c9d1;\"/>\n    <path clip-path=\"url(#p1faaa7d2d2)\" d=\"M 228.982484 130.083429 \nL 252.47722 130.083429 \nL 252.47722 153.578166 \nL 228.982484 153.578166 \nL 228.982484 130.083429 \n\" style=\"fill:#dce5e8;\"/>\n    <path clip-path=\"url(#p1faaa7d2d2)\" d=\"M 252.47722 130.083429 \nL 275.971957 130.083429 \nL 275.971957 153.578166 \nL 252.47722 153.578166 \nL 252.47722 130.083429 \n\" style=\"fill:#bdd1d8;\"/>\n    <path clip-path=\"url(#p1faaa7d2d2)\" d=\"M 275.971957 130.083429 \nL 299.466694 130.083429 \nL 299.466694 153.578166 \nL 275.971957 153.578166 \nL 275.971957 130.083429 \n\" style=\"fill:#f0e8e7;\"/>\n    <path clip-path=\"url(#p1faaa7d2d2)\" d=\"M 299.466694 130.083429 \nL 322.961431 130.083429 \nL 322.961431 153.578166 \nL 299.466694 153.578166 \nL 299.466694 130.083429 \n\" style=\"fill:#6799a9;\"/>\n    <path clip-path=\"url(#p1faaa7d2d2)\" d=\"M 322.961431 130.083429 \nL 346.456168 130.083429 \nL 346.456168 153.578166 \nL 322.961431 153.578166 \nL 322.961431 130.083429 \n\" style=\"fill:#528c9e;\"/>\n    <path clip-path=\"url(#p1faaa7d2d2)\" d=\"M 346.456168 130.083429 \nL 369.950905 130.083429 \nL 369.950905 153.578166 \nL 346.456168 153.578166 \nL 346.456168 130.083429 \n\" style=\"fill:#a3c0c9;\"/>\n    <path clip-path=\"url(#p1faaa7d2d2)\" d=\"M 369.950905 130.083429 \nL 393.445641 130.083429 \nL 393.445641 153.578166 \nL 369.950905 153.578166 \nL 369.950905 130.083429 \n\" style=\"fill:#b9cfd5;\"/>\n    <path clip-path=\"url(#p1faaa7d2d2)\" d=\"M 393.445641 130.083429 \nL 416.940378 130.083429 \nL 416.940378 153.578166 \nL 393.445641 153.578166 \nL 393.445641 130.083429 \n\" style=\"fill:#e8edef;\"/>\n    <path clip-path=\"url(#p1faaa7d2d2)\" d=\"M 416.940378 130.083429 \nL 440.435115 130.083429 \nL 440.435115 153.578166 \nL 416.940378 153.578166 \nL 416.940378 130.083429 \n\" style=\"fill:#e9d2cd;\"/>\n    <path clip-path=\"url(#p1faaa7d2d2)\" d=\"M 440.435115 130.083429 \nL 463.929852 130.083429 \nL 463.929852 153.578166 \nL 440.435115 153.578166 \nL 440.435115 130.083429 \n\" style=\"fill:#e6ebed;\"/>\n    <path clip-path=\"url(#p1faaa7d2d2)\" d=\"M 463.929852 130.083429 \nL 487.424589 130.083429 \nL 487.424589 153.578166 \nL 463.929852 153.578166 \nL 463.929852 130.083429 \n\" style=\"fill:#c6d7dc;\"/>\n    <path clip-path=\"url(#p1faaa7d2d2)\" d=\"M 487.424589 130.083429 \nL 510.919326 130.083429 \nL 510.919326 153.578166 \nL 487.424589 153.578166 \nL 487.424589 130.083429 \n\" style=\"fill:#689aaa;\"/>\n    <path clip-path=\"url(#p1faaa7d2d2)\" d=\"M 510.919326 130.083429 \nL 534.414062 130.083429 \nL 534.414062 153.578166 \nL 510.919326 153.578166 \nL 510.919326 130.083429 \n\" style=\"fill:#d1dee2;\"/>\n    <path clip-path=\"url(#p1faaa7d2d2)\" d=\"M 88.014063 153.578166 \nL 111.508799 153.578166 \nL 111.508799 177.072903 \nL 88.014063 177.072903 \nL 88.014063 153.578166 \n\" style=\"fill:#dfe7ea;\"/>\n    <path clip-path=\"url(#p1faaa7d2d2)\" d=\"M 111.508799 153.578166 \nL 135.003536 153.578166 \nL 135.003536 177.072903 \nL 111.508799 177.072903 \nL 111.508799 153.578166 \n\" style=\"fill:#ebeff0;\"/>\n    <path clip-path=\"url(#p1faaa7d2d2)\" d=\"M 135.003536 153.578166 \nL 158.498273 153.578166 \nL 158.498273 177.072903 \nL 135.003536 177.072903 \nL 135.003536 153.578166 \n\" style=\"fill:#e1e9eb;\"/>\n    <path clip-path=\"url(#p1faaa7d2d2)\" d=\"M 158.498273 153.578166 \nL 181.99301 153.578166 \nL 181.99301 177.072903 \nL 158.498273 177.072903 \nL 158.498273 153.578166 \n\" style=\"fill:#d2dfe3;\"/>\n    <path clip-path=\"url(#p1faaa7d2d2)\" d=\"M 181.99301 153.578166 \nL 205.487747 153.578166 \nL 205.487747 177.072903 \nL 181.99301 177.072903 \nL 181.99301 153.578166 \n\" style=\"fill:#3f7f93;\"/>\n    <path clip-path=\"url(#p1faaa7d2d2)\" d=\"M 205.487747 153.578166 \nL 228.982484 153.578166 \nL 228.982484 177.072903 \nL 205.487747 177.072903 \nL 205.487747 153.578166 \n\" style=\"fill:#f2f1f1;\"/>\n    <path clip-path=\"url(#p1faaa7d2d2)\" d=\"M 228.982484 153.578166 \nL 252.47722 153.578166 \nL 252.47722 177.072903 \nL 228.982484 177.072903 \nL 228.982484 153.578166 \n\" style=\"fill:#ebeff0;\"/>\n    <path clip-path=\"url(#p1faaa7d2d2)\" d=\"M 252.47722 153.578166 \nL 275.971957 153.578166 \nL 275.971957 177.072903 \nL 252.47722 177.072903 \nL 252.47722 153.578166 \n\" style=\"fill:#e3e9ec;\"/>\n    <path clip-path=\"url(#p1faaa7d2d2)\" d=\"M 275.971957 153.578166 \nL 299.466694 153.578166 \nL 299.466694 177.072903 \nL 275.971957 177.072903 \nL 275.971957 153.578166 \n\" style=\"fill:#f2f0ef;\"/>\n    <path clip-path=\"url(#p1faaa7d2d2)\" d=\"M 299.466694 153.578166 \nL 322.961431 153.578166 \nL 322.961431 177.072903 \nL 299.466694 177.072903 \nL 299.466694 153.578166 \n\" style=\"fill:#dce5e8;\"/>\n    <path clip-path=\"url(#p1faaa7d2d2)\" d=\"M 322.961431 153.578166 \nL 346.456168 153.578166 \nL 346.456168 177.072903 \nL 322.961431 177.072903 \nL 322.961431 153.578166 \n\" style=\"fill:#cfdde1;\"/>\n    <path clip-path=\"url(#p1faaa7d2d2)\" d=\"M 346.456168 153.578166 \nL 369.950905 153.578166 \nL 369.950905 177.072903 \nL 346.456168 177.072903 \nL 346.456168 153.578166 \n\" style=\"fill:#eef1f2;\"/>\n    <path clip-path=\"url(#p1faaa7d2d2)\" d=\"M 369.950905 153.578166 \nL 393.445641 153.578166 \nL 393.445641 177.072903 \nL 369.950905 177.072903 \nL 369.950905 153.578166 \n\" style=\"fill:#e6ebed;\"/>\n    <path clip-path=\"url(#p1faaa7d2d2)\" d=\"M 393.445641 153.578166 \nL 416.940378 153.578166 \nL 416.940378 177.072903 \nL 393.445641 177.072903 \nL 393.445641 153.578166 \n\" style=\"fill:#f0f2f2;\"/>\n    <path clip-path=\"url(#p1faaa7d2d2)\" d=\"M 416.940378 153.578166 \nL 440.435115 153.578166 \nL 440.435115 177.072903 \nL 416.940378 177.072903 \nL 416.940378 153.578166 \n\" style=\"fill:#ecdcd8;\"/>\n    <path clip-path=\"url(#p1faaa7d2d2)\" d=\"M 440.435115 153.578166 \nL 463.929852 153.578166 \nL 463.929852 177.072903 \nL 440.435115 177.072903 \nL 440.435115 153.578166 \n\" style=\"fill:#eee2df;\"/>\n    <path clip-path=\"url(#p1faaa7d2d2)\" d=\"M 463.929852 153.578166 \nL 487.424589 153.578166 \nL 487.424589 177.072903 \nL 463.929852 177.072903 \nL 463.929852 153.578166 \n\" style=\"fill:#c6d7dc;\"/>\n    <path clip-path=\"url(#p1faaa7d2d2)\" d=\"M 487.424589 153.578166 \nL 510.919326 153.578166 \nL 510.919326 177.072903 \nL 487.424589 177.072903 \nL 487.424589 153.578166 \n\" style=\"fill:#d5e0e4;\"/>\n    <path clip-path=\"url(#p1faaa7d2d2)\" d=\"M 510.919326 153.578166 \nL 534.414062 153.578166 \nL 534.414062 177.072903 \nL 510.919326 177.072903 \nL 510.919326 153.578166 \n\" style=\"fill:#74a1b0;\"/>\n    <path clip-path=\"url(#p1faaa7d2d2)\" d=\"M 88.014063 177.072903 \nL 111.508799 177.072903 \nL 111.508799 200.56764 \nL 88.014063 200.56764 \nL 88.014063 177.072903 \n\" style=\"fill:#c0d3d9;\"/>\n    <path clip-path=\"url(#p1faaa7d2d2)\" d=\"M 111.508799 177.072903 \nL 135.003536 177.072903 \nL 135.003536 200.56764 \nL 111.508799 200.56764 \nL 111.508799 177.072903 \n\" style=\"fill:#d1dee2;\"/>\n    <path clip-path=\"url(#p1faaa7d2d2)\" d=\"M 135.003536 177.072903 \nL 158.498273 177.072903 \nL 158.498273 200.56764 \nL 135.003536 200.56764 \nL 135.003536 177.072903 \n\" style=\"fill:#96b8c2;\"/>\n    <path clip-path=\"url(#p1faaa7d2d2)\" d=\"M 158.498273 177.072903 \nL 181.99301 177.072903 \nL 181.99301 200.56764 \nL 158.498273 200.56764 \nL 158.498273 177.072903 \n\" style=\"fill:#b1c9d1;\"/>\n    <path clip-path=\"url(#p1faaa7d2d2)\" d=\"M 181.99301 177.072903 \nL 205.487747 177.072903 \nL 205.487747 200.56764 \nL 181.99301 200.56764 \nL 181.99301 177.072903 \n\" style=\"fill:#f2f1f1;\"/>\n    <path clip-path=\"url(#p1faaa7d2d2)\" d=\"M 205.487747 177.072903 \nL 228.982484 177.072903 \nL 228.982484 200.56764 \nL 205.487747 200.56764 \nL 205.487747 177.072903 \n\" style=\"fill:#3f7f93;\"/>\n    <path clip-path=\"url(#p1faaa7d2d2)\" d=\"M 228.982484 177.072903 \nL 252.47722 177.072903 \nL 252.47722 200.56764 \nL 228.982484 200.56764 \nL 228.982484 177.072903 \n\" style=\"fill:#eef1f2;\"/>\n    <path clip-path=\"url(#p1faaa7d2d2)\" d=\"M 252.47722 177.072903 \nL 275.971957 177.072903 \nL 275.971957 200.56764 \nL 252.47722 200.56764 \nL 252.47722 177.072903 \n\" style=\"fill:#eef1f2;\"/>\n    <path clip-path=\"url(#p1faaa7d2d2)\" d=\"M 275.971957 177.072903 \nL 299.466694 177.072903 \nL 299.466694 200.56764 \nL 275.971957 200.56764 \nL 275.971957 177.072903 \n\" style=\"fill:#e6c7c0;\"/>\n    <path clip-path=\"url(#p1faaa7d2d2)\" d=\"M 299.466694 177.072903 \nL 322.961431 177.072903 \nL 322.961431 200.56764 \nL 299.466694 200.56764 \nL 299.466694 177.072903 \n\" style=\"fill:#9fbec7;\"/>\n    <path clip-path=\"url(#p1faaa7d2d2)\" d=\"M 322.961431 177.072903 \nL 346.456168 177.072903 \nL 346.456168 200.56764 \nL 322.961431 200.56764 \nL 322.961431 177.072903 \n\" style=\"fill:#92b5c0;\"/>\n    <path clip-path=\"url(#p1faaa7d2d2)\" d=\"M 346.456168 177.072903 \nL 369.950905 177.072903 \nL 369.950905 200.56764 \nL 346.456168 200.56764 \nL 346.456168 177.072903 \n\" style=\"fill:#e7ccc6;\"/>\n    <path clip-path=\"url(#p1faaa7d2d2)\" d=\"M 369.950905 177.072903 \nL 393.445641 177.072903 \nL 393.445641 200.56764 \nL 369.950905 200.56764 \nL 369.950905 177.072903 \n\" style=\"fill:#9abac4;\"/>\n    <path clip-path=\"url(#p1faaa7d2d2)\" d=\"M 393.445641 177.072903 \nL 416.940378 177.072903 \nL 416.940378 200.56764 \nL 393.445641 200.56764 \nL 393.445641 177.072903 \n\" style=\"fill:#f2f1f1;\"/>\n    <path clip-path=\"url(#p1faaa7d2d2)\" d=\"M 416.940378 177.072903 \nL 440.435115 177.072903 \nL 440.435115 200.56764 \nL 416.940378 200.56764 \nL 416.940378 177.072903 \n\" style=\"fill:#f0e8e7;\"/>\n    <path clip-path=\"url(#p1faaa7d2d2)\" d=\"M 440.435115 177.072903 \nL 463.929852 177.072903 \nL 463.929852 200.56764 \nL 440.435115 200.56764 \nL 440.435115 177.072903 \n\" style=\"fill:#e6ebed;\"/>\n    <path clip-path=\"url(#p1faaa7d2d2)\" d=\"M 463.929852 177.072903 \nL 487.424589 177.072903 \nL 487.424589 200.56764 \nL 463.929852 200.56764 \nL 463.929852 177.072903 \n\" style=\"fill:#d9e3e7;\"/>\n    <path clip-path=\"url(#p1faaa7d2d2)\" d=\"M 487.424589 177.072903 \nL 510.919326 177.072903 \nL 510.919326 200.56764 \nL 487.424589 200.56764 \nL 487.424589 177.072903 \n\" style=\"fill:#bfd2d8;\"/>\n    <path clip-path=\"url(#p1faaa7d2d2)\" d=\"M 510.919326 177.072903 \nL 534.414062 177.072903 \nL 534.414062 200.56764 \nL 510.919326 200.56764 \nL 510.919326 177.072903 \n\" style=\"fill:#f2f0ef;\"/>\n    <path clip-path=\"url(#p1faaa7d2d2)\" d=\"M 88.014063 200.56764 \nL 111.508799 200.56764 \nL 111.508799 224.062377 \nL 88.014063 224.062377 \nL 88.014063 200.56764 \n\" style=\"fill:#bfd2d8;\"/>\n    <path clip-path=\"url(#p1faaa7d2d2)\" d=\"M 111.508799 200.56764 \nL 135.003536 200.56764 \nL 135.003536 224.062377 \nL 111.508799 224.062377 \nL 111.508799 200.56764 \n\" style=\"fill:#f2f1f1;\"/>\n    <path clip-path=\"url(#p1faaa7d2d2)\" d=\"M 135.003536 200.56764 \nL 158.498273 200.56764 \nL 158.498273 224.062377 \nL 135.003536 224.062377 \nL 135.003536 200.56764 \n\" style=\"fill:#e3e9ec;\"/>\n    <path clip-path=\"url(#p1faaa7d2d2)\" d=\"M 158.498273 200.56764 \nL 181.99301 200.56764 \nL 181.99301 224.062377 \nL 158.498273 224.062377 \nL 158.498273 200.56764 \n\" style=\"fill:#dce5e8;\"/>\n    <path clip-path=\"url(#p1faaa7d2d2)\" d=\"M 181.99301 200.56764 \nL 205.487747 200.56764 \nL 205.487747 224.062377 \nL 181.99301 224.062377 \nL 181.99301 200.56764 \n\" style=\"fill:#ebeff0;\"/>\n    <path clip-path=\"url(#p1faaa7d2d2)\" d=\"M 205.487747 200.56764 \nL 228.982484 200.56764 \nL 228.982484 224.062377 \nL 205.487747 224.062377 \nL 205.487747 200.56764 \n\" style=\"fill:#eef1f2;\"/>\n    <path clip-path=\"url(#p1faaa7d2d2)\" d=\"M 228.982484 200.56764 \nL 252.47722 200.56764 \nL 252.47722 224.062377 \nL 228.982484 224.062377 \nL 228.982484 200.56764 \n\" style=\"fill:#3f7f93;\"/>\n    <path clip-path=\"url(#p1faaa7d2d2)\" d=\"M 252.47722 200.56764 \nL 275.971957 200.56764 \nL 275.971957 224.062377 \nL 252.47722 224.062377 \nL 252.47722 200.56764 \n\" style=\"fill:#aac5cd;\"/>\n    <path clip-path=\"url(#p1faaa7d2d2)\" d=\"M 275.971957 200.56764 \nL 299.466694 200.56764 \nL 299.466694 224.062377 \nL 275.971957 224.062377 \nL 275.971957 200.56764 \n\" style=\"fill:#eef1f2;\"/>\n    <path clip-path=\"url(#p1faaa7d2d2)\" d=\"M 299.466694 200.56764 \nL 322.961431 200.56764 \nL 322.961431 224.062377 \nL 299.466694 224.062377 \nL 299.466694 200.56764 \n\" style=\"fill:#e1e9eb;\"/>\n    <path clip-path=\"url(#p1faaa7d2d2)\" d=\"M 322.961431 200.56764 \nL 346.456168 200.56764 \nL 346.456168 224.062377 \nL 322.961431 224.062377 \nL 322.961431 200.56764 \n\" style=\"fill:#e1e9eb;\"/>\n    <path clip-path=\"url(#p1faaa7d2d2)\" d=\"M 346.456168 200.56764 \nL 369.950905 200.56764 \nL 369.950905 224.062377 \nL 346.456168 224.062377 \nL 346.456168 200.56764 \n\" style=\"fill:#e1e9eb;\"/>\n    <path clip-path=\"url(#p1faaa7d2d2)\" d=\"M 369.950905 200.56764 \nL 393.445641 200.56764 \nL 393.445641 224.062377 \nL 369.950905 224.062377 \nL 369.950905 200.56764 \n\" style=\"fill:#f2f0ef;\"/>\n    <path clip-path=\"url(#p1faaa7d2d2)\" d=\"M 393.445641 200.56764 \nL 416.940378 200.56764 \nL 416.940378 224.062377 \nL 393.445641 224.062377 \nL 393.445641 200.56764 \n\" style=\"fill:#dfe7ea;\"/>\n    <path clip-path=\"url(#p1faaa7d2d2)\" d=\"M 416.940378 200.56764 \nL 440.435115 200.56764 \nL 440.435115 224.062377 \nL 416.940378 224.062377 \nL 416.940378 200.56764 \n\" style=\"fill:#eaeef0;\"/>\n    <path clip-path=\"url(#p1faaa7d2d2)\" d=\"M 440.435115 200.56764 \nL 463.929852 200.56764 \nL 463.929852 224.062377 \nL 440.435115 224.062377 \nL 440.435115 200.56764 \n\" style=\"fill:#f2f0ef;\"/>\n    <path clip-path=\"url(#p1faaa7d2d2)\" d=\"M 463.929852 200.56764 \nL 487.424589 200.56764 \nL 487.424589 224.062377 \nL 463.929852 224.062377 \nL 463.929852 200.56764 \n\" style=\"fill:#f1ebe9;\"/>\n    <path clip-path=\"url(#p1faaa7d2d2)\" d=\"M 487.424589 200.56764 \nL 510.919326 200.56764 \nL 510.919326 224.062377 \nL 487.424589 224.062377 \nL 487.424589 200.56764 \n\" style=\"fill:#dfe7ea;\"/>\n    <path clip-path=\"url(#p1faaa7d2d2)\" d=\"M 510.919326 200.56764 \nL 534.414062 200.56764 \nL 534.414062 224.062377 \nL 510.919326 224.062377 \nL 510.919326 200.56764 \n\" style=\"fill:#eaeef0;\"/>\n    <path clip-path=\"url(#p1faaa7d2d2)\" d=\"M 88.014063 224.062377 \nL 111.508799 224.062377 \nL 111.508799 247.557113 \nL 88.014063 247.557113 \nL 88.014063 224.062377 \n\" style=\"fill:#abc6ce;\"/>\n    <path clip-path=\"url(#p1faaa7d2d2)\" d=\"M 111.508799 224.062377 \nL 135.003536 224.062377 \nL 135.003536 247.557113 \nL 111.508799 247.557113 \nL 111.508799 224.062377 \n\" style=\"fill:#e1e9eb;\"/>\n    <path clip-path=\"url(#p1faaa7d2d2)\" d=\"M 135.003536 224.062377 \nL 158.498273 224.062377 \nL 158.498273 247.557113 \nL 135.003536 247.557113 \nL 135.003536 224.062377 \n\" style=\"fill:#cfdde1;\"/>\n    <path clip-path=\"url(#p1faaa7d2d2)\" d=\"M 158.498273 224.062377 \nL 181.99301 224.062377 \nL 181.99301 247.557113 \nL 158.498273 247.557113 \nL 158.498273 224.062377 \n\" style=\"fill:#bdd1d8;\"/>\n    <path clip-path=\"url(#p1faaa7d2d2)\" d=\"M 181.99301 224.062377 \nL 205.487747 224.062377 \nL 205.487747 247.557113 \nL 181.99301 247.557113 \nL 181.99301 224.062377 \n\" style=\"fill:#e3e9ec;\"/>\n    <path clip-path=\"url(#p1faaa7d2d2)\" d=\"M 205.487747 224.062377 \nL 228.982484 224.062377 \nL 228.982484 247.557113 \nL 205.487747 247.557113 \nL 205.487747 224.062377 \n\" style=\"fill:#eef1f2;\"/>\n    <path clip-path=\"url(#p1faaa7d2d2)\" d=\"M 228.982484 224.062377 \nL 252.47722 224.062377 \nL 252.47722 247.557113 \nL 228.982484 247.557113 \nL 228.982484 224.062377 \n\" style=\"fill:#aac5cd;\"/>\n    <path clip-path=\"url(#p1faaa7d2d2)\" d=\"M 252.47722 224.062377 \nL 275.971957 224.062377 \nL 275.971957 247.557113 \nL 252.47722 247.557113 \nL 252.47722 224.062377 \n\" style=\"fill:#3f7f93;\"/>\n    <path clip-path=\"url(#p1faaa7d2d2)\" d=\"M 275.971957 224.062377 \nL 299.466694 224.062377 \nL 299.466694 247.557113 \nL 275.971957 247.557113 \nL 275.971957 224.062377 \n\" style=\"fill:#e6ebed;\"/>\n    <path clip-path=\"url(#p1faaa7d2d2)\" d=\"M 299.466694 224.062377 \nL 322.961431 224.062377 \nL 322.961431 247.557113 \nL 299.466694 247.557113 \nL 299.466694 224.062377 \n\" style=\"fill:#c4d6db;\"/>\n    <path clip-path=\"url(#p1faaa7d2d2)\" d=\"M 322.961431 224.062377 \nL 346.456168 224.062377 \nL 346.456168 247.557113 \nL 322.961431 247.557113 \nL 322.961431 224.062377 \n\" style=\"fill:#d2dfe3;\"/>\n    <path clip-path=\"url(#p1faaa7d2d2)\" d=\"M 346.456168 224.062377 \nL 369.950905 224.062377 \nL 369.950905 247.557113 \nL 346.456168 247.557113 \nL 346.456168 224.062377 \n\" style=\"fill:#c0d3d9;\"/>\n    <path clip-path=\"url(#p1faaa7d2d2)\" d=\"M 369.950905 224.062377 \nL 393.445641 224.062377 \nL 393.445641 247.557113 \nL 369.950905 247.557113 \nL 369.950905 224.062377 \n\" style=\"fill:#f0e8e7;\"/>\n    <path clip-path=\"url(#p1faaa7d2d2)\" d=\"M 393.445641 224.062377 \nL 416.940378 224.062377 \nL 416.940378 247.557113 \nL 393.445641 247.557113 \nL 393.445641 224.062377 \n\" style=\"fill:#dfe7ea;\"/>\n    <path clip-path=\"url(#p1faaa7d2d2)\" d=\"M 416.940378 224.062377 \nL 440.435115 224.062377 \nL 440.435115 247.557113 \nL 416.940378 247.557113 \nL 416.940378 224.062377 \n\" style=\"fill:#dfe7ea;\"/>\n    <path clip-path=\"url(#p1faaa7d2d2)\" d=\"M 440.435115 224.062377 \nL 463.929852 224.062377 \nL 463.929852 247.557113 \nL 440.435115 247.557113 \nL 440.435115 224.062377 \n\" style=\"fill:#eef1f2;\"/>\n    <path clip-path=\"url(#p1faaa7d2d2)\" d=\"M 463.929852 224.062377 \nL 487.424589 224.062377 \nL 487.424589 247.557113 \nL 463.929852 247.557113 \nL 463.929852 224.062377 \n\" style=\"fill:#efe5e2;\"/>\n    <path clip-path=\"url(#p1faaa7d2d2)\" d=\"M 487.424589 224.062377 \nL 510.919326 224.062377 \nL 510.919326 247.557113 \nL 487.424589 247.557113 \nL 487.424589 224.062377 \n\" style=\"fill:#bfd2d8;\"/>\n    <path clip-path=\"url(#p1faaa7d2d2)\" d=\"M 510.919326 224.062377 \nL 534.414062 224.062377 \nL 534.414062 247.557113 \nL 510.919326 247.557113 \nL 510.919326 224.062377 \n\" style=\"fill:#e3e9ec;\"/>\n    <path clip-path=\"url(#p1faaa7d2d2)\" d=\"M 88.014063 247.557113 \nL 111.508799 247.557113 \nL 111.508799 271.05185 \nL 88.014063 271.05185 \nL 88.014063 247.557113 \n\" style=\"fill:#eaeef0;\"/>\n    <path clip-path=\"url(#p1faaa7d2d2)\" d=\"M 111.508799 247.557113 \nL 135.003536 247.557113 \nL 135.003536 271.05185 \nL 111.508799 271.05185 \nL 111.508799 247.557113 \n\" style=\"fill:#ebeff0;\"/>\n    <path clip-path=\"url(#p1faaa7d2d2)\" d=\"M 135.003536 247.557113 \nL 158.498273 247.557113 \nL 158.498273 271.05185 \nL 135.003536 271.05185 \nL 135.003536 247.557113 \n\" style=\"fill:#ecddda;\"/>\n    <path clip-path=\"url(#p1faaa7d2d2)\" d=\"M 158.498273 247.557113 \nL 181.99301 247.557113 \nL 181.99301 271.05185 \nL 158.498273 271.05185 \nL 158.498273 247.557113 \n\" style=\"fill:#f0e8e7;\"/>\n    <path clip-path=\"url(#p1faaa7d2d2)\" d=\"M 181.99301 247.557113 \nL 205.487747 247.557113 \nL 205.487747 271.05185 \nL 181.99301 271.05185 \nL 181.99301 247.557113 \n\" style=\"fill:#f2f0ef;\"/>\n    <path clip-path=\"url(#p1faaa7d2d2)\" d=\"M 205.487747 247.557113 \nL 228.982484 247.557113 \nL 228.982484 271.05185 \nL 205.487747 271.05185 \nL 205.487747 247.557113 \n\" style=\"fill:#e6c7c0;\"/>\n    <path clip-path=\"url(#p1faaa7d2d2)\" d=\"M 228.982484 247.557113 \nL 252.47722 247.557113 \nL 252.47722 271.05185 \nL 228.982484 271.05185 \nL 228.982484 247.557113 \n\" style=\"fill:#eef1f2;\"/>\n    <path clip-path=\"url(#p1faaa7d2d2)\" d=\"M 252.47722 247.557113 \nL 275.971957 247.557113 \nL 275.971957 271.05185 \nL 252.47722 271.05185 \nL 252.47722 247.557113 \n\" style=\"fill:#e6ebed;\"/>\n    <path clip-path=\"url(#p1faaa7d2d2)\" d=\"M 275.971957 247.557113 \nL 299.466694 247.557113 \nL 299.466694 271.05185 \nL 275.971957 271.05185 \nL 275.971957 247.557113 \n\" style=\"fill:#3f7f93;\"/>\n    <path clip-path=\"url(#p1faaa7d2d2)\" d=\"M 299.466694 247.557113 \nL 322.961431 247.557113 \nL 322.961431 271.05185 \nL 299.466694 271.05185 \nL 299.466694 247.557113 \n\" style=\"fill:#ebdad5;\"/>\n    <path clip-path=\"url(#p1faaa7d2d2)\" d=\"M 322.961431 247.557113 \nL 346.456168 247.557113 \nL 346.456168 271.05185 \nL 322.961431 271.05185 \nL 322.961431 247.557113 \n\" style=\"fill:#ebd7d2;\"/>\n    <path clip-path=\"url(#p1faaa7d2d2)\" d=\"M 346.456168 247.557113 \nL 369.950905 247.557113 \nL 369.950905 271.05185 \nL 346.456168 271.05185 \nL 346.456168 247.557113 \n\" style=\"fill:#d2dfe3;\"/>\n    <path clip-path=\"url(#p1faaa7d2d2)\" d=\"M 369.950905 247.557113 \nL 393.445641 247.557113 \nL 393.445641 271.05185 \nL 369.950905 271.05185 \nL 369.950905 247.557113 \n\" style=\"fill:#e0b6ac;\"/>\n    <path clip-path=\"url(#p1faaa7d2d2)\" d=\"M 393.445641 247.557113 \nL 416.940378 247.557113 \nL 416.940378 271.05185 \nL 393.445641 271.05185 \nL 393.445641 247.557113 \n\" style=\"fill:#efe7e5;\"/>\n    <path clip-path=\"url(#p1faaa7d2d2)\" d=\"M 416.940378 247.557113 \nL 440.435115 247.557113 \nL 440.435115 271.05185 \nL 416.940378 271.05185 \nL 416.940378 247.557113 \n\" style=\"fill:#f0f2f2;\"/>\n    <path clip-path=\"url(#p1faaa7d2d2)\" d=\"M 440.435115 247.557113 \nL 463.929852 247.557113 \nL 463.929852 271.05185 \nL 440.435115 271.05185 \nL 440.435115 247.557113 \n\" style=\"fill:#f2f0ef;\"/>\n    <path clip-path=\"url(#p1faaa7d2d2)\" d=\"M 463.929852 247.557113 \nL 487.424589 247.557113 \nL 487.424589 271.05185 \nL 463.929852 271.05185 \nL 463.929852 247.557113 \n\" style=\"fill:#eee1de;\"/>\n    <path clip-path=\"url(#p1faaa7d2d2)\" d=\"M 487.424589 247.557113 \nL 510.919326 247.557113 \nL 510.919326 271.05185 \nL 487.424589 271.05185 \nL 487.424589 247.557113 \n\" style=\"fill:#eee2df;\"/>\n    <path clip-path=\"url(#p1faaa7d2d2)\" d=\"M 510.919326 247.557113 \nL 534.414062 247.557113 \nL 534.414062 271.05185 \nL 510.919326 271.05185 \nL 510.919326 247.557113 \n\" style=\"fill:#f0f2f2;\"/>\n    <path clip-path=\"url(#p1faaa7d2d2)\" d=\"M 88.014063 271.05185 \nL 111.508799 271.05185 \nL 111.508799 294.546587 \nL 88.014063 294.546587 \nL 88.014063 271.05185 \n\" style=\"fill:#79a5b3;\"/>\n    <path clip-path=\"url(#p1faaa7d2d2)\" d=\"M 111.508799 271.05185 \nL 135.003536 271.05185 \nL 135.003536 294.546587 \nL 111.508799 294.546587 \nL 111.508799 271.05185 \n\" style=\"fill:#b2cad2;\"/>\n    <path clip-path=\"url(#p1faaa7d2d2)\" d=\"M 135.003536 271.05185 \nL 158.498273 271.05185 \nL 158.498273 294.546587 \nL 135.003536 294.546587 \nL 135.003536 271.05185 \n\" style=\"fill:#79a5b3;\"/>\n    <path clip-path=\"url(#p1faaa7d2d2)\" d=\"M 158.498273 271.05185 \nL 181.99301 271.05185 \nL 181.99301 294.546587 \nL 158.498273 294.546587 \nL 158.498273 271.05185 \n\" style=\"fill:#6799a9;\"/>\n    <path clip-path=\"url(#p1faaa7d2d2)\" d=\"M 181.99301 271.05185 \nL 205.487747 271.05185 \nL 205.487747 294.546587 \nL 181.99301 294.546587 \nL 181.99301 271.05185 \n\" style=\"fill:#dce5e8;\"/>\n    <path clip-path=\"url(#p1faaa7d2d2)\" d=\"M 205.487747 271.05185 \nL 228.982484 271.05185 \nL 228.982484 294.546587 \nL 205.487747 294.546587 \nL 205.487747 271.05185 \n\" style=\"fill:#9fbec7;\"/>\n    <path clip-path=\"url(#p1faaa7d2d2)\" d=\"M 228.982484 271.05185 \nL 252.47722 271.05185 \nL 252.47722 294.546587 \nL 228.982484 294.546587 \nL 228.982484 271.05185 \n\" style=\"fill:#e1e9eb;\"/>\n    <path clip-path=\"url(#p1faaa7d2d2)\" d=\"M 252.47722 271.05185 \nL 275.971957 271.05185 \nL 275.971957 294.546587 \nL 252.47722 294.546587 \nL 252.47722 271.05185 \n\" style=\"fill:#c4d6db;\"/>\n    <path clip-path=\"url(#p1faaa7d2d2)\" d=\"M 275.971957 271.05185 \nL 299.466694 271.05185 \nL 299.466694 294.546587 \nL 275.971957 294.546587 \nL 275.971957 271.05185 \n\" style=\"fill:#ebdad5;\"/>\n    <path clip-path=\"url(#p1faaa7d2d2)\" d=\"M 299.466694 271.05185 \nL 322.961431 271.05185 \nL 322.961431 294.546587 \nL 299.466694 294.546587 \nL 299.466694 271.05185 \n\" style=\"fill:#3f7f93;\"/>\n    <path clip-path=\"url(#p1faaa7d2d2)\" d=\"M 322.961431 271.05185 \nL 346.456168 271.05185 \nL 346.456168 294.546587 \nL 322.961431 294.546587 \nL 322.961431 271.05185 \n\" style=\"fill:#689aaa;\"/>\n    <path clip-path=\"url(#p1faaa7d2d2)\" d=\"M 346.456168 271.05185 \nL 369.950905 271.05185 \nL 369.950905 294.546587 \nL 346.456168 294.546587 \nL 346.456168 271.05185 \n\" style=\"fill:#d2dfe3;\"/>\n    <path clip-path=\"url(#p1faaa7d2d2)\" d=\"M 369.950905 271.05185 \nL 393.445641 271.05185 \nL 393.445641 294.546587 \nL 369.950905 294.546587 \nL 369.950905 271.05185 \n\" style=\"fill:#a0bec8;\"/>\n    <path clip-path=\"url(#p1faaa7d2d2)\" d=\"M 393.445641 271.05185 \nL 416.940378 271.05185 \nL 416.940378 294.546587 \nL 393.445641 294.546587 \nL 393.445641 271.05185 \n\" style=\"fill:#eef1f2;\"/>\n    <path clip-path=\"url(#p1faaa7d2d2)\" d=\"M 416.940378 271.05185 \nL 440.435115 271.05185 \nL 440.435115 294.546587 \nL 416.940378 294.546587 \nL 416.940378 271.05185 \n\" style=\"fill:#ead5d0;\"/>\n    <path clip-path=\"url(#p1faaa7d2d2)\" d=\"M 440.435115 271.05185 \nL 463.929852 271.05185 \nL 463.929852 294.546587 \nL 440.435115 294.546587 \nL 440.435115 271.05185 \n\" style=\"fill:#d9e3e7;\"/>\n    <path clip-path=\"url(#p1faaa7d2d2)\" d=\"M 463.929852 271.05185 \nL 487.424589 271.05185 \nL 487.424589 294.546587 \nL 463.929852 294.546587 \nL 463.929852 271.05185 \n\" style=\"fill:#cbdadf;\"/>\n    <path clip-path=\"url(#p1faaa7d2d2)\" d=\"M 487.424589 271.05185 \nL 510.919326 271.05185 \nL 510.919326 294.546587 \nL 487.424589 294.546587 \nL 487.424589 271.05185 \n\" style=\"fill:#71a0ae;\"/>\n    <path clip-path=\"url(#p1faaa7d2d2)\" d=\"M 510.919326 271.05185 \nL 534.414062 271.05185 \nL 534.414062 294.546587 \nL 510.919326 294.546587 \nL 510.919326 271.05185 \n\" style=\"fill:#dce5e8;\"/>\n    <path clip-path=\"url(#p1faaa7d2d2)\" d=\"M 88.014063 294.546587 \nL 111.508799 294.546587 \nL 111.508799 318.041324 \nL 88.014063 318.041324 \nL 88.014063 294.546587 \n\" style=\"fill:#81aab7;\"/>\n    <path clip-path=\"url(#p1faaa7d2d2)\" d=\"M 111.508799 294.546587 \nL 135.003536 294.546587 \nL 135.003536 318.041324 \nL 111.508799 318.041324 \nL 111.508799 294.546587 \n\" style=\"fill:#9bbbc5;\"/>\n    <path clip-path=\"url(#p1faaa7d2d2)\" d=\"M 135.003536 294.546587 \nL 158.498273 294.546587 \nL 158.498273 318.041324 \nL 135.003536 318.041324 \nL 135.003536 294.546587 \n\" style=\"fill:#75a2b0;\"/>\n    <path clip-path=\"url(#p1faaa7d2d2)\" d=\"M 158.498273 294.546587 \nL 181.99301 294.546587 \nL 181.99301 318.041324 \nL 158.498273 318.041324 \nL 158.498273 294.546587 \n\" style=\"fill:#528c9e;\"/>\n    <path clip-path=\"url(#p1faaa7d2d2)\" d=\"M 181.99301 294.546587 \nL 205.487747 294.546587 \nL 205.487747 318.041324 \nL 181.99301 318.041324 \nL 181.99301 294.546587 \n\" style=\"fill:#cfdde1;\"/>\n    <path clip-path=\"url(#p1faaa7d2d2)\" d=\"M 205.487747 294.546587 \nL 228.982484 294.546587 \nL 228.982484 318.041324 \nL 205.487747 318.041324 \nL 205.487747 294.546587 \n\" style=\"fill:#92b5c0;\"/>\n    <path clip-path=\"url(#p1faaa7d2d2)\" d=\"M 228.982484 294.546587 \nL 252.47722 294.546587 \nL 252.47722 318.041324 \nL 228.982484 318.041324 \nL 228.982484 294.546587 \n\" style=\"fill:#e1e9eb;\"/>\n    <path clip-path=\"url(#p1faaa7d2d2)\" d=\"M 252.47722 294.546587 \nL 275.971957 294.546587 \nL 275.971957 318.041324 \nL 252.47722 318.041324 \nL 252.47722 294.546587 \n\" style=\"fill:#d2dfe3;\"/>\n    <path clip-path=\"url(#p1faaa7d2d2)\" d=\"M 275.971957 294.546587 \nL 299.466694 294.546587 \nL 299.466694 318.041324 \nL 275.971957 318.041324 \nL 275.971957 294.546587 \n\" style=\"fill:#ebd7d2;\"/>\n    <path clip-path=\"url(#p1faaa7d2d2)\" d=\"M 299.466694 294.546587 \nL 322.961431 294.546587 \nL 322.961431 318.041324 \nL 299.466694 318.041324 \nL 299.466694 294.546587 \n\" style=\"fill:#689aaa;\"/>\n    <path clip-path=\"url(#p1faaa7d2d2)\" d=\"M 322.961431 294.546587 \nL 346.456168 294.546587 \nL 346.456168 318.041324 \nL 322.961431 318.041324 \nL 322.961431 294.546587 \n\" style=\"fill:#3f7f93;\"/>\n    <path clip-path=\"url(#p1faaa7d2d2)\" d=\"M 346.456168 294.546587 \nL 369.950905 294.546587 \nL 369.950905 318.041324 \nL 346.456168 318.041324 \nL 346.456168 294.546587 \n\" style=\"fill:#f0e8e7;\"/>\n    <path clip-path=\"url(#p1faaa7d2d2)\" d=\"M 369.950905 294.546587 \nL 393.445641 294.546587 \nL 393.445641 318.041324 \nL 369.950905 318.041324 \nL 369.950905 294.546587 \n\" style=\"fill:#a6c2cb;\"/>\n    <path clip-path=\"url(#p1faaa7d2d2)\" d=\"M 393.445641 294.546587 \nL 416.940378 294.546587 \nL 416.940378 318.041324 \nL 393.445641 318.041324 \nL 393.445641 294.546587 \n\" style=\"fill:#eef1f2;\"/>\n    <path clip-path=\"url(#p1faaa7d2d2)\" d=\"M 416.940378 294.546587 \nL 440.435115 294.546587 \nL 440.435115 318.041324 \nL 416.940378 318.041324 \nL 416.940378 294.546587 \n\" style=\"fill:#e6cac3;\"/>\n    <path clip-path=\"url(#p1faaa7d2d2)\" d=\"M 440.435115 294.546587 \nL 463.929852 294.546587 \nL 463.929852 318.041324 \nL 440.435115 318.041324 \nL 440.435115 294.546587 \n\" style=\"fill:#eef1f2;\"/>\n    <path clip-path=\"url(#p1faaa7d2d2)\" d=\"M 463.929852 294.546587 \nL 487.424589 294.546587 \nL 487.424589 318.041324 \nL 463.929852 318.041324 \nL 463.929852 294.546587 \n\" style=\"fill:#b2cad2;\"/>\n    <path clip-path=\"url(#p1faaa7d2d2)\" d=\"M 487.424589 294.546587 \nL 510.919326 294.546587 \nL 510.919326 318.041324 \nL 487.424589 318.041324 \nL 487.424589 294.546587 \n\" style=\"fill:#6d9dac;\"/>\n    <path clip-path=\"url(#p1faaa7d2d2)\" d=\"M 510.919326 294.546587 \nL 534.414062 294.546587 \nL 534.414062 318.041324 \nL 510.919326 318.041324 \nL 510.919326 294.546587 \n\" style=\"fill:#cfdde1;\"/>\n    <path clip-path=\"url(#p1faaa7d2d2)\" d=\"M 88.014063 318.041324 \nL 111.508799 318.041324 \nL 111.508799 341.536061 \nL 88.014063 341.536061 \nL 88.014063 318.041324 \n\" style=\"fill:#b8ced5;\"/>\n    <path clip-path=\"url(#p1faaa7d2d2)\" d=\"M 111.508799 318.041324 \nL 135.003536 318.041324 \nL 135.003536 341.536061 \nL 111.508799 341.536061 \nL 111.508799 318.041324 \n\" style=\"fill:#b9cfd5;\"/>\n    <path clip-path=\"url(#p1faaa7d2d2)\" d=\"M 135.003536 318.041324 \nL 158.498273 318.041324 \nL 158.498273 341.536061 \nL 135.003536 341.536061 \nL 135.003536 318.041324 \n\" style=\"fill:#bfd2d8;\"/>\n    <path clip-path=\"url(#p1faaa7d2d2)\" d=\"M 158.498273 318.041324 \nL 181.99301 318.041324 \nL 181.99301 341.536061 \nL 158.498273 341.536061 \nL 158.498273 318.041324 \n\" style=\"fill:#a3c0c9;\"/>\n    <path clip-path=\"url(#p1faaa7d2d2)\" d=\"M 181.99301 318.041324 \nL 205.487747 318.041324 \nL 205.487747 341.536061 \nL 181.99301 341.536061 \nL 181.99301 318.041324 \n\" style=\"fill:#eef1f2;\"/>\n    <path clip-path=\"url(#p1faaa7d2d2)\" d=\"M 205.487747 318.041324 \nL 228.982484 318.041324 \nL 228.982484 341.536061 \nL 205.487747 341.536061 \nL 205.487747 318.041324 \n\" style=\"fill:#e7ccc6;\"/>\n    <path clip-path=\"url(#p1faaa7d2d2)\" d=\"M 228.982484 318.041324 \nL 252.47722 318.041324 \nL 252.47722 341.536061 \nL 228.982484 341.536061 \nL 228.982484 318.041324 \n\" style=\"fill:#e1e9eb;\"/>\n    <path clip-path=\"url(#p1faaa7d2d2)\" d=\"M 252.47722 318.041324 \nL 275.971957 318.041324 \nL 275.971957 341.536061 \nL 252.47722 341.536061 \nL 252.47722 318.041324 \n\" style=\"fill:#c0d3d9;\"/>\n    <path clip-path=\"url(#p1faaa7d2d2)\" d=\"M 275.971957 318.041324 \nL 299.466694 318.041324 \nL 299.466694 341.536061 \nL 275.971957 341.536061 \nL 275.971957 318.041324 \n\" style=\"fill:#d2dfe3;\"/>\n    <path clip-path=\"url(#p1faaa7d2d2)\" d=\"M 299.466694 318.041324 \nL 322.961431 318.041324 \nL 322.961431 341.536061 \nL 299.466694 341.536061 \nL 299.466694 318.041324 \n\" style=\"fill:#d2dfe3;\"/>\n    <path clip-path=\"url(#p1faaa7d2d2)\" d=\"M 322.961431 318.041324 \nL 346.456168 318.041324 \nL 346.456168 341.536061 \nL 322.961431 341.536061 \nL 322.961431 318.041324 \n\" style=\"fill:#f0e8e7;\"/>\n    <path clip-path=\"url(#p1faaa7d2d2)\" d=\"M 346.456168 318.041324 \nL 369.950905 318.041324 \nL 369.950905 341.536061 \nL 346.456168 341.536061 \nL 346.456168 318.041324 \n\" style=\"fill:#3f7f93;\"/>\n    <path clip-path=\"url(#p1faaa7d2d2)\" d=\"M 369.950905 318.041324 \nL 393.445641 318.041324 \nL 393.445641 341.536061 \nL 369.950905 341.536061 \nL 369.950905 318.041324 \n\" style=\"fill:#ecddda;\"/>\n    <path clip-path=\"url(#p1faaa7d2d2)\" d=\"M 393.445641 318.041324 \nL 416.940378 318.041324 \nL 416.940378 341.536061 \nL 393.445641 341.536061 \nL 393.445641 318.041324 \n\" style=\"fill:#e6ebed;\"/>\n    <path clip-path=\"url(#p1faaa7d2d2)\" d=\"M 416.940378 318.041324 \nL 440.435115 318.041324 \nL 440.435115 341.536061 \nL 416.940378 341.536061 \nL 416.940378 318.041324 \n\" style=\"fill:#e3e9ec;\"/>\n    <path clip-path=\"url(#p1faaa7d2d2)\" d=\"M 440.435115 318.041324 \nL 463.929852 318.041324 \nL 463.929852 341.536061 \nL 440.435115 341.536061 \nL 440.435115 318.041324 \n\" style=\"fill:#dde6e9;\"/>\n    <path clip-path=\"url(#p1faaa7d2d2)\" d=\"M 463.929852 318.041324 \nL 487.424589 318.041324 \nL 487.424589 341.536061 \nL 463.929852 341.536061 \nL 463.929852 318.041324 \n\" style=\"fill:#ecdcd8;\"/>\n    <path clip-path=\"url(#p1faaa7d2d2)\" d=\"M 487.424589 318.041324 \nL 510.919326 318.041324 \nL 510.919326 341.536061 \nL 487.424589 341.536061 \nL 487.424589 318.041324 \n\" style=\"fill:#cbdadf;\"/>\n    <path clip-path=\"url(#p1faaa7d2d2)\" d=\"M 510.919326 318.041324 \nL 534.414062 318.041324 \nL 534.414062 341.536061 \nL 510.919326 341.536061 \nL 510.919326 318.041324 \n\" style=\"fill:#eef1f2;\"/>\n    <path clip-path=\"url(#p1faaa7d2d2)\" d=\"M 88.014063 341.536061 \nL 111.508799 341.536061 \nL 111.508799 365.030798 \nL 88.014063 365.030798 \nL 88.014063 341.536061 \n\" style=\"fill:#e8edef;\"/>\n    <path clip-path=\"url(#p1faaa7d2d2)\" d=\"M 111.508799 341.536061 \nL 135.003536 341.536061 \nL 135.003536 365.030798 \nL 111.508799 365.030798 \nL 111.508799 341.536061 \n\" style=\"fill:#d5e0e4;\"/>\n    <path clip-path=\"url(#p1faaa7d2d2)\" d=\"M 135.003536 341.536061 \nL 158.498273 341.536061 \nL 158.498273 365.030798 \nL 135.003536 365.030798 \nL 135.003536 341.536061 \n\" style=\"fill:#96b8c2;\"/>\n    <path clip-path=\"url(#p1faaa7d2d2)\" d=\"M 158.498273 341.536061 \nL 181.99301 341.536061 \nL 181.99301 365.030798 \nL 158.498273 365.030798 \nL 158.498273 341.536061 \n\" style=\"fill:#b9cfd5;\"/>\n    <path clip-path=\"url(#p1faaa7d2d2)\" d=\"M 181.99301 341.536061 \nL 205.487747 341.536061 \nL 205.487747 365.030798 \nL 181.99301 365.030798 \nL 181.99301 341.536061 \n\" style=\"fill:#e6ebed;\"/>\n    <path clip-path=\"url(#p1faaa7d2d2)\" d=\"M 205.487747 341.536061 \nL 228.982484 341.536061 \nL 228.982484 365.030798 \nL 205.487747 365.030798 \nL 205.487747 341.536061 \n\" style=\"fill:#9abac4;\"/>\n    <path clip-path=\"url(#p1faaa7d2d2)\" d=\"M 228.982484 341.536061 \nL 252.47722 341.536061 \nL 252.47722 365.030798 \nL 228.982484 365.030798 \nL 228.982484 341.536061 \n\" style=\"fill:#f2f0ef;\"/>\n    <path clip-path=\"url(#p1faaa7d2d2)\" d=\"M 252.47722 341.536061 \nL 275.971957 341.536061 \nL 275.971957 365.030798 \nL 252.47722 365.030798 \nL 252.47722 341.536061 \n\" style=\"fill:#f0e8e7;\"/>\n    <path clip-path=\"url(#p1faaa7d2d2)\" d=\"M 275.971957 341.536061 \nL 299.466694 341.536061 \nL 299.466694 365.030798 \nL 275.971957 365.030798 \nL 275.971957 341.536061 \n\" style=\"fill:#e0b6ac;\"/>\n    <path clip-path=\"url(#p1faaa7d2d2)\" d=\"M 299.466694 341.536061 \nL 322.961431 341.536061 \nL 322.961431 365.030798 \nL 299.466694 365.030798 \nL 299.466694 341.536061 \n\" style=\"fill:#a0bec8;\"/>\n    <path clip-path=\"url(#p1faaa7d2d2)\" d=\"M 322.961431 341.536061 \nL 346.456168 341.536061 \nL 346.456168 365.030798 \nL 322.961431 365.030798 \nL 322.961431 341.536061 \n\" style=\"fill:#a6c2cb;\"/>\n    <path clip-path=\"url(#p1faaa7d2d2)\" d=\"M 346.456168 341.536061 \nL 369.950905 341.536061 \nL 369.950905 365.030798 \nL 346.456168 365.030798 \nL 346.456168 341.536061 \n\" style=\"fill:#ecddda;\"/>\n    <path clip-path=\"url(#p1faaa7d2d2)\" d=\"M 369.950905 341.536061 \nL 393.445641 341.536061 \nL 393.445641 365.030798 \nL 369.950905 365.030798 \nL 369.950905 341.536061 \n\" style=\"fill:#3f7f93;\"/>\n    <path clip-path=\"url(#p1faaa7d2d2)\" d=\"M 393.445641 341.536061 \nL 416.940378 341.536061 \nL 416.940378 365.030798 \nL 393.445641 365.030798 \nL 393.445641 341.536061 \n\" style=\"fill:#e8cfc8;\"/>\n    <path clip-path=\"url(#p1faaa7d2d2)\" d=\"M 416.940378 341.536061 \nL 440.435115 341.536061 \nL 440.435115 365.030798 \nL 416.940378 365.030798 \nL 416.940378 341.536061 \n\" style=\"fill:#e2bbb1;\"/>\n    <path clip-path=\"url(#p1faaa7d2d2)\" d=\"M 440.435115 341.536061 \nL 463.929852 341.536061 \nL 463.929852 365.030798 \nL 440.435115 365.030798 \nL 440.435115 341.536061 \n\" style=\"fill:#ecdbd7;\"/>\n    <path clip-path=\"url(#p1faaa7d2d2)\" d=\"M 463.929852 341.536061 \nL 487.424589 341.536061 \nL 487.424589 365.030798 \nL 463.929852 365.030798 \nL 463.929852 341.536061 \n\" style=\"fill:#a6c2cb;\"/>\n    <path clip-path=\"url(#p1faaa7d2d2)\" d=\"M 487.424589 341.536061 \nL 510.919326 341.536061 \nL 510.919326 365.030798 \nL 487.424589 365.030798 \nL 487.424589 341.536061 \n\" style=\"fill:#b8ced5;\"/>\n    <path clip-path=\"url(#p1faaa7d2d2)\" d=\"M 510.919326 341.536061 \nL 534.414062 341.536061 \nL 534.414062 365.030798 \nL 510.919326 365.030798 \nL 510.919326 341.536061 \n\" style=\"fill:#e3e9ec;\"/>\n    <path clip-path=\"url(#p1faaa7d2d2)\" d=\"M 88.014063 365.030798 \nL 111.508799 365.030798 \nL 111.508799 388.525535 \nL 88.014063 388.525535 \nL 88.014063 365.030798 \n\" style=\"fill:#d9e3e7;\"/>\n    <path clip-path=\"url(#p1faaa7d2d2)\" d=\"M 111.508799 365.030798 \nL 135.003536 365.030798 \nL 135.003536 388.525535 \nL 111.508799 388.525535 \nL 111.508799 365.030798 \n\" style=\"fill:#f0f2f2;\"/>\n    <path clip-path=\"url(#p1faaa7d2d2)\" d=\"M 135.003536 365.030798 \nL 158.498273 365.030798 \nL 158.498273 388.525535 \nL 135.003536 388.525535 \nL 135.003536 365.030798 \n\" style=\"fill:#e8edef;\"/>\n    <path clip-path=\"url(#p1faaa7d2d2)\" d=\"M 158.498273 365.030798 \nL 181.99301 365.030798 \nL 181.99301 388.525535 \nL 158.498273 388.525535 \nL 158.498273 365.030798 \n\" style=\"fill:#e8edef;\"/>\n    <path clip-path=\"url(#p1faaa7d2d2)\" d=\"M 181.99301 365.030798 \nL 205.487747 365.030798 \nL 205.487747 388.525535 \nL 181.99301 388.525535 \nL 181.99301 365.030798 \n\" style=\"fill:#f0f2f2;\"/>\n    <path clip-path=\"url(#p1faaa7d2d2)\" d=\"M 205.487747 365.030798 \nL 228.982484 365.030798 \nL 228.982484 388.525535 \nL 205.487747 388.525535 \nL 205.487747 365.030798 \n\" style=\"fill:#f2f1f1;\"/>\n    <path clip-path=\"url(#p1faaa7d2d2)\" d=\"M 228.982484 365.030798 \nL 252.47722 365.030798 \nL 252.47722 388.525535 \nL 228.982484 388.525535 \nL 228.982484 365.030798 \n\" style=\"fill:#dfe7ea;\"/>\n    <path clip-path=\"url(#p1faaa7d2d2)\" d=\"M 252.47722 365.030798 \nL 275.971957 365.030798 \nL 275.971957 388.525535 \nL 252.47722 388.525535 \nL 252.47722 365.030798 \n\" style=\"fill:#dfe7ea;\"/>\n    <path clip-path=\"url(#p1faaa7d2d2)\" d=\"M 275.971957 365.030798 \nL 299.466694 365.030798 \nL 299.466694 388.525535 \nL 275.971957 388.525535 \nL 275.971957 365.030798 \n\" style=\"fill:#efe7e5;\"/>\n    <path clip-path=\"url(#p1faaa7d2d2)\" d=\"M 299.466694 365.030798 \nL 322.961431 365.030798 \nL 322.961431 388.525535 \nL 299.466694 388.525535 \nL 299.466694 365.030798 \n\" style=\"fill:#eef1f2;\"/>\n    <path clip-path=\"url(#p1faaa7d2d2)\" d=\"M 322.961431 365.030798 \nL 346.456168 365.030798 \nL 346.456168 388.525535 \nL 322.961431 388.525535 \nL 322.961431 365.030798 \n\" style=\"fill:#eef1f2;\"/>\n    <path clip-path=\"url(#p1faaa7d2d2)\" d=\"M 346.456168 365.030798 \nL 369.950905 365.030798 \nL 369.950905 388.525535 \nL 346.456168 388.525535 \nL 346.456168 365.030798 \n\" style=\"fill:#e6ebed;\"/>\n    <path clip-path=\"url(#p1faaa7d2d2)\" d=\"M 369.950905 365.030798 \nL 393.445641 365.030798 \nL 393.445641 388.525535 \nL 369.950905 388.525535 \nL 369.950905 365.030798 \n\" style=\"fill:#e8cfc8;\"/>\n    <path clip-path=\"url(#p1faaa7d2d2)\" d=\"M 393.445641 365.030798 \nL 416.940378 365.030798 \nL 416.940378 388.525535 \nL 393.445641 388.525535 \nL 393.445641 365.030798 \n\" style=\"fill:#3f7f93;\"/>\n    <path clip-path=\"url(#p1faaa7d2d2)\" d=\"M 416.940378 365.030798 \nL 440.435115 365.030798 \nL 440.435115 388.525535 \nL 416.940378 388.525535 \nL 416.940378 365.030798 \n\" style=\"fill:#e4eaed;\"/>\n    <path clip-path=\"url(#p1faaa7d2d2)\" d=\"M 440.435115 365.030798 \nL 463.929852 365.030798 \nL 463.929852 388.525535 \nL 440.435115 388.525535 \nL 440.435115 365.030798 \n\" style=\"fill:#ebeff0;\"/>\n    <path clip-path=\"url(#p1faaa7d2d2)\" d=\"M 463.929852 365.030798 \nL 487.424589 365.030798 \nL 487.424589 388.525535 \nL 463.929852 388.525535 \nL 463.929852 365.030798 \n\" style=\"fill:#efe7e5;\"/>\n    <path clip-path=\"url(#p1faaa7d2d2)\" d=\"M 487.424589 365.030798 \nL 510.919326 365.030798 \nL 510.919326 388.525535 \nL 487.424589 388.525535 \nL 487.424589 365.030798 \n\" style=\"fill:#f2f1f1;\"/>\n    <path clip-path=\"url(#p1faaa7d2d2)\" d=\"M 510.919326 365.030798 \nL 534.414062 365.030798 \nL 534.414062 388.525535 \nL 510.919326 388.525535 \nL 510.919326 365.030798 \n\" style=\"fill:#f0f2f2;\"/>\n    <path clip-path=\"url(#p1faaa7d2d2)\" d=\"M 88.014063 388.525535 \nL 111.508799 388.525535 \nL 111.508799 412.020271 \nL 88.014063 412.020271 \nL 88.014063 388.525535 \n\" style=\"fill:#f1ebe9;\"/>\n    <path clip-path=\"url(#p1faaa7d2d2)\" d=\"M 111.508799 388.525535 \nL 135.003536 388.525535 \nL 135.003536 412.020271 \nL 111.508799 412.020271 \nL 111.508799 388.525535 \n\" style=\"fill:#ecdbd7;\"/>\n    <path clip-path=\"url(#p1faaa7d2d2)\" d=\"M 135.003536 388.525535 \nL 158.498273 388.525535 \nL 158.498273 412.020271 \nL 135.003536 412.020271 \nL 135.003536 388.525535 \n\" style=\"fill:#e9d2cd;\"/>\n    <path clip-path=\"url(#p1faaa7d2d2)\" d=\"M 158.498273 388.525535 \nL 181.99301 388.525535 \nL 181.99301 412.020271 \nL 158.498273 412.020271 \nL 158.498273 388.525535 \n\" style=\"fill:#e9d2cd;\"/>\n    <path clip-path=\"url(#p1faaa7d2d2)\" d=\"M 181.99301 388.525535 \nL 205.487747 388.525535 \nL 205.487747 412.020271 \nL 181.99301 412.020271 \nL 181.99301 388.525535 \n\" style=\"fill:#ecdcd8;\"/>\n    <path clip-path=\"url(#p1faaa7d2d2)\" d=\"M 205.487747 388.525535 \nL 228.982484 388.525535 \nL 228.982484 412.020271 \nL 205.487747 412.020271 \nL 205.487747 388.525535 \n\" style=\"fill:#f0e8e7;\"/>\n    <path clip-path=\"url(#p1faaa7d2d2)\" d=\"M 228.982484 388.525535 \nL 252.47722 388.525535 \nL 252.47722 412.020271 \nL 228.982484 412.020271 \nL 228.982484 388.525535 \n\" style=\"fill:#eaeef0;\"/>\n    <path clip-path=\"url(#p1faaa7d2d2)\" d=\"M 252.47722 388.525535 \nL 275.971957 388.525535 \nL 275.971957 412.020271 \nL 252.47722 412.020271 \nL 252.47722 388.525535 \n\" style=\"fill:#dfe7ea;\"/>\n    <path clip-path=\"url(#p1faaa7d2d2)\" d=\"M 275.971957 388.525535 \nL 299.466694 388.525535 \nL 299.466694 412.020271 \nL 275.971957 412.020271 \nL 275.971957 388.525535 \n\" style=\"fill:#f0f2f2;\"/>\n    <path clip-path=\"url(#p1faaa7d2d2)\" d=\"M 299.466694 388.525535 \nL 322.961431 388.525535 \nL 322.961431 412.020271 \nL 299.466694 412.020271 \nL 299.466694 388.525535 \n\" style=\"fill:#ead5d0;\"/>\n    <path clip-path=\"url(#p1faaa7d2d2)\" d=\"M 322.961431 388.525535 \nL 346.456168 388.525535 \nL 346.456168 412.020271 \nL 322.961431 412.020271 \nL 322.961431 388.525535 \n\" style=\"fill:#e6cac3;\"/>\n    <path clip-path=\"url(#p1faaa7d2d2)\" d=\"M 346.456168 388.525535 \nL 369.950905 388.525535 \nL 369.950905 412.020271 \nL 346.456168 412.020271 \nL 346.456168 388.525535 \n\" style=\"fill:#e3e9ec;\"/>\n    <path clip-path=\"url(#p1faaa7d2d2)\" d=\"M 369.950905 388.525535 \nL 393.445641 388.525535 \nL 393.445641 412.020271 \nL 369.950905 412.020271 \nL 369.950905 388.525535 \n\" style=\"fill:#e2bbb1;\"/>\n    <path clip-path=\"url(#p1faaa7d2d2)\" d=\"M 393.445641 388.525535 \nL 416.940378 388.525535 \nL 416.940378 412.020271 \nL 393.445641 412.020271 \nL 393.445641 388.525535 \n\" style=\"fill:#e4eaed;\"/>\n    <path clip-path=\"url(#p1faaa7d2d2)\" d=\"M 416.940378 388.525535 \nL 440.435115 388.525535 \nL 440.435115 412.020271 \nL 416.940378 412.020271 \nL 416.940378 388.525535 \n\" style=\"fill:#3f7f93;\"/>\n    <path clip-path=\"url(#p1faaa7d2d2)\" d=\"M 440.435115 388.525535 \nL 463.929852 388.525535 \nL 463.929852 412.020271 \nL 440.435115 412.020271 \nL 440.435115 388.525535 \n\" style=\"fill:#bfd2d8;\"/>\n    <path clip-path=\"url(#p1faaa7d2d2)\" d=\"M 463.929852 388.525535 \nL 487.424589 388.525535 \nL 487.424589 412.020271 \nL 463.929852 412.020271 \nL 463.929852 388.525535 \n\" style=\"fill:#d79889;\"/>\n    <path clip-path=\"url(#p1faaa7d2d2)\" d=\"M 487.424589 388.525535 \nL 510.919326 388.525535 \nL 510.919326 412.020271 \nL 487.424589 412.020271 \nL 487.424589 388.525535 \n\" style=\"fill:#e5c6be;\"/>\n    <path clip-path=\"url(#p1faaa7d2d2)\" d=\"M 510.919326 388.525535 \nL 534.414062 388.525535 \nL 534.414062 412.020271 \nL 510.919326 412.020271 \nL 510.919326 388.525535 \n\" style=\"fill:#ebdad5;\"/>\n    <path clip-path=\"url(#p1faaa7d2d2)\" d=\"M 88.014063 412.020271 \nL 111.508799 412.020271 \nL 111.508799 435.515008 \nL 88.014063 435.515008 \nL 88.014063 412.020271 \n\" style=\"fill:#b9cfd5;\"/>\n    <path clip-path=\"url(#p1faaa7d2d2)\" d=\"M 111.508799 412.020271 \nL 135.003536 412.020271 \nL 135.003536 435.515008 \nL 111.508799 435.515008 \nL 111.508799 412.020271 \n\" style=\"fill:#f2f1f1;\"/>\n    <path clip-path=\"url(#p1faaa7d2d2)\" d=\"M 135.003536 412.020271 \nL 158.498273 412.020271 \nL 158.498273 435.515008 \nL 135.003536 435.515008 \nL 135.003536 412.020271 \n\" style=\"fill:#eaeef0;\"/>\n    <path clip-path=\"url(#p1faaa7d2d2)\" d=\"M 158.498273 412.020271 \nL 181.99301 412.020271 \nL 181.99301 435.515008 \nL 158.498273 435.515008 \nL 158.498273 412.020271 \n\" style=\"fill:#e6ebed;\"/>\n    <path clip-path=\"url(#p1faaa7d2d2)\" d=\"M 181.99301 412.020271 \nL 205.487747 412.020271 \nL 205.487747 435.515008 \nL 181.99301 435.515008 \nL 181.99301 412.020271 \n\" style=\"fill:#eee2df;\"/>\n    <path clip-path=\"url(#p1faaa7d2d2)\" d=\"M 205.487747 412.020271 \nL 228.982484 412.020271 \nL 228.982484 435.515008 \nL 205.487747 435.515008 \nL 205.487747 412.020271 \n\" style=\"fill:#e6ebed;\"/>\n    <path clip-path=\"url(#p1faaa7d2d2)\" d=\"M 228.982484 412.020271 \nL 252.47722 412.020271 \nL 252.47722 435.515008 \nL 228.982484 435.515008 \nL 228.982484 412.020271 \n\" style=\"fill:#f2f0ef;\"/>\n    <path clip-path=\"url(#p1faaa7d2d2)\" d=\"M 252.47722 412.020271 \nL 275.971957 412.020271 \nL 275.971957 435.515008 \nL 252.47722 435.515008 \nL 252.47722 412.020271 \n\" style=\"fill:#eef1f2;\"/>\n    <path clip-path=\"url(#p1faaa7d2d2)\" d=\"M 275.971957 412.020271 \nL 299.466694 412.020271 \nL 299.466694 435.515008 \nL 275.971957 435.515008 \nL 275.971957 412.020271 \n\" style=\"fill:#f2f0ef;\"/>\n    <path clip-path=\"url(#p1faaa7d2d2)\" d=\"M 299.466694 412.020271 \nL 322.961431 412.020271 \nL 322.961431 435.515008 \nL 299.466694 435.515008 \nL 299.466694 412.020271 \n\" style=\"fill:#d9e3e7;\"/>\n    <path clip-path=\"url(#p1faaa7d2d2)\" d=\"M 322.961431 412.020271 \nL 346.456168 412.020271 \nL 346.456168 435.515008 \nL 322.961431 435.515008 \nL 322.961431 412.020271 \n\" style=\"fill:#eef1f2;\"/>\n    <path clip-path=\"url(#p1faaa7d2d2)\" d=\"M 346.456168 412.020271 \nL 369.950905 412.020271 \nL 369.950905 435.515008 \nL 346.456168 435.515008 \nL 346.456168 412.020271 \n\" style=\"fill:#dde6e9;\"/>\n    <path clip-path=\"url(#p1faaa7d2d2)\" d=\"M 369.950905 412.020271 \nL 393.445641 412.020271 \nL 393.445641 435.515008 \nL 369.950905 435.515008 \nL 369.950905 412.020271 \n\" style=\"fill:#ecdbd7;\"/>\n    <path clip-path=\"url(#p1faaa7d2d2)\" d=\"M 393.445641 412.020271 \nL 416.940378 412.020271 \nL 416.940378 435.515008 \nL 393.445641 435.515008 \nL 393.445641 412.020271 \n\" style=\"fill:#ebeff0;\"/>\n    <path clip-path=\"url(#p1faaa7d2d2)\" d=\"M 416.940378 412.020271 \nL 440.435115 412.020271 \nL 440.435115 435.515008 \nL 416.940378 435.515008 \nL 416.940378 412.020271 \n\" style=\"fill:#bfd2d8;\"/>\n    <path clip-path=\"url(#p1faaa7d2d2)\" d=\"M 440.435115 412.020271 \nL 463.929852 412.020271 \nL 463.929852 435.515008 \nL 440.435115 435.515008 \nL 440.435115 412.020271 \n\" style=\"fill:#3f7f93;\"/>\n    <path clip-path=\"url(#p1faaa7d2d2)\" d=\"M 463.929852 412.020271 \nL 487.424589 412.020271 \nL 487.424589 435.515008 \nL 463.929852 435.515008 \nL 463.929852 412.020271 \n\" style=\"fill:#ecdcd8;\"/>\n    <path clip-path=\"url(#p1faaa7d2d2)\" d=\"M 487.424589 412.020271 \nL 510.919326 412.020271 \nL 510.919326 435.515008 \nL 487.424589 435.515008 \nL 487.424589 412.020271 \n\" style=\"fill:#e6ebed;\"/>\n    <path clip-path=\"url(#p1faaa7d2d2)\" d=\"M 510.919326 412.020271 \nL 534.414062 412.020271 \nL 534.414062 435.515008 \nL 510.919326 435.515008 \nL 510.919326 412.020271 \n\" style=\"fill:#eee2df;\"/>\n    <path clip-path=\"url(#p1faaa7d2d2)\" d=\"M 88.014063 435.515008 \nL 111.508799 435.515008 \nL 111.508799 459.009745 \nL 88.014063 459.009745 \nL 88.014063 435.515008 \n\" style=\"fill:#eef1f2;\"/>\n    <path clip-path=\"url(#p1faaa7d2d2)\" d=\"M 111.508799 435.515008 \nL 135.003536 435.515008 \nL 135.003536 459.009745 \nL 111.508799 459.009745 \nL 111.508799 435.515008 \n\" style=\"fill:#d9e3e7;\"/>\n    <path clip-path=\"url(#p1faaa7d2d2)\" d=\"M 135.003536 435.515008 \nL 158.498273 435.515008 \nL 158.498273 459.009745 \nL 135.003536 459.009745 \nL 135.003536 435.515008 \n\" style=\"fill:#cad9de;\"/>\n    <path clip-path=\"url(#p1faaa7d2d2)\" d=\"M 158.498273 435.515008 \nL 181.99301 435.515008 \nL 181.99301 459.009745 \nL 158.498273 459.009745 \nL 158.498273 435.515008 \n\" style=\"fill:#c6d7dc;\"/>\n    <path clip-path=\"url(#p1faaa7d2d2)\" d=\"M 181.99301 435.515008 \nL 205.487747 435.515008 \nL 205.487747 459.009745 \nL 181.99301 459.009745 \nL 181.99301 435.515008 \n\" style=\"fill:#c6d7dc;\"/>\n    <path clip-path=\"url(#p1faaa7d2d2)\" d=\"M 205.487747 435.515008 \nL 228.982484 435.515008 \nL 228.982484 459.009745 \nL 205.487747 459.009745 \nL 205.487747 435.515008 \n\" style=\"fill:#d9e3e7;\"/>\n    <path clip-path=\"url(#p1faaa7d2d2)\" d=\"M 228.982484 435.515008 \nL 252.47722 435.515008 \nL 252.47722 459.009745 \nL 228.982484 459.009745 \nL 228.982484 435.515008 \n\" style=\"fill:#f1ebe9;\"/>\n    <path clip-path=\"url(#p1faaa7d2d2)\" d=\"M 252.47722 435.515008 \nL 275.971957 435.515008 \nL 275.971957 459.009745 \nL 252.47722 459.009745 \nL 252.47722 435.515008 \n\" style=\"fill:#efe5e2;\"/>\n    <path clip-path=\"url(#p1faaa7d2d2)\" d=\"M 275.971957 435.515008 \nL 299.466694 435.515008 \nL 299.466694 459.009745 \nL 275.971957 459.009745 \nL 275.971957 435.515008 \n\" style=\"fill:#eee1de;\"/>\n    <path clip-path=\"url(#p1faaa7d2d2)\" d=\"M 299.466694 435.515008 \nL 322.961431 435.515008 \nL 322.961431 459.009745 \nL 299.466694 459.009745 \nL 299.466694 435.515008 \n\" style=\"fill:#cbdadf;\"/>\n    <path clip-path=\"url(#p1faaa7d2d2)\" d=\"M 322.961431 435.515008 \nL 346.456168 435.515008 \nL 346.456168 459.009745 \nL 322.961431 459.009745 \nL 322.961431 435.515008 \n\" style=\"fill:#b2cad2;\"/>\n    <path clip-path=\"url(#p1faaa7d2d2)\" d=\"M 346.456168 435.515008 \nL 369.950905 435.515008 \nL 369.950905 459.009745 \nL 346.456168 459.009745 \nL 346.456168 435.515008 \n\" style=\"fill:#ecdcd8;\"/>\n    <path clip-path=\"url(#p1faaa7d2d2)\" d=\"M 369.950905 435.515008 \nL 393.445641 435.515008 \nL 393.445641 459.009745 \nL 369.950905 459.009745 \nL 369.950905 435.515008 \n\" style=\"fill:#a6c2cb;\"/>\n    <path clip-path=\"url(#p1faaa7d2d2)\" d=\"M 393.445641 435.515008 \nL 416.940378 435.515008 \nL 416.940378 459.009745 \nL 393.445641 459.009745 \nL 393.445641 435.515008 \n\" style=\"fill:#efe7e5;\"/>\n    <path clip-path=\"url(#p1faaa7d2d2)\" d=\"M 416.940378 435.515008 \nL 440.435115 435.515008 \nL 440.435115 459.009745 \nL 416.940378 459.009745 \nL 416.940378 435.515008 \n\" style=\"fill:#d79889;\"/>\n    <path clip-path=\"url(#p1faaa7d2d2)\" d=\"M 440.435115 435.515008 \nL 463.929852 435.515008 \nL 463.929852 459.009745 \nL 440.435115 459.009745 \nL 440.435115 435.515008 \n\" style=\"fill:#ecdcd8;\"/>\n    <path clip-path=\"url(#p1faaa7d2d2)\" d=\"M 463.929852 435.515008 \nL 487.424589 435.515008 \nL 487.424589 459.009745 \nL 463.929852 459.009745 \nL 463.929852 435.515008 \n\" style=\"fill:#3f7f93;\"/>\n    <path clip-path=\"url(#p1faaa7d2d2)\" d=\"M 487.424589 435.515008 \nL 510.919326 435.515008 \nL 510.919326 459.009745 \nL 487.424589 459.009745 \nL 487.424589 435.515008 \n\" style=\"fill:#b2cad2;\"/>\n    <path clip-path=\"url(#p1faaa7d2d2)\" d=\"M 510.919326 435.515008 \nL 534.414062 435.515008 \nL 534.414062 459.009745 \nL 510.919326 459.009745 \nL 510.919326 435.515008 \n\" style=\"fill:#c0d3d9;\"/>\n    <path clip-path=\"url(#p1faaa7d2d2)\" d=\"M 88.014063 459.009745 \nL 111.508799 459.009745 \nL 111.508799 482.504482 \nL 88.014063 482.504482 \nL 88.014063 459.009745 \n\" style=\"fill:#87aeba;\"/>\n    <path clip-path=\"url(#p1faaa7d2d2)\" d=\"M 111.508799 459.009745 \nL 135.003536 459.009745 \nL 135.003536 482.504482 \nL 111.508799 482.504482 \nL 111.508799 459.009745 \n\" style=\"fill:#abc6ce;\"/>\n    <path clip-path=\"url(#p1faaa7d2d2)\" d=\"M 135.003536 459.009745 \nL 158.498273 459.009745 \nL 158.498273 482.504482 \nL 135.003536 482.504482 \nL 135.003536 459.009745 \n\" style=\"fill:#8bb1bc;\"/>\n    <path clip-path=\"url(#p1faaa7d2d2)\" d=\"M 158.498273 459.009745 \nL 181.99301 459.009745 \nL 181.99301 482.504482 \nL 158.498273 482.504482 \nL 158.498273 459.009745 \n\" style=\"fill:#689aaa;\"/>\n    <path clip-path=\"url(#p1faaa7d2d2)\" d=\"M 181.99301 459.009745 \nL 205.487747 459.009745 \nL 205.487747 482.504482 \nL 181.99301 482.504482 \nL 181.99301 459.009745 \n\" style=\"fill:#d5e0e4;\"/>\n    <path clip-path=\"url(#p1faaa7d2d2)\" d=\"M 205.487747 459.009745 \nL 228.982484 459.009745 \nL 228.982484 482.504482 \nL 205.487747 482.504482 \nL 205.487747 459.009745 \n\" style=\"fill:#bfd2d8;\"/>\n    <path clip-path=\"url(#p1faaa7d2d2)\" d=\"M 228.982484 459.009745 \nL 252.47722 459.009745 \nL 252.47722 482.504482 \nL 228.982484 482.504482 \nL 228.982484 459.009745 \n\" style=\"fill:#dfe7ea;\"/>\n    <path clip-path=\"url(#p1faaa7d2d2)\" d=\"M 252.47722 459.009745 \nL 275.971957 459.009745 \nL 275.971957 482.504482 \nL 252.47722 482.504482 \nL 252.47722 459.009745 \n\" style=\"fill:#bfd2d8;\"/>\n    <path clip-path=\"url(#p1faaa7d2d2)\" d=\"M 275.971957 459.009745 \nL 299.466694 459.009745 \nL 299.466694 482.504482 \nL 275.971957 482.504482 \nL 275.971957 459.009745 \n\" style=\"fill:#eee2df;\"/>\n    <path clip-path=\"url(#p1faaa7d2d2)\" d=\"M 299.466694 459.009745 \nL 322.961431 459.009745 \nL 322.961431 482.504482 \nL 299.466694 482.504482 \nL 299.466694 459.009745 \n\" style=\"fill:#71a0ae;\"/>\n    <path clip-path=\"url(#p1faaa7d2d2)\" d=\"M 322.961431 459.009745 \nL 346.456168 459.009745 \nL 346.456168 482.504482 \nL 322.961431 482.504482 \nL 322.961431 459.009745 \n\" style=\"fill:#6d9dac;\"/>\n    <path clip-path=\"url(#p1faaa7d2d2)\" d=\"M 346.456168 459.009745 \nL 369.950905 459.009745 \nL 369.950905 482.504482 \nL 346.456168 482.504482 \nL 346.456168 459.009745 \n\" style=\"fill:#cbdadf;\"/>\n    <path clip-path=\"url(#p1faaa7d2d2)\" d=\"M 369.950905 459.009745 \nL 393.445641 459.009745 \nL 393.445641 482.504482 \nL 369.950905 482.504482 \nL 369.950905 459.009745 \n\" style=\"fill:#b8ced5;\"/>\n    <path clip-path=\"url(#p1faaa7d2d2)\" d=\"M 393.445641 459.009745 \nL 416.940378 459.009745 \nL 416.940378 482.504482 \nL 393.445641 482.504482 \nL 393.445641 459.009745 \n\" style=\"fill:#f2f1f1;\"/>\n    <path clip-path=\"url(#p1faaa7d2d2)\" d=\"M 416.940378 459.009745 \nL 440.435115 459.009745 \nL 440.435115 482.504482 \nL 416.940378 482.504482 \nL 416.940378 459.009745 \n\" style=\"fill:#e5c6be;\"/>\n    <path clip-path=\"url(#p1faaa7d2d2)\" d=\"M 440.435115 459.009745 \nL 463.929852 459.009745 \nL 463.929852 482.504482 \nL 440.435115 482.504482 \nL 440.435115 459.009745 \n\" style=\"fill:#e6ebed;\"/>\n    <path clip-path=\"url(#p1faaa7d2d2)\" d=\"M 463.929852 459.009745 \nL 487.424589 459.009745 \nL 487.424589 482.504482 \nL 463.929852 482.504482 \nL 463.929852 459.009745 \n\" style=\"fill:#b2cad2;\"/>\n    <path clip-path=\"url(#p1faaa7d2d2)\" d=\"M 487.424589 459.009745 \nL 510.919326 459.009745 \nL 510.919326 482.504482 \nL 487.424589 482.504482 \nL 487.424589 459.009745 \n\" style=\"fill:#3f7f93;\"/>\n    <path clip-path=\"url(#p1faaa7d2d2)\" d=\"M 510.919326 459.009745 \nL 534.414062 459.009745 \nL 534.414062 482.504482 \nL 510.919326 482.504482 \nL 510.919326 459.009745 \n\" style=\"fill:#cbdadf;\"/>\n    <path clip-path=\"url(#p1faaa7d2d2)\" d=\"M 88.014063 482.504482 \nL 111.508799 482.504482 \nL 111.508799 505.999219 \nL 88.014063 505.999219 \nL 88.014063 482.504482 \n\" style=\"fill:#e3e9ec;\"/>\n    <path clip-path=\"url(#p1faaa7d2d2)\" d=\"M 111.508799 482.504482 \nL 135.003536 482.504482 \nL 135.003536 505.999219 \nL 111.508799 505.999219 \nL 111.508799 482.504482 \n\" style=\"fill:#ebeff0;\"/>\n    <path clip-path=\"url(#p1faaa7d2d2)\" d=\"M 135.003536 482.504482 \nL 158.498273 482.504482 \nL 158.498273 505.999219 \nL 135.003536 505.999219 \nL 135.003536 482.504482 \n\" style=\"fill:#e1e9eb;\"/>\n    <path clip-path=\"url(#p1faaa7d2d2)\" d=\"M 158.498273 482.504482 \nL 181.99301 482.504482 \nL 181.99301 505.999219 \nL 158.498273 505.999219 \nL 158.498273 482.504482 \n\" style=\"fill:#d1dee2;\"/>\n    <path clip-path=\"url(#p1faaa7d2d2)\" d=\"M 181.99301 482.504482 \nL 205.487747 482.504482 \nL 205.487747 505.999219 \nL 181.99301 505.999219 \nL 181.99301 482.504482 \n\" style=\"fill:#74a1b0;\"/>\n    <path clip-path=\"url(#p1faaa7d2d2)\" d=\"M 205.487747 482.504482 \nL 228.982484 482.504482 \nL 228.982484 505.999219 \nL 205.487747 505.999219 \nL 205.487747 482.504482 \n\" style=\"fill:#f2f0ef;\"/>\n    <path clip-path=\"url(#p1faaa7d2d2)\" d=\"M 228.982484 482.504482 \nL 252.47722 482.504482 \nL 252.47722 505.999219 \nL 228.982484 505.999219 \nL 228.982484 482.504482 \n\" style=\"fill:#eaeef0;\"/>\n    <path clip-path=\"url(#p1faaa7d2d2)\" d=\"M 252.47722 482.504482 \nL 275.971957 482.504482 \nL 275.971957 505.999219 \nL 252.47722 505.999219 \nL 252.47722 482.504482 \n\" style=\"fill:#e3e9ec;\"/>\n    <path clip-path=\"url(#p1faaa7d2d2)\" d=\"M 275.971957 482.504482 \nL 299.466694 482.504482 \nL 299.466694 505.999219 \nL 275.971957 505.999219 \nL 275.971957 482.504482 \n\" style=\"fill:#f0f2f2;\"/>\n    <path clip-path=\"url(#p1faaa7d2d2)\" d=\"M 299.466694 482.504482 \nL 322.961431 482.504482 \nL 322.961431 505.999219 \nL 299.466694 505.999219 \nL 299.466694 482.504482 \n\" style=\"fill:#dce5e8;\"/>\n    <path clip-path=\"url(#p1faaa7d2d2)\" d=\"M 322.961431 482.504482 \nL 346.456168 482.504482 \nL 346.456168 505.999219 \nL 322.961431 505.999219 \nL 322.961431 482.504482 \n\" style=\"fill:#cfdde1;\"/>\n    <path clip-path=\"url(#p1faaa7d2d2)\" d=\"M 346.456168 482.504482 \nL 369.950905 482.504482 \nL 369.950905 505.999219 \nL 346.456168 505.999219 \nL 346.456168 482.504482 \n\" style=\"fill:#eef1f2;\"/>\n    <path clip-path=\"url(#p1faaa7d2d2)\" d=\"M 369.950905 482.504482 \nL 393.445641 482.504482 \nL 393.445641 505.999219 \nL 369.950905 505.999219 \nL 369.950905 482.504482 \n\" style=\"fill:#e3e9ec;\"/>\n    <path clip-path=\"url(#p1faaa7d2d2)\" d=\"M 393.445641 482.504482 \nL 416.940378 482.504482 \nL 416.940378 505.999219 \nL 393.445641 505.999219 \nL 393.445641 482.504482 \n\" style=\"fill:#f0f2f2;\"/>\n    <path clip-path=\"url(#p1faaa7d2d2)\" d=\"M 416.940378 482.504482 \nL 440.435115 482.504482 \nL 440.435115 505.999219 \nL 416.940378 505.999219 \nL 416.940378 482.504482 \n\" style=\"fill:#ebdad5;\"/>\n    <path clip-path=\"url(#p1faaa7d2d2)\" d=\"M 440.435115 482.504482 \nL 463.929852 482.504482 \nL 463.929852 505.999219 \nL 440.435115 505.999219 \nL 440.435115 482.504482 \n\" style=\"fill:#eee2df;\"/>\n    <path clip-path=\"url(#p1faaa7d2d2)\" d=\"M 463.929852 482.504482 \nL 487.424589 482.504482 \nL 487.424589 505.999219 \nL 463.929852 505.999219 \nL 463.929852 482.504482 \n\" style=\"fill:#c0d3d9;\"/>\n    <path clip-path=\"url(#p1faaa7d2d2)\" d=\"M 487.424589 482.504482 \nL 510.919326 482.504482 \nL 510.919326 505.999219 \nL 487.424589 505.999219 \nL 487.424589 482.504482 \n\" style=\"fill:#cbdadf;\"/>\n    <path clip-path=\"url(#p1faaa7d2d2)\" d=\"M 510.919326 482.504482 \nL 534.414062 482.504482 \nL 534.414062 505.999219 \nL 510.919326 505.999219 \nL 510.919326 482.504482 \n\" style=\"fill:#3f7f93;\"/>\n   </g>\n   <g id=\"matplotlib.axis_1\">\n    <g id=\"xtick_1\">\n     <g id=\"line2d_1\">\n      <defs>\n       <path d=\"M 0 0 \nL 0 3.5 \n\" id=\"m577f41848e\" style=\"stroke:#000000;stroke-width:0.8;\"/>\n      </defs>\n      <g>\n       <use style=\"stroke:#000000;stroke-width:0.8;\" x=\"99.761431\" xlink:href=\"#m577f41848e\" y=\"505.999219\"/>\n      </g>\n     </g>\n     <g id=\"text_1\">\n      <!-- price -->\n      <g transform=\"translate(80.691645 535.97135)rotate(-45)scale(0.1 -0.1)\">\n       <defs>\n        <path d=\"M 18.109375 8.203125 \nL 18.109375 -20.796875 \nL 9.078125 -20.796875 \nL 9.078125 54.6875 \nL 18.109375 54.6875 \nL 18.109375 46.390625 \nQ 20.953125 51.265625 25.265625 53.625 \nQ 29.59375 56 35.59375 56 \nQ 45.5625 56 51.78125 48.09375 \nQ 58.015625 40.1875 58.015625 27.296875 \nQ 58.015625 14.40625 51.78125 6.484375 \nQ 45.5625 -1.421875 35.59375 -1.421875 \nQ 29.59375 -1.421875 25.265625 0.953125 \nQ 20.953125 3.328125 18.109375 8.203125 \nz\nM 48.6875 27.296875 \nQ 48.6875 37.203125 44.609375 42.84375 \nQ 40.53125 48.484375 33.40625 48.484375 \nQ 26.265625 48.484375 22.1875 42.84375 \nQ 18.109375 37.203125 18.109375 27.296875 \nQ 18.109375 17.390625 22.1875 11.75 \nQ 26.265625 6.109375 33.40625 6.109375 \nQ 40.53125 6.109375 44.609375 11.75 \nQ 48.6875 17.390625 48.6875 27.296875 \nz\n\" id=\"DejaVuSans-112\"/>\n        <path d=\"M 41.109375 46.296875 \nQ 39.59375 47.171875 37.8125 47.578125 \nQ 36.03125 48 33.890625 48 \nQ 26.265625 48 22.1875 43.046875 \nQ 18.109375 38.09375 18.109375 28.8125 \nL 18.109375 0 \nL 9.078125 0 \nL 9.078125 54.6875 \nL 18.109375 54.6875 \nL 18.109375 46.1875 \nQ 20.953125 51.171875 25.484375 53.578125 \nQ 30.03125 56 36.53125 56 \nQ 37.453125 56 38.578125 55.875 \nQ 39.703125 55.765625 41.0625 55.515625 \nz\n\" id=\"DejaVuSans-114\"/>\n        <path d=\"M 9.421875 54.6875 \nL 18.40625 54.6875 \nL 18.40625 0 \nL 9.421875 0 \nz\nM 9.421875 75.984375 \nL 18.40625 75.984375 \nL 18.40625 64.59375 \nL 9.421875 64.59375 \nz\n\" id=\"DejaVuSans-105\"/>\n        <path d=\"M 48.78125 52.59375 \nL 48.78125 44.1875 \nQ 44.96875 46.296875 41.140625 47.34375 \nQ 37.3125 48.390625 33.40625 48.390625 \nQ 24.65625 48.390625 19.8125 42.84375 \nQ 14.984375 37.3125 14.984375 27.296875 \nQ 14.984375 17.28125 19.8125 11.734375 \nQ 24.65625 6.203125 33.40625 6.203125 \nQ 37.3125 6.203125 41.140625 7.25 \nQ 44.96875 8.296875 48.78125 10.40625 \nL 48.78125 2.09375 \nQ 45.015625 0.34375 40.984375 -0.53125 \nQ 36.96875 -1.421875 32.421875 -1.421875 \nQ 20.0625 -1.421875 12.78125 6.34375 \nQ 5.515625 14.109375 5.515625 27.296875 \nQ 5.515625 40.671875 12.859375 48.328125 \nQ 20.21875 56 33.015625 56 \nQ 37.15625 56 41.109375 55.140625 \nQ 45.0625 54.296875 48.78125 52.59375 \nz\n\" id=\"DejaVuSans-99\"/>\n        <path d=\"M 56.203125 29.59375 \nL 56.203125 25.203125 \nL 14.890625 25.203125 \nQ 15.484375 15.921875 20.484375 11.0625 \nQ 25.484375 6.203125 34.421875 6.203125 \nQ 39.59375 6.203125 44.453125 7.46875 \nQ 49.3125 8.734375 54.109375 11.28125 \nL 54.109375 2.78125 \nQ 49.265625 0.734375 44.1875 -0.34375 \nQ 39.109375 -1.421875 33.890625 -1.421875 \nQ 20.796875 -1.421875 13.15625 6.1875 \nQ 5.515625 13.8125 5.515625 26.8125 \nQ 5.515625 40.234375 12.765625 48.109375 \nQ 20.015625 56 32.328125 56 \nQ 43.359375 56 49.78125 48.890625 \nQ 56.203125 41.796875 56.203125 29.59375 \nz\nM 47.21875 32.234375 \nQ 47.125 39.59375 43.09375 43.984375 \nQ 39.0625 48.390625 32.421875 48.390625 \nQ 24.90625 48.390625 20.390625 44.140625 \nQ 15.875 39.890625 15.1875 32.171875 \nz\n\" id=\"DejaVuSans-101\"/>\n       </defs>\n       <use xlink:href=\"#DejaVuSans-112\"/>\n       <use x=\"63.476562\" xlink:href=\"#DejaVuSans-114\"/>\n       <use x=\"104.589844\" xlink:href=\"#DejaVuSans-105\"/>\n       <use x=\"132.373047\" xlink:href=\"#DejaVuSans-99\"/>\n       <use x=\"187.353516\" xlink:href=\"#DejaVuSans-101\"/>\n      </g>\n     </g>\n    </g>\n    <g id=\"xtick_2\">\n     <g id=\"line2d_2\">\n      <g>\n       <use style=\"stroke:#000000;stroke-width:0.8;\" x=\"123.256168\" xlink:href=\"#m577f41848e\" y=\"505.999219\"/>\n      </g>\n     </g>\n     <g id=\"text_2\">\n      <!-- bedrooms -->\n      <g transform=\"translate(86.484405 553.673327)rotate(-45)scale(0.1 -0.1)\">\n       <defs>\n        <path d=\"M 48.6875 27.296875 \nQ 48.6875 37.203125 44.609375 42.84375 \nQ 40.53125 48.484375 33.40625 48.484375 \nQ 26.265625 48.484375 22.1875 42.84375 \nQ 18.109375 37.203125 18.109375 27.296875 \nQ 18.109375 17.390625 22.1875 11.75 \nQ 26.265625 6.109375 33.40625 6.109375 \nQ 40.53125 6.109375 44.609375 11.75 \nQ 48.6875 17.390625 48.6875 27.296875 \nz\nM 18.109375 46.390625 \nQ 20.953125 51.265625 25.265625 53.625 \nQ 29.59375 56 35.59375 56 \nQ 45.5625 56 51.78125 48.09375 \nQ 58.015625 40.1875 58.015625 27.296875 \nQ 58.015625 14.40625 51.78125 6.484375 \nQ 45.5625 -1.421875 35.59375 -1.421875 \nQ 29.59375 -1.421875 25.265625 0.953125 \nQ 20.953125 3.328125 18.109375 8.203125 \nL 18.109375 0 \nL 9.078125 0 \nL 9.078125 75.984375 \nL 18.109375 75.984375 \nz\n\" id=\"DejaVuSans-98\"/>\n        <path d=\"M 45.40625 46.390625 \nL 45.40625 75.984375 \nL 54.390625 75.984375 \nL 54.390625 0 \nL 45.40625 0 \nL 45.40625 8.203125 \nQ 42.578125 3.328125 38.25 0.953125 \nQ 33.9375 -1.421875 27.875 -1.421875 \nQ 17.96875 -1.421875 11.734375 6.484375 \nQ 5.515625 14.40625 5.515625 27.296875 \nQ 5.515625 40.1875 11.734375 48.09375 \nQ 17.96875 56 27.875 56 \nQ 33.9375 56 38.25 53.625 \nQ 42.578125 51.265625 45.40625 46.390625 \nz\nM 14.796875 27.296875 \nQ 14.796875 17.390625 18.875 11.75 \nQ 22.953125 6.109375 30.078125 6.109375 \nQ 37.203125 6.109375 41.296875 11.75 \nQ 45.40625 17.390625 45.40625 27.296875 \nQ 45.40625 37.203125 41.296875 42.84375 \nQ 37.203125 48.484375 30.078125 48.484375 \nQ 22.953125 48.484375 18.875 42.84375 \nQ 14.796875 37.203125 14.796875 27.296875 \nz\n\" id=\"DejaVuSans-100\"/>\n        <path d=\"M 30.609375 48.390625 \nQ 23.390625 48.390625 19.1875 42.75 \nQ 14.984375 37.109375 14.984375 27.296875 \nQ 14.984375 17.484375 19.15625 11.84375 \nQ 23.34375 6.203125 30.609375 6.203125 \nQ 37.796875 6.203125 41.984375 11.859375 \nQ 46.1875 17.53125 46.1875 27.296875 \nQ 46.1875 37.015625 41.984375 42.703125 \nQ 37.796875 48.390625 30.609375 48.390625 \nz\nM 30.609375 56 \nQ 42.328125 56 49.015625 48.375 \nQ 55.71875 40.765625 55.71875 27.296875 \nQ 55.71875 13.875 49.015625 6.21875 \nQ 42.328125 -1.421875 30.609375 -1.421875 \nQ 18.84375 -1.421875 12.171875 6.21875 \nQ 5.515625 13.875 5.515625 27.296875 \nQ 5.515625 40.765625 12.171875 48.375 \nQ 18.84375 56 30.609375 56 \nz\n\" id=\"DejaVuSans-111\"/>\n        <path d=\"M 52 44.1875 \nQ 55.375 50.25 60.0625 53.125 \nQ 64.75 56 71.09375 56 \nQ 79.640625 56 84.28125 50.015625 \nQ 88.921875 44.046875 88.921875 33.015625 \nL 88.921875 0 \nL 79.890625 0 \nL 79.890625 32.71875 \nQ 79.890625 40.578125 77.09375 44.375 \nQ 74.3125 48.1875 68.609375 48.1875 \nQ 61.625 48.1875 57.5625 43.546875 \nQ 53.515625 38.921875 53.515625 30.90625 \nL 53.515625 0 \nL 44.484375 0 \nL 44.484375 32.71875 \nQ 44.484375 40.625 41.703125 44.40625 \nQ 38.921875 48.1875 33.109375 48.1875 \nQ 26.21875 48.1875 22.15625 43.53125 \nQ 18.109375 38.875 18.109375 30.90625 \nL 18.109375 0 \nL 9.078125 0 \nL 9.078125 54.6875 \nL 18.109375 54.6875 \nL 18.109375 46.1875 \nQ 21.1875 51.21875 25.484375 53.609375 \nQ 29.78125 56 35.6875 56 \nQ 41.65625 56 45.828125 52.96875 \nQ 50 49.953125 52 44.1875 \nz\n\" id=\"DejaVuSans-109\"/>\n        <path d=\"M 44.28125 53.078125 \nL 44.28125 44.578125 \nQ 40.484375 46.53125 36.375 47.5 \nQ 32.28125 48.484375 27.875 48.484375 \nQ 21.1875 48.484375 17.84375 46.4375 \nQ 14.5 44.390625 14.5 40.28125 \nQ 14.5 37.15625 16.890625 35.375 \nQ 19.28125 33.59375 26.515625 31.984375 \nL 29.59375 31.296875 \nQ 39.15625 29.25 43.1875 25.515625 \nQ 47.21875 21.78125 47.21875 15.09375 \nQ 47.21875 7.46875 41.1875 3.015625 \nQ 35.15625 -1.421875 24.609375 -1.421875 \nQ 20.21875 -1.421875 15.453125 -0.5625 \nQ 10.6875 0.296875 5.421875 2 \nL 5.421875 11.28125 \nQ 10.40625 8.6875 15.234375 7.390625 \nQ 20.0625 6.109375 24.8125 6.109375 \nQ 31.15625 6.109375 34.5625 8.28125 \nQ 37.984375 10.453125 37.984375 14.40625 \nQ 37.984375 18.0625 35.515625 20.015625 \nQ 33.0625 21.96875 24.703125 23.78125 \nL 21.578125 24.515625 \nQ 13.234375 26.265625 9.515625 29.90625 \nQ 5.8125 33.546875 5.8125 39.890625 \nQ 5.8125 47.609375 11.28125 51.796875 \nQ 16.75 56 26.8125 56 \nQ 31.78125 56 36.171875 55.265625 \nQ 40.578125 54.546875 44.28125 53.078125 \nz\n\" id=\"DejaVuSans-115\"/>\n       </defs>\n       <use xlink:href=\"#DejaVuSans-98\"/>\n       <use x=\"63.476562\" xlink:href=\"#DejaVuSans-101\"/>\n       <use x=\"125\" xlink:href=\"#DejaVuSans-100\"/>\n       <use x=\"188.476562\" xlink:href=\"#DejaVuSans-114\"/>\n       <use x=\"227.339844\" xlink:href=\"#DejaVuSans-111\"/>\n       <use x=\"288.521484\" xlink:href=\"#DejaVuSans-111\"/>\n       <use x=\"349.703125\" xlink:href=\"#DejaVuSans-109\"/>\n       <use x=\"447.115234\" xlink:href=\"#DejaVuSans-115\"/>\n      </g>\n     </g>\n    </g>\n    <g id=\"xtick_3\">\n     <g id=\"line2d_3\">\n      <g>\n       <use style=\"stroke:#000000;stroke-width:0.8;\" x=\"146.750905\" xlink:href=\"#m577f41848e\" y=\"505.999219\"/>\n      </g>\n     </g>\n     <g id=\"text_3\">\n      <!-- bathrooms -->\n      <g transform=\"translate(107.232474 556.419995)rotate(-45)scale(0.1 -0.1)\">\n       <defs>\n        <path d=\"M 34.28125 27.484375 \nQ 23.390625 27.484375 19.1875 25 \nQ 14.984375 22.515625 14.984375 16.5 \nQ 14.984375 11.71875 18.140625 8.90625 \nQ 21.296875 6.109375 26.703125 6.109375 \nQ 34.1875 6.109375 38.703125 11.40625 \nQ 43.21875 16.703125 43.21875 25.484375 \nL 43.21875 27.484375 \nz\nM 52.203125 31.203125 \nL 52.203125 0 \nL 43.21875 0 \nL 43.21875 8.296875 \nQ 40.140625 3.328125 35.546875 0.953125 \nQ 30.953125 -1.421875 24.3125 -1.421875 \nQ 15.921875 -1.421875 10.953125 3.296875 \nQ 6 8.015625 6 15.921875 \nQ 6 25.140625 12.171875 29.828125 \nQ 18.359375 34.515625 30.609375 34.515625 \nL 43.21875 34.515625 \nL 43.21875 35.40625 \nQ 43.21875 41.609375 39.140625 45 \nQ 35.0625 48.390625 27.6875 48.390625 \nQ 23 48.390625 18.546875 47.265625 \nQ 14.109375 46.140625 10.015625 43.890625 \nL 10.015625 52.203125 \nQ 14.9375 54.109375 19.578125 55.046875 \nQ 24.21875 56 28.609375 56 \nQ 40.484375 56 46.34375 49.84375 \nQ 52.203125 43.703125 52.203125 31.203125 \nz\n\" id=\"DejaVuSans-97\"/>\n        <path d=\"M 18.3125 70.21875 \nL 18.3125 54.6875 \nL 36.8125 54.6875 \nL 36.8125 47.703125 \nL 18.3125 47.703125 \nL 18.3125 18.015625 \nQ 18.3125 11.328125 20.140625 9.421875 \nQ 21.96875 7.515625 27.59375 7.515625 \nL 36.8125 7.515625 \nL 36.8125 0 \nL 27.59375 0 \nQ 17.1875 0 13.234375 3.875 \nQ 9.28125 7.765625 9.28125 18.015625 \nL 9.28125 47.703125 \nL 2.6875 47.703125 \nL 2.6875 54.6875 \nL 9.28125 54.6875 \nL 9.28125 70.21875 \nz\n\" id=\"DejaVuSans-116\"/>\n        <path d=\"M 54.890625 33.015625 \nL 54.890625 0 \nL 45.90625 0 \nL 45.90625 32.71875 \nQ 45.90625 40.484375 42.875 44.328125 \nQ 39.84375 48.1875 33.796875 48.1875 \nQ 26.515625 48.1875 22.3125 43.546875 \nQ 18.109375 38.921875 18.109375 30.90625 \nL 18.109375 0 \nL 9.078125 0 \nL 9.078125 75.984375 \nL 18.109375 75.984375 \nL 18.109375 46.1875 \nQ 21.34375 51.125 25.703125 53.5625 \nQ 30.078125 56 35.796875 56 \nQ 45.21875 56 50.046875 50.171875 \nQ 54.890625 44.34375 54.890625 33.015625 \nz\n\" id=\"DejaVuSans-104\"/>\n       </defs>\n       <use xlink:href=\"#DejaVuSans-98\"/>\n       <use x=\"63.476562\" xlink:href=\"#DejaVuSans-97\"/>\n       <use x=\"124.755859\" xlink:href=\"#DejaVuSans-116\"/>\n       <use x=\"163.964844\" xlink:href=\"#DejaVuSans-104\"/>\n       <use x=\"227.34375\" xlink:href=\"#DejaVuSans-114\"/>\n       <use x=\"266.207031\" xlink:href=\"#DejaVuSans-111\"/>\n       <use x=\"327.388672\" xlink:href=\"#DejaVuSans-111\"/>\n       <use x=\"388.570312\" xlink:href=\"#DejaVuSans-109\"/>\n       <use x=\"485.982422\" xlink:href=\"#DejaVuSans-115\"/>\n      </g>\n     </g>\n    </g>\n    <g id=\"xtick_4\">\n     <g id=\"line2d_4\">\n      <g>\n       <use style=\"stroke:#000000;stroke-width:0.8;\" x=\"170.245641\" xlink:href=\"#m577f41848e\" y=\"505.999219\"/>\n      </g>\n     </g>\n     <g id=\"text_4\">\n      <!-- sqft_living -->\n      <g transform=\"translate(132.683908 554.266633)rotate(-45)scale(0.1 -0.1)\">\n       <defs>\n        <path d=\"M 14.796875 27.296875 \nQ 14.796875 17.390625 18.875 11.75 \nQ 22.953125 6.109375 30.078125 6.109375 \nQ 37.203125 6.109375 41.296875 11.75 \nQ 45.40625 17.390625 45.40625 27.296875 \nQ 45.40625 37.203125 41.296875 42.84375 \nQ 37.203125 48.484375 30.078125 48.484375 \nQ 22.953125 48.484375 18.875 42.84375 \nQ 14.796875 37.203125 14.796875 27.296875 \nz\nM 45.40625 8.203125 \nQ 42.578125 3.328125 38.25 0.953125 \nQ 33.9375 -1.421875 27.875 -1.421875 \nQ 17.96875 -1.421875 11.734375 6.484375 \nQ 5.515625 14.40625 5.515625 27.296875 \nQ 5.515625 40.1875 11.734375 48.09375 \nQ 17.96875 56 27.875 56 \nQ 33.9375 56 38.25 53.625 \nQ 42.578125 51.265625 45.40625 46.390625 \nL 45.40625 54.6875 \nL 54.390625 54.6875 \nL 54.390625 -20.796875 \nL 45.40625 -20.796875 \nz\n\" id=\"DejaVuSans-113\"/>\n        <path d=\"M 37.109375 75.984375 \nL 37.109375 68.5 \nL 28.515625 68.5 \nQ 23.6875 68.5 21.796875 66.546875 \nQ 19.921875 64.59375 19.921875 59.515625 \nL 19.921875 54.6875 \nL 34.71875 54.6875 \nL 34.71875 47.703125 \nL 19.921875 47.703125 \nL 19.921875 0 \nL 10.890625 0 \nL 10.890625 47.703125 \nL 2.296875 47.703125 \nL 2.296875 54.6875 \nL 10.890625 54.6875 \nL 10.890625 58.5 \nQ 10.890625 67.625 15.140625 71.796875 \nQ 19.390625 75.984375 28.609375 75.984375 \nz\n\" id=\"DejaVuSans-102\"/>\n        <path d=\"M 50.984375 -16.609375 \nL 50.984375 -23.578125 \nL -0.984375 -23.578125 \nL -0.984375 -16.609375 \nz\n\" id=\"DejaVuSans-95\"/>\n        <path d=\"M 9.421875 75.984375 \nL 18.40625 75.984375 \nL 18.40625 0 \nL 9.421875 0 \nz\n\" id=\"DejaVuSans-108\"/>\n        <path d=\"M 2.984375 54.6875 \nL 12.5 54.6875 \nL 29.59375 8.796875 \nL 46.6875 54.6875 \nL 56.203125 54.6875 \nL 35.6875 0 \nL 23.484375 0 \nz\n\" id=\"DejaVuSans-118\"/>\n        <path d=\"M 54.890625 33.015625 \nL 54.890625 0 \nL 45.90625 0 \nL 45.90625 32.71875 \nQ 45.90625 40.484375 42.875 44.328125 \nQ 39.84375 48.1875 33.796875 48.1875 \nQ 26.515625 48.1875 22.3125 43.546875 \nQ 18.109375 38.921875 18.109375 30.90625 \nL 18.109375 0 \nL 9.078125 0 \nL 9.078125 54.6875 \nL 18.109375 54.6875 \nL 18.109375 46.1875 \nQ 21.34375 51.125 25.703125 53.5625 \nQ 30.078125 56 35.796875 56 \nQ 45.21875 56 50.046875 50.171875 \nQ 54.890625 44.34375 54.890625 33.015625 \nz\n\" id=\"DejaVuSans-110\"/>\n        <path d=\"M 45.40625 27.984375 \nQ 45.40625 37.75 41.375 43.109375 \nQ 37.359375 48.484375 30.078125 48.484375 \nQ 22.859375 48.484375 18.828125 43.109375 \nQ 14.796875 37.75 14.796875 27.984375 \nQ 14.796875 18.265625 18.828125 12.890625 \nQ 22.859375 7.515625 30.078125 7.515625 \nQ 37.359375 7.515625 41.375 12.890625 \nQ 45.40625 18.265625 45.40625 27.984375 \nz\nM 54.390625 6.78125 \nQ 54.390625 -7.171875 48.1875 -13.984375 \nQ 42 -20.796875 29.203125 -20.796875 \nQ 24.46875 -20.796875 20.265625 -20.09375 \nQ 16.0625 -19.390625 12.109375 -17.921875 \nL 12.109375 -9.1875 \nQ 16.0625 -11.328125 19.921875 -12.34375 \nQ 23.78125 -13.375 27.78125 -13.375 \nQ 36.625 -13.375 41.015625 -8.765625 \nQ 45.40625 -4.15625 45.40625 5.171875 \nL 45.40625 9.625 \nQ 42.625 4.78125 38.28125 2.390625 \nQ 33.9375 0 27.875 0 \nQ 17.828125 0 11.671875 7.65625 \nQ 5.515625 15.328125 5.515625 27.984375 \nQ 5.515625 40.671875 11.671875 48.328125 \nQ 17.828125 56 27.875 56 \nQ 33.9375 56 38.28125 53.609375 \nQ 42.625 51.21875 45.40625 46.390625 \nL 45.40625 54.6875 \nL 54.390625 54.6875 \nz\n\" id=\"DejaVuSans-103\"/>\n       </defs>\n       <use xlink:href=\"#DejaVuSans-115\"/>\n       <use x=\"52.099609\" xlink:href=\"#DejaVuSans-113\"/>\n       <use x=\"115.576172\" xlink:href=\"#DejaVuSans-102\"/>\n       <use x=\"149.03125\" xlink:href=\"#DejaVuSans-116\"/>\n       <use x=\"188.240234\" xlink:href=\"#DejaVuSans-95\"/>\n       <use x=\"238.240234\" xlink:href=\"#DejaVuSans-108\"/>\n       <use x=\"266.023438\" xlink:href=\"#DejaVuSans-105\"/>\n       <use x=\"293.806641\" xlink:href=\"#DejaVuSans-118\"/>\n       <use x=\"352.986328\" xlink:href=\"#DejaVuSans-105\"/>\n       <use x=\"380.769531\" xlink:href=\"#DejaVuSans-110\"/>\n       <use x=\"444.148438\" xlink:href=\"#DejaVuSans-103\"/>\n      </g>\n     </g>\n    </g>\n    <g id=\"xtick_5\">\n     <g id=\"line2d_5\">\n      <g>\n       <use style=\"stroke:#000000;stroke-width:0.8;\" x=\"193.740378\" xlink:href=\"#m577f41848e\" y=\"505.999219\"/>\n      </g>\n     </g>\n     <g id=\"text_5\">\n      <!-- sqft_lot -->\n      <g transform=\"translate(166.164319 544.28096)rotate(-45)scale(0.1 -0.1)\">\n       <use xlink:href=\"#DejaVuSans-115\"/>\n       <use x=\"52.099609\" xlink:href=\"#DejaVuSans-113\"/>\n       <use x=\"115.576172\" xlink:href=\"#DejaVuSans-102\"/>\n       <use x=\"149.03125\" xlink:href=\"#DejaVuSans-116\"/>\n       <use x=\"188.240234\" xlink:href=\"#DejaVuSans-95\"/>\n       <use x=\"238.240234\" xlink:href=\"#DejaVuSans-108\"/>\n       <use x=\"266.023438\" xlink:href=\"#DejaVuSans-111\"/>\n       <use x=\"327.205078\" xlink:href=\"#DejaVuSans-116\"/>\n      </g>\n     </g>\n    </g>\n    <g id=\"xtick_6\">\n     <g id=\"line2d_6\">\n      <g>\n       <use style=\"stroke:#000000;stroke-width:0.8;\" x=\"217.235115\" xlink:href=\"#m577f41848e\" y=\"505.999219\"/>\n      </g>\n     </g>\n     <g id=\"text_6\">\n      <!-- floors -->\n      <g transform=\"translate(196.067211 538.069469)rotate(-45)scale(0.1 -0.1)\">\n       <use xlink:href=\"#DejaVuSans-102\"/>\n       <use x=\"35.205078\" xlink:href=\"#DejaVuSans-108\"/>\n       <use x=\"62.988281\" xlink:href=\"#DejaVuSans-111\"/>\n       <use x=\"124.169922\" xlink:href=\"#DejaVuSans-111\"/>\n       <use x=\"185.351562\" xlink:href=\"#DejaVuSans-114\"/>\n       <use x=\"226.464844\" xlink:href=\"#DejaVuSans-115\"/>\n      </g>\n     </g>\n    </g>\n    <g id=\"xtick_7\">\n     <g id=\"line2d_7\">\n      <g>\n       <use style=\"stroke:#000000;stroke-width:0.8;\" x=\"240.729852\" xlink:href=\"#m577f41848e\" y=\"505.999219\"/>\n      </g>\n     </g>\n     <g id=\"text_7\">\n      <!-- waterfront -->\n      <g transform=\"translate(202.296389 555.335028)rotate(-45)scale(0.1 -0.1)\">\n       <defs>\n        <path d=\"M 4.203125 54.6875 \nL 13.1875 54.6875 \nL 24.421875 12.015625 \nL 35.59375 54.6875 \nL 46.1875 54.6875 \nL 57.421875 12.015625 \nL 68.609375 54.6875 \nL 77.59375 54.6875 \nL 63.28125 0 \nL 52.6875 0 \nL 40.921875 44.828125 \nL 29.109375 0 \nL 18.5 0 \nz\n\" id=\"DejaVuSans-119\"/>\n       </defs>\n       <use xlink:href=\"#DejaVuSans-119\"/>\n       <use x=\"81.787109\" xlink:href=\"#DejaVuSans-97\"/>\n       <use x=\"143.066406\" xlink:href=\"#DejaVuSans-116\"/>\n       <use x=\"182.275391\" xlink:href=\"#DejaVuSans-101\"/>\n       <use x=\"243.798828\" xlink:href=\"#DejaVuSans-114\"/>\n       <use x=\"284.912109\" xlink:href=\"#DejaVuSans-102\"/>\n       <use x=\"320.117188\" xlink:href=\"#DejaVuSans-114\"/>\n       <use x=\"358.980469\" xlink:href=\"#DejaVuSans-111\"/>\n       <use x=\"420.162109\" xlink:href=\"#DejaVuSans-110\"/>\n       <use x=\"483.541016\" xlink:href=\"#DejaVuSans-116\"/>\n      </g>\n     </g>\n    </g>\n    <g id=\"xtick_8\">\n     <g id=\"line2d_8\">\n      <g>\n       <use style=\"stroke:#000000;stroke-width:0.8;\" x=\"264.224589\" xlink:href=\"#m577f41848e\" y=\"505.999219\"/>\n      </g>\n     </g>\n     <g id=\"text_8\">\n      <!-- view -->\n      <g transform=\"translate(246.470684 534.655469)rotate(-45)scale(0.1 -0.1)\">\n       <use xlink:href=\"#DejaVuSans-118\"/>\n       <use x=\"59.179688\" xlink:href=\"#DejaVuSans-105\"/>\n       <use x=\"86.962891\" xlink:href=\"#DejaVuSans-101\"/>\n       <use x=\"148.486328\" xlink:href=\"#DejaVuSans-119\"/>\n      </g>\n     </g>\n    </g>\n    <g id=\"xtick_9\">\n     <g id=\"line2d_9\">\n      <g>\n       <use style=\"stroke:#000000;stroke-width:0.8;\" x=\"287.719326\" xlink:href=\"#m577f41848e\" y=\"505.999219\"/>\n      </g>\n     </g>\n     <g id=\"text_9\">\n      <!-- condition -->\n      <g transform=\"translate(253.55502 551.06587)rotate(-45)scale(0.1 -0.1)\">\n       <use xlink:href=\"#DejaVuSans-99\"/>\n       <use x=\"54.980469\" xlink:href=\"#DejaVuSans-111\"/>\n       <use x=\"116.162109\" xlink:href=\"#DejaVuSans-110\"/>\n       <use x=\"179.541016\" xlink:href=\"#DejaVuSans-100\"/>\n       <use x=\"243.017578\" xlink:href=\"#DejaVuSans-105\"/>\n       <use x=\"270.800781\" xlink:href=\"#DejaVuSans-116\"/>\n       <use x=\"310.009766\" xlink:href=\"#DejaVuSans-105\"/>\n       <use x=\"337.792969\" xlink:href=\"#DejaVuSans-111\"/>\n       <use x=\"398.974609\" xlink:href=\"#DejaVuSans-110\"/>\n      </g>\n     </g>\n    </g>\n    <g id=\"xtick_10\">\n     <g id=\"line2d_10\">\n      <g>\n       <use style=\"stroke:#000000;stroke-width:0.8;\" x=\"311.214063\" xlink:href=\"#m577f41848e\" y=\"505.999219\"/>\n      </g>\n     </g>\n     <g id=\"text_10\">\n      <!-- grade -->\n      <g transform=\"translate(289.174428 538.941199)rotate(-45)scale(0.1 -0.1)\">\n       <use xlink:href=\"#DejaVuSans-103\"/>\n       <use x=\"63.476562\" xlink:href=\"#DejaVuSans-114\"/>\n       <use x=\"104.589844\" xlink:href=\"#DejaVuSans-97\"/>\n       <use x=\"165.869141\" xlink:href=\"#DejaVuSans-100\"/>\n       <use x=\"229.345703\" xlink:href=\"#DejaVuSans-101\"/>\n      </g>\n     </g>\n    </g>\n    <g id=\"xtick_11\">\n     <g id=\"line2d_11\">\n      <g>\n       <use style=\"stroke:#000000;stroke-width:0.8;\" x=\"334.708799\" xlink:href=\"#m577f41848e\" y=\"505.999219\"/>\n      </g>\n     </g>\n     <g id=\"text_11\">\n      <!-- sqft_above -->\n      <g transform=\"translate(294.510884 556.902816)rotate(-45)scale(0.1 -0.1)\">\n       <use xlink:href=\"#DejaVuSans-115\"/>\n       <use x=\"52.099609\" xlink:href=\"#DejaVuSans-113\"/>\n       <use x=\"115.576172\" xlink:href=\"#DejaVuSans-102\"/>\n       <use x=\"149.03125\" xlink:href=\"#DejaVuSans-116\"/>\n       <use x=\"188.240234\" xlink:href=\"#DejaVuSans-95\"/>\n       <use x=\"238.240234\" xlink:href=\"#DejaVuSans-97\"/>\n       <use x=\"299.519531\" xlink:href=\"#DejaVuSans-98\"/>\n       <use x=\"362.996094\" xlink:href=\"#DejaVuSans-111\"/>\n       <use x=\"424.177734\" xlink:href=\"#DejaVuSans-118\"/>\n       <use x=\"483.357422\" xlink:href=\"#DejaVuSans-101\"/>\n      </g>\n     </g>\n    </g>\n    <g id=\"xtick_12\">\n     <g id=\"line2d_12\">\n      <g>\n       <use style=\"stroke:#000000;stroke-width:0.8;\" x=\"358.203536\" xlink:href=\"#m577f41848e\" y=\"505.999219\"/>\n      </g>\n     </g>\n     <g id=\"text_12\">\n      <!-- sqft_basement -->\n      <g transform=\"translate(304.341887 570.56655)rotate(-45)scale(0.1 -0.1)\">\n       <use xlink:href=\"#DejaVuSans-115\"/>\n       <use x=\"52.099609\" xlink:href=\"#DejaVuSans-113\"/>\n       <use x=\"115.576172\" xlink:href=\"#DejaVuSans-102\"/>\n       <use x=\"149.03125\" xlink:href=\"#DejaVuSans-116\"/>\n       <use x=\"188.240234\" xlink:href=\"#DejaVuSans-95\"/>\n       <use x=\"238.240234\" xlink:href=\"#DejaVuSans-98\"/>\n       <use x=\"301.716797\" xlink:href=\"#DejaVuSans-97\"/>\n       <use x=\"362.996094\" xlink:href=\"#DejaVuSans-115\"/>\n       <use x=\"415.095703\" xlink:href=\"#DejaVuSans-101\"/>\n       <use x=\"476.619141\" xlink:href=\"#DejaVuSans-109\"/>\n       <use x=\"574.03125\" xlink:href=\"#DejaVuSans-101\"/>\n       <use x=\"635.554688\" xlink:href=\"#DejaVuSans-110\"/>\n       <use x=\"698.933594\" xlink:href=\"#DejaVuSans-116\"/>\n      </g>\n     </g>\n    </g>\n    <g id=\"xtick_13\">\n     <g id=\"line2d_13\">\n      <g>\n       <use style=\"stroke:#000000;stroke-width:0.8;\" x=\"381.698273\" xlink:href=\"#m577f41848e\" y=\"505.999219\"/>\n      </g>\n     </g>\n     <g id=\"text_13\">\n      <!-- yr_built -->\n      <g transform=\"translate(353.7322 544.670973)rotate(-45)scale(0.1 -0.1)\">\n       <defs>\n        <path d=\"M 32.171875 -5.078125 \nQ 28.375 -14.84375 24.75 -17.8125 \nQ 21.140625 -20.796875 15.09375 -20.796875 \nL 7.90625 -20.796875 \nL 7.90625 -13.28125 \nL 13.1875 -13.28125 \nQ 16.890625 -13.28125 18.9375 -11.515625 \nQ 21 -9.765625 23.484375 -3.21875 \nL 25.09375 0.875 \nL 2.984375 54.6875 \nL 12.5 54.6875 \nL 29.59375 11.921875 \nL 46.6875 54.6875 \nL 56.203125 54.6875 \nz\n\" id=\"DejaVuSans-121\"/>\n        <path d=\"M 8.5 21.578125 \nL 8.5 54.6875 \nL 17.484375 54.6875 \nL 17.484375 21.921875 \nQ 17.484375 14.15625 20.5 10.265625 \nQ 23.53125 6.390625 29.59375 6.390625 \nQ 36.859375 6.390625 41.078125 11.03125 \nQ 45.3125 15.671875 45.3125 23.6875 \nL 45.3125 54.6875 \nL 54.296875 54.6875 \nL 54.296875 0 \nL 45.3125 0 \nL 45.3125 8.40625 \nQ 42.046875 3.421875 37.71875 1 \nQ 33.40625 -1.421875 27.6875 -1.421875 \nQ 18.265625 -1.421875 13.375 4.4375 \nQ 8.5 10.296875 8.5 21.578125 \nz\nM 31.109375 56 \nz\n\" id=\"DejaVuSans-117\"/>\n       </defs>\n       <use xlink:href=\"#DejaVuSans-121\"/>\n       <use x=\"59.179688\" xlink:href=\"#DejaVuSans-114\"/>\n       <use x=\"100.292969\" xlink:href=\"#DejaVuSans-95\"/>\n       <use x=\"150.292969\" xlink:href=\"#DejaVuSans-98\"/>\n       <use x=\"213.769531\" xlink:href=\"#DejaVuSans-117\"/>\n       <use x=\"277.148438\" xlink:href=\"#DejaVuSans-105\"/>\n       <use x=\"304.931641\" xlink:href=\"#DejaVuSans-108\"/>\n       <use x=\"332.714844\" xlink:href=\"#DejaVuSans-116\"/>\n      </g>\n     </g>\n    </g>\n    <g id=\"xtick_14\">\n     <g id=\"line2d_14\">\n      <g>\n       <use style=\"stroke:#000000;stroke-width:0.8;\" x=\"405.19301\" xlink:href=\"#m577f41848e\" y=\"505.999219\"/>\n      </g>\n     </g>\n     <g id=\"text_14\">\n      <!-- yr_renovated -->\n      <g transform=\"translate(356.861157 565.036754)rotate(-45)scale(0.1 -0.1)\">\n       <use xlink:href=\"#DejaVuSans-121\"/>\n       <use x=\"59.179688\" xlink:href=\"#DejaVuSans-114\"/>\n       <use x=\"100.292969\" xlink:href=\"#DejaVuSans-95\"/>\n       <use x=\"150.292969\" xlink:href=\"#DejaVuSans-114\"/>\n       <use x=\"189.15625\" xlink:href=\"#DejaVuSans-101\"/>\n       <use x=\"250.679688\" xlink:href=\"#DejaVuSans-110\"/>\n       <use x=\"314.058594\" xlink:href=\"#DejaVuSans-111\"/>\n       <use x=\"375.240234\" xlink:href=\"#DejaVuSans-118\"/>\n       <use x=\"434.419922\" xlink:href=\"#DejaVuSans-97\"/>\n       <use x=\"495.699219\" xlink:href=\"#DejaVuSans-116\"/>\n       <use x=\"534.908203\" xlink:href=\"#DejaVuSans-101\"/>\n       <use x=\"596.431641\" xlink:href=\"#DejaVuSans-100\"/>\n      </g>\n     </g>\n    </g>\n    <g id=\"xtick_15\">\n     <g id=\"line2d_15\">\n      <g>\n       <use style=\"stroke:#000000;stroke-width:0.8;\" x=\"428.687747\" xlink:href=\"#m577f41848e\" y=\"505.999219\"/>\n      </g>\n     </g>\n     <g id=\"text_15\">\n      <!-- zipcode -->\n      <g transform=\"translate(399.997994 545.591317)rotate(-45)scale(0.1 -0.1)\">\n       <defs>\n        <path d=\"M 5.515625 54.6875 \nL 48.1875 54.6875 \nL 48.1875 46.484375 \nL 14.40625 7.171875 \nL 48.1875 7.171875 \nL 48.1875 0 \nL 4.296875 0 \nL 4.296875 8.203125 \nL 38.09375 47.515625 \nL 5.515625 47.515625 \nz\n\" id=\"DejaVuSans-122\"/>\n       </defs>\n       <use xlink:href=\"#DejaVuSans-122\"/>\n       <use x=\"52.490234\" xlink:href=\"#DejaVuSans-105\"/>\n       <use x=\"80.273438\" xlink:href=\"#DejaVuSans-112\"/>\n       <use x=\"143.75\" xlink:href=\"#DejaVuSans-99\"/>\n       <use x=\"198.730469\" xlink:href=\"#DejaVuSans-111\"/>\n       <use x=\"259.912109\" xlink:href=\"#DejaVuSans-100\"/>\n       <use x=\"323.388672\" xlink:href=\"#DejaVuSans-101\"/>\n      </g>\n     </g>\n    </g>\n    <g id=\"xtick_16\">\n     <g id=\"line2d_16\">\n      <g>\n       <use style=\"stroke:#000000;stroke-width:0.8;\" x=\"452.182484\" xlink:href=\"#m577f41848e\" y=\"505.999219\"/>\n      </g>\n     </g>\n     <g id=\"text_16\">\n      <!-- lat -->\n      <g transform=\"translate(441.642173 527.441875)rotate(-45)scale(0.1 -0.1)\">\n       <use xlink:href=\"#DejaVuSans-108\"/>\n       <use x=\"27.783203\" xlink:href=\"#DejaVuSans-97\"/>\n       <use x=\"89.0625\" xlink:href=\"#DejaVuSans-116\"/>\n      </g>\n     </g>\n    </g>\n    <g id=\"xtick_17\">\n     <g id=\"line2d_17\">\n      <g>\n       <use style=\"stroke:#000000;stroke-width:0.8;\" x=\"475.67722\" xlink:href=\"#m577f41848e\" y=\"505.999219\"/>\n      </g>\n     </g>\n     <g id=\"text_17\">\n      <!-- long -->\n      <g transform=\"translate(458.945306 533.633479)rotate(-45)scale(0.1 -0.1)\">\n       <use xlink:href=\"#DejaVuSans-108\"/>\n       <use x=\"27.783203\" xlink:href=\"#DejaVuSans-111\"/>\n       <use x=\"88.964844\" xlink:href=\"#DejaVuSans-110\"/>\n       <use x=\"152.34375\" xlink:href=\"#DejaVuSans-103\"/>\n      </g>\n     </g>\n    </g>\n    <g id=\"xtick_18\">\n     <g id=\"line2d_18\">\n      <g>\n       <use style=\"stroke:#000000;stroke-width:0.8;\" x=\"499.171957\" xlink:href=\"#m577f41848e\" y=\"505.999219\"/>\n      </g>\n     </g>\n     <g id=\"text_18\">\n      <!-- sqft_living15 -->\n      <g transform=\"translate(452.61229 563.264567)rotate(-45)scale(0.1 -0.1)\">\n       <defs>\n        <path d=\"M 12.40625 8.296875 \nL 28.515625 8.296875 \nL 28.515625 63.921875 \nL 10.984375 60.40625 \nL 10.984375 69.390625 \nL 28.421875 72.90625 \nL 38.28125 72.90625 \nL 38.28125 8.296875 \nL 54.390625 8.296875 \nL 54.390625 0 \nL 12.40625 0 \nz\n\" id=\"DejaVuSans-49\"/>\n        <path d=\"M 10.796875 72.90625 \nL 49.515625 72.90625 \nL 49.515625 64.59375 \nL 19.828125 64.59375 \nL 19.828125 46.734375 \nQ 21.96875 47.46875 24.109375 47.828125 \nQ 26.265625 48.1875 28.421875 48.1875 \nQ 40.625 48.1875 47.75 41.5 \nQ 54.890625 34.8125 54.890625 23.390625 \nQ 54.890625 11.625 47.5625 5.09375 \nQ 40.234375 -1.421875 26.90625 -1.421875 \nQ 22.3125 -1.421875 17.546875 -0.640625 \nQ 12.796875 0.140625 7.71875 1.703125 \nL 7.71875 11.625 \nQ 12.109375 9.234375 16.796875 8.0625 \nQ 21.484375 6.890625 26.703125 6.890625 \nQ 35.15625 6.890625 40.078125 11.328125 \nQ 45.015625 15.765625 45.015625 23.390625 \nQ 45.015625 31 40.078125 35.4375 \nQ 35.15625 39.890625 26.703125 39.890625 \nQ 22.75 39.890625 18.8125 39.015625 \nQ 14.890625 38.140625 10.796875 36.28125 \nz\n\" id=\"DejaVuSans-53\"/>\n       </defs>\n       <use xlink:href=\"#DejaVuSans-115\"/>\n       <use x=\"52.099609\" xlink:href=\"#DejaVuSans-113\"/>\n       <use x=\"115.576172\" xlink:href=\"#DejaVuSans-102\"/>\n       <use x=\"149.03125\" xlink:href=\"#DejaVuSans-116\"/>\n       <use x=\"188.240234\" xlink:href=\"#DejaVuSans-95\"/>\n       <use x=\"238.240234\" xlink:href=\"#DejaVuSans-108\"/>\n       <use x=\"266.023438\" xlink:href=\"#DejaVuSans-105\"/>\n       <use x=\"293.806641\" xlink:href=\"#DejaVuSans-118\"/>\n       <use x=\"352.986328\" xlink:href=\"#DejaVuSans-105\"/>\n       <use x=\"380.769531\" xlink:href=\"#DejaVuSans-110\"/>\n       <use x=\"444.148438\" xlink:href=\"#DejaVuSans-103\"/>\n       <use x=\"507.625\" xlink:href=\"#DejaVuSans-49\"/>\n       <use x=\"571.248047\" xlink:href=\"#DejaVuSans-53\"/>\n      </g>\n     </g>\n    </g>\n    <g id=\"xtick_19\">\n     <g id=\"line2d_19\">\n      <g>\n       <use style=\"stroke:#000000;stroke-width:0.8;\" x=\"522.666694\" xlink:href=\"#m577f41848e\" y=\"505.999219\"/>\n      </g>\n     </g>\n     <g id=\"text_19\">\n      <!-- sqft_lot15 -->\n      <g transform=\"translate(486.092701 553.278894)rotate(-45)scale(0.1 -0.1)\">\n       <use xlink:href=\"#DejaVuSans-115\"/>\n       <use x=\"52.099609\" xlink:href=\"#DejaVuSans-113\"/>\n       <use x=\"115.576172\" xlink:href=\"#DejaVuSans-102\"/>\n       <use x=\"149.03125\" xlink:href=\"#DejaVuSans-116\"/>\n       <use x=\"188.240234\" xlink:href=\"#DejaVuSans-95\"/>\n       <use x=\"238.240234\" xlink:href=\"#DejaVuSans-108\"/>\n       <use x=\"266.023438\" xlink:href=\"#DejaVuSans-111\"/>\n       <use x=\"327.205078\" xlink:href=\"#DejaVuSans-116\"/>\n       <use x=\"366.414062\" xlink:href=\"#DejaVuSans-49\"/>\n       <use x=\"430.037109\" xlink:href=\"#DejaVuSans-53\"/>\n      </g>\n     </g>\n    </g>\n   </g>\n   <g id=\"matplotlib.axis_2\">\n    <g id=\"ytick_1\">\n     <g id=\"line2d_20\">\n      <defs>\n       <path d=\"M 0 0 \nL -3.5 0 \n\" id=\"mef7e783740\" style=\"stroke:#000000;stroke-width:0.8;\"/>\n      </defs>\n      <g>\n       <use style=\"stroke:#000000;stroke-width:0.8;\" x=\"88.014063\" xlink:href=\"#mef7e783740\" y=\"71.346587\"/>\n      </g>\n     </g>\n     <g id=\"text_20\">\n      <!-- price -->\n      <g transform=\"translate(56.125 75.145806)scale(0.1 -0.1)\">\n       <use xlink:href=\"#DejaVuSans-112\"/>\n       <use x=\"63.476562\" xlink:href=\"#DejaVuSans-114\"/>\n       <use x=\"104.589844\" xlink:href=\"#DejaVuSans-105\"/>\n       <use x=\"132.373047\" xlink:href=\"#DejaVuSans-99\"/>\n       <use x=\"187.353516\" xlink:href=\"#DejaVuSans-101\"/>\n      </g>\n     </g>\n    </g>\n    <g id=\"ytick_2\">\n     <g id=\"line2d_21\">\n      <g>\n       <use style=\"stroke:#000000;stroke-width:0.8;\" x=\"88.014063\" xlink:href=\"#mef7e783740\" y=\"94.841324\"/>\n      </g>\n     </g>\n     <g id=\"text_21\">\n      <!-- bedrooms -->\n      <g transform=\"translate(31.090625 98.640543)scale(0.1 -0.1)\">\n       <use xlink:href=\"#DejaVuSans-98\"/>\n       <use x=\"63.476562\" xlink:href=\"#DejaVuSans-101\"/>\n       <use x=\"125\" xlink:href=\"#DejaVuSans-100\"/>\n       <use x=\"188.476562\" xlink:href=\"#DejaVuSans-114\"/>\n       <use x=\"227.339844\" xlink:href=\"#DejaVuSans-111\"/>\n       <use x=\"288.521484\" xlink:href=\"#DejaVuSans-111\"/>\n       <use x=\"349.703125\" xlink:href=\"#DejaVuSans-109\"/>\n       <use x=\"447.115234\" xlink:href=\"#DejaVuSans-115\"/>\n      </g>\n     </g>\n    </g>\n    <g id=\"ytick_3\">\n     <g id=\"line2d_22\">\n      <g>\n       <use style=\"stroke:#000000;stroke-width:0.8;\" x=\"88.014063\" xlink:href=\"#mef7e783740\" y=\"118.336061\"/>\n      </g>\n     </g>\n     <g id=\"text_22\">\n      <!-- bathrooms -->\n      <g transform=\"translate(27.20625 122.13528)scale(0.1 -0.1)\">\n       <use xlink:href=\"#DejaVuSans-98\"/>\n       <use x=\"63.476562\" xlink:href=\"#DejaVuSans-97\"/>\n       <use x=\"124.755859\" xlink:href=\"#DejaVuSans-116\"/>\n       <use x=\"163.964844\" xlink:href=\"#DejaVuSans-104\"/>\n       <use x=\"227.34375\" xlink:href=\"#DejaVuSans-114\"/>\n       <use x=\"266.207031\" xlink:href=\"#DejaVuSans-111\"/>\n       <use x=\"327.388672\" xlink:href=\"#DejaVuSans-111\"/>\n       <use x=\"388.570312\" xlink:href=\"#DejaVuSans-109\"/>\n       <use x=\"485.982422\" xlink:href=\"#DejaVuSans-115\"/>\n      </g>\n     </g>\n    </g>\n    <g id=\"ytick_4\">\n     <g id=\"line2d_23\">\n      <g>\n       <use style=\"stroke:#000000;stroke-width:0.8;\" x=\"88.014063\" xlink:href=\"#mef7e783740\" y=\"141.830798\"/>\n      </g>\n     </g>\n     <g id=\"text_23\">\n      <!-- sqft_living -->\n      <g transform=\"translate(30.251563 145.630016)scale(0.1 -0.1)\">\n       <use xlink:href=\"#DejaVuSans-115\"/>\n       <use x=\"52.099609\" xlink:href=\"#DejaVuSans-113\"/>\n       <use x=\"115.576172\" xlink:href=\"#DejaVuSans-102\"/>\n       <use x=\"149.03125\" xlink:href=\"#DejaVuSans-116\"/>\n       <use x=\"188.240234\" xlink:href=\"#DejaVuSans-95\"/>\n       <use x=\"238.240234\" xlink:href=\"#DejaVuSans-108\"/>\n       <use x=\"266.023438\" xlink:href=\"#DejaVuSans-105\"/>\n       <use x=\"293.806641\" xlink:href=\"#DejaVuSans-118\"/>\n       <use x=\"352.986328\" xlink:href=\"#DejaVuSans-105\"/>\n       <use x=\"380.769531\" xlink:href=\"#DejaVuSans-110\"/>\n       <use x=\"444.148438\" xlink:href=\"#DejaVuSans-103\"/>\n      </g>\n     </g>\n    </g>\n    <g id=\"ytick_5\">\n     <g id=\"line2d_24\">\n      <g>\n       <use style=\"stroke:#000000;stroke-width:0.8;\" x=\"88.014063\" xlink:href=\"#mef7e783740\" y=\"165.325535\"/>\n      </g>\n     </g>\n     <g id=\"text_24\">\n      <!-- sqft_lot -->\n      <g transform=\"translate(44.373438 169.124753)scale(0.1 -0.1)\">\n       <use xlink:href=\"#DejaVuSans-115\"/>\n       <use x=\"52.099609\" xlink:href=\"#DejaVuSans-113\"/>\n       <use x=\"115.576172\" xlink:href=\"#DejaVuSans-102\"/>\n       <use x=\"149.03125\" xlink:href=\"#DejaVuSans-116\"/>\n       <use x=\"188.240234\" xlink:href=\"#DejaVuSans-95\"/>\n       <use x=\"238.240234\" xlink:href=\"#DejaVuSans-108\"/>\n       <use x=\"266.023438\" xlink:href=\"#DejaVuSans-111\"/>\n       <use x=\"327.205078\" xlink:href=\"#DejaVuSans-116\"/>\n      </g>\n     </g>\n    </g>\n    <g id=\"ytick_6\">\n     <g id=\"line2d_25\">\n      <g>\n       <use style=\"stroke:#000000;stroke-width:0.8;\" x=\"88.014063\" xlink:href=\"#mef7e783740\" y=\"188.820271\"/>\n      </g>\n     </g>\n     <g id=\"text_25\">\n      <!-- floors -->\n      <g transform=\"translate(53.157813 192.61949)scale(0.1 -0.1)\">\n       <use xlink:href=\"#DejaVuSans-102\"/>\n       <use x=\"35.205078\" xlink:href=\"#DejaVuSans-108\"/>\n       <use x=\"62.988281\" xlink:href=\"#DejaVuSans-111\"/>\n       <use x=\"124.169922\" xlink:href=\"#DejaVuSans-111\"/>\n       <use x=\"185.351562\" xlink:href=\"#DejaVuSans-114\"/>\n       <use x=\"226.464844\" xlink:href=\"#DejaVuSans-115\"/>\n      </g>\n     </g>\n    </g>\n    <g id=\"ytick_7\">\n     <g id=\"line2d_26\">\n      <g>\n       <use style=\"stroke:#000000;stroke-width:0.8;\" x=\"88.014063\" xlink:href=\"#mef7e783740\" y=\"212.315008\"/>\n      </g>\n     </g>\n     <g id=\"text_26\">\n      <!-- waterfront -->\n      <g transform=\"translate(28.740625 216.114227)scale(0.1 -0.1)\">\n       <use xlink:href=\"#DejaVuSans-119\"/>\n       <use x=\"81.787109\" xlink:href=\"#DejaVuSans-97\"/>\n       <use x=\"143.066406\" xlink:href=\"#DejaVuSans-116\"/>\n       <use x=\"182.275391\" xlink:href=\"#DejaVuSans-101\"/>\n       <use x=\"243.798828\" xlink:href=\"#DejaVuSans-114\"/>\n       <use x=\"284.912109\" xlink:href=\"#DejaVuSans-102\"/>\n       <use x=\"320.117188\" xlink:href=\"#DejaVuSans-114\"/>\n       <use x=\"358.980469\" xlink:href=\"#DejaVuSans-111\"/>\n       <use x=\"420.162109\" xlink:href=\"#DejaVuSans-110\"/>\n       <use x=\"483.541016\" xlink:href=\"#DejaVuSans-116\"/>\n      </g>\n     </g>\n    </g>\n    <g id=\"ytick_8\">\n     <g id=\"line2d_27\">\n      <g>\n       <use style=\"stroke:#000000;stroke-width:0.8;\" x=\"88.014063\" xlink:href=\"#mef7e783740\" y=\"235.809745\"/>\n      </g>\n     </g>\n     <g id=\"text_27\">\n      <!-- view -->\n      <g transform=\"translate(57.985938 239.608964)scale(0.1 -0.1)\">\n       <use xlink:href=\"#DejaVuSans-118\"/>\n       <use x=\"59.179688\" xlink:href=\"#DejaVuSans-105\"/>\n       <use x=\"86.962891\" xlink:href=\"#DejaVuSans-101\"/>\n       <use x=\"148.486328\" xlink:href=\"#DejaVuSans-119\"/>\n      </g>\n     </g>\n    </g>\n    <g id=\"ytick_9\">\n     <g id=\"line2d_28\">\n      <g>\n       <use style=\"stroke:#000000;stroke-width:0.8;\" x=\"88.014063\" xlink:href=\"#mef7e783740\" y=\"259.304482\"/>\n      </g>\n     </g>\n     <g id=\"text_28\">\n      <!-- condition -->\n      <g transform=\"translate(34.778125 263.103701)scale(0.1 -0.1)\">\n       <use xlink:href=\"#DejaVuSans-99\"/>\n       <use x=\"54.980469\" xlink:href=\"#DejaVuSans-111\"/>\n       <use x=\"116.162109\" xlink:href=\"#DejaVuSans-110\"/>\n       <use x=\"179.541016\" xlink:href=\"#DejaVuSans-100\"/>\n       <use x=\"243.017578\" xlink:href=\"#DejaVuSans-105\"/>\n       <use x=\"270.800781\" xlink:href=\"#DejaVuSans-116\"/>\n       <use x=\"310.009766\" xlink:href=\"#DejaVuSans-105\"/>\n       <use x=\"337.792969\" xlink:href=\"#DejaVuSans-111\"/>\n       <use x=\"398.974609\" xlink:href=\"#DejaVuSans-110\"/>\n      </g>\n     </g>\n    </g>\n    <g id=\"ytick_10\">\n     <g id=\"line2d_29\">\n      <g>\n       <use style=\"stroke:#000000;stroke-width:0.8;\" x=\"88.014063\" xlink:href=\"#mef7e783740\" y=\"282.799219\"/>\n      </g>\n     </g>\n     <g id=\"text_29\">\n      <!-- grade -->\n      <g transform=\"translate(51.925 286.598438)scale(0.1 -0.1)\">\n       <use xlink:href=\"#DejaVuSans-103\"/>\n       <use x=\"63.476562\" xlink:href=\"#DejaVuSans-114\"/>\n       <use x=\"104.589844\" xlink:href=\"#DejaVuSans-97\"/>\n       <use x=\"165.869141\" xlink:href=\"#DejaVuSans-100\"/>\n       <use x=\"229.345703\" xlink:href=\"#DejaVuSans-101\"/>\n      </g>\n     </g>\n    </g>\n    <g id=\"ytick_11\">\n     <g id=\"line2d_30\">\n      <g>\n       <use style=\"stroke:#000000;stroke-width:0.8;\" x=\"88.014063\" xlink:href=\"#mef7e783740\" y=\"306.293956\"/>\n      </g>\n     </g>\n     <g id=\"text_30\">\n      <!-- sqft_above -->\n      <g transform=\"translate(26.523438 310.093174)scale(0.1 -0.1)\">\n       <use xlink:href=\"#DejaVuSans-115\"/>\n       <use x=\"52.099609\" xlink:href=\"#DejaVuSans-113\"/>\n       <use x=\"115.576172\" xlink:href=\"#DejaVuSans-102\"/>\n       <use x=\"149.03125\" xlink:href=\"#DejaVuSans-116\"/>\n       <use x=\"188.240234\" xlink:href=\"#DejaVuSans-95\"/>\n       <use x=\"238.240234\" xlink:href=\"#DejaVuSans-97\"/>\n       <use x=\"299.519531\" xlink:href=\"#DejaVuSans-98\"/>\n       <use x=\"362.996094\" xlink:href=\"#DejaVuSans-111\"/>\n       <use x=\"424.177734\" xlink:href=\"#DejaVuSans-118\"/>\n       <use x=\"483.357422\" xlink:href=\"#DejaVuSans-101\"/>\n      </g>\n     </g>\n    </g>\n    <g id=\"ytick_12\">\n     <g id=\"line2d_31\">\n      <g>\n       <use style=\"stroke:#000000;stroke-width:0.8;\" x=\"88.014063\" xlink:href=\"#mef7e783740\" y=\"329.788692\"/>\n      </g>\n     </g>\n     <g id=\"text_31\">\n      <!-- sqft_basement -->\n      <g transform=\"translate(7.2 333.587911)scale(0.1 -0.1)\">\n       <use xlink:href=\"#DejaVuSans-115\"/>\n       <use x=\"52.099609\" xlink:href=\"#DejaVuSans-113\"/>\n       <use x=\"115.576172\" xlink:href=\"#DejaVuSans-102\"/>\n       <use x=\"149.03125\" xlink:href=\"#DejaVuSans-116\"/>\n       <use x=\"188.240234\" xlink:href=\"#DejaVuSans-95\"/>\n       <use x=\"238.240234\" xlink:href=\"#DejaVuSans-98\"/>\n       <use x=\"301.716797\" xlink:href=\"#DejaVuSans-97\"/>\n       <use x=\"362.996094\" xlink:href=\"#DejaVuSans-115\"/>\n       <use x=\"415.095703\" xlink:href=\"#DejaVuSans-101\"/>\n       <use x=\"476.619141\" xlink:href=\"#DejaVuSans-109\"/>\n       <use x=\"574.03125\" xlink:href=\"#DejaVuSans-101\"/>\n       <use x=\"635.554688\" xlink:href=\"#DejaVuSans-110\"/>\n       <use x=\"698.933594\" xlink:href=\"#DejaVuSans-116\"/>\n      </g>\n     </g>\n    </g>\n    <g id=\"ytick_13\">\n     <g id=\"line2d_32\">\n      <g>\n       <use style=\"stroke:#000000;stroke-width:0.8;\" x=\"88.014063\" xlink:href=\"#mef7e783740\" y=\"353.283429\"/>\n      </g>\n     </g>\n     <g id=\"text_32\">\n      <!-- yr_built -->\n      <g transform=\"translate(43.821875 357.082648)scale(0.1 -0.1)\">\n       <use xlink:href=\"#DejaVuSans-121\"/>\n       <use x=\"59.179688\" xlink:href=\"#DejaVuSans-114\"/>\n       <use x=\"100.292969\" xlink:href=\"#DejaVuSans-95\"/>\n       <use x=\"150.292969\" xlink:href=\"#DejaVuSans-98\"/>\n       <use x=\"213.769531\" xlink:href=\"#DejaVuSans-117\"/>\n       <use x=\"277.148438\" xlink:href=\"#DejaVuSans-105\"/>\n       <use x=\"304.931641\" xlink:href=\"#DejaVuSans-108\"/>\n       <use x=\"332.714844\" xlink:href=\"#DejaVuSans-116\"/>\n      </g>\n     </g>\n    </g>\n    <g id=\"ytick_14\">\n     <g id=\"line2d_33\">\n      <g>\n       <use style=\"stroke:#000000;stroke-width:0.8;\" x=\"88.014063\" xlink:href=\"#mef7e783740\" y=\"376.778166\"/>\n      </g>\n     </g>\n     <g id=\"text_33\">\n      <!-- yr_renovated -->\n      <g transform=\"translate(15.020313 380.577385)scale(0.1 -0.1)\">\n       <use xlink:href=\"#DejaVuSans-121\"/>\n       <use x=\"59.179688\" xlink:href=\"#DejaVuSans-114\"/>\n       <use x=\"100.292969\" xlink:href=\"#DejaVuSans-95\"/>\n       <use x=\"150.292969\" xlink:href=\"#DejaVuSans-114\"/>\n       <use x=\"189.15625\" xlink:href=\"#DejaVuSans-101\"/>\n       <use x=\"250.679688\" xlink:href=\"#DejaVuSans-110\"/>\n       <use x=\"314.058594\" xlink:href=\"#DejaVuSans-111\"/>\n       <use x=\"375.240234\" xlink:href=\"#DejaVuSans-118\"/>\n       <use x=\"434.419922\" xlink:href=\"#DejaVuSans-97\"/>\n       <use x=\"495.699219\" xlink:href=\"#DejaVuSans-116\"/>\n       <use x=\"534.908203\" xlink:href=\"#DejaVuSans-101\"/>\n       <use x=\"596.431641\" xlink:href=\"#DejaVuSans-100\"/>\n      </g>\n     </g>\n    </g>\n    <g id=\"ytick_15\">\n     <g id=\"line2d_34\">\n      <g>\n       <use style=\"stroke:#000000;stroke-width:0.8;\" x=\"88.014063\" xlink:href=\"#mef7e783740\" y=\"400.272903\"/>\n      </g>\n     </g>\n     <g id=\"text_34\">\n      <!-- zipcode -->\n      <g transform=\"translate(42.520313 404.072122)scale(0.1 -0.1)\">\n       <use xlink:href=\"#DejaVuSans-122\"/>\n       <use x=\"52.490234\" xlink:href=\"#DejaVuSans-105\"/>\n       <use x=\"80.273438\" xlink:href=\"#DejaVuSans-112\"/>\n       <use x=\"143.75\" xlink:href=\"#DejaVuSans-99\"/>\n       <use x=\"198.730469\" xlink:href=\"#DejaVuSans-111\"/>\n       <use x=\"259.912109\" xlink:href=\"#DejaVuSans-100\"/>\n       <use x=\"323.388672\" xlink:href=\"#DejaVuSans-101\"/>\n      </g>\n     </g>\n    </g>\n    <g id=\"ytick_16\">\n     <g id=\"line2d_35\">\n      <g>\n       <use style=\"stroke:#000000;stroke-width:0.8;\" x=\"88.014063\" xlink:href=\"#mef7e783740\" y=\"423.76764\"/>\n      </g>\n     </g>\n     <g id=\"text_35\">\n      <!-- lat -->\n      <g transform=\"translate(68.1875 427.566859)scale(0.1 -0.1)\">\n       <use xlink:href=\"#DejaVuSans-108\"/>\n       <use x=\"27.783203\" xlink:href=\"#DejaVuSans-97\"/>\n       <use x=\"89.0625\" xlink:href=\"#DejaVuSans-116\"/>\n      </g>\n     </g>\n    </g>\n    <g id=\"ytick_17\">\n     <g id=\"line2d_36\">\n      <g>\n       <use style=\"stroke:#000000;stroke-width:0.8;\" x=\"88.014063\" xlink:href=\"#mef7e783740\" y=\"447.262377\"/>\n      </g>\n     </g>\n     <g id=\"text_36\">\n      <!-- long -->\n      <g transform=\"translate(59.43125 451.061595)scale(0.1 -0.1)\">\n       <use xlink:href=\"#DejaVuSans-108\"/>\n       <use x=\"27.783203\" xlink:href=\"#DejaVuSans-111\"/>\n       <use x=\"88.964844\" xlink:href=\"#DejaVuSans-110\"/>\n       <use x=\"152.34375\" xlink:href=\"#DejaVuSans-103\"/>\n      </g>\n     </g>\n    </g>\n    <g id=\"ytick_18\">\n     <g id=\"line2d_37\">\n      <g>\n       <use style=\"stroke:#000000;stroke-width:0.8;\" x=\"88.014063\" xlink:href=\"#mef7e783740\" y=\"470.757113\"/>\n      </g>\n     </g>\n     <g id=\"text_37\">\n      <!-- sqft_living15 -->\n      <g transform=\"translate(17.526563 474.556332)scale(0.1 -0.1)\">\n       <use xlink:href=\"#DejaVuSans-115\"/>\n       <use x=\"52.099609\" xlink:href=\"#DejaVuSans-113\"/>\n       <use x=\"115.576172\" xlink:href=\"#DejaVuSans-102\"/>\n       <use x=\"149.03125\" xlink:href=\"#DejaVuSans-116\"/>\n       <use x=\"188.240234\" xlink:href=\"#DejaVuSans-95\"/>\n       <use x=\"238.240234\" xlink:href=\"#DejaVuSans-108\"/>\n       <use x=\"266.023438\" xlink:href=\"#DejaVuSans-105\"/>\n       <use x=\"293.806641\" xlink:href=\"#DejaVuSans-118\"/>\n       <use x=\"352.986328\" xlink:href=\"#DejaVuSans-105\"/>\n       <use x=\"380.769531\" xlink:href=\"#DejaVuSans-110\"/>\n       <use x=\"444.148438\" xlink:href=\"#DejaVuSans-103\"/>\n       <use x=\"507.625\" xlink:href=\"#DejaVuSans-49\"/>\n       <use x=\"571.248047\" xlink:href=\"#DejaVuSans-53\"/>\n      </g>\n     </g>\n    </g>\n    <g id=\"ytick_19\">\n     <g id=\"line2d_38\">\n      <g>\n       <use style=\"stroke:#000000;stroke-width:0.8;\" x=\"88.014063\" xlink:href=\"#mef7e783740\" y=\"494.25185\"/>\n      </g>\n     </g>\n     <g id=\"text_38\">\n      <!-- sqft_lot15 -->\n      <g transform=\"translate(31.648438 498.051069)scale(0.1 -0.1)\">\n       <use xlink:href=\"#DejaVuSans-115\"/>\n       <use x=\"52.099609\" xlink:href=\"#DejaVuSans-113\"/>\n       <use x=\"115.576172\" xlink:href=\"#DejaVuSans-102\"/>\n       <use x=\"149.03125\" xlink:href=\"#DejaVuSans-116\"/>\n       <use x=\"188.240234\" xlink:href=\"#DejaVuSans-95\"/>\n       <use x=\"238.240234\" xlink:href=\"#DejaVuSans-108\"/>\n       <use x=\"266.023438\" xlink:href=\"#DejaVuSans-111\"/>\n       <use x=\"327.205078\" xlink:href=\"#DejaVuSans-116\"/>\n       <use x=\"366.414062\" xlink:href=\"#DejaVuSans-49\"/>\n       <use x=\"430.037109\" xlink:href=\"#DejaVuSans-53\"/>\n      </g>\n     </g>\n    </g>\n   </g>\n   <g id=\"text_39\">\n    <!-- Correlation matrix -->\n    <g transform=\"translate(256.666563 53.599219)scale(0.12 -0.12)\">\n     <defs>\n      <path d=\"M 64.40625 67.28125 \nL 64.40625 56.890625 \nQ 59.421875 61.53125 53.78125 63.8125 \nQ 48.140625 66.109375 41.796875 66.109375 \nQ 29.296875 66.109375 22.65625 58.46875 \nQ 16.015625 50.828125 16.015625 36.375 \nQ 16.015625 21.96875 22.65625 14.328125 \nQ 29.296875 6.6875 41.796875 6.6875 \nQ 48.140625 6.6875 53.78125 8.984375 \nQ 59.421875 11.28125 64.40625 15.921875 \nL 64.40625 5.609375 \nQ 59.234375 2.09375 53.4375 0.328125 \nQ 47.65625 -1.421875 41.21875 -1.421875 \nQ 24.65625 -1.421875 15.125 8.703125 \nQ 5.609375 18.84375 5.609375 36.375 \nQ 5.609375 53.953125 15.125 64.078125 \nQ 24.65625 74.21875 41.21875 74.21875 \nQ 47.75 74.21875 53.53125 72.484375 \nQ 59.328125 70.75 64.40625 67.28125 \nz\n\" id=\"DejaVuSans-67\"/>\n      <path id=\"DejaVuSans-32\"/>\n      <path d=\"M 54.890625 54.6875 \nL 35.109375 28.078125 \nL 55.90625 0 \nL 45.3125 0 \nL 29.390625 21.484375 \nL 13.484375 0 \nL 2.875 0 \nL 24.125 28.609375 \nL 4.6875 54.6875 \nL 15.28125 54.6875 \nL 29.78125 35.203125 \nL 44.28125 54.6875 \nz\n\" id=\"DejaVuSans-120\"/>\n     </defs>\n     <use xlink:href=\"#DejaVuSans-67\"/>\n     <use x=\"69.824219\" xlink:href=\"#DejaVuSans-111\"/>\n     <use x=\"131.005859\" xlink:href=\"#DejaVuSans-114\"/>\n     <use x=\"170.369141\" xlink:href=\"#DejaVuSans-114\"/>\n     <use x=\"209.232422\" xlink:href=\"#DejaVuSans-101\"/>\n     <use x=\"270.755859\" xlink:href=\"#DejaVuSans-108\"/>\n     <use x=\"298.539062\" xlink:href=\"#DejaVuSans-97\"/>\n     <use x=\"359.818359\" xlink:href=\"#DejaVuSans-116\"/>\n     <use x=\"399.027344\" xlink:href=\"#DejaVuSans-105\"/>\n     <use x=\"426.810547\" xlink:href=\"#DejaVuSans-111\"/>\n     <use x=\"487.992188\" xlink:href=\"#DejaVuSans-110\"/>\n     <use x=\"551.371094\" xlink:href=\"#DejaVuSans-32\"/>\n     <use x=\"583.158203\" xlink:href=\"#DejaVuSans-109\"/>\n     <use x=\"680.570312\" xlink:href=\"#DejaVuSans-97\"/>\n     <use x=\"741.849609\" xlink:href=\"#DejaVuSans-116\"/>\n     <use x=\"781.058594\" xlink:href=\"#DejaVuSans-114\"/>\n     <use x=\"822.171875\" xlink:href=\"#DejaVuSans-105\"/>\n     <use x=\"849.955078\" xlink:href=\"#DejaVuSans-120\"/>\n    </g>\n   </g>\n  </g>\n  <g id=\"axes_2\">\n   <g id=\"patch_3\">\n    <path clip-path=\"url(#p85f6c7587c)\" d=\"M 562.314063 554.599219 \nL 562.314063 552.475781 \nL 562.314063 13.122656 \nL 562.314063 10.999219 \nL 589.494063 10.999219 \nL 589.494063 13.122656 \nL 589.494063 552.475781 \nL 589.494063 554.599219 \nz\n\" style=\"fill:#ffffff;stroke:#ffffff;stroke-linejoin:miter;stroke-width:0.01;\"/>\n   </g>\n   <image height=\"543\" id=\"imagefd3e0fe181\" transform=\"scale(1 -1)translate(0 -543)\" width=\"27\" x=\"562\" xlink:href=\"data:image/png;base64,\niVBORw0KGgoAAAANSUhEUgAAABsAAAIfCAYAAACB2qdqAAACs0lEQVR4nO3d0W3DMBCDYSvRVN2jE3cu293ALyGE6AO5wA/ZdzxKMpLx9/tzH4v0WgWyYfN4jWWwxSsb6srGWMdzS3/xO3u9l8HqIBHNQ+0ztxoLiwhu6sHGAtauXJhrxLSDtM8+1zxefYybweZQ31lPCyJa7SDo8HRhc6ixoHYVkZuIXZgb5XpaEFEdpLDvgcFHE40FCXV/VtijaAdBq9E9uyosou5iImosiMg1YhcGxwLWQXpjEVHT1X6wnhZE1FhQ2KPcO0/XQWpXEbl7ahfmZv3G74jc0m+U2w8m29WbtSv1nbkw167mYPuM3Z/1q4nCHiWXfu0qILf0Gwsigvus8Tuh2tV+sNpVRO2ziLqL2Q82x7vv7HPBRszalQtzjbiXCBHVGwv7HpibQdzSr11F5DZ1TwsicuO36yCFRURnfXTEwHbVWLAdDI4FHZ4JuXblwuCmZkeM22dulHNh7nlj7Soi2a7U4enC4D672D67lv11qFz6Lmye17UMtnZlt1r681q4tMUrU6vRhbkjZt5unx3syhaWo9vULgwenq5dnW3q3WBwNdZBEoJL/+xj3A3mlj5sV2zWd9+ZC3MdpMdJEc3r7uHmZjDXiOHrEflKC63GwiKChydb+vNsLNgNBg9PuM/YWMC6fmERwU3troy983Q/PnFh7bOIWiARuY+x7ywi+NiWtat5NxbsBnMdpE0dkVsg7ohxYe47q4NE5Ja+C3MLBG5q14i7i9kOVgeJqA6yH8wtfRcGNzVbje4HQy7Mvad2P4VqU0fkGrELc5sa7rPuYraDuSc87saiwzOi2tV+MLep4T5zV1YHKexJboHAK2PtyoU1FkRUB4nIPeEpLCL3RxJou1oHW/3Dg2g1urAOz4haIBG5j7E/qRgRPDzdwMPewLuwDs+I3OHp2pUL+wfKeRwrznVwPwAAAABJRU5ErkJggg==\" y=\"-11\"/>\n   <g id=\"matplotlib.axis_3\"/>\n   <g id=\"matplotlib.axis_4\">\n    <g id=\"ytick_20\">\n     <g id=\"line2d_39\">\n      <defs>\n       <path d=\"M 0 0 \nL 3.5 0 \n\" id=\"m72ffa12361\" style=\"stroke:#000000;stroke-width:0.8;\"/>\n      </defs>\n      <g>\n       <use style=\"stroke:#000000;stroke-width:0.8;\" x=\"589.494063\" xlink:href=\"#m72ffa12361\" y=\"554.599219\"/>\n      </g>\n     </g>\n     <g id=\"text_40\">\n      <!-- −1.00 -->\n      <g transform=\"translate(596.494063 558.398437)scale(0.1 -0.1)\">\n       <defs>\n        <path d=\"M 10.59375 35.5 \nL 73.1875 35.5 \nL 73.1875 27.203125 \nL 10.59375 27.203125 \nz\n\" id=\"DejaVuSans-8722\"/>\n        <path d=\"M 10.6875 12.40625 \nL 21 12.40625 \nL 21 0 \nL 10.6875 0 \nz\n\" id=\"DejaVuSans-46\"/>\n        <path d=\"M 31.78125 66.40625 \nQ 24.171875 66.40625 20.328125 58.90625 \nQ 16.5 51.421875 16.5 36.375 \nQ 16.5 21.390625 20.328125 13.890625 \nQ 24.171875 6.390625 31.78125 6.390625 \nQ 39.453125 6.390625 43.28125 13.890625 \nQ 47.125 21.390625 47.125 36.375 \nQ 47.125 51.421875 43.28125 58.90625 \nQ 39.453125 66.40625 31.78125 66.40625 \nz\nM 31.78125 74.21875 \nQ 44.046875 74.21875 50.515625 64.515625 \nQ 56.984375 54.828125 56.984375 36.375 \nQ 56.984375 17.96875 50.515625 8.265625 \nQ 44.046875 -1.421875 31.78125 -1.421875 \nQ 19.53125 -1.421875 13.0625 8.265625 \nQ 6.59375 17.96875 6.59375 36.375 \nQ 6.59375 54.828125 13.0625 64.515625 \nQ 19.53125 74.21875 31.78125 74.21875 \nz\n\" id=\"DejaVuSans-48\"/>\n       </defs>\n       <use xlink:href=\"#DejaVuSans-8722\"/>\n       <use x=\"83.789062\" xlink:href=\"#DejaVuSans-49\"/>\n       <use x=\"147.412109\" xlink:href=\"#DejaVuSans-46\"/>\n       <use x=\"179.199219\" xlink:href=\"#DejaVuSans-48\"/>\n       <use x=\"242.822266\" xlink:href=\"#DejaVuSans-48\"/>\n      </g>\n     </g>\n    </g>\n    <g id=\"ytick_21\">\n     <g id=\"line2d_40\">\n      <g>\n       <use style=\"stroke:#000000;stroke-width:0.8;\" x=\"589.494063\" xlink:href=\"#m72ffa12361\" y=\"486.649219\"/>\n      </g>\n     </g>\n     <g id=\"text_41\">\n      <!-- −0.75 -->\n      <g transform=\"translate(596.494063 490.448437)scale(0.1 -0.1)\">\n       <defs>\n        <path d=\"M 8.203125 72.90625 \nL 55.078125 72.90625 \nL 55.078125 68.703125 \nL 28.609375 0 \nL 18.3125 0 \nL 43.21875 64.59375 \nL 8.203125 64.59375 \nz\n\" id=\"DejaVuSans-55\"/>\n       </defs>\n       <use xlink:href=\"#DejaVuSans-8722\"/>\n       <use x=\"83.789062\" xlink:href=\"#DejaVuSans-48\"/>\n       <use x=\"147.412109\" xlink:href=\"#DejaVuSans-46\"/>\n       <use x=\"179.199219\" xlink:href=\"#DejaVuSans-55\"/>\n       <use x=\"242.822266\" xlink:href=\"#DejaVuSans-53\"/>\n      </g>\n     </g>\n    </g>\n    <g id=\"ytick_22\">\n     <g id=\"line2d_41\">\n      <g>\n       <use style=\"stroke:#000000;stroke-width:0.8;\" x=\"589.494063\" xlink:href=\"#m72ffa12361\" y=\"418.699219\"/>\n      </g>\n     </g>\n     <g id=\"text_42\">\n      <!-- −0.50 -->\n      <g transform=\"translate(596.494063 422.498437)scale(0.1 -0.1)\">\n       <use xlink:href=\"#DejaVuSans-8722\"/>\n       <use x=\"83.789062\" xlink:href=\"#DejaVuSans-48\"/>\n       <use x=\"147.412109\" xlink:href=\"#DejaVuSans-46\"/>\n       <use x=\"179.199219\" xlink:href=\"#DejaVuSans-53\"/>\n       <use x=\"242.822266\" xlink:href=\"#DejaVuSans-48\"/>\n      </g>\n     </g>\n    </g>\n    <g id=\"ytick_23\">\n     <g id=\"line2d_42\">\n      <g>\n       <use style=\"stroke:#000000;stroke-width:0.8;\" x=\"589.494063\" xlink:href=\"#m72ffa12361\" y=\"350.749219\"/>\n      </g>\n     </g>\n     <g id=\"text_43\">\n      <!-- −0.25 -->\n      <g transform=\"translate(596.494063 354.548437)scale(0.1 -0.1)\">\n       <defs>\n        <path d=\"M 19.1875 8.296875 \nL 53.609375 8.296875 \nL 53.609375 0 \nL 7.328125 0 \nL 7.328125 8.296875 \nQ 12.9375 14.109375 22.625 23.890625 \nQ 32.328125 33.6875 34.8125 36.53125 \nQ 39.546875 41.84375 41.421875 45.53125 \nQ 43.3125 49.21875 43.3125 52.78125 \nQ 43.3125 58.59375 39.234375 62.25 \nQ 35.15625 65.921875 28.609375 65.921875 \nQ 23.96875 65.921875 18.8125 64.3125 \nQ 13.671875 62.703125 7.8125 59.421875 \nL 7.8125 69.390625 \nQ 13.765625 71.78125 18.9375 73 \nQ 24.125 74.21875 28.421875 74.21875 \nQ 39.75 74.21875 46.484375 68.546875 \nQ 53.21875 62.890625 53.21875 53.421875 \nQ 53.21875 48.921875 51.53125 44.890625 \nQ 49.859375 40.875 45.40625 35.40625 \nQ 44.1875 33.984375 37.640625 27.21875 \nQ 31.109375 20.453125 19.1875 8.296875 \nz\n\" id=\"DejaVuSans-50\"/>\n       </defs>\n       <use xlink:href=\"#DejaVuSans-8722\"/>\n       <use x=\"83.789062\" xlink:href=\"#DejaVuSans-48\"/>\n       <use x=\"147.412109\" xlink:href=\"#DejaVuSans-46\"/>\n       <use x=\"179.199219\" xlink:href=\"#DejaVuSans-50\"/>\n       <use x=\"242.822266\" xlink:href=\"#DejaVuSans-53\"/>\n      </g>\n     </g>\n    </g>\n    <g id=\"ytick_24\">\n     <g id=\"line2d_43\">\n      <g>\n       <use style=\"stroke:#000000;stroke-width:0.8;\" x=\"589.494063\" xlink:href=\"#m72ffa12361\" y=\"282.799219\"/>\n      </g>\n     </g>\n     <g id=\"text_44\">\n      <!-- 0.00 -->\n      <g transform=\"translate(596.494063 286.598437)scale(0.1 -0.1)\">\n       <use xlink:href=\"#DejaVuSans-48\"/>\n       <use x=\"63.623047\" xlink:href=\"#DejaVuSans-46\"/>\n       <use x=\"95.410156\" xlink:href=\"#DejaVuSans-48\"/>\n       <use x=\"159.033203\" xlink:href=\"#DejaVuSans-48\"/>\n      </g>\n     </g>\n    </g>\n    <g id=\"ytick_25\">\n     <g id=\"line2d_44\">\n      <g>\n       <use style=\"stroke:#000000;stroke-width:0.8;\" x=\"589.494063\" xlink:href=\"#m72ffa12361\" y=\"214.849219\"/>\n      </g>\n     </g>\n     <g id=\"text_45\">\n      <!-- 0.25 -->\n      <g transform=\"translate(596.494063 218.648437)scale(0.1 -0.1)\">\n       <use xlink:href=\"#DejaVuSans-48\"/>\n       <use x=\"63.623047\" xlink:href=\"#DejaVuSans-46\"/>\n       <use x=\"95.410156\" xlink:href=\"#DejaVuSans-50\"/>\n       <use x=\"159.033203\" xlink:href=\"#DejaVuSans-53\"/>\n      </g>\n     </g>\n    </g>\n    <g id=\"ytick_26\">\n     <g id=\"line2d_45\">\n      <g>\n       <use style=\"stroke:#000000;stroke-width:0.8;\" x=\"589.494063\" xlink:href=\"#m72ffa12361\" y=\"146.899219\"/>\n      </g>\n     </g>\n     <g id=\"text_46\">\n      <!-- 0.50 -->\n      <g transform=\"translate(596.494063 150.698437)scale(0.1 -0.1)\">\n       <use xlink:href=\"#DejaVuSans-48\"/>\n       <use x=\"63.623047\" xlink:href=\"#DejaVuSans-46\"/>\n       <use x=\"95.410156\" xlink:href=\"#DejaVuSans-53\"/>\n       <use x=\"159.033203\" xlink:href=\"#DejaVuSans-48\"/>\n      </g>\n     </g>\n    </g>\n    <g id=\"ytick_27\">\n     <g id=\"line2d_46\">\n      <g>\n       <use style=\"stroke:#000000;stroke-width:0.8;\" x=\"589.494063\" xlink:href=\"#m72ffa12361\" y=\"78.949219\"/>\n      </g>\n     </g>\n     <g id=\"text_47\">\n      <!-- 0.75 -->\n      <g transform=\"translate(596.494063 82.748437)scale(0.1 -0.1)\">\n       <use xlink:href=\"#DejaVuSans-48\"/>\n       <use x=\"63.623047\" xlink:href=\"#DejaVuSans-46\"/>\n       <use x=\"95.410156\" xlink:href=\"#DejaVuSans-55\"/>\n       <use x=\"159.033203\" xlink:href=\"#DejaVuSans-53\"/>\n      </g>\n     </g>\n    </g>\n    <g id=\"ytick_28\">\n     <g id=\"line2d_47\">\n      <g>\n       <use style=\"stroke:#000000;stroke-width:0.8;\" x=\"589.494063\" xlink:href=\"#m72ffa12361\" y=\"10.999219\"/>\n      </g>\n     </g>\n     <g id=\"text_48\">\n      <!-- 1.00 -->\n      <g transform=\"translate(596.494063 14.798437)scale(0.1 -0.1)\">\n       <use xlink:href=\"#DejaVuSans-49\"/>\n       <use x=\"63.623047\" xlink:href=\"#DejaVuSans-46\"/>\n       <use x=\"95.410156\" xlink:href=\"#DejaVuSans-48\"/>\n       <use x=\"159.033203\" xlink:href=\"#DejaVuSans-48\"/>\n      </g>\n     </g>\n    </g>\n   </g>\n   <g id=\"patch_4\">\n    <path d=\"M 562.314063 554.599219 \nL 562.314063 552.475781 \nL 562.314063 13.122656 \nL 562.314063 10.999219 \nL 589.494063 10.999219 \nL 589.494063 13.122656 \nL 589.494063 552.475781 \nL 589.494063 554.599219 \nz\n\" style=\"fill:none;\"/>\n   </g>\n  </g>\n </g>\n <defs>\n  <clipPath id=\"p1faaa7d2d2\">\n   <rect height=\"446.4\" width=\"446.4\" x=\"88.014063\" y=\"59.599219\"/>\n  </clipPath>\n  <clipPath id=\"p85f6c7587c\">\n   <rect height=\"543.6\" width=\"27.18\" x=\"562.314063\" y=\"10.999219\"/>\n  </clipPath>\n </defs>\n</svg>\n",
      "image/png": "[encoded data removed]"
     },
     "metadata": {
      "needs_background": "light"
     }
    }
   ],
   "source": [
    "# Plot correlation matrix of variables\n",
    "fig, ax = plt.subplots(figsize=(10,10)) \n",
    "sns.heatmap(houses.corr(), \n",
    "    vmin=-1, vmax=1, center=0,\n",
    "    cmap=sns.diverging_palette(20, 220, n=200),\n",
    "    square=True,\n",
    "    ax=ax\n",
    ")\n",
    "ax.set_xticklabels(ax.get_xticklabels(), rotation=45, horizontalalignment='right')\n",
    "plt.title(\"Correlation matrix\")\n",
    "clear_output()"
   ]
  },
  {
   "source": [
    "\n",
    "From the matrix we read that the price is well correlated with the following variables :\n",
    "- sqft_living\n",
    "- grade\n",
    "- sqft_above\n",
    "- sqft_living15\n",
    "\n",
    "On the other hand we can see that there are strong correlation between those variables taken in pairs.\n",
    "\n",
    "There are also strong correlation between: \n",
    "- long & zipcode\n"
   ],
   "cell_type": "markdown",
   "metadata": {}
  },
  {
   "source": [
    "### Information quantity in the model"
   ],
   "cell_type": "markdown",
   "metadata": {}
  },
  {
   "cell_type": "code",
   "execution_count": 6,
   "metadata": {},
   "outputs": [
    {
     "output_type": "stream",
     "name": "stdout",
     "text": [
      "It = 186163.56522629363\n"
     ]
    }
   ],
   "source": [
    "# Information in the model\n",
    "Y = houses.iloc[:, 0]\n",
    "y_mean = np.mean(Y)\n",
    "It = np.sum((Y - y_mean)**2)\n",
    "print(\"It = {}\".format(It))"
   ]
  },
  {
   "source": [
    "## Utilities functions"
   ],
   "cell_type": "markdown",
   "metadata": {}
  },
  {
   "source": [
    "### Build model and generalization error"
   ],
   "cell_type": "markdown",
   "metadata": {}
  },
  {
   "cell_type": "code",
   "execution_count": 61,
   "metadata": {},
   "outputs": [],
   "source": [
    "# Utilities functions for models\n",
    "def build_regression(data, idx_p, idx_t):\n",
    "    X = data.iloc[:, idx_p] \n",
    "    X = sm.add_constant(X)\n",
    "    Y = data.iloc[:, idx_t]\n",
    "    model = sm.OLS(Y, X).fit()\n",
    "    return model\n",
    "\n",
    "\n",
    "def make_prediction(sm_model, data):\n",
    "    pred_cols = sm_model.model.exog_names[1:] # take predictive cols\n",
    "    X = data.loc[:, pred_cols]\n",
    "    X = sm.add_constant(X)\n",
    "    return pd.Series(sm_model.predict(X))\n",
    "\n",
    "\n",
    "def generalization_error_split(train, test, idx_p, idx_t):\n",
    "    \"\"\"Mean Squared Error\"\"\"\n",
    "    model = build_regression(train, idx_p, idx_t)\n",
    "    pred  = make_prediction(model, test)\n",
    "    return np.mean((test.iloc[:, idx_t] - pred)**2)"
   ]
  },
  {
   "source": [
    "### Variable Selection"
   ],
   "cell_type": "markdown",
   "metadata": {}
  },
  {
   "cell_type": "code",
   "execution_count": 62,
   "metadata": {},
   "outputs": [],
   "source": [
    "def print_selection_info(train, test, vs):\n",
    "    print(\"{} variables selected.\".format(len(vs)))\n",
    "    print(\"generalization error: \", generalization_error_split(train, test, vs, 0))"
   ]
  },
  {
   "source": [
    "#### Forward & Backward: Stop strict, based on gen. error"
   ],
   "cell_type": "markdown",
   "metadata": {}
  },
  {
   "cell_type": "code",
   "execution_count": 63,
   "metadata": {},
   "outputs": [],
   "source": [
    "# Selection based on generalization error utilities for forward and backward selection.\n",
    "\n",
    "def step_selection(train, v_s, v_nu, idx_t, forward=True):    \n",
    "    b_error = float('inf') # best value for gen error\n",
    "    b_idx = -1 # best index to select (to add or remove depending on forward/backward.)\n",
    "\n",
    "    train_2, valid = train_test_split(train, test_size=0.2, random_state=1)\n",
    "    variables = v_nu if forward else v_s # variables to compare\n",
    "    \n",
    "    for idx in variables:\n",
    "        error = (\n",
    "            generalization_error_split(train_2, valid, np.append(v_s, idx), 0) \n",
    "            if forward else \n",
    "            generalization_error_split(train_2, valid, np.delete(v_s, np.where(v_s == idx)), 0)\n",
    "        )\n",
    "        if error < b_error:\n",
    "            b_error = error\n",
    "            b_idx = idx\n",
    "\n",
    "    return b_idx, b_error\n",
    "\n",
    "\n",
    "# Stop criteron strict: as soon as performance decrease\n",
    "def forward_selection_strict(train, idx_p, idx_t):\n",
    "    v_s = np.array([])\n",
    "    v_nu = np.array(idx_p)\n",
    "    Cf = float('inf')\n",
    "    stop = False\n",
    "    \n",
    "    while stop is False and len(v_s) < len(idx_p):\n",
    "        Xb, Cb = step_selection(train, v_s, v_nu, idx_t)\n",
    "        if Cb < Cf: # lower is better performance for gen error\n",
    "            v_s = np.append(v_s, Xb)\n",
    "            v_nu = np.delete(v_nu, np.where(v_nu == Xb))\n",
    "            Cf = Cb\n",
    "        else:\n",
    "            stop = True\n",
    "    \n",
    "    return v_s\n",
    "\n",
    "\n",
    "# Stop criteron strict: as soon as performance decrease\n",
    "def backward_selection_strict(train, idx_p, idx_t):\n",
    "    v_s = np.array(idx_p)\n",
    "    v_nu = np.array([]) # variables that will not be used/ we can remove it !\n",
    "    Cf = float('inf')\n",
    "    stop = False\n",
    "\n",
    "    while stop is False and len(v_nu) < (len(idx_p)-1):\n",
    "        Xb, Cb = step_selection(train, v_s, v_nu, idx_t, forward=False) # Xb is variable to remove\n",
    "        if Cb < Cf: # lower error is better\n",
    "            v_s = np.delete(v_s, np.where(v_s == Xb))\n",
    "            v_nu = np.append(v_nu, Xb)\n",
    "            Cf = Cb\n",
    "        else:\n",
    "            stop = True\n",
    "\n",
    "    return v_s\n"
   ]
  },
  {
   "source": [
    "#### Forward & Backward: No stop and keep the best, based on gen. error"
   ],
   "cell_type": "markdown",
   "metadata": {}
  },
  {
   "cell_type": "code",
   "execution_count": 64,
   "metadata": {},
   "outputs": [],
   "source": [
    "# step selection code doesn't change\n",
    "\n",
    "\n",
    "def forward_selection_nostop(train, idx_p, idx_t):\n",
    "    v_s = np.array([])\n",
    "    v_nu = np.array(idx_p)\n",
    "    Cf = float('inf')\n",
    "    v_f = np.array([]) # final variables selected \n",
    "    stop = False\n",
    "    \n",
    "    while not stop:\n",
    "        Xb, Cb = step_selection(train, v_s, v_nu, idx_t)\n",
    "        v_s = np.append(v_s, Xb)\n",
    "        v_nu = np.delete(v_nu, np.where(v_nu == Xb))\n",
    "\n",
    "        if Cb < Cf: # lower is better performance for gen error\n",
    "            Cf = Cb\n",
    "            v_f = v_s[:]\n",
    "\n",
    "        stop = (len(v_s) == len(idx_p)) # all variables selected => end !\n",
    "    \n",
    "    return v_f\n",
    "\n",
    "\n",
    "def backward_selection_nostop(train, idx_p, idx_t):\n",
    "    v_s = np.array(idx_p)\n",
    "    v_nu = np.array([]) # variables that will not be used/ we can remove it !\n",
    "    Cf = float('inf')\n",
    "    v_f = np.array(idx_p)\n",
    "    stop = False\n",
    "\n",
    "    while not stop:\n",
    "        Xb, Cb = step_selection(train, v_s, v_nu, idx_t, forward=False) # Xb is variable to remove\n",
    "        v_s = np.delete(v_s, np.where(v_s == Xb))\n",
    "        v_nu = np.append(v_nu, Xb)\n",
    "\n",
    "        if Cb < Cf: # lower error is better\n",
    "            Cf = Cb\n",
    "            v_f = v_s[:]\n",
    "\n",
    "        stop = (len(v_s) == 1) # 1 variable used => end !\n",
    "\n",
    "    return v_f"
   ]
  },
  {
   "source": [
    "#### Forward selection based on p-value"
   ],
   "cell_type": "markdown",
   "metadata": {}
  },
  {
   "cell_type": "code",
   "execution_count": 65,
   "metadata": {},
   "outputs": [],
   "source": [
    "# Selection based on critical probability utilities\n",
    "\n",
    "def step_selection_pval(train, v_s, v_nu, idx_t, forward=True):\n",
    "    b_idx = -1 # best index to select (to add or remove depending on forward/backward.)\n",
    "\n",
    "    for idx in v_nu:\n",
    "        model = build_regression(train, np.append(v_s, idx), 0)\n",
    "        if all(p_value < 0.05 for p_value in model.pvalues[1:].values):\n",
    "            b_idx = idx\n",
    "\n",
    "    return b_idx\n",
    "\n",
    "\n",
    "# We aim here at having the most variables possibles that are significant together \n",
    "def forward_selection_pval(train, idx_p, idx_t):\n",
    "    v_s = np.array([])\n",
    "    v_nu = np.array(idx_p)\n",
    "    stop = False\n",
    "    \n",
    "    while stop is False and len(v_s) < len(idx_p):\n",
    "        Xb = step_selection_pval(train, v_s, v_nu, idx_t)\n",
    "        if Xb != -1:\n",
    "            v_s = np.append(v_s, Xb)\n",
    "            v_nu = np.delete(v_nu, np.where(v_nu == Xb))\n",
    "        else:\n",
    "            stop = True\n",
    "    \n",
    "    return v_s"
   ]
  },
  {
   "source": [
    "### K-Fold generalization error"
   ],
   "cell_type": "markdown",
   "metadata": {}
  },
  {
   "cell_type": "code",
   "execution_count": 66,
   "metadata": {},
   "outputs": [],
   "source": [
    "def k_fold_generalization_error(data, k, idx_p, idx_t):\n",
    "    \"\"\"\n",
    "    Params\n",
    "    ______\n",
    "    k (int): k parameter for the KFold obj. Number of folds.\n",
    "    idx_p (list): indexes of predictive variables.\n",
    "    idx_t (int): index of target variable.\n",
    "    \"\"\"\n",
    "    kf = KFold(n_splits=k)\n",
    "    errors = [] # list of errors for each split\n",
    "\n",
    "    for train_idx, test_idx in kf.split(data):\n",
    "        train, test = data.iloc[train_idx], data.iloc[test_idx]\n",
    "        errors.append(generalization_error_split(train, test, idx_p, idx_t))\n",
    "\n",
    "    return np.mean(errors)"
   ]
  },
  {
   "source": [
    "## Models"
   ],
   "cell_type": "markdown",
   "metadata": {}
  },
  {
   "cell_type": "code",
   "execution_count": 67,
   "metadata": {},
   "outputs": [
    {
     "output_type": "stream",
     "name": "stdout",
     "text": [
      "(10717, 19) (2680, 19)\n"
     ]
    }
   ],
   "source": [
    "# Train/Test split\n",
    "train, test = train_test_split(houses, test_size=0.2, random_state=20)\n",
    "print(train.shape, test.shape)"
   ]
  },
  {
   "source": [
    "### Simple Linear Regression\n",
    "\n",
    "Let us build models using each variable and compare models metrics (R^2, p-value, Ir)"
   ],
   "cell_type": "markdown",
   "metadata": {}
  },
  {
   "source": [
    "#### Building model"
   ],
   "cell_type": "markdown",
   "metadata": {}
  },
  {
   "cell_type": "code",
   "execution_count": 15,
   "metadata": {},
   "outputs": [
    {
     "output_type": "stream",
     "name": "stdout",
     "text": [
      "BEDROOMS (1)\n",
      "R-squared:  0.08695699471701646\n",
      "p-value:  5.605855373585939e-214\n",
      "Ir:  136519.25994464438\n",
      "=====================================\n",
      "\n",
      "\n",
      "BATHROOMS (2)\n",
      "R-squared:  0.27840841812347994\n",
      "p-value:  0.0\n",
      "Ir:  107893.21879700046\n",
      "=====================================\n",
      "\n",
      "\n",
      "SQFT_LIVING (3)\n",
      "R-squared:  0.49784789349539404\n",
      "p-value:  0.0\n",
      "Ir:  75082.37132642619\n",
      "=====================================\n",
      "\n",
      "\n",
      "SQFT_LOT (4)\n",
      "R-squared:  0.006601166337999564\n",
      "p-value:  3.6404730528664265e-17\n",
      "Ir:  148534.1575552364\n",
      "=====================================\n",
      "\n",
      "\n",
      "FLOORS (5)\n",
      "R-squared:  0.06650520408933058\n",
      "p-value:  2.2358855477463756e-162\n",
      "Ir:  139577.23564226128\n",
      "=====================================\n",
      "\n",
      "\n",
      "WATERFRONT (6)\n",
      "R-squared:  0.0823187242394553\n",
      "p-value:  3.5516503316922097e-202\n",
      "Ir:  137212.77958102064\n",
      "=====================================\n",
      "\n",
      "\n",
      "VIEW (7)\n",
      "R-squared:  0.15494961791431094\n",
      "p-value:  0.0\n",
      "Ir:  126352.92325855061\n",
      "=====================================\n",
      "\n",
      "\n",
      "CONDITION (8)\n",
      "R-squared:  0.001375041887803241\n",
      "p-value:  0.000123202465888717\n",
      "Ir:  149315.57380637812\n",
      "=====================================\n",
      "\n",
      "\n",
      "GRADE (9)\n",
      "R-squared:  0.43980039084060074\n",
      "p-value:  0.0\n",
      "Ir:  83761.7019365008\n",
      "=====================================\n",
      "\n",
      "\n",
      "SQFT_ABOVE (10)\n",
      "R-squared:  0.36833701970161514\n",
      "p-value:  0.0\n",
      "Ir:  94446.9889214441\n",
      "=====================================\n",
      "\n",
      "\n",
      "SQFT_BASEMENT (11)\n",
      "R-squared:  0.10815105459655106\n",
      "p-value:  1.1356416670580451e-268\n",
      "Ir:  133350.29927878856\n",
      "=====================================\n",
      "\n",
      "\n",
      "YR_BUILT (12)\n",
      "R-squared:  0.0017367896028769314\n",
      "p-value:  1.5911926054738458e-05\n",
      "Ir:  149261.48486416752\n",
      "=====================================\n",
      "\n",
      "\n",
      "YR_RENOVATED (13)\n",
      "R-squared:  0.0134398245911177\n",
      "p-value:  2.1721654474152403e-33\n",
      "Ir:  147511.63336050726\n",
      "=====================================\n",
      "\n",
      "\n",
      "ZIPCODE (14)\n",
      "R-squared:  0.0018779259357661893\n",
      "p-value:  7.1977285740798526e-06\n",
      "Ir:  149240.38199430724\n",
      "=====================================\n",
      "\n",
      "\n",
      "LAT (15)\n",
      "R-squared:  0.0960856679413572\n",
      "p-value:  2.2237510303933617e-237\n",
      "Ir:  135154.3300282521\n",
      "=====================================\n",
      "\n",
      "\n",
      "LONG (16)\n",
      "R-squared:  0.0002154998855212753\n",
      "p-value:  0.12860837743470094\n",
      "Ir:  149488.9498851721\n",
      "=====================================\n",
      "\n",
      "\n",
      "SQFT_LIVING15 (17)\n",
      "R-squared:  0.3421207901169431\n",
      "p-value:  0.0\n",
      "Ir:  98366.87028599065\n",
      "=====================================\n",
      "\n",
      "\n",
      "SQFT_LOT15 (18)\n",
      "R-squared:  0.005605431448142961\n",
      "p-value:  8.446647521711332e-15\n",
      "Ir:  148683.04100265092\n",
      "=====================================\n",
      "\n",
      "\n"
     ]
    }
   ],
   "source": [
    "for i in range(1, col):\n",
    "    model = build_regression(train, [i], 0)\n",
    "    print(\"{} ({})\".format(houses.columns[i].upper(), i))\n",
    "    print(\"R-squared: \", model.rsquared)\n",
    "    print(\"p-value: \", model.pvalues[1:].values[0])\n",
    "    print(\"Ir: \", np.sum(pd.Series(model.resid)**2))\n",
    "    print(\"=====================================\")\n",
    "    print(\"\\n\")"
   ]
  },
  {
   "source": [
    "The predictive model based on the __sqft_living__ variable seems to be best, since his R-squared value is the greater one, the loss (Ir) is the smallest and the p-value of 0 indicates that, that variable influent significatively the price.\n",
    "\n",
    "We can also think of the model based on __grade__ as its metrics are near the best's ones.\n",
    "\n",
    "__Now let's compare their generalization errors__"
   ],
   "cell_type": "markdown",
   "metadata": {}
  },
  {
   "cell_type": "code",
   "execution_count": 16,
   "metadata": {},
   "outputs": [
    {
     "output_type": "stream",
     "name": "stdout",
     "text": [
      "BEDROOMS (1)\n",
      "MSE:  12.149688274303205\n",
      "========================\n",
      "\n",
      "\n",
      "BATHROOMS (2)\n",
      "MSE:  9.972007450798092\n",
      "========================\n",
      "\n",
      "\n",
      "SQFT_LIVING (3)\n",
      "MSE:  6.96657303860466\n",
      "========================\n",
      "\n",
      "\n",
      "SQFT_LOT (4)\n",
      "MSE:  13.519870855242997\n",
      "========================\n",
      "\n",
      "\n",
      "FLOORS (5)\n",
      "MSE:  12.747661588509922\n",
      "========================\n",
      "\n",
      "\n",
      "WATERFRONT (6)\n",
      "MSE:  13.165793254939889\n",
      "========================\n",
      "\n",
      "\n",
      "VIEW (7)\n",
      "MSE:  11.85380675834853\n",
      "========================\n",
      "\n",
      "\n",
      "CONDITION (8)\n",
      "MSE:  13.675592242913295\n",
      "========================\n",
      "\n",
      "\n",
      "GRADE (9)\n",
      "MSE:  7.889645405681923\n",
      "========================\n",
      "\n",
      "\n",
      "SQFT_ABOVE (10)\n",
      "MSE:  8.193735513457217\n",
      "========================\n",
      "\n",
      "\n",
      "SQFT_BASEMENT (11)\n",
      "MSE:  12.888549661157752\n",
      "========================\n",
      "\n",
      "\n",
      "YR_BUILT (12)\n",
      "MSE:  13.643027831150436\n",
      "========================\n",
      "\n",
      "\n",
      "YR_RENOVATED (13)\n",
      "MSE:  13.446698912055792\n",
      "========================\n",
      "\n",
      "\n",
      "ZIPCODE (14)\n",
      "MSE:  13.64821687361795\n",
      "========================\n",
      "\n",
      "\n",
      "LAT (15)\n",
      "MSE:  12.412800759051313\n",
      "========================\n",
      "\n",
      "\n",
      "LONG (16)\n",
      "MSE:  13.668732767091987\n",
      "========================\n",
      "\n",
      "\n",
      "SQFT_LIVING15 (17)\n",
      "MSE:  9.419185287934665\n",
      "========================\n",
      "\n",
      "\n",
      "SQFT_LOT15 (18)\n",
      "MSE:  13.570819466689928\n",
      "========================\n",
      "\n",
      "\n"
     ]
    }
   ],
   "source": [
    "for i in range(1, col):\n",
    "    print(\"{} ({})\".format(houses.columns[i].upper(), i))\n",
    "    print(\"MSE: \", generalization_error_split(train, test, [i], 0))\n",
    "    print(\"========================\")\n",
    "    print(\"\\n\")"
   ]
  },
  {
   "source": [
    "These results confirm that the __sqft_living__ variable is the best for predicting the price alone, although __grade__'s model performances are nearby.\n",
    "<br><br>\n",
    "The best model with single variable (simple regression) is the one based on __sqft_living__ <br>\n",
    "Its generalization error is : 6.96657303860466"
   ],
   "cell_type": "markdown",
   "metadata": {}
  },
  {
   "source": [
    "#### Competition prediction"
   ],
   "cell_type": "markdown",
   "metadata": {}
  },
  {
   "cell_type": "code",
   "execution_count": 68,
   "metadata": {},
   "outputs": [
    {
     "output_type": "execute_result",
     "data": {
      "text/plain": [
       "          ID      Price\n",
       "15529  15529   5.568317\n",
       "3233    3233   2.996609\n",
       "14381  14381   4.396761\n",
       "3201    3201  13.406311\n",
       "3425    3425   4.911103\n",
       "...      ...        ...\n",
       "7989    7989   6.111233\n",
       "9973    9973   4.796804\n",
       "9007    9007   3.853845\n",
       "16345  16345  10.911754\n",
       "13582  13582   2.196522\n",
       "\n",
       "[2365 rows x 2 columns]"
      ],
      "text/html": "<div>\n<style scoped>\n    .dataframe tbody tr th:only-of-type {\n        vertical-align: middle;\n    }\n\n    .dataframe tbody tr th {\n        vertical-align: top;\n    }\n\n    .dataframe thead th {\n        text-align: right;\n    }\n</style>\n<table border=\"1\" class=\"dataframe\">\n  <thead>\n    <tr style=\"text-align: right;\">\n      <th></th>\n      <th>ID</th>\n      <th>Price</th>\n    </tr>\n  </thead>\n  <tbody>\n    <tr>\n      <th>15529</th>\n      <td>15529</td>\n      <td>5.568317</td>\n    </tr>\n    <tr>\n      <th>3233</th>\n      <td>3233</td>\n      <td>2.996609</td>\n    </tr>\n    <tr>\n      <th>14381</th>\n      <td>14381</td>\n      <td>4.396761</td>\n    </tr>\n    <tr>\n      <th>3201</th>\n      <td>3201</td>\n      <td>13.406311</td>\n    </tr>\n    <tr>\n      <th>3425</th>\n      <td>3425</td>\n      <td>4.911103</td>\n    </tr>\n    <tr>\n      <th>...</th>\n      <td>...</td>\n      <td>...</td>\n    </tr>\n    <tr>\n      <th>7989</th>\n      <td>7989</td>\n      <td>6.111233</td>\n    </tr>\n    <tr>\n      <th>9973</th>\n      <td>9973</td>\n      <td>4.796804</td>\n    </tr>\n    <tr>\n      <th>9007</th>\n      <td>9007</td>\n      <td>3.853845</td>\n    </tr>\n    <tr>\n      <th>16345</th>\n      <td>16345</td>\n      <td>10.911754</td>\n    </tr>\n    <tr>\n      <th>13582</th>\n      <td>13582</td>\n      <td>2.196522</td>\n    </tr>\n  </tbody>\n</table>\n<p>2365 rows × 2 columns</p>\n</div>"
     },
     "metadata": {},
     "execution_count": 68
    }
   ],
   "source": [
    "model = build_regression(houses, [3], 0) # simple regression based on sqft_living\n",
    "pred = make_prediction(model, houses_competition)\n",
    "pred = pd.DataFrame({'ID': pred.index, 'Price': pred})\n",
    "pred.to_csv('predictions/simple_regression.csv', index=False)"
   ]
  },
  {
   "source": [
    "#### Results\n",
    "\n",
    "| Model                | Gen. Error | Kaggle Error |\n",
    "|----------------------|------------|--------------|\n",
    "| SLR with sqft_living | 6.96657    | 6.33249      |"
   ],
   "cell_type": "markdown",
   "metadata": {}
  },
  {
   "source": [
    "### Multiple Linear Regression\n",
    "\n",
    "\n",
    "Let us use the 18 variables to predict the price"
   ],
   "cell_type": "markdown",
   "metadata": {}
  },
  {
   "cell_type": "code",
   "execution_count": 13,
   "metadata": {},
   "outputs": [
    {
     "output_type": "execute_result",
     "data": {
      "text/plain": [
       "4.447198500076972"
      ]
     },
     "metadata": {},
     "execution_count": 13
    }
   ],
   "source": [
    "generalization_error_split(train, test, range(1, col), 0)"
   ]
  },
  {
   "source": [
    "Using all variables is better at predicting new values."
   ],
   "cell_type": "markdown",
   "metadata": {}
  },
  {
   "source": [
    "#### Competition prediction"
   ],
   "cell_type": "markdown",
   "metadata": {}
  },
  {
   "cell_type": "code",
   "execution_count": 98,
   "metadata": {},
   "outputs": [],
   "source": [
    "model = build_regression(houses, range(1, col), 0) # multiple regression based on the 18 variables\n",
    "pred = make_prediction(model, houses_competition)\n",
    "pred = pd.DataFrame({'ID': pred.index, 'Price': pred})\n",
    "pred.to_csv('predictions/multiple_linear_regression_all.csv', index=False)"
   ]
  },
  {
   "source": [
    "#### Results\n",
    "\n",
    "| Model                 | Gen. Error | Kaggle Error |\n",
    "|-----------------------|:----------:|:------------:|\n",
    "| SLR with sqft_living  |   6.96657  |    6.33249   |\n",
    "| MLR with 18 variables |   4.44719  |    3.54670   |"
   ],
   "cell_type": "markdown",
   "metadata": {}
  },
  {
   "source": [
    "Can we reach better performances with less but specific variables ?"
   ],
   "cell_type": "markdown",
   "metadata": {}
  },
  {
   "source": [
    "#### Variable Selection"
   ],
   "cell_type": "markdown",
   "metadata": {}
  },
  {
   "cell_type": "code",
   "execution_count": 14,
   "metadata": {},
   "outputs": [
    {
     "output_type": "stream",
     "name": "stdout",
     "text": [
      "Forward selection strict\n15 variables selected.\ngeneralization error:  4.440422615849088\n\n\nBackward selection strict\n15 variables selected.\ngeneralization error:  4.440422615848943\n"
     ]
    }
   ],
   "source": [
    "# Variable selection based on generalization error with strict stop criterion.\n",
    "forward_strict_vs = forward_selection_strict(train, range(1, col), 0)\n",
    "backward_strict_vs = backward_selection_strict(train, range(1, col), 0)\n",
    "\n",
    "print(\"Forward selection strict\")\n",
    "print_selection_info(train, test, forward_strict_vs)\n",
    "print(\"\\n\")\n",
    "\n",
    "print(\"Backward selection strict\")\n",
    "print_selection_info(train, test, backward_strict_vs)"
   ]
  },
  {
   "cell_type": "code",
   "execution_count": 32,
   "metadata": {},
   "outputs": [
    {
     "output_type": "stream",
     "name": "stdout",
     "text": [
      "True\n"
     ]
    }
   ],
   "source": [
    "print(set(forward_strict_vs) == set(backward_strict_vs))"
   ]
  },
  {
   "source": [
    "__Conclusion:__\n",
    "\n",
    "Using strict stop criterion for forward and backward variables leads to the same selection of 15 variables.\n",
    "The generalization error is : 4.440422"
   ],
   "cell_type": "markdown",
   "metadata": {}
  },
  {
   "source": [
    "Let's now use a less strict criterion: we won't stop until the end and keep the best model."
   ],
   "cell_type": "markdown",
   "metadata": {}
  },
  {
   "cell_type": "code",
   "execution_count": 15,
   "metadata": {},
   "outputs": [
    {
     "output_type": "stream",
     "name": "stdout",
     "text": [
      "15 variables selected.\ngeneralization error:  4.440422615849088\n"
     ]
    }
   ],
   "source": [
    "forward_nostop_vs = forward_selection_nostop(train, range(1, col), 0)\n",
    "print_selection_info(train, test, forward_nostop_vs)"
   ]
  },
  {
   "cell_type": "code",
   "execution_count": 101,
   "metadata": {},
   "outputs": [
    {
     "output_type": "stream",
     "name": "stdout",
     "text": [
      "15 variables selected.\ngeneralization error:  4.440422615848943\n"
     ]
    }
   ],
   "source": [
    "backward_nostop_vs = backward_selection_nostop(train, range(1, col), 0)\n",
    "print_selection_info(train, test, backward_nostop_vs)"
   ]
  },
  {
   "cell_type": "code",
   "execution_count": 36,
   "metadata": {},
   "outputs": [
    {
     "output_type": "stream",
     "name": "stdout",
     "text": [
      "True\n"
     ]
    }
   ],
   "source": [
    "print((set(forward_nostop_vs) == set(backward_nostop_vs)) and (set(forward_nostop_vs) == set(forward_strict_vs)))"
   ]
  },
  {
   "source": [
    "A less strict stop criterion leads to same results that seems to have better performance than using all variables."
   ],
   "cell_type": "markdown",
   "metadata": {}
  },
  {
   "source": [
    "#### Competition prediction"
   ],
   "cell_type": "markdown",
   "metadata": {}
  },
  {
   "cell_type": "code",
   "execution_count": 103,
   "metadata": {},
   "outputs": [],
   "source": [
    "model = build_regression(houses, forward_nostop_vs, 0) # multiple regression based on the 15 variables selected by forward or backward selection based on gen. error\n",
    "pred = make_prediction(model, houses_competition)\n",
    "pred = pd.DataFrame({'ID': pred.index, 'Price': pred})\n",
    "pred.to_csv('predictions/mlr_selection_generr.csv', index=False)"
   ]
  },
  {
   "source": [
    "#### Results\n",
    "\n",
    "| Model                              | Gen. Error | Kaggle Error |\n",
    "|------------------------------------|:----------:|:------------:|\n",
    "| SLR with sqft_living               |   6.96657  |    6.33249   |\n",
    "| MLR with 18 variables              |   4.44719  |    3.54670   |\n",
    "| MLR with 15 variables (gen. error) |   4.44042  |    3.55712   |"
   ],
   "cell_type": "markdown",
   "metadata": {}
  },
  {
   "source": [
    "We can notice here that although this last model seemed to be better at predicting new values, its Kaggle score is a bit worst than the previous' one."
   ],
   "cell_type": "markdown",
   "metadata": {}
  },
  {
   "source": [
    "__Let us now use another performance criteria: critical probability p-value__"
   ],
   "cell_type": "markdown",
   "metadata": {}
  },
  {
   "cell_type": "code",
   "execution_count": 104,
   "metadata": {},
   "outputs": [
    {
     "output_type": "stream",
     "name": "stdout",
     "text": [
      "9 variables selected.\ngeneralization error:  5.8034881529512585\n"
     ]
    }
   ],
   "source": [
    "forward_pvalue_vs = forward_selection_pval(train, range(1, col), 0)\n",
    "print_selection_info(train, test, forward_pvalue_vs)"
   ]
  },
  {
   "source": [
    "### K-Fold Cross Validation "
   ],
   "cell_type": "markdown",
   "metadata": {}
  },
  {
   "cell_type": "code",
   "execution_count": 105,
   "metadata": {},
   "outputs": [
    {
     "output_type": "stream",
     "name": "stdout",
     "text": [
      "Backward gen. error:  4.24183773654894\n",
      "Forward p-value:  5.78666570187348\n"
     ]
    }
   ],
   "source": [
    "print(\"Backward gen. error: \", k_fold_generalization_error(houses, 10, forward_nostop_vs, 0))\n",
    "print(\"Forward p-value: \", k_fold_generalization_error(houses, 10, forward_pvalue_vs, 0))"
   ]
  },
  {
   "source": [
    "__Conclusion variable selection with linear models__\n",
    "\n",
    "We can conclude that the best model to predict the price is the one built with the forward (or backward) selection with no stop criterion and generalization error as performance criterion. But the model based on all variables has really close performances."
   ],
   "cell_type": "markdown",
   "metadata": {}
  },
  {
   "cell_type": "code",
   "execution_count": 16,
   "metadata": {},
   "outputs": [
    {
     "output_type": "stream",
     "name": "stdout",
     "text": [
      "[ 3. 15.  6.  9. 12.  7.  2.  1.  8. 14. 16. 10. 17. 13.  5.]\n"
     ]
    },
    {
     "output_type": "execute_result",
     "data": {
      "text/plain": [
       "['sqft_living',\n",
       " 'lat',\n",
       " 'waterfront',\n",
       " 'grade',\n",
       " 'yr_built',\n",
       " 'view',\n",
       " 'bathrooms',\n",
       " 'bedrooms',\n",
       " 'condition',\n",
       " 'zipcode',\n",
       " 'long',\n",
       " 'sqft_above',\n",
       " 'sqft_living15',\n",
       " 'yr_renovated',\n",
       " 'floors']"
      ]
     },
     "metadata": {},
     "execution_count": 16
    }
   ],
   "source": [
    "best_vs = forward_nostop_vs\n",
    "\n",
    "# Corresponding variables are\n",
    "print(best_vs)\n",
    "[houses.columns[int(i)] for i in best_vs]"
   ]
  },
  {
   "source": [
    "### Multiple Nonlinear Regression \n",
    "\n",
    "Let us now try to improve the previous model by trying some additional non-linear computed variables. "
   ],
   "cell_type": "markdown",
   "metadata": {}
  },
  {
   "cell_type": "code",
   "execution_count": 70,
   "metadata": {},
   "outputs": [],
   "source": [
    "def add_polynomial_feature(data, idx_p, power):\n",
    "    new_data = data.copy(deep = True)\n",
    "    for i in range(0, len(idx_p)):\n",
    "        for j in power:\n",
    "            for k in range(2, j+1):\n",
    "                new_data['{}_pow_{}'.format(new_data.columns[idx_p[i]],k)] = new_data.iloc[:,idx_p[i]]**k\n",
    "    return(new_data)"
   ]
  },
  {
   "cell_type": "code",
   "execution_count": 108,
   "metadata": {},
   "outputs": [
    {
     "output_type": "execute_result",
     "data": {
      "text/plain": [
       "          price  bedrooms  bathrooms  sqft_living  sqft_lot  floors  \\\n",
       "14833   8.25000         5       1.75         2330      6000     1.5   \n",
       "14069   2.55500         4       1.00         1370     41194     1.5   \n",
       "14855   2.49950         3       2.00         1550     15040     1.0   \n",
       "5691    6.60000         4       2.50         2510      4543     2.0   \n",
       "2015    5.80000         3       3.25         1490       857     3.0   \n",
       "...         ...       ...        ...          ...       ...     ...   \n",
       "21031   3.02059         4       2.00         1390       745     3.0   \n",
       "10571   2.66200         3       1.50         1430      9600     1.0   \n",
       "11483   4.55000         2       1.50         1020      1146     3.0   \n",
       "21039   4.71275         4       2.50         3361      5038     2.0   \n",
       "14372  22.00000         3       2.00         3570     30456     1.0   \n",
       "\n",
       "       waterfront  view  condition  grade  ...  sqft_living15  sqft_lot15  \\\n",
       "14833         0.0   0.0          3      8  ...           2150        6000   \n",
       "14069         0.0   2.0          5      5  ...           1590       84070   \n",
       "14855         0.0   0.0          4      6  ...           1510       41416   \n",
       "5691          0.0   0.0          3      8  ...           2550        4675   \n",
       "2015          0.0   0.0          3      8  ...           1550        1092   \n",
       "...           ...   ...        ...    ...  ...            ...         ...   \n",
       "21031         0.0   0.0          3      7  ...           1390         942   \n",
       "10571         0.0   0.0          4      7  ...           1590       10240   \n",
       "11483         0.0   0.0          3      7  ...           1138        1156   \n",
       "21039         0.0   0.0          3      9  ...           2316        4105   \n",
       "14372         0.0   1.0          3      8  ...           3570       27418   \n",
       "\n",
       "       sqft_living_pow_2  sqft_living_pow_3  sqft_living_pow_4  \\\n",
       "14833            5428900        12649337000     29472955210000   \n",
       "14069            1876900         2571353000      3522753610000   \n",
       "14855            2402500         3723875000      5772006250000   \n",
       "5691             6300100        15813251000     39691260010000   \n",
       "2015             2220100         3307949000      4928844010000   \n",
       "...                  ...                ...                ...   \n",
       "21031            1932100         2685619000      3733010410000   \n",
       "10571            2044900         2924207000      4181616010000   \n",
       "11483            1040400         1061208000      1082432160000   \n",
       "21039           11296321        37966934881    127606868135041   \n",
       "14372           12744900        45499293000    162432476010000   \n",
       "\n",
       "        sqft_living_pow_5    sqft_living_pow_6    sqft_living_pow_7  \\\n",
       "14833   68671985639300000 -6014970123816964544  4645107525731840640   \n",
       "14069    4826172445700000  6611856250609000000   891723142940156544   \n",
       "14855    8946609687500000 -4579499058084551616  3772928347122367360   \n",
       "5691    99625062625100000 -8195509842932722624 -2610063574983734400   \n",
       "2015     7343977574900000 -7504217487108551616 -2557147123753628544   \n",
       "...                   ...                  ...                  ...   \n",
       "21031    5188884469900000  7212549413161000000  8861652269503472512   \n",
       "10571    5979710894300000  8550986578849000000 -2280513115362721408   \n",
       "11483    1104080803200000  1126162419264000000  4987535079287799808   \n",
       "21039  428886683801872801  2642106508749458113  7236076452634390497   \n",
       "14372  579883939355700000  4150327244379219008  3932771245041910912   \n",
       "\n",
       "         sqft_living_pow_8    sqft_living_pow_9  \n",
       "14833 -5138236312318107392  -153703863691224576  \n",
       "14069  4175596963184058624  2077176712199313920  \n",
       "14855   421066673741545728  7017301719561571840  \n",
       "5691  -2665427042282520320  5946222627441233408  \n",
       "2015   8326808864970653952 -7713552800253849088  \n",
       "...                    ...                  ...  \n",
       "21031 -4728386628153687808 -5416522893025677824  \n",
       "10571  3939946077899022592  7865948914189063680  \n",
       "11483 -4015583470280441856  -717955322530234368  \n",
       "21039  7644268154997430529 -3929225731041393119  \n",
       "14372  2021104706653176064  2666869931403866624  \n",
       "\n",
       "[10717 rows x 27 columns]"
      ],
      "text/html": "<div>\n<style scoped>\n    .dataframe tbody tr th:only-of-type {\n        vertical-align: middle;\n    }\n\n    .dataframe tbody tr th {\n        vertical-align: top;\n    }\n\n    .dataframe thead th {\n        text-align: right;\n    }\n</style>\n<table border=\"1\" class=\"dataframe\">\n  <thead>\n    <tr style=\"text-align: right;\">\n      <th></th>\n      <th>price</th>\n      <th>bedrooms</th>\n      <th>bathrooms</th>\n      <th>sqft_living</th>\n      <th>sqft_lot</th>\n      <th>floors</th>\n      <th>waterfront</th>\n      <th>view</th>\n      <th>condition</th>\n      <th>grade</th>\n      <th>...</th>\n      <th>sqft_living15</th>\n      <th>sqft_lot15</th>\n      <th>sqft_living_pow_2</th>\n      <th>sqft_living_pow_3</th>\n      <th>sqft_living_pow_4</th>\n      <th>sqft_living_pow_5</th>\n      <th>sqft_living_pow_6</th>\n      <th>sqft_living_pow_7</th>\n      <th>sqft_living_pow_8</th>\n      <th>sqft_living_pow_9</th>\n    </tr>\n  </thead>\n  <tbody>\n    <tr>\n      <th>14833</th>\n      <td>8.25000</td>\n      <td>5</td>\n      <td>1.75</td>\n      <td>2330</td>\n      <td>6000</td>\n      <td>1.5</td>\n      <td>0.0</td>\n      <td>0.0</td>\n      <td>3</td>\n      <td>8</td>\n      <td>...</td>\n      <td>2150</td>\n      <td>6000</td>\n      <td>5428900</td>\n      <td>12649337000</td>\n      <td>29472955210000</td>\n      <td>68671985639300000</td>\n      <td>-6014970123816964544</td>\n      <td>4645107525731840640</td>\n      <td>-5138236312318107392</td>\n      <td>-153703863691224576</td>\n    </tr>\n    <tr>\n      <th>14069</th>\n      <td>2.55500</td>\n      <td>4</td>\n      <td>1.00</td>\n      <td>1370</td>\n      <td>41194</td>\n      <td>1.5</td>\n      <td>0.0</td>\n      <td>2.0</td>\n      <td>5</td>\n      <td>5</td>\n      <td>...</td>\n      <td>1590</td>\n      <td>84070</td>\n      <td>1876900</td>\n      <td>2571353000</td>\n      <td>3522753610000</td>\n      <td>4826172445700000</td>\n      <td>6611856250609000000</td>\n      <td>891723142940156544</td>\n      <td>4175596963184058624</td>\n      <td>2077176712199313920</td>\n    </tr>\n    <tr>\n      <th>14855</th>\n      <td>2.49950</td>\n      <td>3</td>\n      <td>2.00</td>\n      <td>1550</td>\n      <td>15040</td>\n      <td>1.0</td>\n      <td>0.0</td>\n      <td>0.0</td>\n      <td>4</td>\n      <td>6</td>\n      <td>...</td>\n      <td>1510</td>\n      <td>41416</td>\n      <td>2402500</td>\n      <td>3723875000</td>\n      <td>5772006250000</td>\n      <td>8946609687500000</td>\n      <td>-4579499058084551616</td>\n      <td>3772928347122367360</td>\n      <td>421066673741545728</td>\n      <td>7017301719561571840</td>\n    </tr>\n    <tr>\n      <th>5691</th>\n      <td>6.60000</td>\n      <td>4</td>\n      <td>2.50</td>\n      <td>2510</td>\n      <td>4543</td>\n      <td>2.0</td>\n      <td>0.0</td>\n      <td>0.0</td>\n      <td>3</td>\n      <td>8</td>\n      <td>...</td>\n      <td>2550</td>\n      <td>4675</td>\n      <td>6300100</td>\n      <td>15813251000</td>\n      <td>39691260010000</td>\n      <td>99625062625100000</td>\n      <td>-8195509842932722624</td>\n      <td>-2610063574983734400</td>\n      <td>-2665427042282520320</td>\n      <td>5946222627441233408</td>\n    </tr>\n    <tr>\n      <th>2015</th>\n      <td>5.80000</td>\n      <td>3</td>\n      <td>3.25</td>\n      <td>1490</td>\n      <td>857</td>\n      <td>3.0</td>\n      <td>0.0</td>\n      <td>0.0</td>\n      <td>3</td>\n      <td>8</td>\n      <td>...</td>\n      <td>1550</td>\n      <td>1092</td>\n      <td>2220100</td>\n      <td>3307949000</td>\n      <td>4928844010000</td>\n      <td>7343977574900000</td>\n      <td>-7504217487108551616</td>\n      <td>-2557147123753628544</td>\n      <td>8326808864970653952</td>\n      <td>-7713552800253849088</td>\n    </tr>\n    <tr>\n      <th>...</th>\n      <td>...</td>\n      <td>...</td>\n      <td>...</td>\n      <td>...</td>\n      <td>...</td>\n      <td>...</td>\n      <td>...</td>\n      <td>...</td>\n      <td>...</td>\n      <td>...</td>\n      <td>...</td>\n      <td>...</td>\n      <td>...</td>\n      <td>...</td>\n      <td>...</td>\n      <td>...</td>\n      <td>...</td>\n      <td>...</td>\n      <td>...</td>\n      <td>...</td>\n      <td>...</td>\n    </tr>\n    <tr>\n      <th>21031</th>\n      <td>3.02059</td>\n      <td>4</td>\n      <td>2.00</td>\n      <td>1390</td>\n      <td>745</td>\n      <td>3.0</td>\n      <td>0.0</td>\n      <td>0.0</td>\n      <td>3</td>\n      <td>7</td>\n      <td>...</td>\n      <td>1390</td>\n      <td>942</td>\n      <td>1932100</td>\n      <td>2685619000</td>\n      <td>3733010410000</td>\n      <td>5188884469900000</td>\n      <td>7212549413161000000</td>\n      <td>8861652269503472512</td>\n      <td>-4728386628153687808</td>\n      <td>-5416522893025677824</td>\n    </tr>\n    <tr>\n      <th>10571</th>\n      <td>2.66200</td>\n      <td>3</td>\n      <td>1.50</td>\n      <td>1430</td>\n      <td>9600</td>\n      <td>1.0</td>\n      <td>0.0</td>\n      <td>0.0</td>\n      <td>4</td>\n      <td>7</td>\n      <td>...</td>\n      <td>1590</td>\n      <td>10240</td>\n      <td>2044900</td>\n      <td>2924207000</td>\n      <td>4181616010000</td>\n      <td>5979710894300000</td>\n      <td>8550986578849000000</td>\n      <td>-2280513115362721408</td>\n      <td>3939946077899022592</td>\n      <td>7865948914189063680</td>\n    </tr>\n    <tr>\n      <th>11483</th>\n      <td>4.55000</td>\n      <td>2</td>\n      <td>1.50</td>\n      <td>1020</td>\n      <td>1146</td>\n      <td>3.0</td>\n      <td>0.0</td>\n      <td>0.0</td>\n      <td>3</td>\n      <td>7</td>\n      <td>...</td>\n      <td>1138</td>\n      <td>1156</td>\n      <td>1040400</td>\n      <td>1061208000</td>\n      <td>1082432160000</td>\n      <td>1104080803200000</td>\n      <td>1126162419264000000</td>\n      <td>4987535079287799808</td>\n      <td>-4015583470280441856</td>\n      <td>-717955322530234368</td>\n    </tr>\n    <tr>\n      <th>21039</th>\n      <td>4.71275</td>\n      <td>4</td>\n      <td>2.50</td>\n      <td>3361</td>\n      <td>5038</td>\n      <td>2.0</td>\n      <td>0.0</td>\n      <td>0.0</td>\n      <td>3</td>\n      <td>9</td>\n      <td>...</td>\n      <td>2316</td>\n      <td>4105</td>\n      <td>11296321</td>\n      <td>37966934881</td>\n      <td>127606868135041</td>\n      <td>428886683801872801</td>\n      <td>2642106508749458113</td>\n      <td>7236076452634390497</td>\n      <td>7644268154997430529</td>\n      <td>-3929225731041393119</td>\n    </tr>\n    <tr>\n      <th>14372</th>\n      <td>22.00000</td>\n      <td>3</td>\n      <td>2.00</td>\n      <td>3570</td>\n      <td>30456</td>\n      <td>1.0</td>\n      <td>0.0</td>\n      <td>1.0</td>\n      <td>3</td>\n      <td>8</td>\n      <td>...</td>\n      <td>3570</td>\n      <td>27418</td>\n      <td>12744900</td>\n      <td>45499293000</td>\n      <td>162432476010000</td>\n      <td>579883939355700000</td>\n      <td>4150327244379219008</td>\n      <td>3932771245041910912</td>\n      <td>2021104706653176064</td>\n      <td>2666869931403866624</td>\n    </tr>\n  </tbody>\n</table>\n<p>10717 rows × 27 columns</p>\n</div>"
     },
     "metadata": {},
     "execution_count": 108
    }
   ],
   "source": [
    "# Let's add powers of variable 3: sqft_living, up to power 9.\n",
    "train_poly = add_polynomial_feature(train, [3], range(2, 10))\n",
    "test_poly = add_polynomial_feature(test, [3], range(2, 10))\n",
    "train_poly"
   ]
  },
  {
   "cell_type": "code",
   "execution_count": 109,
   "metadata": {},
   "outputs": [
    {
     "output_type": "execute_result",
     "data": {
      "text/plain": [
       "6.150649515669444"
      ]
     },
     "metadata": {},
     "execution_count": 109
    }
   ],
   "source": [
    "# Generalization error of the whole variables\n",
    "generalization_error_split(train_poly, test_poly, range(1, train_poly.shape[1]), 0)"
   ]
  },
  {
   "source": [
    "Let us now compare generalization error of each power with best selected variables above"
   ],
   "cell_type": "markdown",
   "metadata": {}
  },
  {
   "cell_type": "code",
   "execution_count": 110,
   "metadata": {},
   "outputs": [
    {
     "output_type": "stream",
     "name": "stdout",
     "text": [
      "variable sqft_living_pow_2 (19) added error :\n",
      "3.801949267442133\n",
      "\n",
      "\n",
      "variable sqft_living_pow_3 (20) added error :\n",
      "3.9306097588101854\n",
      "\n",
      "\n",
      "variable sqft_living_pow_4 (21) added error :\n",
      "4.876323394654974\n",
      "\n",
      "\n",
      "variable sqft_living_pow_5 (22) added error :\n",
      "7.163853080589357\n",
      "\n",
      "\n",
      "variable sqft_living_pow_6 (23) added error :\n",
      "13.665143872152465\n",
      "\n",
      "\n",
      "variable sqft_living_pow_7 (24) added error :\n",
      "13.654795822417421\n",
      "\n",
      "\n",
      "variable sqft_living_pow_8 (25) added error :\n",
      "13.668189609892197\n",
      "\n",
      "\n",
      "variable sqft_living_pow_9 (26) added error :\n",
      "13.650204292208063\n",
      "\n",
      "\n"
     ]
    }
   ],
   "source": [
    "for i in range(train.shape[1], train.shape[1]+8): # 8 new variables\n",
    "    print(\"variable {} ({}) added error :\".format(train_poly.columns[i], i))\n",
    "    print(generalization_error_split(train_poly, test_poly, np.append(best_vs, i), 0))\n",
    "    print(\"\\n\")"
   ]
  },
  {
   "source": [
    "Adding __sqft_living_pow_2__ to the list of __best selected variables__ seems to lead to better performance for our model. The generalization error is reduced to: 3.80194"
   ],
   "cell_type": "markdown",
   "metadata": {}
  },
  {
   "cell_type": "code",
   "execution_count": 111,
   "metadata": {},
   "outputs": [
    {
     "output_type": "execute_result",
     "data": {
      "text/plain": [
       "3.8160946915733285"
      ]
     },
     "metadata": {},
     "execution_count": 111
    }
   ],
   "source": [
    "# Let us try all variables with sqft_living_pow_2\n",
    "generalization_error_split(train_poly, test_poly, range(1, train.shape[1]+1), 0)"
   ]
  },
  {
   "source": [
    "Errors are still nearby each other.\n",
    "\n",
    "#### Competition prediction"
   ],
   "cell_type": "markdown",
   "metadata": {}
  },
  {
   "cell_type": "code",
   "execution_count": 112,
   "metadata": {},
   "outputs": [],
   "source": [
    "houses_poly = add_polynomial_feature(houses, [3], [2])\n",
    "houses_competition_poly = add_polynomial_feature(houses_competition, [3], [2])\n",
    "\n",
    "best_vs = np.append(best_vs, houses_poly.shape[1]-1) # add last variable (sqft_living^2)\n",
    "\n",
    "model = build_regression(houses_poly, best_vs, 0) # multiple regression based on the 15 best selected vars and sqft_living^2\n",
    "pred = make_prediction(model, houses_competition_poly)\n",
    "pred = pd.DataFrame({'ID': pred.index, 'Price': pred})\n",
    "pred.to_csv('predictions/mnonlr_best_and_sqft_living_squared.csv', index=False)"
   ]
  },
  {
   "source": [
    "#### Results\n",
    "\n",
    "| Model                                | Gen. Error | Kaggle Error |\n",
    "|--------------------------------------|:----------:|:------------:|\n",
    "| SLR with sqft_living                 |   6.96657  |    6.33249   |\n",
    "| MLR with 18 variables                |   4.44719  |    3.54670   |\n",
    "| MLR with 15 variables (gen. error)   |   4.44042  |    3.55712   |\n",
    "| MNonL with 15 best and sqft_living^2 |   3.80194  |    3.06725   |"
   ],
   "cell_type": "markdown",
   "metadata": {}
  },
  {
   "source": [
    "### Variable Selection\n",
    "Let us now add all variables squared to the dataset and use variable selection algorithm."
   ],
   "cell_type": "markdown",
   "metadata": {}
  },
  {
   "cell_type": "code",
   "execution_count": 58,
   "metadata": {},
   "outputs": [
    {
     "output_type": "execute_result",
     "data": {
      "text/plain": [
       "          price  bedrooms  bathrooms  sqft_living  sqft_lot  floors  \\\n",
       "14833   8.25000         5       1.75         2330      6000     1.5   \n",
       "14069   2.55500         4       1.00         1370     41194     1.5   \n",
       "14855   2.49950         3       2.00         1550     15040     1.0   \n",
       "5691    6.60000         4       2.50         2510      4543     2.0   \n",
       "2015    5.80000         3       3.25         1490       857     3.0   \n",
       "...         ...       ...        ...          ...       ...     ...   \n",
       "21031   3.02059         4       2.00         1390       745     3.0   \n",
       "10571   2.66200         3       1.50         1430      9600     1.0   \n",
       "11483   4.55000         2       1.50         1020      1146     3.0   \n",
       "21039   4.71275         4       2.50         3361      5038     2.0   \n",
       "14372  22.00000         3       2.00         3570     30456     1.0   \n",
       "\n",
       "       waterfront  view  condition  grade  ...  grade_pow_2  sqft_above_pow_2  \\\n",
       "14833         0.0   0.0          3      8  ...           64           4326400   \n",
       "14069         0.0   2.0          5      5  ...           25           1876900   \n",
       "14855         0.0   0.0          4      6  ...           36           2402500   \n",
       "5691          0.0   0.0          3      8  ...           64           6300100   \n",
       "2015          0.0   0.0          3      8  ...           64           1488400   \n",
       "...           ...   ...        ...    ...  ...          ...               ...   \n",
       "21031         0.0   0.0          3      7  ...           49           1932100   \n",
       "10571         0.0   0.0          4      7  ...           49           2044900   \n",
       "11483         0.0   0.0          3      7  ...           49           1040400   \n",
       "21039         0.0   0.0          3      9  ...           81          11296321   \n",
       "14372         0.0   1.0          3      8  ...           64           4284900   \n",
       "\n",
       "       sqft_basement_pow_2  yr_built_pow_2  yr_renovated_pow_2  zipcode_pow_2  \\\n",
       "14833                62500         3751969                 0.0     9643043601   \n",
       "14069                    0         3610000                 0.0     9622040464   \n",
       "14855                    0         3833764                 0.0     9615567481   \n",
       "5691                     0         4008004                 0.0     9618705625   \n",
       "2015                 72900         4004001                 0.0     9624002404   \n",
       "...                    ...             ...                 ...            ...   \n",
       "21031                    0         4032064                 0.0     9609292729   \n",
       "10571                    0         3865156                 0.0     9615567481   \n",
       "11483                    0         4004001                 0.0     9626553225   \n",
       "21039                    0         4056196                 0.0     9622040464   \n",
       "14372              2250000         3786916           3928324.0     9611645521   \n",
       "\n",
       "         lat_pow_2    long_pow_2  sqft_living15_pow_2  sqft_lot15_pow_2  \n",
       "14833  2270.150845  14979.801664              4622500          36000000  \n",
       "14069  2234.604167  14919.156736              2528100        7067764900  \n",
       "14855  2255.043661  14908.165801              2280100        1715285056  \n",
       "5691   2265.398254  14893.517521              6502500          21855625  \n",
       "2015   2269.159914  14963.160976              2402500           1192464  \n",
       "...            ...           ...                  ...               ...  \n",
       "21031  2259.985044  14890.344676              1932100            887364  \n",
       "10571  2253.752192  14920.622500              2528100         104857600  \n",
       "11483  2273.134471  14963.405625              1295044           1336336  \n",
       "21039  2239.835464  14924.287225              5363856          16851025  \n",
       "14372  2269.693466  14942.617600             12744900         751746724  \n",
       "\n",
       "[10717 rows x 37 columns]"
      ],
      "text/html": "<div>\n<style scoped>\n    .dataframe tbody tr th:only-of-type {\n        vertical-align: middle;\n    }\n\n    .dataframe tbody tr th {\n        vertical-align: top;\n    }\n\n    .dataframe thead th {\n        text-align: right;\n    }\n</style>\n<table border=\"1\" class=\"dataframe\">\n  <thead>\n    <tr style=\"text-align: right;\">\n      <th></th>\n      <th>price</th>\n      <th>bedrooms</th>\n      <th>bathrooms</th>\n      <th>sqft_living</th>\n      <th>sqft_lot</th>\n      <th>floors</th>\n      <th>waterfront</th>\n      <th>view</th>\n      <th>condition</th>\n      <th>grade</th>\n      <th>...</th>\n      <th>grade_pow_2</th>\n      <th>sqft_above_pow_2</th>\n      <th>sqft_basement_pow_2</th>\n      <th>yr_built_pow_2</th>\n      <th>yr_renovated_pow_2</th>\n      <th>zipcode_pow_2</th>\n      <th>lat_pow_2</th>\n      <th>long_pow_2</th>\n      <th>sqft_living15_pow_2</th>\n      <th>sqft_lot15_pow_2</th>\n    </tr>\n  </thead>\n  <tbody>\n    <tr>\n      <th>14833</th>\n      <td>8.25000</td>\n      <td>5</td>\n      <td>1.75</td>\n      <td>2330</td>\n      <td>6000</td>\n      <td>1.5</td>\n      <td>0.0</td>\n      <td>0.0</td>\n      <td>3</td>\n      <td>8</td>\n      <td>...</td>\n      <td>64</td>\n      <td>4326400</td>\n      <td>62500</td>\n      <td>3751969</td>\n      <td>0.0</td>\n      <td>9643043601</td>\n      <td>2270.150845</td>\n      <td>14979.801664</td>\n      <td>4622500</td>\n      <td>36000000</td>\n    </tr>\n    <tr>\n      <th>14069</th>\n      <td>2.55500</td>\n      <td>4</td>\n      <td>1.00</td>\n      <td>1370</td>\n      <td>41194</td>\n      <td>1.5</td>\n      <td>0.0</td>\n      <td>2.0</td>\n      <td>5</td>\n      <td>5</td>\n      <td>...</td>\n      <td>25</td>\n      <td>1876900</td>\n      <td>0</td>\n      <td>3610000</td>\n      <td>0.0</td>\n      <td>9622040464</td>\n      <td>2234.604167</td>\n      <td>14919.156736</td>\n      <td>2528100</td>\n      <td>7067764900</td>\n    </tr>\n    <tr>\n      <th>14855</th>\n      <td>2.49950</td>\n      <td>3</td>\n      <td>2.00</td>\n      <td>1550</td>\n      <td>15040</td>\n      <td>1.0</td>\n      <td>0.0</td>\n      <td>0.0</td>\n      <td>4</td>\n      <td>6</td>\n      <td>...</td>\n      <td>36</td>\n      <td>2402500</td>\n      <td>0</td>\n      <td>3833764</td>\n      <td>0.0</td>\n      <td>9615567481</td>\n      <td>2255.043661</td>\n      <td>14908.165801</td>\n      <td>2280100</td>\n      <td>1715285056</td>\n    </tr>\n    <tr>\n      <th>5691</th>\n      <td>6.60000</td>\n      <td>4</td>\n      <td>2.50</td>\n      <td>2510</td>\n      <td>4543</td>\n      <td>2.0</td>\n      <td>0.0</td>\n      <td>0.0</td>\n      <td>3</td>\n      <td>8</td>\n      <td>...</td>\n      <td>64</td>\n      <td>6300100</td>\n      <td>0</td>\n      <td>4008004</td>\n      <td>0.0</td>\n      <td>9618705625</td>\n      <td>2265.398254</td>\n      <td>14893.517521</td>\n      <td>6502500</td>\n      <td>21855625</td>\n    </tr>\n    <tr>\n      <th>2015</th>\n      <td>5.80000</td>\n      <td>3</td>\n      <td>3.25</td>\n      <td>1490</td>\n      <td>857</td>\n      <td>3.0</td>\n      <td>0.0</td>\n      <td>0.0</td>\n      <td>3</td>\n      <td>8</td>\n      <td>...</td>\n      <td>64</td>\n      <td>1488400</td>\n      <td>72900</td>\n      <td>4004001</td>\n      <td>0.0</td>\n      <td>9624002404</td>\n      <td>2269.159914</td>\n      <td>14963.160976</td>\n      <td>2402500</td>\n      <td>1192464</td>\n    </tr>\n    <tr>\n      <th>...</th>\n      <td>...</td>\n      <td>...</td>\n      <td>...</td>\n      <td>...</td>\n      <td>...</td>\n      <td>...</td>\n      <td>...</td>\n      <td>...</td>\n      <td>...</td>\n      <td>...</td>\n      <td>...</td>\n      <td>...</td>\n      <td>...</td>\n      <td>...</td>\n      <td>...</td>\n      <td>...</td>\n      <td>...</td>\n      <td>...</td>\n      <td>...</td>\n      <td>...</td>\n      <td>...</td>\n    </tr>\n    <tr>\n      <th>21031</th>\n      <td>3.02059</td>\n      <td>4</td>\n      <td>2.00</td>\n      <td>1390</td>\n      <td>745</td>\n      <td>3.0</td>\n      <td>0.0</td>\n      <td>0.0</td>\n      <td>3</td>\n      <td>7</td>\n      <td>...</td>\n      <td>49</td>\n      <td>1932100</td>\n      <td>0</td>\n      <td>4032064</td>\n      <td>0.0</td>\n      <td>9609292729</td>\n      <td>2259.985044</td>\n      <td>14890.344676</td>\n      <td>1932100</td>\n      <td>887364</td>\n    </tr>\n    <tr>\n      <th>10571</th>\n      <td>2.66200</td>\n      <td>3</td>\n      <td>1.50</td>\n      <td>1430</td>\n      <td>9600</td>\n      <td>1.0</td>\n      <td>0.0</td>\n      <td>0.0</td>\n      <td>4</td>\n      <td>7</td>\n      <td>...</td>\n      <td>49</td>\n      <td>2044900</td>\n      <td>0</td>\n      <td>3865156</td>\n      <td>0.0</td>\n      <td>9615567481</td>\n      <td>2253.752192</td>\n      <td>14920.622500</td>\n      <td>2528100</td>\n      <td>104857600</td>\n    </tr>\n    <tr>\n      <th>11483</th>\n      <td>4.55000</td>\n      <td>2</td>\n      <td>1.50</td>\n      <td>1020</td>\n      <td>1146</td>\n      <td>3.0</td>\n      <td>0.0</td>\n      <td>0.0</td>\n      <td>3</td>\n      <td>7</td>\n      <td>...</td>\n      <td>49</td>\n      <td>1040400</td>\n      <td>0</td>\n      <td>4004001</td>\n      <td>0.0</td>\n      <td>9626553225</td>\n      <td>2273.134471</td>\n      <td>14963.405625</td>\n      <td>1295044</td>\n      <td>1336336</td>\n    </tr>\n    <tr>\n      <th>21039</th>\n      <td>4.71275</td>\n      <td>4</td>\n      <td>2.50</td>\n      <td>3361</td>\n      <td>5038</td>\n      <td>2.0</td>\n      <td>0.0</td>\n      <td>0.0</td>\n      <td>3</td>\n      <td>9</td>\n      <td>...</td>\n      <td>81</td>\n      <td>11296321</td>\n      <td>0</td>\n      <td>4056196</td>\n      <td>0.0</td>\n      <td>9622040464</td>\n      <td>2239.835464</td>\n      <td>14924.287225</td>\n      <td>5363856</td>\n      <td>16851025</td>\n    </tr>\n    <tr>\n      <th>14372</th>\n      <td>22.00000</td>\n      <td>3</td>\n      <td>2.00</td>\n      <td>3570</td>\n      <td>30456</td>\n      <td>1.0</td>\n      <td>0.0</td>\n      <td>1.0</td>\n      <td>3</td>\n      <td>8</td>\n      <td>...</td>\n      <td>64</td>\n      <td>4284900</td>\n      <td>2250000</td>\n      <td>3786916</td>\n      <td>3928324.0</td>\n      <td>9611645521</td>\n      <td>2269.693466</td>\n      <td>14942.617600</td>\n      <td>12744900</td>\n      <td>751746724</td>\n    </tr>\n  </tbody>\n</table>\n<p>10717 rows × 37 columns</p>\n</div>"
     },
     "metadata": {},
     "execution_count": 58
    }
   ],
   "source": [
    "train_poly = add_polynomial_feature(train, range(1, train.shape[1]), [2])\n",
    "test_poly = add_polynomial_feature(test, range(1, train.shape[1]), [2])\n",
    "train_poly"
   ]
  },
  {
   "cell_type": "code",
   "execution_count": 59,
   "metadata": {},
   "outputs": [
    {
     "output_type": "execute_result",
     "data": {
      "text/plain": [
       "3.5707431648087073"
      ]
     },
     "metadata": {},
     "execution_count": 59
    }
   ],
   "source": [
    "generalization_error_split(train_poly, test_poly, range(1, train_poly.shape[1]), 0)"
   ]
  },
  {
   "cell_type": "code",
   "execution_count": 60,
   "metadata": {},
   "outputs": [
    {
     "output_type": "stream",
     "name": "stdout",
     "text": [
      "30 variables selected.\ngeneralization error:  3.5743374296005133\n"
     ]
    }
   ],
   "source": [
    "forward_poly_vs = forward_selection_nostop(train_poly, range(1, train_poly.shape[1]), 0) # forward selection without stop\n",
    "print_selection_info(train_poly, test_poly, forward_poly_vs)"
   ]
  },
  {
   "cell_type": "code",
   "execution_count": 61,
   "metadata": {},
   "outputs": [
    {
     "output_type": "stream",
     "name": "stdout",
     "text": [
      "29 variables selected.\ngeneralization error:  3.580739592106952\n"
     ]
    }
   ],
   "source": [
    "backward_poly_vs = backward_selection_nostop(train_poly, range(1, train_poly.shape[1]), 0)\n",
    "print_selection_info(train_poly, test_poly, backward_poly_vs)"
   ]
  },
  {
   "cell_type": "code",
   "execution_count": 62,
   "metadata": {},
   "outputs": [
    {
     "output_type": "stream",
     "name": "stdout",
     "text": [
      "24 variables selected.\ngeneralization error:  3.576108591070458\n"
     ]
    }
   ],
   "source": [
    "forward_poly_pval_vs = forward_selection_pval(train_poly, range(1, train_poly.shape[1]), 0)\n",
    "print_selection_info(train_poly, test_poly, forward_poly_pval_vs)"
   ]
  },
  {
   "source": [
    "### K-Fold cross validation"
   ],
   "cell_type": "markdown",
   "metadata": {}
  },
  {
   "cell_type": "code",
   "execution_count": 63,
   "metadata": {},
   "outputs": [
    {
     "output_type": "stream",
     "name": "stdout",
     "text": [
      "Forward gen. error:  3.815792503365736\n",
      "Backward gen. error:  3.815451816439898\n",
      "Forward p-value:  3.725071638249534\n"
     ]
    }
   ],
   "source": [
    "houses_poly = add_polynomial_feature(train, range(1, train.shape[1]), [2])\n",
    "\n",
    "print(\"Forward gen. error: \", k_fold_generalization_error(houses_poly, 10, forward_poly_vs, 0))\n",
    "print(\"Backward gen. error: \", k_fold_generalization_error(houses_poly, 10, backward_poly_vs, 0))\n",
    "print(\"Forward p-value: \", k_fold_generalization_error(houses_poly, 10, forward_poly_pval_vs, 0))"
   ]
  },
  {
   "source": [
    "__Conclusion:__\n",
    "Adding power 2 of variables leads to a selection of 24 variables in forward with p-value criterion that outperforms others models with a lowest K-Fold generalization error but variables selected by forward selection based on generalization error was better.\n",
    "We can try both on Kaggle."
   ],
   "cell_type": "markdown",
   "metadata": {}
  },
  {
   "source": [
    "#### Competition prediction"
   ],
   "cell_type": "markdown",
   "metadata": {}
  },
  {
   "cell_type": "code",
   "execution_count": 157,
   "metadata": {},
   "outputs": [],
   "source": [
    "houses_poly = add_polynomial_feature(houses, range(1, houses.shape[1]), [2])\n",
    "houses_competition_poly = add_polynomial_feature(houses_competition, range(1, houses_competition.shape[1]), [2])\n",
    "\n",
    "best_vs = forward_poly_vs # switch this to forward_poly_pval_vs\n",
    "\n",
    "model = build_regression(houses_poly, best_vs, 0)\n",
    "pred = make_prediction(model, houses_competition_poly)\n",
    "pred = pd.DataFrame({'ID': pred.index, 'Price': pred})\n",
    "pred.to_csv('predictions/submit1.csv', index=False)"
   ]
  },
  {
   "source": [
    "#### Results\n",
    "\n",
    "| Model                               | Gen. Error | Kaggle Error |\n",
    "|-------------------------------------|:----------:|:------------:|\n",
    "| SLR with sqft_living                |   6.96657  |    6.33249   |\n",
    "| MLR with 18 variables               |   4.44719  |    3.54670   |\n",
    "| MLR with 15 variables (gen. error)  |   4.44042  |    3.55712   |\n",
    "| MNLR with 15 best and sqft_living^2 |   3.80194  |    3.06725   |\n",
    "| MNLR with power 2 forward p-value   |   3.57610  |    3.24439   |\n",
    "| MNLR with power 2 forward           |   3.57433  |    2.89440   |"
   ],
   "cell_type": "markdown",
   "metadata": {}
  },
  {
   "source": [
    "__Let's try same thing with power 2 and 3 of variables added now.__"
   ],
   "cell_type": "markdown",
   "metadata": {}
  },
  {
   "cell_type": "code",
   "execution_count": 64,
   "metadata": {},
   "outputs": [
    {
     "output_type": "execute_result",
     "data": {
      "text/plain": [
       "          price  bedrooms  bathrooms  sqft_living  sqft_lot  floors  \\\n",
       "14833   8.25000         5       1.75         2330      6000     1.5   \n",
       "14069   2.55500         4       1.00         1370     41194     1.5   \n",
       "14855   2.49950         3       2.00         1550     15040     1.0   \n",
       "5691    6.60000         4       2.50         2510      4543     2.0   \n",
       "2015    5.80000         3       3.25         1490       857     3.0   \n",
       "...         ...       ...        ...          ...       ...     ...   \n",
       "21031   3.02059         4       2.00         1390       745     3.0   \n",
       "10571   2.66200         3       1.50         1430      9600     1.0   \n",
       "11483   4.55000         2       1.50         1020      1146     3.0   \n",
       "21039   4.71275         4       2.50         3361      5038     2.0   \n",
       "14372  22.00000         3       2.00         3570     30456     1.0   \n",
       "\n",
       "       waterfront  view  condition  grade  ...  zipcode_pow_2  \\\n",
       "14833         0.0   0.0          3      8  ...     9643043601   \n",
       "14069         0.0   2.0          5      5  ...     9622040464   \n",
       "14855         0.0   0.0          4      6  ...     9615567481   \n",
       "5691          0.0   0.0          3      8  ...     9618705625   \n",
       "2015          0.0   0.0          3      8  ...     9624002404   \n",
       "...           ...   ...        ...    ...  ...            ...   \n",
       "21031         0.0   0.0          3      7  ...     9609292729   \n",
       "10571         0.0   0.0          4      7  ...     9615567481   \n",
       "11483         0.0   0.0          3      7  ...     9626553225   \n",
       "21039         0.0   0.0          3      9  ...     9622040464   \n",
       "14372         0.0   1.0          3      8  ...     9611645521   \n",
       "\n",
       "         zipcode_pow_3    lat_pow_2      lat_pow_3    long_pow_2  \\\n",
       "14833  946937238574599  2270.150845  108163.834186  14979.801664   \n",
       "14069  943845193194688  2234.604167  105633.314320  14919.156736   \n",
       "14855  942892931619379  2255.043661  107085.934857  14908.165801   \n",
       "5691   943354554171875  2265.398254  107824.348398  14893.517521   \n",
       "2015   944133883837208  2269.159914  108093.020939  14963.160976   \n",
       "...                ...          ...            ...           ...   \n",
       "21031  941970138345683  2259.985044  107438.107026  14890.344676   \n",
       "10571  942892931619379  2253.752192  106993.955423  14920.622500   \n",
       "11483  944509269670875  2273.134471  108377.141416  14963.405625   \n",
       "21039  943845193194688  2239.835464  106004.469003  14924.287225   \n",
       "14372  942316115233319  2269.693466  108131.147307  14942.617600   \n",
       "\n",
       "         long_pow_3  sqft_living15_pow_2  sqft_living15_pow_3  \\\n",
       "14833 -1.833408e+06              4622500           9938375000   \n",
       "14069 -1.822285e+06              2528100           4019679000   \n",
       "14855 -1.820272e+06              2280100           3442951000   \n",
       "5691  -1.817590e+06              6502500          16581375000   \n",
       "2015  -1.830354e+06              2402500           3723875000   \n",
       "...             ...                  ...                  ...   \n",
       "21031 -1.817009e+06              1932100           2685619000   \n",
       "10571 -1.822554e+06              2528100           4019679000   \n",
       "11483 -1.830399e+06              1295044           1473760072   \n",
       "21039 -1.823226e+06              5363856          12422690496   \n",
       "14372 -1.826586e+06             12744900          45499293000   \n",
       "\n",
       "       sqft_lot15_pow_2  sqft_lot15_pow_3  \n",
       "14833          36000000      216000000000  \n",
       "14069        7067764900   594186995143000  \n",
       "14855        1715285056    71040245879296  \n",
       "5691           21855625      102175046875  \n",
       "2015            1192464        1302170688  \n",
       "...                 ...               ...  \n",
       "21031            887364         835896888  \n",
       "10571         104857600     1073741824000  \n",
       "11483           1336336        1544804416  \n",
       "21039          16851025       69173457625  \n",
       "14372         751746724    20611391678632  \n",
       "\n",
       "[10717 rows x 55 columns]"
      ],
      "text/html": "<div>\n<style scoped>\n    .dataframe tbody tr th:only-of-type {\n        vertical-align: middle;\n    }\n\n    .dataframe tbody tr th {\n        vertical-align: top;\n    }\n\n    .dataframe thead th {\n        text-align: right;\n    }\n</style>\n<table border=\"1\" class=\"dataframe\">\n  <thead>\n    <tr style=\"text-align: right;\">\n      <th></th>\n      <th>price</th>\n      <th>bedrooms</th>\n      <th>bathrooms</th>\n      <th>sqft_living</th>\n      <th>sqft_lot</th>\n      <th>floors</th>\n      <th>waterfront</th>\n      <th>view</th>\n      <th>condition</th>\n      <th>grade</th>\n      <th>...</th>\n      <th>zipcode_pow_2</th>\n      <th>zipcode_pow_3</th>\n      <th>lat_pow_2</th>\n      <th>lat_pow_3</th>\n      <th>long_pow_2</th>\n      <th>long_pow_3</th>\n      <th>sqft_living15_pow_2</th>\n      <th>sqft_living15_pow_3</th>\n      <th>sqft_lot15_pow_2</th>\n      <th>sqft_lot15_pow_3</th>\n    </tr>\n  </thead>\n  <tbody>\n    <tr>\n      <th>14833</th>\n      <td>8.25000</td>\n      <td>5</td>\n      <td>1.75</td>\n      <td>2330</td>\n      <td>6000</td>\n      <td>1.5</td>\n      <td>0.0</td>\n      <td>0.0</td>\n      <td>3</td>\n      <td>8</td>\n      <td>...</td>\n      <td>9643043601</td>\n      <td>946937238574599</td>\n      <td>2270.150845</td>\n      <td>108163.834186</td>\n      <td>14979.801664</td>\n      <td>-1.833408e+06</td>\n      <td>4622500</td>\n      <td>9938375000</td>\n      <td>36000000</td>\n      <td>216000000000</td>\n    </tr>\n    <tr>\n      <th>14069</th>\n      <td>2.55500</td>\n      <td>4</td>\n      <td>1.00</td>\n      <td>1370</td>\n      <td>41194</td>\n      <td>1.5</td>\n      <td>0.0</td>\n      <td>2.0</td>\n      <td>5</td>\n      <td>5</td>\n      <td>...</td>\n      <td>9622040464</td>\n      <td>943845193194688</td>\n      <td>2234.604167</td>\n      <td>105633.314320</td>\n      <td>14919.156736</td>\n      <td>-1.822285e+06</td>\n      <td>2528100</td>\n      <td>4019679000</td>\n      <td>7067764900</td>\n      <td>594186995143000</td>\n    </tr>\n    <tr>\n      <th>14855</th>\n      <td>2.49950</td>\n      <td>3</td>\n      <td>2.00</td>\n      <td>1550</td>\n      <td>15040</td>\n      <td>1.0</td>\n      <td>0.0</td>\n      <td>0.0</td>\n      <td>4</td>\n      <td>6</td>\n      <td>...</td>\n      <td>9615567481</td>\n      <td>942892931619379</td>\n      <td>2255.043661</td>\n      <td>107085.934857</td>\n      <td>14908.165801</td>\n      <td>-1.820272e+06</td>\n      <td>2280100</td>\n      <td>3442951000</td>\n      <td>1715285056</td>\n      <td>71040245879296</td>\n    </tr>\n    <tr>\n      <th>5691</th>\n      <td>6.60000</td>\n      <td>4</td>\n      <td>2.50</td>\n      <td>2510</td>\n      <td>4543</td>\n      <td>2.0</td>\n      <td>0.0</td>\n      <td>0.0</td>\n      <td>3</td>\n      <td>8</td>\n      <td>...</td>\n      <td>9618705625</td>\n      <td>943354554171875</td>\n      <td>2265.398254</td>\n      <td>107824.348398</td>\n      <td>14893.517521</td>\n      <td>-1.817590e+06</td>\n      <td>6502500</td>\n      <td>16581375000</td>\n      <td>21855625</td>\n      <td>102175046875</td>\n    </tr>\n    <tr>\n      <th>2015</th>\n      <td>5.80000</td>\n      <td>3</td>\n      <td>3.25</td>\n      <td>1490</td>\n      <td>857</td>\n      <td>3.0</td>\n      <td>0.0</td>\n      <td>0.0</td>\n      <td>3</td>\n      <td>8</td>\n      <td>...</td>\n      <td>9624002404</td>\n      <td>944133883837208</td>\n      <td>2269.159914</td>\n      <td>108093.020939</td>\n      <td>14963.160976</td>\n      <td>-1.830354e+06</td>\n      <td>2402500</td>\n      <td>3723875000</td>\n      <td>1192464</td>\n      <td>1302170688</td>\n    </tr>\n    <tr>\n      <th>...</th>\n      <td>...</td>\n      <td>...</td>\n      <td>...</td>\n      <td>...</td>\n      <td>...</td>\n      <td>...</td>\n      <td>...</td>\n      <td>...</td>\n      <td>...</td>\n      <td>...</td>\n      <td>...</td>\n      <td>...</td>\n      <td>...</td>\n      <td>...</td>\n      <td>...</td>\n      <td>...</td>\n      <td>...</td>\n      <td>...</td>\n      <td>...</td>\n      <td>...</td>\n      <td>...</td>\n    </tr>\n    <tr>\n      <th>21031</th>\n      <td>3.02059</td>\n      <td>4</td>\n      <td>2.00</td>\n      <td>1390</td>\n      <td>745</td>\n      <td>3.0</td>\n      <td>0.0</td>\n      <td>0.0</td>\n      <td>3</td>\n      <td>7</td>\n      <td>...</td>\n      <td>9609292729</td>\n      <td>941970138345683</td>\n      <td>2259.985044</td>\n      <td>107438.107026</td>\n      <td>14890.344676</td>\n      <td>-1.817009e+06</td>\n      <td>1932100</td>\n      <td>2685619000</td>\n      <td>887364</td>\n      <td>835896888</td>\n    </tr>\n    <tr>\n      <th>10571</th>\n      <td>2.66200</td>\n      <td>3</td>\n      <td>1.50</td>\n      <td>1430</td>\n      <td>9600</td>\n      <td>1.0</td>\n      <td>0.0</td>\n      <td>0.0</td>\n      <td>4</td>\n      <td>7</td>\n      <td>...</td>\n      <td>9615567481</td>\n      <td>942892931619379</td>\n      <td>2253.752192</td>\n      <td>106993.955423</td>\n      <td>14920.622500</td>\n      <td>-1.822554e+06</td>\n      <td>2528100</td>\n      <td>4019679000</td>\n      <td>104857600</td>\n      <td>1073741824000</td>\n    </tr>\n    <tr>\n      <th>11483</th>\n      <td>4.55000</td>\n      <td>2</td>\n      <td>1.50</td>\n      <td>1020</td>\n      <td>1146</td>\n      <td>3.0</td>\n      <td>0.0</td>\n      <td>0.0</td>\n      <td>3</td>\n      <td>7</td>\n      <td>...</td>\n      <td>9626553225</td>\n      <td>944509269670875</td>\n      <td>2273.134471</td>\n      <td>108377.141416</td>\n      <td>14963.405625</td>\n      <td>-1.830399e+06</td>\n      <td>1295044</td>\n      <td>1473760072</td>\n      <td>1336336</td>\n      <td>1544804416</td>\n    </tr>\n    <tr>\n      <th>21039</th>\n      <td>4.71275</td>\n      <td>4</td>\n      <td>2.50</td>\n      <td>3361</td>\n      <td>5038</td>\n      <td>2.0</td>\n      <td>0.0</td>\n      <td>0.0</td>\n      <td>3</td>\n      <td>9</td>\n      <td>...</td>\n      <td>9622040464</td>\n      <td>943845193194688</td>\n      <td>2239.835464</td>\n      <td>106004.469003</td>\n      <td>14924.287225</td>\n      <td>-1.823226e+06</td>\n      <td>5363856</td>\n      <td>12422690496</td>\n      <td>16851025</td>\n      <td>69173457625</td>\n    </tr>\n    <tr>\n      <th>14372</th>\n      <td>22.00000</td>\n      <td>3</td>\n      <td>2.00</td>\n      <td>3570</td>\n      <td>30456</td>\n      <td>1.0</td>\n      <td>0.0</td>\n      <td>1.0</td>\n      <td>3</td>\n      <td>8</td>\n      <td>...</td>\n      <td>9611645521</td>\n      <td>942316115233319</td>\n      <td>2269.693466</td>\n      <td>108131.147307</td>\n      <td>14942.617600</td>\n      <td>-1.826586e+06</td>\n      <td>12744900</td>\n      <td>45499293000</td>\n      <td>751746724</td>\n      <td>20611391678632</td>\n    </tr>\n  </tbody>\n</table>\n<p>10717 rows × 55 columns</p>\n</div>"
     },
     "metadata": {},
     "execution_count": 64
    }
   ],
   "source": [
    "train_poly = add_polynomial_feature(train, range(1, train.shape[1]), [2, 3])\n",
    "test_poly = add_polynomial_feature(test, range(1, train.shape[1]), [2, 3])\n",
    "train_poly"
   ]
  },
  {
   "cell_type": "code",
   "execution_count": 31,
   "metadata": {},
   "outputs": [
    {
     "output_type": "stream",
     "name": "stdout",
     "text": [
      "33 variables selected.\ngeneralization error:  3.201789496096117\n"
     ]
    }
   ],
   "source": [
    "forward_poly2_vs = forward_selection_nostop(train_poly, range(1, train_poly.shape[1]), 0) # forward selection without stop\n",
    "print_selection_info(train_poly, test_poly, forward_poly2_vs)"
   ]
  },
  {
   "cell_type": "code",
   "execution_count": 127,
   "metadata": {},
   "outputs": [
    {
     "output_type": "stream",
     "name": "stdout",
     "text": [
      "26 variables selected.\ngeneralization error:  3.8341550292193136\n"
     ]
    }
   ],
   "source": [
    "backward_poly2_vs = backward_selection_nostop(train_poly, range(1, train_poly.shape[1]), 0)\n",
    "print_selection_info(train_poly, test_poly, backward_poly2_vs)"
   ]
  },
  {
   "cell_type": "code",
   "execution_count": 70,
   "metadata": {},
   "outputs": [
    {
     "output_type": "stream",
     "name": "stdout",
     "text": [
      "39 variables selected.\ngeneralization error:  5.027808141234724\n"
     ]
    }
   ],
   "source": [
    "forward_poly2_pval_vs = forward_selection_pval(train_poly, range(1, train_poly.shape[1]), 0)\n",
    "print_selection_info(train_poly, test_poly, forward_poly2_pval_vs)"
   ]
  },
  {
   "cell_type": "code",
   "execution_count": 66,
   "metadata": {},
   "outputs": [
    {
     "output_type": "stream",
     "name": "stdout",
     "text": [
      "27 variables selected.\ngeneralization error:  3.200141928809219\n"
     ]
    }
   ],
   "source": [
    "forward_poly3_vs = forward_selection_strict(train_poly, range(1, train_poly.shape[1]), 0) # forward selection with strict stop\n",
    "print_selection_info(train_poly, test_poly, forward_poly3_vs)"
   ]
  },
  {
   "cell_type": "code",
   "execution_count": 168,
   "metadata": {},
   "outputs": [
    {
     "output_type": "stream",
     "name": "stdout",
     "text": [
      "41 variables selected.\ngeneralization error:  3.776902626139534\n"
     ]
    }
   ],
   "source": [
    "backward_poly3_vs = backward_selection_strict(train_poly, range(1, train_poly.shape[1]), 0) # forward selection with strict stop\n",
    "print_selection_info(train_poly, test_poly, backward_poly3_vs)"
   ]
  },
  {
   "source": [
    "#### K-Fold Cross Validation"
   ],
   "cell_type": "markdown",
   "metadata": {}
  },
  {
   "cell_type": "code",
   "execution_count": 169,
   "metadata": {},
   "outputs": [
    {
     "output_type": "stream",
     "name": "stdout",
     "text": [
      "Forward gen. error:  5.3193158209034035\n",
      "Backward gen. error:  6.40952476969304\n",
      "Forward p-value:  6.339742383436884\n",
      "Forward gen. error strict:  4.712380903314042\n",
      "Backward gen. error strict:  5.630730855574193\n"
     ]
    }
   ],
   "source": [
    "houses_poly = add_polynomial_feature(train, range(1, train.shape[1]), [2, 3])\n",
    "\n",
    "print(\"Forward gen. error: \", k_fold_generalization_error(houses_poly, 10, forward_poly2_vs, 0))\n",
    "print(\"Backward gen. error: \", k_fold_generalization_error(houses_poly, 10, backward_poly2_vs, 0))\n",
    "print(\"Forward p-value: \", k_fold_generalization_error(houses_poly, 10, forward_poly2_pval_vs, 0))\n",
    "print(\"Forward gen. error strict: \", k_fold_generalization_error(houses_poly, 10, forward_poly3_vs, 0))\n",
    "print(\"Backward gen. error strict: \", k_fold_generalization_error(houses_poly, 10, backward_poly3_vs, 0))\n"
   ]
  },
  {
   "source": [
    "__Conclusion:__\n",
    "We notice that forward selection with strict and no stop criterion based on generalization error seem to give better performances at predicting new values.\n",
    "We can try both on Kaggle."
   ],
   "cell_type": "markdown",
   "metadata": {}
  },
  {
   "source": [
    "#### Competition prediction"
   ],
   "cell_type": "markdown",
   "metadata": {}
  },
  {
   "cell_type": "code",
   "execution_count": 130,
   "metadata": {},
   "outputs": [],
   "source": [
    "houses_poly = add_polynomial_feature(houses, range(1, houses.shape[1]), [2, 3])\n",
    "houses_competition_poly = add_polynomial_feature(houses_competition, range(1, houses_competition.shape[1]), [2, 3])\n",
    "\n",
    "best_vs = forward_poly3_vs\n",
    "\n",
    "model = build_regression(houses_poly, best_vs, 0)\n",
    "pred = make_prediction(model, houses_competition_poly)\n",
    "pred = pd.DataFrame({'ID': pred.index, 'Price': pred})\n",
    "pred.to_csv('predictions/submit3.csv', index=False)"
   ]
  },
  {
   "source": [
    "The model based on forward variable selection with power 2 and 3 seems to be better than the previous. Let us compare the generalization errors on the whole dataset."
   ],
   "cell_type": "markdown",
   "metadata": {}
  },
  {
   "source": [
    "#### Results\n",
    "\n",
    "| Model                               | Gen. Error | Kaggle Error |\n",
    "|-------------------------------------|:----------:|:------------:|\n",
    "| SLR with sqft_living                |   6.96657  |    6.33249   |\n",
    "| MLR with 18 variables               |   4.44719  |    3.54670   |\n",
    "| MLR with 15 variables (gen. error)  |   4.44042  |    3.55712   |\n",
    "| MNLR with 15 best and sqft_living^2 |   3.80194  |    3.06725   |\n",
    "| MNLR with power 2 forward p-value   |   3.57610  |    3.24439   |\n",
    "| MNLR with power 2 forward           |   3.57433  |    2.89440   |\n",
    "| MNLR with power 2,3 forward         |   3.20178  |    2.57199   |\n",
    "| MNLR with power 2,3 forward strict  |   3.20014  |    2.57134   |"
   ],
   "cell_type": "markdown",
   "metadata": {}
  },
  {
   "source": [
    "__Same thing with more powers (2-5) !__"
   ],
   "cell_type": "markdown",
   "metadata": {}
  },
  {
   "cell_type": "code",
   "execution_count": 81,
   "metadata": {},
   "outputs": [
    {
     "output_type": "execute_result",
     "data": {
      "text/plain": [
       "(10717, 91)"
      ]
     },
     "metadata": {},
     "execution_count": 81
    }
   ],
   "source": [
    "train_poly = add_polynomial_feature(train, range(1, train.shape[1]), range(2, 6))\n",
    "test_poly = add_polynomial_feature(test, range(1, train.shape[1]), range(2, 6))\n",
    "train_poly.shape"
   ]
  },
  {
   "cell_type": "code",
   "execution_count": 82,
   "metadata": {},
   "outputs": [
    {
     "output_type": "stream",
     "name": "stdout",
     "text": [
      "41 variables selected.\ngeneralization error:  3.1887291288297486\n"
     ]
    }
   ],
   "source": [
    "# forward selection with strict stop\n",
    "forward_poly4_vs = forward_selection_strict(train_poly, range(1, train_poly.shape[1]), 0)\n",
    "print_selection_info(train_poly, test_poly, forward_poly4_vs) "
   ]
  },
  {
   "cell_type": "code",
   "execution_count": 37,
   "metadata": {},
   "outputs": [
    {
     "output_type": "stream",
     "name": "stdout",
     "text": [
      "57 variables selected.\n",
      "generalization error:  3.2758235153116964\n"
     ]
    }
   ],
   "source": [
    "# forward selection with strict stop\n",
    "forward_poly4_nostop_vs = forward_selection_nostop(train_poly, range(1, train_poly.shape[1]), 0)\n",
    "print_selection_info(train_poly, test_poly, forward_poly4_nostop_vs) "
   ]
  },
  {
   "cell_type": "code",
   "execution_count": 140,
   "metadata": {},
   "outputs": [
    {
     "output_type": "stream",
     "name": "stdout",
     "text": [
      "81 variables selected.\n",
      "generalization error:  17.214366255680165\n"
     ]
    }
   ],
   "source": [
    "# backward selection with strict stop\n",
    "backward_poly4_vs = backward_selection_strict(train_poly, range(1, train_poly.shape[1]), 0)\n",
    "print_selection_info(train_poly, test_poly, backward_poly4_vs) "
   ]
  },
  {
   "source": [
    "__Conclusion__ <br>\n",
    "\n",
    "Computing starts to be really long with these 90 variables !\n",
    "Applying forward selection strict based on generalization error seem to give a better model, it's not the case with the backward selection which selection is worst than choosing any single variable. \n",
    "\n",
    "Let us try that forward selection model predictions on Kaggle as well."
   ],
   "cell_type": "markdown",
   "metadata": {}
  },
  {
   "source": [
    "#### Competition prediction"
   ],
   "cell_type": "markdown",
   "metadata": {}
  },
  {
   "cell_type": "code",
   "execution_count": 78,
   "metadata": {},
   "outputs": [],
   "source": [
    "houses_poly = add_polynomial_feature(houses, range(1, houses.shape[1]), range(2, 6))\n",
    "houses_competition_poly = add_polynomial_feature(houses_competition, range(1, houses_competition.shape[1]), range(2, 6))\n",
    "\n",
    "best_vs = forward_poly4_vs\n",
    "\n",
    "model = build_regression(houses_poly, best_vs, 0)\n",
    "pred = make_prediction(model, houses_competition_poly)\n",
    "pred = pd.DataFrame({'ID': pred.index, 'Price': pred})\n",
    "pred.to_csv('predictions/submit6.csv', index=False)"
   ]
  },
  {
   "source": [
    "#### Results\n",
    "\n",
    "| Model                               | Gen. Error | Kaggle Error |\n",
    "|-------------------------------------|:----------:|:------------:|\n",
    "| SLR with sqft_living                |   6.96657  |    6.33249   |\n",
    "| MLR with 18 variables               |   4.44719  |    3.54670   |\n",
    "| MLR with 15 variables (gen. error)  |   4.44042  |    3.55712   |\n",
    "| MNLR with 15 best and sqft_living^2 |   3.80194  |    3.06725   |\n",
    "| MNLR with power 2 forward p-value   |   3.57610  |    3.24439   |\n",
    "| MNLR with power 2 forward           |   3.57433  |    2.89440   |\n",
    "| MNLR with power 2,3 forward         |   3.20178  |    2.57199   |\n",
    "| MNLR with power 2,3 forward strict  |   3.20014  |  __2.57134__ |\n",
    "| MNLR with power 2-5 forward strict  |   3.18872  |    2.59864   |"
   ],
   "cell_type": "markdown",
   "metadata": {}
  },
  {
   "source": [
    "__Based on our previous performances, Let's added even more powers (2 to 10) and apply forward selection strict__"
   ],
   "cell_type": "markdown",
   "metadata": {}
  },
  {
   "cell_type": "code",
   "execution_count": 19,
   "metadata": {},
   "outputs": [
    {
     "output_type": "execute_result",
     "data": {
      "text/plain": [
       "(10717, 181)"
      ]
     },
     "metadata": {},
     "execution_count": 19
    }
   ],
   "source": [
    "train_poly = add_polynomial_feature(train, range(1, train.shape[1]), range(2, 11))\n",
    "test_poly = add_polynomial_feature(test, range(1, train.shape[1]), range(2, 11))\n",
    "train_poly.shape"
   ]
  },
  {
   "cell_type": "code",
   "execution_count": 20,
   "metadata": {},
   "outputs": [
    {
     "output_type": "stream",
     "name": "stdout",
     "text": [
      "38 variables selected.\ngeneralization error:  3.181578290982501\n"
     ]
    }
   ],
   "source": [
    "# forward selection with strict stop\n",
    "forward_poly5_vs = forward_selection_strict(train_poly, range(1, train_poly.shape[1]), 0)\n",
    "print_selection_info(train_poly, test_poly, forward_poly5_vs) "
   ]
  },
  {
   "source": [
    "Its seems to lead to better performances even though computation took long time. Let us predict houses competition prices with this model but keep training not on the whole dataset but just on the train_poly dataset."
   ],
   "cell_type": "markdown",
   "metadata": {}
  },
  {
   "source": [
    "#### Competition prediction"
   ],
   "cell_type": "markdown",
   "metadata": {}
  },
  {
   "cell_type": "code",
   "execution_count": 21,
   "metadata": {},
   "outputs": [],
   "source": [
    "houses_poly = add_polynomial_feature(houses, range(1, houses.shape[1]), range(2, 11))\n",
    "houses_competition_poly = add_polynomial_feature(houses_competition, range(1, houses_competition.shape[1]), range(2, 11))\n",
    "\n",
    "best_vs = forward_poly5_vs\n",
    "\n",
    "model = build_regression(train_poly, best_vs, 0) # use train_poly dataset instead of houses_poly\n",
    "pred = make_prediction(model, houses_competition_poly)\n",
    "pred = pd.DataFrame({'ID': pred.index, 'Price': pred})\n",
    "pred.to_csv('predictions/submit7.csv', index=False)"
   ]
  },
  {
   "source": [
    "#### Results\n",
    "\n",
    "| Model                               | Gen. Error | Kaggle Error |\n",
    "|-------------------------------------|:----------:|:------------:|\n",
    "| SLR with sqft_living                |   6.96657  |    6.33249   |\n",
    "| MLR with 18 variables               |   4.44719  |    3.54670   |\n",
    "| MLR with 15 variables (gen. error)  |   4.44042  |    3.55712   |\n",
    "| MNLR with 15 best and sqft_living^2 |   3.80194  |    3.06725   |\n",
    "| MNLR with power 2 forward p-value   |   3.57610  |    3.24439   |\n",
    "| MNLR with power 2 forward           |   3.57433  |    2.89440   |\n",
    "| MNLR with power 2,3 forward         |   3.20178  |    2.57199   |\n",
    "| MNLR with power 2,3 forward strict  |   3.20014  |    2.57134   |\n",
    "| MNLR with power 2-5 forward strict  |   3.18872  |    2.59864   |\n",
    "| MNLR with power 2-10 forward strict |   3.18157  |  __2.48896__ |"
   ],
   "cell_type": "markdown",
   "metadata": {}
  },
  {
   "cell_type": "code",
   "execution_count": 22,
   "metadata": {},
   "outputs": [
    {
     "output_type": "execute_result",
     "data": {
      "text/plain": [
       "578515.7514052053"
      ]
     },
     "metadata": {},
     "execution_count": 22
    }
   ],
   "source": [
    "# K-Fold error of this last model\n",
    "\n",
    "# houses_poly = add_polynomial_feature(houses, range(1, houses.shape[1]), range(2, 11))\n",
    "k_fold_generalization_error(houses_poly, 10, forward_poly5_vs, 0)"
   ]
  },
  {
   "source": [
    "__Conclusion:__\n",
    "\n",
    "The model based on forward variable selection for variables with power 2-10 has the lowest generalization error is the best at predicting new values.\n",
    "His K-Fold generalization error is way worst and that can be explained by the fact that this model take more into account the latest values (not oldest ones).\n",
    "\n",
    "Since the variable selection process starts to be slow, we can stop here and choose the best selection so far:\n",
    "\n",
    "Forward variable selection with variables at powers 2 to 10 based on generalization error with a stop criterion.\n",
    "The errors of the Multiple Nonlinear Regression model based on that selection is in the table above, with a Kaggle error of __2.48896__"
   ],
   "cell_type": "markdown",
   "metadata": {}
  },
  {
   "cell_type": "code",
   "execution_count": 24,
   "metadata": {},
   "outputs": [
    {
     "output_type": "stream",
     "name": "stdout",
     "text": [
      "[37, 15, 93, 6, 12, 7, 28, 149, 14, 156, 8, 128, 17, 119, 127, 1, 109, 100, 10, 154, 118, 148, 150, 147, 25, 19, 21, 101, 22, 46, 3, 11, 5, 157, 155, 4, 146, 83]\n"
     ]
    }
   ],
   "source": [
    "forward_poly5_vs = [int(i) for i in forward_poly5_vs] # convert to int\n",
    "\n",
    "print(forward_poly5_vs) # print for easy reusability"
   ]
  },
  {
   "cell_type": "code",
   "execution_count": 26,
   "metadata": {},
   "outputs": [
    {
     "output_type": "execute_result",
     "data": {
      "text/plain": [
       "3.181578290982501"
      ]
     },
     "metadata": {},
     "execution_count": 26
    }
   ],
   "source": [
    "# Model choosed !\n",
    "\n",
    "train_poly = add_polynomial_feature(train, range(1, train.shape[1]), range(2, 11))\n",
    "test_poly = add_polynomial_feature(test, range(1, train.shape[1]), range(2, 11))\n",
    "\n",
    "best_vs = [37, 15, 93, 6, 12, 7, 28, 149, 14, 156, 8, 128, 17, 119, 127, 1, 109, 100, 10, 154, 118, 148, 150, 147, 25, 19, 21, 101, 22, 46, 3, 11, 5, 157, 155, 4, 146, 83] # forward power 2-10 strict stop\n",
    "\n",
    "model = build_regression(train_poly, best_vs, 0) # use this model !\n",
    "\n",
    "generalization_error_split(train_poly, test_poly, best_vs, 0)"
   ]
  },
  {
   "source": [
    "## To go further..."
   ],
   "cell_type": "markdown",
   "metadata": {}
  },
  {
   "source": [
    "We got interested in machine learning algorithms that can improve our model."
   ],
   "cell_type": "markdown",
   "metadata": {}
  },
  {
   "cell_type": "code",
   "execution_count": 113,
   "metadata": {},
   "outputs": [],
   "source": [
    "import xgboost as xgb\n",
    "from sklearn.ensemble import RandomForestRegressor\n",
    "from sklearn.ensemble import GradientBoostingRegressor\n",
    "\n",
    "from sklearn.metrics import mean_squared_error\n",
    "from sklearn.model_selection import KFold, train_test_split\n",
    "from sklearn.feature_selection import SelectFromModel"
   ]
  },
  {
   "cell_type": "code",
   "execution_count": 114,
   "metadata": {},
   "outputs": [],
   "source": [
    "X = houses.iloc[:,1:]\n",
    "Y = houses.iloc[:,0]\n",
    "# split data into train and test sets\n",
    "X_train, X_test, y_train, y_test = train_test_split(X, Y, test_size=0.2, random_state=42)"
   ]
  },
  {
   "source": [
    "### 1. XGBoost"
   ],
   "cell_type": "markdown",
   "metadata": {}
  },
  {
   "cell_type": "code",
   "execution_count": 131,
   "metadata": {},
   "outputs": [
    {
     "output_type": "execute_result",
     "data": {
      "text/plain": [
       "1.504279097985352"
      ]
     },
     "metadata": {},
     "execution_count": 131
    }
   ],
   "source": [
    "xgb_model = xgb.XGBRegressor(objective=\"reg:squarederror\", random_state=20, learning_rate=0.1)\n",
    "xgb_model.fit(X_train, y_train)\n",
    "\n",
    "# MSE\n",
    "y_pred = xgb_model.predict(X_test)\n",
    "mse = mean_squared_error(y_test, y_pred)\n",
    "\n",
    "clear_output()\n",
    "mse"
   ]
  },
  {
   "cell_type": "code",
   "execution_count": 132,
   "metadata": {},
   "outputs": [
    {
     "output_type": "execute_result",
     "data": {
      "text/plain": [
       "<AxesSubplot:title={'center':'Feature importance'}, xlabel='F score', ylabel='Features'>"
      ]
     },
     "metadata": {},
     "execution_count": 132
    },
    {
     "output_type": "display_data",
     "data": {
      "text/plain": "<Figure size 432x288 with 1 Axes>",
      "image/svg+xml": "<?xml version=\"1.0\" encoding=\"utf-8\" standalone=\"no\"?>\n<!DOCTYPE svg PUBLIC \"-//W3C//DTD SVG 1.1//EN\"\n  \"http://www.w3.org/Graphics/SVG/1.1/DTD/svg11.dtd\">\n<!-- Created with matplotlib (https://matplotlib.org/) -->\n<svg height=\"277.314375pt\" version=\"1.1\" viewBox=\"0 0 443.692187 277.314375\" width=\"443.692187pt\" xmlns=\"http://www.w3.org/2000/svg\" xmlns:xlink=\"http://www.w3.org/1999/xlink\">\n <metadata>\n  <rdf:RDF xmlns:cc=\"http://creativecommons.org/ns#\" xmlns:dc=\"http://purl.org/dc/elements/1.1/\" xmlns:rdf=\"http://www.w3.org/1999/02/22-rdf-syntax-ns#\">\n   <cc:Work>\n    <dc:type rdf:resource=\"http://purl.org/dc/dcmitype/StillImage\"/>\n    <dc:date>2021-04-30T20:47:14.815403</dc:date>\n    <dc:format>image/svg+xml</dc:format>\n    <dc:creator>\n     <cc:Agent>\n      <dc:title>Matplotlib v3.3.3, https://matplotlib.org/</dc:title>\n     </cc:Agent>\n    </dc:creator>\n   </cc:Work>\n  </rdf:RDF>\n </metadata>\n <defs>\n  <style type=\"text/css\">*{stroke-linecap:butt;stroke-linejoin:round;}</style>\n </defs>\n <g id=\"figure_1\">\n  <g id=\"patch_1\">\n   <path d=\"M 0 277.314375 \nL 443.692187 277.314375 \nL 443.692187 0 \nL 0 0 \nz\n\" style=\"fill:none;\"/>\n  </g>\n  <g id=\"axes_1\">\n   <g id=\"patch_2\">\n    <path d=\"M 101.692188 239.758125 \nL 436.492188 239.758125 \nL 436.492188 22.318125 \nL 101.692188 22.318125 \nz\n\" style=\"fill:#ffffff;\"/>\n   </g>\n   <g id=\"patch_3\">\n    <path clip-path=\"url(#p58aadb7f1e)\" d=\"M 101.692188 229.458336 \nL 107.918797 229.458336 \nL 107.918797 227.169493 \nL 101.692188 227.169493 \nz\n\" style=\"fill:#1f77b4;\"/>\n   </g>\n   <g id=\"patch_4\">\n    <path clip-path=\"url(#p58aadb7f1e)\" d=\"M 101.692188 218.014125 \nL 121.155785 218.014125 \nL 121.155785 215.725283 \nL 101.692188 215.725283 \nz\n\" style=\"fill:#1f77b4;\"/>\n   </g>\n   <g id=\"patch_5\">\n    <path clip-path=\"url(#p58aadb7f1e)\" d=\"M 101.692188 206.569914 \nL 130.51747 206.569914 \nL 130.51747 204.281072 \nL 101.692188 204.281072 \nz\n\" style=\"fill:#1f77b4;\"/>\n   </g>\n   <g id=\"patch_6\">\n    <path clip-path=\"url(#p58aadb7f1e)\" d=\"M 101.692188 195.125704 \nL 136.178024 195.125704 \nL 136.178024 192.836862 \nL 101.692188 192.836862 \nz\n\" style=\"fill:#1f77b4;\"/>\n   </g>\n   <g id=\"patch_7\">\n    <path clip-path=\"url(#p58aadb7f1e)\" d=\"M 101.692188 183.681493 \nL 147.803932 183.681493 \nL 147.803932 181.392651 \nL 101.692188 181.392651 \nz\n\" style=\"fill:#1f77b4;\"/>\n   </g>\n   <g id=\"patch_8\">\n    <path clip-path=\"url(#p58aadb7f1e)\" d=\"M 101.692188 172.237283 \nL 152.027576 172.237283 \nL 152.027576 169.948441 \nL 101.692188 169.948441 \nz\n\" style=\"fill:#1f77b4;\"/>\n   </g>\n   <g id=\"patch_9\">\n    <path clip-path=\"url(#p58aadb7f1e)\" d=\"M 101.692188 160.793072 \nL 187.90678 160.793072 \nL 187.90678 158.50423 \nL 101.692188 158.50423 \nz\n\" style=\"fill:#1f77b4;\"/>\n   </g>\n   <g id=\"patch_10\">\n    <path clip-path=\"url(#p58aadb7f1e)\" d=\"M 101.692188 149.348862 \nL 214.77264 149.348862 \nL 214.77264 147.06002 \nL 101.692188 147.06002 \nz\n\" style=\"fill:#1f77b4;\"/>\n   </g>\n   <g id=\"patch_11\">\n    <path clip-path=\"url(#p58aadb7f1e)\" d=\"M 101.692188 137.904651 \nL 263.584033 137.904651 \nL 263.584033 135.615809 \nL 101.692188 135.615809 \nz\n\" style=\"fill:#1f77b4;\"/>\n   </g>\n   <g id=\"patch_12\">\n    <path clip-path=\"url(#p58aadb7f1e)\" d=\"M 101.692188 126.460441 \nL 283.483058 126.460441 \nL 283.483058 124.171599 \nL 101.692188 124.171599 \nz\n\" style=\"fill:#1f77b4;\"/>\n   </g>\n   <g id=\"patch_13\">\n    <path clip-path=\"url(#p58aadb7f1e)\" d=\"M 101.692188 115.01623 \nL 290.624064 115.01623 \nL 290.624064 112.727388 \nL 101.692188 112.727388 \nz\n\" style=\"fill:#1f77b4;\"/>\n   </g>\n   <g id=\"patch_14\">\n    <path clip-path=\"url(#p58aadb7f1e)\" d=\"M 101.692188 103.57202 \nL 291.625547 103.57202 \nL 291.625547 101.283178 \nL 101.692188 101.283178 \nz\n\" style=\"fill:#1f77b4;\"/>\n   </g>\n   <g id=\"patch_15\">\n    <path clip-path=\"url(#p58aadb7f1e)\" d=\"M 101.692188 92.127809 \nL 294.847708 92.127809 \nL 294.847708 89.838967 \nL 101.692188 89.838967 \nz\n\" style=\"fill:#1f77b4;\"/>\n   </g>\n   <g id=\"patch_16\">\n    <path clip-path=\"url(#p58aadb7f1e)\" d=\"M 101.692188 80.683599 \nL 305.733389 80.683599 \nL 305.733389 78.394757 \nL 101.692188 78.394757 \nz\n\" style=\"fill:#1f77b4;\"/>\n   </g>\n   <g id=\"patch_17\">\n    <path clip-path=\"url(#p58aadb7f1e)\" d=\"M 101.692188 69.239388 \nL 318.53495 69.239388 \nL 318.53495 66.950546 \nL 101.692188 66.950546 \nz\n\" style=\"fill:#1f77b4;\"/>\n   </g>\n   <g id=\"patch_18\">\n    <path clip-path=\"url(#p58aadb7f1e)\" d=\"M 101.692188 57.795178 \nL 385.068231 57.795178 \nL 385.068231 55.506336 \nL 101.692188 55.506336 \nz\n\" style=\"fill:#1f77b4;\"/>\n   </g>\n   <g id=\"patch_19\">\n    <path clip-path=\"url(#p58aadb7f1e)\" d=\"M 101.692188 46.350967 \nL 394.821801 46.350967 \nL 394.821801 44.062125 \nL 101.692188 44.062125 \nz\n\" style=\"fill:#1f77b4;\"/>\n   </g>\n   <g id=\"patch_20\">\n    <path clip-path=\"url(#p58aadb7f1e)\" d=\"M 101.692188 34.906757 \nL 406.055824 34.906757 \nL 406.055824 32.617914 \nL 101.692188 32.617914 \nz\n\" style=\"fill:#1f77b4;\"/>\n   </g>\n   <g id=\"matplotlib.axis_1\">\n    <g id=\"xtick_1\">\n     <g id=\"line2d_1\">\n      <path clip-path=\"url(#p58aadb7f1e)\" d=\"M 101.692188 239.758125 \nL 101.692188 22.318125 \n\" style=\"fill:none;stroke:#b0b0b0;stroke-linecap:square;stroke-width:0.8;\"/>\n     </g>\n     <g id=\"line2d_2\">\n      <defs>\n       <path d=\"M 0 0 \nL 0 3.5 \n\" id=\"m6fdeca95a2\" style=\"stroke:#000000;stroke-width:0.8;\"/>\n      </defs>\n      <g>\n       <use style=\"stroke:#000000;stroke-width:0.8;\" x=\"101.692188\" xlink:href=\"#m6fdeca95a2\" y=\"239.758125\"/>\n      </g>\n     </g>\n     <g id=\"text_1\">\n      <!-- 0 -->\n      <g transform=\"translate(98.510937 254.356562)scale(0.1 -0.1)\">\n       <defs>\n        <path d=\"M 31.78125 66.40625 \nQ 24.171875 66.40625 20.328125 58.90625 \nQ 16.5 51.421875 16.5 36.375 \nQ 16.5 21.390625 20.328125 13.890625 \nQ 24.171875 6.390625 31.78125 6.390625 \nQ 39.453125 6.390625 43.28125 13.890625 \nQ 47.125 21.390625 47.125 36.375 \nQ 47.125 51.421875 43.28125 58.90625 \nQ 39.453125 66.40625 31.78125 66.40625 \nz\nM 31.78125 74.21875 \nQ 44.046875 74.21875 50.515625 64.515625 \nQ 56.984375 54.828125 56.984375 36.375 \nQ 56.984375 17.96875 50.515625 8.265625 \nQ 44.046875 -1.421875 31.78125 -1.421875 \nQ 19.53125 -1.421875 13.0625 8.265625 \nQ 6.59375 17.96875 6.59375 36.375 \nQ 6.59375 54.828125 13.0625 64.515625 \nQ 19.53125 74.21875 31.78125 74.21875 \nz\n\" id=\"DejaVuSans-48\"/>\n       </defs>\n       <use xlink:href=\"#DejaVuSans-48\"/>\n      </g>\n     </g>\n    </g>\n    <g id=\"xtick_2\">\n     <g id=\"line2d_3\">\n      <path clip-path=\"url(#p58aadb7f1e)\" d=\"M 145.234911 239.758125 \nL 145.234911 22.318125 \n\" style=\"fill:none;stroke:#b0b0b0;stroke-linecap:square;stroke-width:0.8;\"/>\n     </g>\n     <g id=\"line2d_4\">\n      <g>\n       <use style=\"stroke:#000000;stroke-width:0.8;\" x=\"145.234911\" xlink:href=\"#m6fdeca95a2\" y=\"239.758125\"/>\n      </g>\n     </g>\n     <g id=\"text_2\">\n      <!-- 1000 -->\n      <g transform=\"translate(132.509911 254.356562)scale(0.1 -0.1)\">\n       <defs>\n        <path d=\"M 12.40625 8.296875 \nL 28.515625 8.296875 \nL 28.515625 63.921875 \nL 10.984375 60.40625 \nL 10.984375 69.390625 \nL 28.421875 72.90625 \nL 38.28125 72.90625 \nL 38.28125 8.296875 \nL 54.390625 8.296875 \nL 54.390625 0 \nL 12.40625 0 \nz\n\" id=\"DejaVuSans-49\"/>\n       </defs>\n       <use xlink:href=\"#DejaVuSans-49\"/>\n       <use x=\"63.623047\" xlink:href=\"#DejaVuSans-48\"/>\n       <use x=\"127.246094\" xlink:href=\"#DejaVuSans-48\"/>\n       <use x=\"190.869141\" xlink:href=\"#DejaVuSans-48\"/>\n      </g>\n     </g>\n    </g>\n    <g id=\"xtick_3\">\n     <g id=\"line2d_5\">\n      <path clip-path=\"url(#p58aadb7f1e)\" d=\"M 188.777634 239.758125 \nL 188.777634 22.318125 \n\" style=\"fill:none;stroke:#b0b0b0;stroke-linecap:square;stroke-width:0.8;\"/>\n     </g>\n     <g id=\"line2d_6\">\n      <g>\n       <use style=\"stroke:#000000;stroke-width:0.8;\" x=\"188.777634\" xlink:href=\"#m6fdeca95a2\" y=\"239.758125\"/>\n      </g>\n     </g>\n     <g id=\"text_3\">\n      <!-- 2000 -->\n      <g transform=\"translate(176.052634 254.356562)scale(0.1 -0.1)\">\n       <defs>\n        <path d=\"M 19.1875 8.296875 \nL 53.609375 8.296875 \nL 53.609375 0 \nL 7.328125 0 \nL 7.328125 8.296875 \nQ 12.9375 14.109375 22.625 23.890625 \nQ 32.328125 33.6875 34.8125 36.53125 \nQ 39.546875 41.84375 41.421875 45.53125 \nQ 43.3125 49.21875 43.3125 52.78125 \nQ 43.3125 58.59375 39.234375 62.25 \nQ 35.15625 65.921875 28.609375 65.921875 \nQ 23.96875 65.921875 18.8125 64.3125 \nQ 13.671875 62.703125 7.8125 59.421875 \nL 7.8125 69.390625 \nQ 13.765625 71.78125 18.9375 73 \nQ 24.125 74.21875 28.421875 74.21875 \nQ 39.75 74.21875 46.484375 68.546875 \nQ 53.21875 62.890625 53.21875 53.421875 \nQ 53.21875 48.921875 51.53125 44.890625 \nQ 49.859375 40.875 45.40625 35.40625 \nQ 44.1875 33.984375 37.640625 27.21875 \nQ 31.109375 20.453125 19.1875 8.296875 \nz\n\" id=\"DejaVuSans-50\"/>\n       </defs>\n       <use xlink:href=\"#DejaVuSans-50\"/>\n       <use x=\"63.623047\" xlink:href=\"#DejaVuSans-48\"/>\n       <use x=\"127.246094\" xlink:href=\"#DejaVuSans-48\"/>\n       <use x=\"190.869141\" xlink:href=\"#DejaVuSans-48\"/>\n      </g>\n     </g>\n    </g>\n    <g id=\"xtick_4\">\n     <g id=\"line2d_7\">\n      <path clip-path=\"url(#p58aadb7f1e)\" d=\"M 232.320358 239.758125 \nL 232.320358 22.318125 \n\" style=\"fill:none;stroke:#b0b0b0;stroke-linecap:square;stroke-width:0.8;\"/>\n     </g>\n     <g id=\"line2d_8\">\n      <g>\n       <use style=\"stroke:#000000;stroke-width:0.8;\" x=\"232.320358\" xlink:href=\"#m6fdeca95a2\" y=\"239.758125\"/>\n      </g>\n     </g>\n     <g id=\"text_4\">\n      <!-- 3000 -->\n      <g transform=\"translate(219.595358 254.356562)scale(0.1 -0.1)\">\n       <defs>\n        <path d=\"M 40.578125 39.3125 \nQ 47.65625 37.796875 51.625 33 \nQ 55.609375 28.21875 55.609375 21.1875 \nQ 55.609375 10.40625 48.1875 4.484375 \nQ 40.765625 -1.421875 27.09375 -1.421875 \nQ 22.515625 -1.421875 17.65625 -0.515625 \nQ 12.796875 0.390625 7.625 2.203125 \nL 7.625 11.71875 \nQ 11.71875 9.328125 16.59375 8.109375 \nQ 21.484375 6.890625 26.8125 6.890625 \nQ 36.078125 6.890625 40.9375 10.546875 \nQ 45.796875 14.203125 45.796875 21.1875 \nQ 45.796875 27.640625 41.28125 31.265625 \nQ 36.765625 34.90625 28.71875 34.90625 \nL 20.21875 34.90625 \nL 20.21875 43.015625 \nL 29.109375 43.015625 \nQ 36.375 43.015625 40.234375 45.921875 \nQ 44.09375 48.828125 44.09375 54.296875 \nQ 44.09375 59.90625 40.109375 62.90625 \nQ 36.140625 65.921875 28.71875 65.921875 \nQ 24.65625 65.921875 20.015625 65.03125 \nQ 15.375 64.15625 9.8125 62.3125 \nL 9.8125 71.09375 \nQ 15.4375 72.65625 20.34375 73.4375 \nQ 25.25 74.21875 29.59375 74.21875 \nQ 40.828125 74.21875 47.359375 69.109375 \nQ 53.90625 64.015625 53.90625 55.328125 \nQ 53.90625 49.265625 50.4375 45.09375 \nQ 46.96875 40.921875 40.578125 39.3125 \nz\n\" id=\"DejaVuSans-51\"/>\n       </defs>\n       <use xlink:href=\"#DejaVuSans-51\"/>\n       <use x=\"63.623047\" xlink:href=\"#DejaVuSans-48\"/>\n       <use x=\"127.246094\" xlink:href=\"#DejaVuSans-48\"/>\n       <use x=\"190.869141\" xlink:href=\"#DejaVuSans-48\"/>\n      </g>\n     </g>\n    </g>\n    <g id=\"xtick_5\">\n     <g id=\"line2d_9\">\n      <path clip-path=\"url(#p58aadb7f1e)\" d=\"M 275.863081 239.758125 \nL 275.863081 22.318125 \n\" style=\"fill:none;stroke:#b0b0b0;stroke-linecap:square;stroke-width:0.8;\"/>\n     </g>\n     <g id=\"line2d_10\">\n      <g>\n       <use style=\"stroke:#000000;stroke-width:0.8;\" x=\"275.863081\" xlink:href=\"#m6fdeca95a2\" y=\"239.758125\"/>\n      </g>\n     </g>\n     <g id=\"text_5\">\n      <!-- 4000 -->\n      <g transform=\"translate(263.138081 254.356562)scale(0.1 -0.1)\">\n       <defs>\n        <path d=\"M 37.796875 64.3125 \nL 12.890625 25.390625 \nL 37.796875 25.390625 \nz\nM 35.203125 72.90625 \nL 47.609375 72.90625 \nL 47.609375 25.390625 \nL 58.015625 25.390625 \nL 58.015625 17.1875 \nL 47.609375 17.1875 \nL 47.609375 0 \nL 37.796875 0 \nL 37.796875 17.1875 \nL 4.890625 17.1875 \nL 4.890625 26.703125 \nz\n\" id=\"DejaVuSans-52\"/>\n       </defs>\n       <use xlink:href=\"#DejaVuSans-52\"/>\n       <use x=\"63.623047\" xlink:href=\"#DejaVuSans-48\"/>\n       <use x=\"127.246094\" xlink:href=\"#DejaVuSans-48\"/>\n       <use x=\"190.869141\" xlink:href=\"#DejaVuSans-48\"/>\n      </g>\n     </g>\n    </g>\n    <g id=\"xtick_6\">\n     <g id=\"line2d_11\">\n      <path clip-path=\"url(#p58aadb7f1e)\" d=\"M 319.405804 239.758125 \nL 319.405804 22.318125 \n\" style=\"fill:none;stroke:#b0b0b0;stroke-linecap:square;stroke-width:0.8;\"/>\n     </g>\n     <g id=\"line2d_12\">\n      <g>\n       <use style=\"stroke:#000000;stroke-width:0.8;\" x=\"319.405804\" xlink:href=\"#m6fdeca95a2\" y=\"239.758125\"/>\n      </g>\n     </g>\n     <g id=\"text_6\">\n      <!-- 5000 -->\n      <g transform=\"translate(306.680804 254.356562)scale(0.1 -0.1)\">\n       <defs>\n        <path d=\"M 10.796875 72.90625 \nL 49.515625 72.90625 \nL 49.515625 64.59375 \nL 19.828125 64.59375 \nL 19.828125 46.734375 \nQ 21.96875 47.46875 24.109375 47.828125 \nQ 26.265625 48.1875 28.421875 48.1875 \nQ 40.625 48.1875 47.75 41.5 \nQ 54.890625 34.8125 54.890625 23.390625 \nQ 54.890625 11.625 47.5625 5.09375 \nQ 40.234375 -1.421875 26.90625 -1.421875 \nQ 22.3125 -1.421875 17.546875 -0.640625 \nQ 12.796875 0.140625 7.71875 1.703125 \nL 7.71875 11.625 \nQ 12.109375 9.234375 16.796875 8.0625 \nQ 21.484375 6.890625 26.703125 6.890625 \nQ 35.15625 6.890625 40.078125 11.328125 \nQ 45.015625 15.765625 45.015625 23.390625 \nQ 45.015625 31 40.078125 35.4375 \nQ 35.15625 39.890625 26.703125 39.890625 \nQ 22.75 39.890625 18.8125 39.015625 \nQ 14.890625 38.140625 10.796875 36.28125 \nz\n\" id=\"DejaVuSans-53\"/>\n       </defs>\n       <use xlink:href=\"#DejaVuSans-53\"/>\n       <use x=\"63.623047\" xlink:href=\"#DejaVuSans-48\"/>\n       <use x=\"127.246094\" xlink:href=\"#DejaVuSans-48\"/>\n       <use x=\"190.869141\" xlink:href=\"#DejaVuSans-48\"/>\n      </g>\n     </g>\n    </g>\n    <g id=\"xtick_7\">\n     <g id=\"line2d_13\">\n      <path clip-path=\"url(#p58aadb7f1e)\" d=\"M 362.948528 239.758125 \nL 362.948528 22.318125 \n\" style=\"fill:none;stroke:#b0b0b0;stroke-linecap:square;stroke-width:0.8;\"/>\n     </g>\n     <g id=\"line2d_14\">\n      <g>\n       <use style=\"stroke:#000000;stroke-width:0.8;\" x=\"362.948528\" xlink:href=\"#m6fdeca95a2\" y=\"239.758125\"/>\n      </g>\n     </g>\n     <g id=\"text_7\">\n      <!-- 6000 -->\n      <g transform=\"translate(350.223528 254.356562)scale(0.1 -0.1)\">\n       <defs>\n        <path d=\"M 33.015625 40.375 \nQ 26.375 40.375 22.484375 35.828125 \nQ 18.609375 31.296875 18.609375 23.390625 \nQ 18.609375 15.53125 22.484375 10.953125 \nQ 26.375 6.390625 33.015625 6.390625 \nQ 39.65625 6.390625 43.53125 10.953125 \nQ 47.40625 15.53125 47.40625 23.390625 \nQ 47.40625 31.296875 43.53125 35.828125 \nQ 39.65625 40.375 33.015625 40.375 \nz\nM 52.59375 71.296875 \nL 52.59375 62.3125 \nQ 48.875 64.0625 45.09375 64.984375 \nQ 41.3125 65.921875 37.59375 65.921875 \nQ 27.828125 65.921875 22.671875 59.328125 \nQ 17.53125 52.734375 16.796875 39.40625 \nQ 19.671875 43.65625 24.015625 45.921875 \nQ 28.375 48.1875 33.59375 48.1875 \nQ 44.578125 48.1875 50.953125 41.515625 \nQ 57.328125 34.859375 57.328125 23.390625 \nQ 57.328125 12.15625 50.6875 5.359375 \nQ 44.046875 -1.421875 33.015625 -1.421875 \nQ 20.359375 -1.421875 13.671875 8.265625 \nQ 6.984375 17.96875 6.984375 36.375 \nQ 6.984375 53.65625 15.1875 63.9375 \nQ 23.390625 74.21875 37.203125 74.21875 \nQ 40.921875 74.21875 44.703125 73.484375 \nQ 48.484375 72.75 52.59375 71.296875 \nz\n\" id=\"DejaVuSans-54\"/>\n       </defs>\n       <use xlink:href=\"#DejaVuSans-54\"/>\n       <use x=\"63.623047\" xlink:href=\"#DejaVuSans-48\"/>\n       <use x=\"127.246094\" xlink:href=\"#DejaVuSans-48\"/>\n       <use x=\"190.869141\" xlink:href=\"#DejaVuSans-48\"/>\n      </g>\n     </g>\n    </g>\n    <g id=\"xtick_8\">\n     <g id=\"line2d_15\">\n      <path clip-path=\"url(#p58aadb7f1e)\" d=\"M 406.491251 239.758125 \nL 406.491251 22.318125 \n\" style=\"fill:none;stroke:#b0b0b0;stroke-linecap:square;stroke-width:0.8;\"/>\n     </g>\n     <g id=\"line2d_16\">\n      <g>\n       <use style=\"stroke:#000000;stroke-width:0.8;\" x=\"406.491251\" xlink:href=\"#m6fdeca95a2\" y=\"239.758125\"/>\n      </g>\n     </g>\n     <g id=\"text_8\">\n      <!-- 7000 -->\n      <g transform=\"translate(393.766251 254.356562)scale(0.1 -0.1)\">\n       <defs>\n        <path d=\"M 8.203125 72.90625 \nL 55.078125 72.90625 \nL 55.078125 68.703125 \nL 28.609375 0 \nL 18.3125 0 \nL 43.21875 64.59375 \nL 8.203125 64.59375 \nz\n\" id=\"DejaVuSans-55\"/>\n       </defs>\n       <use xlink:href=\"#DejaVuSans-55\"/>\n       <use x=\"63.623047\" xlink:href=\"#DejaVuSans-48\"/>\n       <use x=\"127.246094\" xlink:href=\"#DejaVuSans-48\"/>\n       <use x=\"190.869141\" xlink:href=\"#DejaVuSans-48\"/>\n      </g>\n     </g>\n    </g>\n    <g id=\"text_9\">\n     <!-- F score -->\n     <g transform=\"translate(251.194531 268.034687)scale(0.1 -0.1)\">\n      <defs>\n       <path d=\"M 9.8125 72.90625 \nL 51.703125 72.90625 \nL 51.703125 64.59375 \nL 19.671875 64.59375 \nL 19.671875 43.109375 \nL 48.578125 43.109375 \nL 48.578125 34.8125 \nL 19.671875 34.8125 \nL 19.671875 0 \nL 9.8125 0 \nz\n\" id=\"DejaVuSans-70\"/>\n       <path id=\"DejaVuSans-32\"/>\n       <path d=\"M 44.28125 53.078125 \nL 44.28125 44.578125 \nQ 40.484375 46.53125 36.375 47.5 \nQ 32.28125 48.484375 27.875 48.484375 \nQ 21.1875 48.484375 17.84375 46.4375 \nQ 14.5 44.390625 14.5 40.28125 \nQ 14.5 37.15625 16.890625 35.375 \nQ 19.28125 33.59375 26.515625 31.984375 \nL 29.59375 31.296875 \nQ 39.15625 29.25 43.1875 25.515625 \nQ 47.21875 21.78125 47.21875 15.09375 \nQ 47.21875 7.46875 41.1875 3.015625 \nQ 35.15625 -1.421875 24.609375 -1.421875 \nQ 20.21875 -1.421875 15.453125 -0.5625 \nQ 10.6875 0.296875 5.421875 2 \nL 5.421875 11.28125 \nQ 10.40625 8.6875 15.234375 7.390625 \nQ 20.0625 6.109375 24.8125 6.109375 \nQ 31.15625 6.109375 34.5625 8.28125 \nQ 37.984375 10.453125 37.984375 14.40625 \nQ 37.984375 18.0625 35.515625 20.015625 \nQ 33.0625 21.96875 24.703125 23.78125 \nL 21.578125 24.515625 \nQ 13.234375 26.265625 9.515625 29.90625 \nQ 5.8125 33.546875 5.8125 39.890625 \nQ 5.8125 47.609375 11.28125 51.796875 \nQ 16.75 56 26.8125 56 \nQ 31.78125 56 36.171875 55.265625 \nQ 40.578125 54.546875 44.28125 53.078125 \nz\n\" id=\"DejaVuSans-115\"/>\n       <path d=\"M 48.78125 52.59375 \nL 48.78125 44.1875 \nQ 44.96875 46.296875 41.140625 47.34375 \nQ 37.3125 48.390625 33.40625 48.390625 \nQ 24.65625 48.390625 19.8125 42.84375 \nQ 14.984375 37.3125 14.984375 27.296875 \nQ 14.984375 17.28125 19.8125 11.734375 \nQ 24.65625 6.203125 33.40625 6.203125 \nQ 37.3125 6.203125 41.140625 7.25 \nQ 44.96875 8.296875 48.78125 10.40625 \nL 48.78125 2.09375 \nQ 45.015625 0.34375 40.984375 -0.53125 \nQ 36.96875 -1.421875 32.421875 -1.421875 \nQ 20.0625 -1.421875 12.78125 6.34375 \nQ 5.515625 14.109375 5.515625 27.296875 \nQ 5.515625 40.671875 12.859375 48.328125 \nQ 20.21875 56 33.015625 56 \nQ 37.15625 56 41.109375 55.140625 \nQ 45.0625 54.296875 48.78125 52.59375 \nz\n\" id=\"DejaVuSans-99\"/>\n       <path d=\"M 30.609375 48.390625 \nQ 23.390625 48.390625 19.1875 42.75 \nQ 14.984375 37.109375 14.984375 27.296875 \nQ 14.984375 17.484375 19.15625 11.84375 \nQ 23.34375 6.203125 30.609375 6.203125 \nQ 37.796875 6.203125 41.984375 11.859375 \nQ 46.1875 17.53125 46.1875 27.296875 \nQ 46.1875 37.015625 41.984375 42.703125 \nQ 37.796875 48.390625 30.609375 48.390625 \nz\nM 30.609375 56 \nQ 42.328125 56 49.015625 48.375 \nQ 55.71875 40.765625 55.71875 27.296875 \nQ 55.71875 13.875 49.015625 6.21875 \nQ 42.328125 -1.421875 30.609375 -1.421875 \nQ 18.84375 -1.421875 12.171875 6.21875 \nQ 5.515625 13.875 5.515625 27.296875 \nQ 5.515625 40.765625 12.171875 48.375 \nQ 18.84375 56 30.609375 56 \nz\n\" id=\"DejaVuSans-111\"/>\n       <path d=\"M 41.109375 46.296875 \nQ 39.59375 47.171875 37.8125 47.578125 \nQ 36.03125 48 33.890625 48 \nQ 26.265625 48 22.1875 43.046875 \nQ 18.109375 38.09375 18.109375 28.8125 \nL 18.109375 0 \nL 9.078125 0 \nL 9.078125 54.6875 \nL 18.109375 54.6875 \nL 18.109375 46.1875 \nQ 20.953125 51.171875 25.484375 53.578125 \nQ 30.03125 56 36.53125 56 \nQ 37.453125 56 38.578125 55.875 \nQ 39.703125 55.765625 41.0625 55.515625 \nz\n\" id=\"DejaVuSans-114\"/>\n       <path d=\"M 56.203125 29.59375 \nL 56.203125 25.203125 \nL 14.890625 25.203125 \nQ 15.484375 15.921875 20.484375 11.0625 \nQ 25.484375 6.203125 34.421875 6.203125 \nQ 39.59375 6.203125 44.453125 7.46875 \nQ 49.3125 8.734375 54.109375 11.28125 \nL 54.109375 2.78125 \nQ 49.265625 0.734375 44.1875 -0.34375 \nQ 39.109375 -1.421875 33.890625 -1.421875 \nQ 20.796875 -1.421875 13.15625 6.1875 \nQ 5.515625 13.8125 5.515625 26.8125 \nQ 5.515625 40.234375 12.765625 48.109375 \nQ 20.015625 56 32.328125 56 \nQ 43.359375 56 49.78125 48.890625 \nQ 56.203125 41.796875 56.203125 29.59375 \nz\nM 47.21875 32.234375 \nQ 47.125 39.59375 43.09375 43.984375 \nQ 39.0625 48.390625 32.421875 48.390625 \nQ 24.90625 48.390625 20.390625 44.140625 \nQ 15.875 39.890625 15.1875 32.171875 \nz\n\" id=\"DejaVuSans-101\"/>\n      </defs>\n      <use xlink:href=\"#DejaVuSans-70\"/>\n      <use x=\"57.519531\" xlink:href=\"#DejaVuSans-32\"/>\n      <use x=\"89.306641\" xlink:href=\"#DejaVuSans-115\"/>\n      <use x=\"141.40625\" xlink:href=\"#DejaVuSans-99\"/>\n      <use x=\"196.386719\" xlink:href=\"#DejaVuSans-111\"/>\n      <use x=\"257.568359\" xlink:href=\"#DejaVuSans-114\"/>\n      <use x=\"296.431641\" xlink:href=\"#DejaVuSans-101\"/>\n     </g>\n    </g>\n   </g>\n   <g id=\"matplotlib.axis_2\">\n    <g id=\"ytick_1\">\n     <g id=\"line2d_17\">\n      <path clip-path=\"url(#p58aadb7f1e)\" d=\"M 101.692188 228.313914 \nL 436.492188 228.313914 \n\" style=\"fill:none;stroke:#b0b0b0;stroke-linecap:square;stroke-width:0.8;\"/>\n     </g>\n     <g id=\"line2d_18\">\n      <defs>\n       <path d=\"M 0 0 \nL -3.5 0 \n\" id=\"me0e12e47e4\" style=\"stroke:#000000;stroke-width:0.8;\"/>\n      </defs>\n      <g>\n       <use style=\"stroke:#000000;stroke-width:0.8;\" x=\"101.692188\" xlink:href=\"#me0e12e47e4\" y=\"228.313914\"/>\n      </g>\n     </g>\n     <g id=\"text_10\">\n      <!-- waterfront -->\n      <g transform=\"translate(42.41875 232.113133)scale(0.1 -0.1)\">\n       <defs>\n        <path d=\"M 4.203125 54.6875 \nL 13.1875 54.6875 \nL 24.421875 12.015625 \nL 35.59375 54.6875 \nL 46.1875 54.6875 \nL 57.421875 12.015625 \nL 68.609375 54.6875 \nL 77.59375 54.6875 \nL 63.28125 0 \nL 52.6875 0 \nL 40.921875 44.828125 \nL 29.109375 0 \nL 18.5 0 \nz\n\" id=\"DejaVuSans-119\"/>\n        <path d=\"M 34.28125 27.484375 \nQ 23.390625 27.484375 19.1875 25 \nQ 14.984375 22.515625 14.984375 16.5 \nQ 14.984375 11.71875 18.140625 8.90625 \nQ 21.296875 6.109375 26.703125 6.109375 \nQ 34.1875 6.109375 38.703125 11.40625 \nQ 43.21875 16.703125 43.21875 25.484375 \nL 43.21875 27.484375 \nz\nM 52.203125 31.203125 \nL 52.203125 0 \nL 43.21875 0 \nL 43.21875 8.296875 \nQ 40.140625 3.328125 35.546875 0.953125 \nQ 30.953125 -1.421875 24.3125 -1.421875 \nQ 15.921875 -1.421875 10.953125 3.296875 \nQ 6 8.015625 6 15.921875 \nQ 6 25.140625 12.171875 29.828125 \nQ 18.359375 34.515625 30.609375 34.515625 \nL 43.21875 34.515625 \nL 43.21875 35.40625 \nQ 43.21875 41.609375 39.140625 45 \nQ 35.0625 48.390625 27.6875 48.390625 \nQ 23 48.390625 18.546875 47.265625 \nQ 14.109375 46.140625 10.015625 43.890625 \nL 10.015625 52.203125 \nQ 14.9375 54.109375 19.578125 55.046875 \nQ 24.21875 56 28.609375 56 \nQ 40.484375 56 46.34375 49.84375 \nQ 52.203125 43.703125 52.203125 31.203125 \nz\n\" id=\"DejaVuSans-97\"/>\n        <path d=\"M 18.3125 70.21875 \nL 18.3125 54.6875 \nL 36.8125 54.6875 \nL 36.8125 47.703125 \nL 18.3125 47.703125 \nL 18.3125 18.015625 \nQ 18.3125 11.328125 20.140625 9.421875 \nQ 21.96875 7.515625 27.59375 7.515625 \nL 36.8125 7.515625 \nL 36.8125 0 \nL 27.59375 0 \nQ 17.1875 0 13.234375 3.875 \nQ 9.28125 7.765625 9.28125 18.015625 \nL 9.28125 47.703125 \nL 2.6875 47.703125 \nL 2.6875 54.6875 \nL 9.28125 54.6875 \nL 9.28125 70.21875 \nz\n\" id=\"DejaVuSans-116\"/>\n        <path d=\"M 37.109375 75.984375 \nL 37.109375 68.5 \nL 28.515625 68.5 \nQ 23.6875 68.5 21.796875 66.546875 \nQ 19.921875 64.59375 19.921875 59.515625 \nL 19.921875 54.6875 \nL 34.71875 54.6875 \nL 34.71875 47.703125 \nL 19.921875 47.703125 \nL 19.921875 0 \nL 10.890625 0 \nL 10.890625 47.703125 \nL 2.296875 47.703125 \nL 2.296875 54.6875 \nL 10.890625 54.6875 \nL 10.890625 58.5 \nQ 10.890625 67.625 15.140625 71.796875 \nQ 19.390625 75.984375 28.609375 75.984375 \nz\n\" id=\"DejaVuSans-102\"/>\n        <path d=\"M 54.890625 33.015625 \nL 54.890625 0 \nL 45.90625 0 \nL 45.90625 32.71875 \nQ 45.90625 40.484375 42.875 44.328125 \nQ 39.84375 48.1875 33.796875 48.1875 \nQ 26.515625 48.1875 22.3125 43.546875 \nQ 18.109375 38.921875 18.109375 30.90625 \nL 18.109375 0 \nL 9.078125 0 \nL 9.078125 54.6875 \nL 18.109375 54.6875 \nL 18.109375 46.1875 \nQ 21.34375 51.125 25.703125 53.5625 \nQ 30.078125 56 35.796875 56 \nQ 45.21875 56 50.046875 50.171875 \nQ 54.890625 44.34375 54.890625 33.015625 \nz\n\" id=\"DejaVuSans-110\"/>\n       </defs>\n       <use xlink:href=\"#DejaVuSans-119\"/>\n       <use x=\"81.787109\" xlink:href=\"#DejaVuSans-97\"/>\n       <use x=\"143.066406\" xlink:href=\"#DejaVuSans-116\"/>\n       <use x=\"182.275391\" xlink:href=\"#DejaVuSans-101\"/>\n       <use x=\"243.798828\" xlink:href=\"#DejaVuSans-114\"/>\n       <use x=\"284.912109\" xlink:href=\"#DejaVuSans-102\"/>\n       <use x=\"320.117188\" xlink:href=\"#DejaVuSans-114\"/>\n       <use x=\"358.980469\" xlink:href=\"#DejaVuSans-111\"/>\n       <use x=\"420.162109\" xlink:href=\"#DejaVuSans-110\"/>\n       <use x=\"483.541016\" xlink:href=\"#DejaVuSans-116\"/>\n      </g>\n     </g>\n    </g>\n    <g id=\"ytick_2\">\n     <g id=\"line2d_19\">\n      <path clip-path=\"url(#p58aadb7f1e)\" d=\"M 101.692188 216.869704 \nL 436.492188 216.869704 \n\" style=\"fill:none;stroke:#b0b0b0;stroke-linecap:square;stroke-width:0.8;\"/>\n     </g>\n     <g id=\"line2d_20\">\n      <g>\n       <use style=\"stroke:#000000;stroke-width:0.8;\" x=\"101.692188\" xlink:href=\"#me0e12e47e4\" y=\"216.869704\"/>\n      </g>\n     </g>\n     <g id=\"text_11\">\n      <!-- yr_renovated -->\n      <g transform=\"translate(28.698437 220.668923)scale(0.1 -0.1)\">\n       <defs>\n        <path d=\"M 32.171875 -5.078125 \nQ 28.375 -14.84375 24.75 -17.8125 \nQ 21.140625 -20.796875 15.09375 -20.796875 \nL 7.90625 -20.796875 \nL 7.90625 -13.28125 \nL 13.1875 -13.28125 \nQ 16.890625 -13.28125 18.9375 -11.515625 \nQ 21 -9.765625 23.484375 -3.21875 \nL 25.09375 0.875 \nL 2.984375 54.6875 \nL 12.5 54.6875 \nL 29.59375 11.921875 \nL 46.6875 54.6875 \nL 56.203125 54.6875 \nz\n\" id=\"DejaVuSans-121\"/>\n        <path d=\"M 50.984375 -16.609375 \nL 50.984375 -23.578125 \nL -0.984375 -23.578125 \nL -0.984375 -16.609375 \nz\n\" id=\"DejaVuSans-95\"/>\n        <path d=\"M 2.984375 54.6875 \nL 12.5 54.6875 \nL 29.59375 8.796875 \nL 46.6875 54.6875 \nL 56.203125 54.6875 \nL 35.6875 0 \nL 23.484375 0 \nz\n\" id=\"DejaVuSans-118\"/>\n        <path d=\"M 45.40625 46.390625 \nL 45.40625 75.984375 \nL 54.390625 75.984375 \nL 54.390625 0 \nL 45.40625 0 \nL 45.40625 8.203125 \nQ 42.578125 3.328125 38.25 0.953125 \nQ 33.9375 -1.421875 27.875 -1.421875 \nQ 17.96875 -1.421875 11.734375 6.484375 \nQ 5.515625 14.40625 5.515625 27.296875 \nQ 5.515625 40.1875 11.734375 48.09375 \nQ 17.96875 56 27.875 56 \nQ 33.9375 56 38.25 53.625 \nQ 42.578125 51.265625 45.40625 46.390625 \nz\nM 14.796875 27.296875 \nQ 14.796875 17.390625 18.875 11.75 \nQ 22.953125 6.109375 30.078125 6.109375 \nQ 37.203125 6.109375 41.296875 11.75 \nQ 45.40625 17.390625 45.40625 27.296875 \nQ 45.40625 37.203125 41.296875 42.84375 \nQ 37.203125 48.484375 30.078125 48.484375 \nQ 22.953125 48.484375 18.875 42.84375 \nQ 14.796875 37.203125 14.796875 27.296875 \nz\n\" id=\"DejaVuSans-100\"/>\n       </defs>\n       <use xlink:href=\"#DejaVuSans-121\"/>\n       <use x=\"59.179688\" xlink:href=\"#DejaVuSans-114\"/>\n       <use x=\"100.292969\" xlink:href=\"#DejaVuSans-95\"/>\n       <use x=\"150.292969\" xlink:href=\"#DejaVuSans-114\"/>\n       <use x=\"189.15625\" xlink:href=\"#DejaVuSans-101\"/>\n       <use x=\"250.679688\" xlink:href=\"#DejaVuSans-110\"/>\n       <use x=\"314.058594\" xlink:href=\"#DejaVuSans-111\"/>\n       <use x=\"375.240234\" xlink:href=\"#DejaVuSans-118\"/>\n       <use x=\"434.419922\" xlink:href=\"#DejaVuSans-97\"/>\n       <use x=\"495.699219\" xlink:href=\"#DejaVuSans-116\"/>\n       <use x=\"534.908203\" xlink:href=\"#DejaVuSans-101\"/>\n       <use x=\"596.431641\" xlink:href=\"#DejaVuSans-100\"/>\n      </g>\n     </g>\n    </g>\n    <g id=\"ytick_3\">\n     <g id=\"line2d_21\">\n      <path clip-path=\"url(#p58aadb7f1e)\" d=\"M 101.692188 205.425493 \nL 436.492188 205.425493 \n\" style=\"fill:none;stroke:#b0b0b0;stroke-linecap:square;stroke-width:0.8;\"/>\n     </g>\n     <g id=\"line2d_22\">\n      <g>\n       <use style=\"stroke:#000000;stroke-width:0.8;\" x=\"101.692188\" xlink:href=\"#me0e12e47e4\" y=\"205.425493\"/>\n      </g>\n     </g>\n     <g id=\"text_12\">\n      <!-- view -->\n      <g transform=\"translate(71.664062 209.224712)scale(0.1 -0.1)\">\n       <defs>\n        <path d=\"M 9.421875 54.6875 \nL 18.40625 54.6875 \nL 18.40625 0 \nL 9.421875 0 \nz\nM 9.421875 75.984375 \nL 18.40625 75.984375 \nL 18.40625 64.59375 \nL 9.421875 64.59375 \nz\n\" id=\"DejaVuSans-105\"/>\n       </defs>\n       <use xlink:href=\"#DejaVuSans-118\"/>\n       <use x=\"59.179688\" xlink:href=\"#DejaVuSans-105\"/>\n       <use x=\"86.962891\" xlink:href=\"#DejaVuSans-101\"/>\n       <use x=\"148.486328\" xlink:href=\"#DejaVuSans-119\"/>\n      </g>\n     </g>\n    </g>\n    <g id=\"ytick_4\">\n     <g id=\"line2d_23\">\n      <path clip-path=\"url(#p58aadb7f1e)\" d=\"M 101.692188 193.981283 \nL 436.492188 193.981283 \n\" style=\"fill:none;stroke:#b0b0b0;stroke-linecap:square;stroke-width:0.8;\"/>\n     </g>\n     <g id=\"line2d_24\">\n      <g>\n       <use style=\"stroke:#000000;stroke-width:0.8;\" x=\"101.692188\" xlink:href=\"#me0e12e47e4\" y=\"193.981283\"/>\n      </g>\n     </g>\n     <g id=\"text_13\">\n      <!-- floors -->\n      <g transform=\"translate(66.835938 197.780502)scale(0.1 -0.1)\">\n       <defs>\n        <path d=\"M 9.421875 75.984375 \nL 18.40625 75.984375 \nL 18.40625 0 \nL 9.421875 0 \nz\n\" id=\"DejaVuSans-108\"/>\n       </defs>\n       <use xlink:href=\"#DejaVuSans-102\"/>\n       <use x=\"35.205078\" xlink:href=\"#DejaVuSans-108\"/>\n       <use x=\"62.988281\" xlink:href=\"#DejaVuSans-111\"/>\n       <use x=\"124.169922\" xlink:href=\"#DejaVuSans-111\"/>\n       <use x=\"185.351562\" xlink:href=\"#DejaVuSans-114\"/>\n       <use x=\"226.464844\" xlink:href=\"#DejaVuSans-115\"/>\n      </g>\n     </g>\n    </g>\n    <g id=\"ytick_5\">\n     <g id=\"line2d_25\">\n      <path clip-path=\"url(#p58aadb7f1e)\" d=\"M 101.692188 182.537072 \nL 436.492188 182.537072 \n\" style=\"fill:none;stroke:#b0b0b0;stroke-linecap:square;stroke-width:0.8;\"/>\n     </g>\n     <g id=\"line2d_26\">\n      <g>\n       <use style=\"stroke:#000000;stroke-width:0.8;\" x=\"101.692188\" xlink:href=\"#me0e12e47e4\" y=\"182.537072\"/>\n      </g>\n     </g>\n     <g id=\"text_14\">\n      <!-- condition -->\n      <g transform=\"translate(48.45625 186.336291)scale(0.1 -0.1)\">\n       <use xlink:href=\"#DejaVuSans-99\"/>\n       <use x=\"54.980469\" xlink:href=\"#DejaVuSans-111\"/>\n       <use x=\"116.162109\" xlink:href=\"#DejaVuSans-110\"/>\n       <use x=\"179.541016\" xlink:href=\"#DejaVuSans-100\"/>\n       <use x=\"243.017578\" xlink:href=\"#DejaVuSans-105\"/>\n       <use x=\"270.800781\" xlink:href=\"#DejaVuSans-116\"/>\n       <use x=\"310.009766\" xlink:href=\"#DejaVuSans-105\"/>\n       <use x=\"337.792969\" xlink:href=\"#DejaVuSans-111\"/>\n       <use x=\"398.974609\" xlink:href=\"#DejaVuSans-110\"/>\n      </g>\n     </g>\n    </g>\n    <g id=\"ytick_6\">\n     <g id=\"line2d_27\">\n      <path clip-path=\"url(#p58aadb7f1e)\" d=\"M 101.692188 171.092862 \nL 436.492188 171.092862 \n\" style=\"fill:none;stroke:#b0b0b0;stroke-linecap:square;stroke-width:0.8;\"/>\n     </g>\n     <g id=\"line2d_28\">\n      <g>\n       <use style=\"stroke:#000000;stroke-width:0.8;\" x=\"101.692188\" xlink:href=\"#me0e12e47e4\" y=\"171.092862\"/>\n      </g>\n     </g>\n     <g id=\"text_15\">\n      <!-- grade -->\n      <g transform=\"translate(65.603125 174.892081)scale(0.1 -0.1)\">\n       <defs>\n        <path d=\"M 45.40625 27.984375 \nQ 45.40625 37.75 41.375 43.109375 \nQ 37.359375 48.484375 30.078125 48.484375 \nQ 22.859375 48.484375 18.828125 43.109375 \nQ 14.796875 37.75 14.796875 27.984375 \nQ 14.796875 18.265625 18.828125 12.890625 \nQ 22.859375 7.515625 30.078125 7.515625 \nQ 37.359375 7.515625 41.375 12.890625 \nQ 45.40625 18.265625 45.40625 27.984375 \nz\nM 54.390625 6.78125 \nQ 54.390625 -7.171875 48.1875 -13.984375 \nQ 42 -20.796875 29.203125 -20.796875 \nQ 24.46875 -20.796875 20.265625 -20.09375 \nQ 16.0625 -19.390625 12.109375 -17.921875 \nL 12.109375 -9.1875 \nQ 16.0625 -11.328125 19.921875 -12.34375 \nQ 23.78125 -13.375 27.78125 -13.375 \nQ 36.625 -13.375 41.015625 -8.765625 \nQ 45.40625 -4.15625 45.40625 5.171875 \nL 45.40625 9.625 \nQ 42.625 4.78125 38.28125 2.390625 \nQ 33.9375 0 27.875 0 \nQ 17.828125 0 11.671875 7.65625 \nQ 5.515625 15.328125 5.515625 27.984375 \nQ 5.515625 40.671875 11.671875 48.328125 \nQ 17.828125 56 27.875 56 \nQ 33.9375 56 38.28125 53.609375 \nQ 42.625 51.21875 45.40625 46.390625 \nL 45.40625 54.6875 \nL 54.390625 54.6875 \nz\n\" id=\"DejaVuSans-103\"/>\n       </defs>\n       <use xlink:href=\"#DejaVuSans-103\"/>\n       <use x=\"63.476562\" xlink:href=\"#DejaVuSans-114\"/>\n       <use x=\"104.589844\" xlink:href=\"#DejaVuSans-97\"/>\n       <use x=\"165.869141\" xlink:href=\"#DejaVuSans-100\"/>\n       <use x=\"229.345703\" xlink:href=\"#DejaVuSans-101\"/>\n      </g>\n     </g>\n    </g>\n    <g id=\"ytick_7\">\n     <g id=\"line2d_29\">\n      <path clip-path=\"url(#p58aadb7f1e)\" d=\"M 101.692188 159.648651 \nL 436.492188 159.648651 \n\" style=\"fill:none;stroke:#b0b0b0;stroke-linecap:square;stroke-width:0.8;\"/>\n     </g>\n     <g id=\"line2d_30\">\n      <g>\n       <use style=\"stroke:#000000;stroke-width:0.8;\" x=\"101.692188\" xlink:href=\"#me0e12e47e4\" y=\"159.648651\"/>\n      </g>\n     </g>\n     <g id=\"text_16\">\n      <!-- sqft_basement -->\n      <g transform=\"translate(20.878125 163.44787)scale(0.1 -0.1)\">\n       <defs>\n        <path d=\"M 14.796875 27.296875 \nQ 14.796875 17.390625 18.875 11.75 \nQ 22.953125 6.109375 30.078125 6.109375 \nQ 37.203125 6.109375 41.296875 11.75 \nQ 45.40625 17.390625 45.40625 27.296875 \nQ 45.40625 37.203125 41.296875 42.84375 \nQ 37.203125 48.484375 30.078125 48.484375 \nQ 22.953125 48.484375 18.875 42.84375 \nQ 14.796875 37.203125 14.796875 27.296875 \nz\nM 45.40625 8.203125 \nQ 42.578125 3.328125 38.25 0.953125 \nQ 33.9375 -1.421875 27.875 -1.421875 \nQ 17.96875 -1.421875 11.734375 6.484375 \nQ 5.515625 14.40625 5.515625 27.296875 \nQ 5.515625 40.1875 11.734375 48.09375 \nQ 17.96875 56 27.875 56 \nQ 33.9375 56 38.25 53.625 \nQ 42.578125 51.265625 45.40625 46.390625 \nL 45.40625 54.6875 \nL 54.390625 54.6875 \nL 54.390625 -20.796875 \nL 45.40625 -20.796875 \nz\n\" id=\"DejaVuSans-113\"/>\n        <path d=\"M 48.6875 27.296875 \nQ 48.6875 37.203125 44.609375 42.84375 \nQ 40.53125 48.484375 33.40625 48.484375 \nQ 26.265625 48.484375 22.1875 42.84375 \nQ 18.109375 37.203125 18.109375 27.296875 \nQ 18.109375 17.390625 22.1875 11.75 \nQ 26.265625 6.109375 33.40625 6.109375 \nQ 40.53125 6.109375 44.609375 11.75 \nQ 48.6875 17.390625 48.6875 27.296875 \nz\nM 18.109375 46.390625 \nQ 20.953125 51.265625 25.265625 53.625 \nQ 29.59375 56 35.59375 56 \nQ 45.5625 56 51.78125 48.09375 \nQ 58.015625 40.1875 58.015625 27.296875 \nQ 58.015625 14.40625 51.78125 6.484375 \nQ 45.5625 -1.421875 35.59375 -1.421875 \nQ 29.59375 -1.421875 25.265625 0.953125 \nQ 20.953125 3.328125 18.109375 8.203125 \nL 18.109375 0 \nL 9.078125 0 \nL 9.078125 75.984375 \nL 18.109375 75.984375 \nz\n\" id=\"DejaVuSans-98\"/>\n        <path d=\"M 52 44.1875 \nQ 55.375 50.25 60.0625 53.125 \nQ 64.75 56 71.09375 56 \nQ 79.640625 56 84.28125 50.015625 \nQ 88.921875 44.046875 88.921875 33.015625 \nL 88.921875 0 \nL 79.890625 0 \nL 79.890625 32.71875 \nQ 79.890625 40.578125 77.09375 44.375 \nQ 74.3125 48.1875 68.609375 48.1875 \nQ 61.625 48.1875 57.5625 43.546875 \nQ 53.515625 38.921875 53.515625 30.90625 \nL 53.515625 0 \nL 44.484375 0 \nL 44.484375 32.71875 \nQ 44.484375 40.625 41.703125 44.40625 \nQ 38.921875 48.1875 33.109375 48.1875 \nQ 26.21875 48.1875 22.15625 43.53125 \nQ 18.109375 38.875 18.109375 30.90625 \nL 18.109375 0 \nL 9.078125 0 \nL 9.078125 54.6875 \nL 18.109375 54.6875 \nL 18.109375 46.1875 \nQ 21.1875 51.21875 25.484375 53.609375 \nQ 29.78125 56 35.6875 56 \nQ 41.65625 56 45.828125 52.96875 \nQ 50 49.953125 52 44.1875 \nz\n\" id=\"DejaVuSans-109\"/>\n       </defs>\n       <use xlink:href=\"#DejaVuSans-115\"/>\n       <use x=\"52.099609\" xlink:href=\"#DejaVuSans-113\"/>\n       <use x=\"115.576172\" xlink:href=\"#DejaVuSans-102\"/>\n       <use x=\"149.03125\" xlink:href=\"#DejaVuSans-116\"/>\n       <use x=\"188.240234\" xlink:href=\"#DejaVuSans-95\"/>\n       <use x=\"238.240234\" xlink:href=\"#DejaVuSans-98\"/>\n       <use x=\"301.716797\" xlink:href=\"#DejaVuSans-97\"/>\n       <use x=\"362.996094\" xlink:href=\"#DejaVuSans-115\"/>\n       <use x=\"415.095703\" xlink:href=\"#DejaVuSans-101\"/>\n       <use x=\"476.619141\" xlink:href=\"#DejaVuSans-109\"/>\n       <use x=\"574.03125\" xlink:href=\"#DejaVuSans-101\"/>\n       <use x=\"635.554688\" xlink:href=\"#DejaVuSans-110\"/>\n       <use x=\"698.933594\" xlink:href=\"#DejaVuSans-116\"/>\n      </g>\n     </g>\n    </g>\n    <g id=\"ytick_8\">\n     <g id=\"line2d_31\">\n      <path clip-path=\"url(#p58aadb7f1e)\" d=\"M 101.692188 148.204441 \nL 436.492188 148.204441 \n\" style=\"fill:none;stroke:#b0b0b0;stroke-linecap:square;stroke-width:0.8;\"/>\n     </g>\n     <g id=\"line2d_32\">\n      <g>\n       <use style=\"stroke:#000000;stroke-width:0.8;\" x=\"101.692188\" xlink:href=\"#me0e12e47e4\" y=\"148.204441\"/>\n      </g>\n     </g>\n     <g id=\"text_17\">\n      <!-- zipcode -->\n      <g transform=\"translate(56.198437 152.00366)scale(0.1 -0.1)\">\n       <defs>\n        <path d=\"M 5.515625 54.6875 \nL 48.1875 54.6875 \nL 48.1875 46.484375 \nL 14.40625 7.171875 \nL 48.1875 7.171875 \nL 48.1875 0 \nL 4.296875 0 \nL 4.296875 8.203125 \nL 38.09375 47.515625 \nL 5.515625 47.515625 \nz\n\" id=\"DejaVuSans-122\"/>\n        <path d=\"M 18.109375 8.203125 \nL 18.109375 -20.796875 \nL 9.078125 -20.796875 \nL 9.078125 54.6875 \nL 18.109375 54.6875 \nL 18.109375 46.390625 \nQ 20.953125 51.265625 25.265625 53.625 \nQ 29.59375 56 35.59375 56 \nQ 45.5625 56 51.78125 48.09375 \nQ 58.015625 40.1875 58.015625 27.296875 \nQ 58.015625 14.40625 51.78125 6.484375 \nQ 45.5625 -1.421875 35.59375 -1.421875 \nQ 29.59375 -1.421875 25.265625 0.953125 \nQ 20.953125 3.328125 18.109375 8.203125 \nz\nM 48.6875 27.296875 \nQ 48.6875 37.203125 44.609375 42.84375 \nQ 40.53125 48.484375 33.40625 48.484375 \nQ 26.265625 48.484375 22.1875 42.84375 \nQ 18.109375 37.203125 18.109375 27.296875 \nQ 18.109375 17.390625 22.1875 11.75 \nQ 26.265625 6.109375 33.40625 6.109375 \nQ 40.53125 6.109375 44.609375 11.75 \nQ 48.6875 17.390625 48.6875 27.296875 \nz\n\" id=\"DejaVuSans-112\"/>\n       </defs>\n       <use xlink:href=\"#DejaVuSans-122\"/>\n       <use x=\"52.490234\" xlink:href=\"#DejaVuSans-105\"/>\n       <use x=\"80.273438\" xlink:href=\"#DejaVuSans-112\"/>\n       <use x=\"143.75\" xlink:href=\"#DejaVuSans-99\"/>\n       <use x=\"198.730469\" xlink:href=\"#DejaVuSans-111\"/>\n       <use x=\"259.912109\" xlink:href=\"#DejaVuSans-100\"/>\n       <use x=\"323.388672\" xlink:href=\"#DejaVuSans-101\"/>\n      </g>\n     </g>\n    </g>\n    <g id=\"ytick_9\">\n     <g id=\"line2d_33\">\n      <path clip-path=\"url(#p58aadb7f1e)\" d=\"M 101.692188 136.76023 \nL 436.492188 136.76023 \n\" style=\"fill:none;stroke:#b0b0b0;stroke-linecap:square;stroke-width:0.8;\"/>\n     </g>\n     <g id=\"line2d_34\">\n      <g>\n       <use style=\"stroke:#000000;stroke-width:0.8;\" x=\"101.692188\" xlink:href=\"#me0e12e47e4\" y=\"136.76023\"/>\n      </g>\n     </g>\n     <g id=\"text_18\">\n      <!-- sqft_above -->\n      <g transform=\"translate(40.201563 140.559449)scale(0.1 -0.1)\">\n       <use xlink:href=\"#DejaVuSans-115\"/>\n       <use x=\"52.099609\" xlink:href=\"#DejaVuSans-113\"/>\n       <use x=\"115.576172\" xlink:href=\"#DejaVuSans-102\"/>\n       <use x=\"149.03125\" xlink:href=\"#DejaVuSans-116\"/>\n       <use x=\"188.240234\" xlink:href=\"#DejaVuSans-95\"/>\n       <use x=\"238.240234\" xlink:href=\"#DejaVuSans-97\"/>\n       <use x=\"299.519531\" xlink:href=\"#DejaVuSans-98\"/>\n       <use x=\"362.996094\" xlink:href=\"#DejaVuSans-111\"/>\n       <use x=\"424.177734\" xlink:href=\"#DejaVuSans-118\"/>\n       <use x=\"483.357422\" xlink:href=\"#DejaVuSans-101\"/>\n      </g>\n     </g>\n    </g>\n    <g id=\"ytick_10\">\n     <g id=\"line2d_35\">\n      <path clip-path=\"url(#p58aadb7f1e)\" d=\"M 101.692188 125.31602 \nL 436.492188 125.31602 \n\" style=\"fill:none;stroke:#b0b0b0;stroke-linecap:square;stroke-width:0.8;\"/>\n     </g>\n     <g id=\"line2d_36\">\n      <g>\n       <use style=\"stroke:#000000;stroke-width:0.8;\" x=\"101.692188\" xlink:href=\"#me0e12e47e4\" y=\"125.31602\"/>\n      </g>\n     </g>\n     <g id=\"text_19\">\n      <!-- bedrooms -->\n      <g transform=\"translate(44.76875 129.115238)scale(0.1 -0.1)\">\n       <use xlink:href=\"#DejaVuSans-98\"/>\n       <use x=\"63.476562\" xlink:href=\"#DejaVuSans-101\"/>\n       <use x=\"125\" xlink:href=\"#DejaVuSans-100\"/>\n       <use x=\"188.476562\" xlink:href=\"#DejaVuSans-114\"/>\n       <use x=\"227.339844\" xlink:href=\"#DejaVuSans-111\"/>\n       <use x=\"288.521484\" xlink:href=\"#DejaVuSans-111\"/>\n       <use x=\"349.703125\" xlink:href=\"#DejaVuSans-109\"/>\n       <use x=\"447.115234\" xlink:href=\"#DejaVuSans-115\"/>\n      </g>\n     </g>\n    </g>\n    <g id=\"ytick_11\">\n     <g id=\"line2d_37\">\n      <path clip-path=\"url(#p58aadb7f1e)\" d=\"M 101.692188 113.871809 \nL 436.492188 113.871809 \n\" style=\"fill:none;stroke:#b0b0b0;stroke-linecap:square;stroke-width:0.8;\"/>\n     </g>\n     <g id=\"line2d_38\">\n      <g>\n       <use style=\"stroke:#000000;stroke-width:0.8;\" x=\"101.692188\" xlink:href=\"#me0e12e47e4\" y=\"113.871809\"/>\n      </g>\n     </g>\n     <g id=\"text_20\">\n      <!-- sqft_lot15 -->\n      <g transform=\"translate(45.326563 117.671028)scale(0.1 -0.1)\">\n       <use xlink:href=\"#DejaVuSans-115\"/>\n       <use x=\"52.099609\" xlink:href=\"#DejaVuSans-113\"/>\n       <use x=\"115.576172\" xlink:href=\"#DejaVuSans-102\"/>\n       <use x=\"149.03125\" xlink:href=\"#DejaVuSans-116\"/>\n       <use x=\"188.240234\" xlink:href=\"#DejaVuSans-95\"/>\n       <use x=\"238.240234\" xlink:href=\"#DejaVuSans-108\"/>\n       <use x=\"266.023438\" xlink:href=\"#DejaVuSans-111\"/>\n       <use x=\"327.205078\" xlink:href=\"#DejaVuSans-116\"/>\n       <use x=\"366.414062\" xlink:href=\"#DejaVuSans-49\"/>\n       <use x=\"430.037109\" xlink:href=\"#DejaVuSans-53\"/>\n      </g>\n     </g>\n    </g>\n    <g id=\"ytick_12\">\n     <g id=\"line2d_39\">\n      <path clip-path=\"url(#p58aadb7f1e)\" d=\"M 101.692188 102.427599 \nL 436.492188 102.427599 \n\" style=\"fill:none;stroke:#b0b0b0;stroke-linecap:square;stroke-width:0.8;\"/>\n     </g>\n     <g id=\"line2d_40\">\n      <g>\n       <use style=\"stroke:#000000;stroke-width:0.8;\" x=\"101.692188\" xlink:href=\"#me0e12e47e4\" y=\"102.427599\"/>\n      </g>\n     </g>\n     <g id=\"text_21\">\n      <!-- yr_built -->\n      <g transform=\"translate(57.5 106.226817)scale(0.1 -0.1)\">\n       <defs>\n        <path d=\"M 8.5 21.578125 \nL 8.5 54.6875 \nL 17.484375 54.6875 \nL 17.484375 21.921875 \nQ 17.484375 14.15625 20.5 10.265625 \nQ 23.53125 6.390625 29.59375 6.390625 \nQ 36.859375 6.390625 41.078125 11.03125 \nQ 45.3125 15.671875 45.3125 23.6875 \nL 45.3125 54.6875 \nL 54.296875 54.6875 \nL 54.296875 0 \nL 45.3125 0 \nL 45.3125 8.40625 \nQ 42.046875 3.421875 37.71875 1 \nQ 33.40625 -1.421875 27.6875 -1.421875 \nQ 18.265625 -1.421875 13.375 4.4375 \nQ 8.5 10.296875 8.5 21.578125 \nz\nM 31.109375 56 \nz\n\" id=\"DejaVuSans-117\"/>\n       </defs>\n       <use xlink:href=\"#DejaVuSans-121\"/>\n       <use x=\"59.179688\" xlink:href=\"#DejaVuSans-114\"/>\n       <use x=\"100.292969\" xlink:href=\"#DejaVuSans-95\"/>\n       <use x=\"150.292969\" xlink:href=\"#DejaVuSans-98\"/>\n       <use x=\"213.769531\" xlink:href=\"#DejaVuSans-117\"/>\n       <use x=\"277.148438\" xlink:href=\"#DejaVuSans-105\"/>\n       <use x=\"304.931641\" xlink:href=\"#DejaVuSans-108\"/>\n       <use x=\"332.714844\" xlink:href=\"#DejaVuSans-116\"/>\n      </g>\n     </g>\n    </g>\n    <g id=\"ytick_13\">\n     <g id=\"line2d_41\">\n      <path clip-path=\"url(#p58aadb7f1e)\" d=\"M 101.692188 90.983388 \nL 436.492188 90.983388 \n\" style=\"fill:none;stroke:#b0b0b0;stroke-linecap:square;stroke-width:0.8;\"/>\n     </g>\n     <g id=\"line2d_42\">\n      <g>\n       <use style=\"stroke:#000000;stroke-width:0.8;\" x=\"101.692188\" xlink:href=\"#me0e12e47e4\" y=\"90.983388\"/>\n      </g>\n     </g>\n     <g id=\"text_22\">\n      <!-- bathrooms -->\n      <g transform=\"translate(40.884375 94.782607)scale(0.1 -0.1)\">\n       <defs>\n        <path d=\"M 54.890625 33.015625 \nL 54.890625 0 \nL 45.90625 0 \nL 45.90625 32.71875 \nQ 45.90625 40.484375 42.875 44.328125 \nQ 39.84375 48.1875 33.796875 48.1875 \nQ 26.515625 48.1875 22.3125 43.546875 \nQ 18.109375 38.921875 18.109375 30.90625 \nL 18.109375 0 \nL 9.078125 0 \nL 9.078125 75.984375 \nL 18.109375 75.984375 \nL 18.109375 46.1875 \nQ 21.34375 51.125 25.703125 53.5625 \nQ 30.078125 56 35.796875 56 \nQ 45.21875 56 50.046875 50.171875 \nQ 54.890625 44.34375 54.890625 33.015625 \nz\n\" id=\"DejaVuSans-104\"/>\n       </defs>\n       <use xlink:href=\"#DejaVuSans-98\"/>\n       <use x=\"63.476562\" xlink:href=\"#DejaVuSans-97\"/>\n       <use x=\"124.755859\" xlink:href=\"#DejaVuSans-116\"/>\n       <use x=\"163.964844\" xlink:href=\"#DejaVuSans-104\"/>\n       <use x=\"227.34375\" xlink:href=\"#DejaVuSans-114\"/>\n       <use x=\"266.207031\" xlink:href=\"#DejaVuSans-111\"/>\n       <use x=\"327.388672\" xlink:href=\"#DejaVuSans-111\"/>\n       <use x=\"388.570312\" xlink:href=\"#DejaVuSans-109\"/>\n       <use x=\"485.982422\" xlink:href=\"#DejaVuSans-115\"/>\n      </g>\n     </g>\n    </g>\n    <g id=\"ytick_14\">\n     <g id=\"line2d_43\">\n      <path clip-path=\"url(#p58aadb7f1e)\" d=\"M 101.692188 79.539178 \nL 436.492188 79.539178 \n\" style=\"fill:none;stroke:#b0b0b0;stroke-linecap:square;stroke-width:0.8;\"/>\n     </g>\n     <g id=\"line2d_44\">\n      <g>\n       <use style=\"stroke:#000000;stroke-width:0.8;\" x=\"101.692188\" xlink:href=\"#me0e12e47e4\" y=\"79.539178\"/>\n      </g>\n     </g>\n     <g id=\"text_23\">\n      <!-- sqft_living15 -->\n      <g transform=\"translate(31.204687 83.338396)scale(0.1 -0.1)\">\n       <use xlink:href=\"#DejaVuSans-115\"/>\n       <use x=\"52.099609\" xlink:href=\"#DejaVuSans-113\"/>\n       <use x=\"115.576172\" xlink:href=\"#DejaVuSans-102\"/>\n       <use x=\"149.03125\" xlink:href=\"#DejaVuSans-116\"/>\n       <use x=\"188.240234\" xlink:href=\"#DejaVuSans-95\"/>\n       <use x=\"238.240234\" xlink:href=\"#DejaVuSans-108\"/>\n       <use x=\"266.023438\" xlink:href=\"#DejaVuSans-105\"/>\n       <use x=\"293.806641\" xlink:href=\"#DejaVuSans-118\"/>\n       <use x=\"352.986328\" xlink:href=\"#DejaVuSans-105\"/>\n       <use x=\"380.769531\" xlink:href=\"#DejaVuSans-110\"/>\n       <use x=\"444.148438\" xlink:href=\"#DejaVuSans-103\"/>\n       <use x=\"507.625\" xlink:href=\"#DejaVuSans-49\"/>\n       <use x=\"571.248047\" xlink:href=\"#DejaVuSans-53\"/>\n      </g>\n     </g>\n    </g>\n    <g id=\"ytick_15\">\n     <g id=\"line2d_45\">\n      <path clip-path=\"url(#p58aadb7f1e)\" d=\"M 101.692188 68.094967 \nL 436.492188 68.094967 \n\" style=\"fill:none;stroke:#b0b0b0;stroke-linecap:square;stroke-width:0.8;\"/>\n     </g>\n     <g id=\"line2d_46\">\n      <g>\n       <use style=\"stroke:#000000;stroke-width:0.8;\" x=\"101.692188\" xlink:href=\"#me0e12e47e4\" y=\"68.094967\"/>\n      </g>\n     </g>\n     <g id=\"text_24\">\n      <!-- long -->\n      <g transform=\"translate(73.109375 71.894186)scale(0.1 -0.1)\">\n       <use xlink:href=\"#DejaVuSans-108\"/>\n       <use x=\"27.783203\" xlink:href=\"#DejaVuSans-111\"/>\n       <use x=\"88.964844\" xlink:href=\"#DejaVuSans-110\"/>\n       <use x=\"152.34375\" xlink:href=\"#DejaVuSans-103\"/>\n      </g>\n     </g>\n    </g>\n    <g id=\"ytick_16\">\n     <g id=\"line2d_47\">\n      <path clip-path=\"url(#p58aadb7f1e)\" d=\"M 101.692188 56.650757 \nL 436.492188 56.650757 \n\" style=\"fill:none;stroke:#b0b0b0;stroke-linecap:square;stroke-width:0.8;\"/>\n     </g>\n     <g id=\"line2d_48\">\n      <g>\n       <use style=\"stroke:#000000;stroke-width:0.8;\" x=\"101.692188\" xlink:href=\"#me0e12e47e4\" y=\"56.650757\"/>\n      </g>\n     </g>\n     <g id=\"text_25\">\n      <!-- sqft_living -->\n      <g transform=\"translate(43.929688 60.449975)scale(0.1 -0.1)\">\n       <use xlink:href=\"#DejaVuSans-115\"/>\n       <use x=\"52.099609\" xlink:href=\"#DejaVuSans-113\"/>\n       <use x=\"115.576172\" xlink:href=\"#DejaVuSans-102\"/>\n       <use x=\"149.03125\" xlink:href=\"#DejaVuSans-116\"/>\n       <use x=\"188.240234\" xlink:href=\"#DejaVuSans-95\"/>\n       <use x=\"238.240234\" xlink:href=\"#DejaVuSans-108\"/>\n       <use x=\"266.023438\" xlink:href=\"#DejaVuSans-105\"/>\n       <use x=\"293.806641\" xlink:href=\"#DejaVuSans-118\"/>\n       <use x=\"352.986328\" xlink:href=\"#DejaVuSans-105\"/>\n       <use x=\"380.769531\" xlink:href=\"#DejaVuSans-110\"/>\n       <use x=\"444.148438\" xlink:href=\"#DejaVuSans-103\"/>\n      </g>\n     </g>\n    </g>\n    <g id=\"ytick_17\">\n     <g id=\"line2d_49\">\n      <path clip-path=\"url(#p58aadb7f1e)\" d=\"M 101.692188 45.206546 \nL 436.492188 45.206546 \n\" style=\"fill:none;stroke:#b0b0b0;stroke-linecap:square;stroke-width:0.8;\"/>\n     </g>\n     <g id=\"line2d_50\">\n      <g>\n       <use style=\"stroke:#000000;stroke-width:0.8;\" x=\"101.692188\" xlink:href=\"#me0e12e47e4\" y=\"45.206546\"/>\n      </g>\n     </g>\n     <g id=\"text_26\">\n      <!-- lat -->\n      <g transform=\"translate(81.865625 49.005765)scale(0.1 -0.1)\">\n       <use xlink:href=\"#DejaVuSans-108\"/>\n       <use x=\"27.783203\" xlink:href=\"#DejaVuSans-97\"/>\n       <use x=\"89.0625\" xlink:href=\"#DejaVuSans-116\"/>\n      </g>\n     </g>\n    </g>\n    <g id=\"ytick_18\">\n     <g id=\"line2d_51\">\n      <path clip-path=\"url(#p58aadb7f1e)\" d=\"M 101.692188 33.762336 \nL 436.492188 33.762336 \n\" style=\"fill:none;stroke:#b0b0b0;stroke-linecap:square;stroke-width:0.8;\"/>\n     </g>\n     <g id=\"line2d_52\">\n      <g>\n       <use style=\"stroke:#000000;stroke-width:0.8;\" x=\"101.692188\" xlink:href=\"#me0e12e47e4\" y=\"33.762336\"/>\n      </g>\n     </g>\n     <g id=\"text_27\">\n      <!-- sqft_lot -->\n      <g transform=\"translate(58.051563 37.561554)scale(0.1 -0.1)\">\n       <use xlink:href=\"#DejaVuSans-115\"/>\n       <use x=\"52.099609\" xlink:href=\"#DejaVuSans-113\"/>\n       <use x=\"115.576172\" xlink:href=\"#DejaVuSans-102\"/>\n       <use x=\"149.03125\" xlink:href=\"#DejaVuSans-116\"/>\n       <use x=\"188.240234\" xlink:href=\"#DejaVuSans-95\"/>\n       <use x=\"238.240234\" xlink:href=\"#DejaVuSans-108\"/>\n       <use x=\"266.023438\" xlink:href=\"#DejaVuSans-111\"/>\n       <use x=\"327.205078\" xlink:href=\"#DejaVuSans-116\"/>\n      </g>\n     </g>\n    </g>\n    <g id=\"text_28\">\n     <!-- Features -->\n     <g transform=\"translate(14.798437 152.532656)rotate(-90)scale(0.1 -0.1)\">\n      <use xlink:href=\"#DejaVuSans-70\"/>\n      <use x=\"52.019531\" xlink:href=\"#DejaVuSans-101\"/>\n      <use x=\"113.542969\" xlink:href=\"#DejaVuSans-97\"/>\n      <use x=\"174.822266\" xlink:href=\"#DejaVuSans-116\"/>\n      <use x=\"214.03125\" xlink:href=\"#DejaVuSans-117\"/>\n      <use x=\"277.410156\" xlink:href=\"#DejaVuSans-114\"/>\n      <use x=\"316.273438\" xlink:href=\"#DejaVuSans-101\"/>\n      <use x=\"377.796875\" xlink:href=\"#DejaVuSans-115\"/>\n     </g>\n    </g>\n   </g>\n   <g id=\"patch_21\">\n    <path d=\"M 101.692188 239.758125 \nL 101.692188 22.318125 \n\" style=\"fill:none;stroke:#000000;stroke-linecap:square;stroke-linejoin:miter;stroke-width:0.8;\"/>\n   </g>\n   <g id=\"patch_22\">\n    <path d=\"M 436.492188 239.758125 \nL 436.492188 22.318125 \n\" style=\"fill:none;stroke:#000000;stroke-linecap:square;stroke-linejoin:miter;stroke-width:0.8;\"/>\n   </g>\n   <g id=\"patch_23\">\n    <path d=\"M 101.692188 239.758125 \nL 436.492188 239.758125 \n\" style=\"fill:none;stroke:#000000;stroke-linecap:square;stroke-linejoin:miter;stroke-width:0.8;\"/>\n   </g>\n   <g id=\"patch_24\">\n    <path d=\"M 101.692188 22.318125 \nL 436.492188 22.318125 \n\" style=\"fill:none;stroke:#000000;stroke-linecap:square;stroke-linejoin:miter;stroke-width:0.8;\"/>\n   </g>\n   <g id=\"text_29\">\n    <!-- 143 -->\n    <g transform=\"translate(107.96234 231.073289)scale(0.1 -0.1)\">\n     <use xlink:href=\"#DejaVuSans-49\"/>\n     <use x=\"63.623047\" xlink:href=\"#DejaVuSans-52\"/>\n     <use x=\"127.246094\" xlink:href=\"#DejaVuSans-51\"/>\n    </g>\n   </g>\n   <g id=\"text_30\">\n    <!-- 447 -->\n    <g transform=\"translate(121.199328 219.629079)scale(0.1 -0.1)\">\n     <use xlink:href=\"#DejaVuSans-52\"/>\n     <use x=\"63.623047\" xlink:href=\"#DejaVuSans-52\"/>\n     <use x=\"127.246094\" xlink:href=\"#DejaVuSans-55\"/>\n    </g>\n   </g>\n   <g id=\"text_31\">\n    <!-- 662 -->\n    <g transform=\"translate(130.561013 208.184868)scale(0.1 -0.1)\">\n     <use xlink:href=\"#DejaVuSans-54\"/>\n     <use x=\"63.623047\" xlink:href=\"#DejaVuSans-54\"/>\n     <use x=\"127.246094\" xlink:href=\"#DejaVuSans-50\"/>\n    </g>\n   </g>\n   <g id=\"text_32\">\n    <!-- 792 -->\n    <g transform=\"translate(136.221567 196.740658)scale(0.1 -0.1)\">\n     <defs>\n      <path d=\"M 10.984375 1.515625 \nL 10.984375 10.5 \nQ 14.703125 8.734375 18.5 7.8125 \nQ 22.3125 6.890625 25.984375 6.890625 \nQ 35.75 6.890625 40.890625 13.453125 \nQ 46.046875 20.015625 46.78125 33.40625 \nQ 43.953125 29.203125 39.59375 26.953125 \nQ 35.25 24.703125 29.984375 24.703125 \nQ 19.046875 24.703125 12.671875 31.3125 \nQ 6.296875 37.9375 6.296875 49.421875 \nQ 6.296875 60.640625 12.9375 67.421875 \nQ 19.578125 74.21875 30.609375 74.21875 \nQ 43.265625 74.21875 49.921875 64.515625 \nQ 56.59375 54.828125 56.59375 36.375 \nQ 56.59375 19.140625 48.40625 8.859375 \nQ 40.234375 -1.421875 26.421875 -1.421875 \nQ 22.703125 -1.421875 18.890625 -0.6875 \nQ 15.09375 0.046875 10.984375 1.515625 \nz\nM 30.609375 32.421875 \nQ 37.25 32.421875 41.125 36.953125 \nQ 45.015625 41.5 45.015625 49.421875 \nQ 45.015625 57.28125 41.125 61.84375 \nQ 37.25 66.40625 30.609375 66.40625 \nQ 23.96875 66.40625 20.09375 61.84375 \nQ 16.21875 57.28125 16.21875 49.421875 \nQ 16.21875 41.5 20.09375 36.953125 \nQ 23.96875 32.421875 30.609375 32.421875 \nz\n\" id=\"DejaVuSans-57\"/>\n     </defs>\n     <use xlink:href=\"#DejaVuSans-55\"/>\n     <use x=\"63.623047\" xlink:href=\"#DejaVuSans-57\"/>\n     <use x=\"127.246094\" xlink:href=\"#DejaVuSans-50\"/>\n    </g>\n   </g>\n   <g id=\"text_33\">\n    <!-- 1059 -->\n    <g transform=\"translate(147.847474 185.296447)scale(0.1 -0.1)\">\n     <use xlink:href=\"#DejaVuSans-49\"/>\n     <use x=\"63.623047\" xlink:href=\"#DejaVuSans-48\"/>\n     <use x=\"127.246094\" xlink:href=\"#DejaVuSans-53\"/>\n     <use x=\"190.869141\" xlink:href=\"#DejaVuSans-57\"/>\n    </g>\n   </g>\n   <g id=\"text_34\">\n    <!-- 1156 -->\n    <g transform=\"translate(152.071118 173.852237)scale(0.1 -0.1)\">\n     <use xlink:href=\"#DejaVuSans-49\"/>\n     <use x=\"63.623047\" xlink:href=\"#DejaVuSans-49\"/>\n     <use x=\"127.246094\" xlink:href=\"#DejaVuSans-53\"/>\n     <use x=\"190.869141\" xlink:href=\"#DejaVuSans-54\"/>\n    </g>\n   </g>\n   <g id=\"text_35\">\n    <!-- 1980 -->\n    <g transform=\"translate(187.950322 162.408026)scale(0.1 -0.1)\">\n     <defs>\n      <path d=\"M 31.78125 34.625 \nQ 24.75 34.625 20.71875 30.859375 \nQ 16.703125 27.09375 16.703125 20.515625 \nQ 16.703125 13.921875 20.71875 10.15625 \nQ 24.75 6.390625 31.78125 6.390625 \nQ 38.8125 6.390625 42.859375 10.171875 \nQ 46.921875 13.96875 46.921875 20.515625 \nQ 46.921875 27.09375 42.890625 30.859375 \nQ 38.875 34.625 31.78125 34.625 \nz\nM 21.921875 38.8125 \nQ 15.578125 40.375 12.03125 44.71875 \nQ 8.5 49.078125 8.5 55.328125 \nQ 8.5 64.0625 14.71875 69.140625 \nQ 20.953125 74.21875 31.78125 74.21875 \nQ 42.671875 74.21875 48.875 69.140625 \nQ 55.078125 64.0625 55.078125 55.328125 \nQ 55.078125 49.078125 51.53125 44.71875 \nQ 48 40.375 41.703125 38.8125 \nQ 48.828125 37.15625 52.796875 32.3125 \nQ 56.78125 27.484375 56.78125 20.515625 \nQ 56.78125 9.90625 50.3125 4.234375 \nQ 43.84375 -1.421875 31.78125 -1.421875 \nQ 19.734375 -1.421875 13.25 4.234375 \nQ 6.78125 9.90625 6.78125 20.515625 \nQ 6.78125 27.484375 10.78125 32.3125 \nQ 14.796875 37.15625 21.921875 38.8125 \nz\nM 18.3125 54.390625 \nQ 18.3125 48.734375 21.84375 45.5625 \nQ 25.390625 42.390625 31.78125 42.390625 \nQ 38.140625 42.390625 41.71875 45.5625 \nQ 45.3125 48.734375 45.3125 54.390625 \nQ 45.3125 60.0625 41.71875 63.234375 \nQ 38.140625 66.40625 31.78125 66.40625 \nQ 25.390625 66.40625 21.84375 63.234375 \nQ 18.3125 60.0625 18.3125 54.390625 \nz\n\" id=\"DejaVuSans-56\"/>\n     </defs>\n     <use xlink:href=\"#DejaVuSans-49\"/>\n     <use x=\"63.623047\" xlink:href=\"#DejaVuSans-57\"/>\n     <use x=\"127.246094\" xlink:href=\"#DejaVuSans-56\"/>\n     <use x=\"190.869141\" xlink:href=\"#DejaVuSans-48\"/>\n    </g>\n   </g>\n   <g id=\"text_36\">\n    <!-- 2597 -->\n    <g transform=\"translate(214.816183 150.963816)scale(0.1 -0.1)\">\n     <use xlink:href=\"#DejaVuSans-50\"/>\n     <use x=\"63.623047\" xlink:href=\"#DejaVuSans-53\"/>\n     <use x=\"127.246094\" xlink:href=\"#DejaVuSans-57\"/>\n     <use x=\"190.869141\" xlink:href=\"#DejaVuSans-55\"/>\n    </g>\n   </g>\n   <g id=\"text_37\">\n    <!-- 3718 -->\n    <g transform=\"translate(263.627576 139.519605)scale(0.1 -0.1)\">\n     <use xlink:href=\"#DejaVuSans-51\"/>\n     <use x=\"63.623047\" xlink:href=\"#DejaVuSans-55\"/>\n     <use x=\"127.246094\" xlink:href=\"#DejaVuSans-49\"/>\n     <use x=\"190.869141\" xlink:href=\"#DejaVuSans-56\"/>\n    </g>\n   </g>\n   <g id=\"text_38\">\n    <!-- 4175 -->\n    <g transform=\"translate(283.5266 128.075395)scale(0.1 -0.1)\">\n     <use xlink:href=\"#DejaVuSans-52\"/>\n     <use x=\"63.623047\" xlink:href=\"#DejaVuSans-49\"/>\n     <use x=\"127.246094\" xlink:href=\"#DejaVuSans-55\"/>\n     <use x=\"190.869141\" xlink:href=\"#DejaVuSans-53\"/>\n    </g>\n   </g>\n   <g id=\"text_39\">\n    <!-- 4339 -->\n    <g transform=\"translate(290.667607 116.631184)scale(0.1 -0.1)\">\n     <use xlink:href=\"#DejaVuSans-52\"/>\n     <use x=\"63.623047\" xlink:href=\"#DejaVuSans-51\"/>\n     <use x=\"127.246094\" xlink:href=\"#DejaVuSans-51\"/>\n     <use x=\"190.869141\" xlink:href=\"#DejaVuSans-57\"/>\n    </g>\n   </g>\n   <g id=\"text_40\">\n    <!-- 4362 -->\n    <g transform=\"translate(291.66909 105.186974)scale(0.1 -0.1)\">\n     <use xlink:href=\"#DejaVuSans-52\"/>\n     <use x=\"63.623047\" xlink:href=\"#DejaVuSans-51\"/>\n     <use x=\"127.246094\" xlink:href=\"#DejaVuSans-54\"/>\n     <use x=\"190.869141\" xlink:href=\"#DejaVuSans-50\"/>\n    </g>\n   </g>\n   <g id=\"text_41\">\n    <!-- 4436 -->\n    <g transform=\"translate(294.891251 93.742763)scale(0.1 -0.1)\">\n     <use xlink:href=\"#DejaVuSans-52\"/>\n     <use x=\"63.623047\" xlink:href=\"#DejaVuSans-52\"/>\n     <use x=\"127.246094\" xlink:href=\"#DejaVuSans-51\"/>\n     <use x=\"190.869141\" xlink:href=\"#DejaVuSans-54\"/>\n    </g>\n   </g>\n   <g id=\"text_42\">\n    <!-- 4686 -->\n    <g transform=\"translate(305.776932 82.298553)scale(0.1 -0.1)\">\n     <use xlink:href=\"#DejaVuSans-52\"/>\n     <use x=\"63.623047\" xlink:href=\"#DejaVuSans-54\"/>\n     <use x=\"127.246094\" xlink:href=\"#DejaVuSans-56\"/>\n     <use x=\"190.869141\" xlink:href=\"#DejaVuSans-54\"/>\n    </g>\n   </g>\n   <g id=\"text_43\">\n    <!-- 4980 -->\n    <g transform=\"translate(318.578493 70.854342)scale(0.1 -0.1)\">\n     <use xlink:href=\"#DejaVuSans-52\"/>\n     <use x=\"63.623047\" xlink:href=\"#DejaVuSans-57\"/>\n     <use x=\"127.246094\" xlink:href=\"#DejaVuSans-56\"/>\n     <use x=\"190.869141\" xlink:href=\"#DejaVuSans-48\"/>\n    </g>\n   </g>\n   <g id=\"text_44\">\n    <!-- 6508 -->\n    <g transform=\"translate(385.111774 59.410132)scale(0.1 -0.1)\">\n     <use xlink:href=\"#DejaVuSans-54\"/>\n     <use x=\"63.623047\" xlink:href=\"#DejaVuSans-53\"/>\n     <use x=\"127.246094\" xlink:href=\"#DejaVuSans-48\"/>\n     <use x=\"190.869141\" xlink:href=\"#DejaVuSans-56\"/>\n    </g>\n   </g>\n   <g id=\"text_45\">\n    <!-- 6732 -->\n    <g transform=\"translate(394.865344 47.965921)scale(0.1 -0.1)\">\n     <use xlink:href=\"#DejaVuSans-54\"/>\n     <use x=\"63.623047\" xlink:href=\"#DejaVuSans-55\"/>\n     <use x=\"127.246094\" xlink:href=\"#DejaVuSans-51\"/>\n     <use x=\"190.869141\" xlink:href=\"#DejaVuSans-50\"/>\n    </g>\n   </g>\n   <g id=\"text_46\">\n    <!-- 6990 -->\n    <g transform=\"translate(406.099367 36.521711)scale(0.1 -0.1)\">\n     <use xlink:href=\"#DejaVuSans-54\"/>\n     <use x=\"63.623047\" xlink:href=\"#DejaVuSans-57\"/>\n     <use x=\"127.246094\" xlink:href=\"#DejaVuSans-57\"/>\n     <use x=\"190.869141\" xlink:href=\"#DejaVuSans-48\"/>\n    </g>\n   </g>\n   <g id=\"text_47\">\n    <!-- Feature importance -->\n    <g transform=\"translate(210.236875 16.318125)scale(0.12 -0.12)\">\n     <use xlink:href=\"#DejaVuSans-70\"/>\n     <use x=\"52.019531\" xlink:href=\"#DejaVuSans-101\"/>\n     <use x=\"113.542969\" xlink:href=\"#DejaVuSans-97\"/>\n     <use x=\"174.822266\" xlink:href=\"#DejaVuSans-116\"/>\n     <use x=\"214.03125\" xlink:href=\"#DejaVuSans-117\"/>\n     <use x=\"277.410156\" xlink:href=\"#DejaVuSans-114\"/>\n     <use x=\"316.273438\" xlink:href=\"#DejaVuSans-101\"/>\n     <use x=\"377.796875\" xlink:href=\"#DejaVuSans-32\"/>\n     <use x=\"409.583984\" xlink:href=\"#DejaVuSans-105\"/>\n     <use x=\"437.367188\" xlink:href=\"#DejaVuSans-109\"/>\n     <use x=\"534.779297\" xlink:href=\"#DejaVuSans-112\"/>\n     <use x=\"598.255859\" xlink:href=\"#DejaVuSans-111\"/>\n     <use x=\"659.4375\" xlink:href=\"#DejaVuSans-114\"/>\n     <use x=\"700.550781\" xlink:href=\"#DejaVuSans-116\"/>\n     <use x=\"739.759766\" xlink:href=\"#DejaVuSans-97\"/>\n     <use x=\"801.039062\" xlink:href=\"#DejaVuSans-110\"/>\n     <use x=\"864.417969\" xlink:href=\"#DejaVuSans-99\"/>\n     <use x=\"919.398438\" xlink:href=\"#DejaVuSans-101\"/>\n    </g>\n   </g>\n  </g>\n </g>\n <defs>\n  <clipPath id=\"p58aadb7f1e\">\n   <rect height=\"217.44\" width=\"334.8\" x=\"101.692188\" y=\"22.318125\"/>\n  </clipPath>\n </defs>\n</svg>\n",
      "image/png": "[encoded data removed]"
     },
     "metadata": {
      "needs_background": "light"
     }
    }
   ],
   "source": [
    "xgb.plot_importance(xgb_model)"
   ]
  },
  {
   "source": [
    "#### Feature Selection"
   ],
   "cell_type": "markdown",
   "metadata": {}
  },
  {
   "cell_type": "code",
   "execution_count": 133,
   "metadata": {},
   "outputs": [
    {
     "output_type": "stream",
     "name": "stderr",
     "text": [
      "/home/henri/anaconda3/envs/tfx-last/lib/python3.7/site-packages/xgboost/data.py:114: UserWarning: Use subset (sliced data) of np.ndarray is not recommended because it will generate extra copies and increase memory consumption\n",
      "  \"because it will generate extra copies and increase \" +\n",
      "Thresh=0.00130305, n=18, MSE: 1.43\n",
      "/home/henri/anaconda3/envs/tfx-last/lib/python3.7/site-packages/xgboost/data.py:114: UserWarning: Use subset (sliced data) of np.ndarray is not recommended because it will generate extra copies and increase memory consumption\n",
      "  \"because it will generate extra copies and increase \" +\n",
      "Thresh=0.00201372, n=17, MSE: 1.53\n",
      "/home/henri/anaconda3/envs/tfx-last/lib/python3.7/site-packages/xgboost/data.py:114: UserWarning: Use subset (sliced data) of np.ndarray is not recommended because it will generate extra copies and increase memory consumption\n",
      "  \"because it will generate extra copies and increase \" +\n",
      "Thresh=0.00258396, n=16, MSE: 1.52\n",
      "/home/henri/anaconda3/envs/tfx-last/lib/python3.7/site-packages/xgboost/data.py:114: UserWarning: Use subset (sliced data) of np.ndarray is not recommended because it will generate extra copies and increase memory consumption\n",
      "  \"because it will generate extra copies and increase \" +\n",
      "Thresh=0.00282138, n=15, MSE: 1.49\n",
      "/home/henri/anaconda3/envs/tfx-last/lib/python3.7/site-packages/xgboost/data.py:114: UserWarning: Use subset (sliced data) of np.ndarray is not recommended because it will generate extra copies and increase memory consumption\n",
      "  \"because it will generate extra copies and increase \" +\n",
      "Thresh=0.00301446, n=14, MSE: 1.46\n",
      "/home/henri/anaconda3/envs/tfx-last/lib/python3.7/site-packages/xgboost/data.py:114: UserWarning: Use subset (sliced data) of np.ndarray is not recommended because it will generate extra copies and increase memory consumption\n",
      "  \"because it will generate extra copies and increase \" +\n",
      "Thresh=0.00402718, n=13, MSE: 1.51\n",
      "/home/henri/anaconda3/envs/tfx-last/lib/python3.7/site-packages/xgboost/data.py:114: UserWarning: Use subset (sliced data) of np.ndarray is not recommended because it will generate extra copies and increase memory consumption\n",
      "  \"because it will generate extra copies and increase \" +\n",
      "Thresh=0.00449086, n=12, MSE: 1.40\n",
      "/home/henri/anaconda3/envs/tfx-last/lib/python3.7/site-packages/xgboost/data.py:114: UserWarning: Use subset (sliced data) of np.ndarray is not recommended because it will generate extra copies and increase memory consumption\n",
      "  \"because it will generate extra copies and increase \" +\n",
      "Thresh=0.00650217, n=11, MSE: 1.49\n",
      "/home/henri/anaconda3/envs/tfx-last/lib/python3.7/site-packages/xgboost/data.py:114: UserWarning: Use subset (sliced data) of np.ndarray is not recommended because it will generate extra copies and increase memory consumption\n",
      "  \"because it will generate extra copies and increase \" +\n",
      "Thresh=0.00682427, n=10, MSE: 1.52\n",
      "/home/henri/anaconda3/envs/tfx-last/lib/python3.7/site-packages/xgboost/data.py:114: UserWarning: Use subset (sliced data) of np.ndarray is not recommended because it will generate extra copies and increase memory consumption\n",
      "  \"because it will generate extra copies and increase \" +\n",
      "Thresh=0.00958398, n=9, MSE: 1.55\n",
      "/home/henri/anaconda3/envs/tfx-last/lib/python3.7/site-packages/xgboost/data.py:114: UserWarning: Use subset (sliced data) of np.ndarray is not recommended because it will generate extra copies and increase memory consumption\n",
      "  \"because it will generate extra copies and increase \" +\n",
      "Thresh=0.01496591, n=8, MSE: 1.77\n",
      "/home/henri/anaconda3/envs/tfx-last/lib/python3.7/site-packages/xgboost/data.py:114: UserWarning: Use subset (sliced data) of np.ndarray is not recommended because it will generate extra copies and increase memory consumption\n",
      "  \"because it will generate extra copies and increase \" +\n",
      "Thresh=0.01991075, n=7, MSE: 1.79\n",
      "/home/henri/anaconda3/envs/tfx-last/lib/python3.7/site-packages/xgboost/data.py:114: UserWarning: Use subset (sliced data) of np.ndarray is not recommended because it will generate extra copies and increase memory consumption\n",
      "  \"because it will generate extra copies and increase \" +\n",
      "Thresh=0.02881034, n=6, MSE: 1.72\n",
      "/home/henri/anaconda3/envs/tfx-last/lib/python3.7/site-packages/xgboost/data.py:114: UserWarning: Use subset (sliced data) of np.ndarray is not recommended because it will generate extra copies and increase memory consumption\n",
      "  \"because it will generate extra copies and increase \" +\n",
      "Thresh=0.03493851, n=5, MSE: 2.69\n",
      "/home/henri/anaconda3/envs/tfx-last/lib/python3.7/site-packages/xgboost/data.py:114: UserWarning: Use subset (sliced data) of np.ndarray is not recommended because it will generate extra copies and increase memory consumption\n",
      "  \"because it will generate extra copies and increase \" +\n",
      "Thresh=0.04275246, n=4, MSE: 2.80\n",
      "/home/henri/anaconda3/envs/tfx-last/lib/python3.7/site-packages/xgboost/data.py:114: UserWarning: Use subset (sliced data) of np.ndarray is not recommended because it will generate extra copies and increase memory consumption\n",
      "  \"because it will generate extra copies and increase \" +\n",
      "Thresh=0.10942907, n=3, MSE: 5.46\n",
      "/home/henri/anaconda3/envs/tfx-last/lib/python3.7/site-packages/xgboost/data.py:114: UserWarning: Use subset (sliced data) of np.ndarray is not recommended because it will generate extra copies and increase memory consumption\n",
      "  \"because it will generate extra copies and increase \" +\n",
      "Thresh=0.25018489, n=2, MSE: 6.39\n",
      "Thresh=0.45584297, n=1, MSE: 6.92\n"
     ]
    }
   ],
   "source": [
    "thresholds = np.sort(xgb_model.feature_importances_)\n",
    "\n",
    "for thresh in thresholds:\n",
    "\t# select features using threshold\n",
    "\tselection = SelectFromModel(xgb_model, threshold=thresh, prefit=True)\n",
    "\tselect_X_train = selection.transform(X_train)\n",
    "\t# train model\n",
    "\tselection_model = xgb.XGBRegressor(objective=\"reg:squarederror\", random_state=20)\n",
    "\tselection_model.fit(select_X_train, y_train)\n",
    "\t# eval model\n",
    "\tselect_X_test = selection.transform(X_test)\n",
    "\ty_pred = selection_model.predict(select_X_test)\n",
    "\tmse = mean_squared_error(y_test, y_pred)\n",
    "\tprint(\"Thresh=%.8f, n=%d, MSE: %.2f\" % (thresh, select_X_train.shape[1], mse))"
   ]
  },
  {
   "source": [
    "We can see that we have the best Mean Squared Error with 15 variables, let us select that model. (droping the 3 worst variables)"
   ],
   "cell_type": "markdown",
   "metadata": {}
  },
  {
   "cell_type": "code",
   "execution_count": 52,
   "metadata": {},
   "outputs": [
    {
     "output_type": "stream",
     "name": "stderr",
     "text": [
      "/home/henri/anaconda3/envs/tfx-last/lib/python3.7/site-packages/xgboost/data.py:114: UserWarning: Use subset (sliced data) of np.ndarray is not recommended because it will generate extra copies and increase memory consumption\n  \"because it will generate extra copies and increase \" +\n"
     ]
    },
    {
     "output_type": "execute_result",
     "data": {
      "text/plain": [
       "1.3062234219689275"
      ]
     },
     "metadata": {},
     "execution_count": 52
    }
   ],
   "source": [
    "selection = SelectFromModel(xgb_model, threshold=thresholds[3], prefit=True)\n",
    "\n",
    "select_X_train = selection.transform(X_train)\n",
    "select_X_test = selection.transform(X_test)\n",
    "\n",
    "selection_model = xgb.XGBRegressor(objective=\"reg:squarederror\", random_state=20)\n",
    "selection_model.fit(select_X_train, y_train)\n",
    "\n",
    "y_pred = selection_model.predict(select_X_test)\n",
    "mse = mean_squared_error(y_test, y_pred)\n",
    "mse"
   ]
  },
  {
   "source": [
    "#### Competition prediction"
   ],
   "cell_type": "markdown",
   "metadata": {}
  },
  {
   "cell_type": "code",
   "execution_count": 69,
   "metadata": {},
   "outputs": [
    {
     "output_type": "stream",
     "name": "stderr",
     "text": [
      "/home/henri/anaconda3/envs/tfx-last/lib/python3.7/site-packages/xgboost/data.py:114: UserWarning: Use subset (sliced data) of np.ndarray is not recommended because it will generate extra copies and increase memory consumption\n  \"because it will generate extra copies and increase \" +\n"
     ]
    }
   ],
   "source": [
    "X_competition = houses_competition.iloc[:,1:]\n",
    "Y_competition = houses_competition.iloc[:,0]\n",
    "\n",
    "select_X_competition = selection.transform(X_competition)\n",
    "pred = selection_model.predict(select_X_competition)\n",
    "\n",
    "pred = pd.DataFrame({'ID': Y_competition.index, 'Price': pred})\n",
    "pred.to_csv('predictions/submission.csv', index=False)"
   ]
  },
  {
   "source": [
    "#### Results\n",
    "\n",
    "| Model                               | Gen. Error | Kaggle Error |\n",
    "|-------------------------------------|:----------:|:------------:|\n",
    "|  XGBoost with features selection    |   1.30622  |  __1.40666__ |"
   ],
   "cell_type": "markdown",
   "metadata": {}
  },
  {
   "source": [
    "We can have better performances with some data pre-processing and hyperparamters tuning but those are way out of the scope of this course."
   ],
   "cell_type": "markdown",
   "metadata": {}
  }
 ]
}