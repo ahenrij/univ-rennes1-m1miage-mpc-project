{
 "metadata": {
  "language_info": {
   "codemirror_mode": {
    "name": "ipython",
    "version": 3
   },
   "file_extension": ".py",
   "mimetype": "text/x-python",
   "name": "python",
   "nbconvert_exporter": "python",
   "pygments_lexer": "ipython3",
   "version": "3.7.10"
  },
  "orig_nbformat": 2,
  "kernelspec": {
   "name": "python3710jvsc74a57bd0dcdf9362a78d2e47476587dd97a2a2a16cc1350fce3c333babf091014691f33e",
   "display_name": "Python 3.7.10 64-bit ('tfx-last': conda)"
  },
  "metadata": {
   "interpreter": {
    "hash": "31f2aee4e71d21fbe5cf8b01ff0e069b9275f58929596ceb00d14d90e3e16cd6"
   }
  }
 },
 "nbformat": 4,
 "nbformat_minor": 2,
 "cells": [
  {
   "cell_type": "code",
   "execution_count": 140,
   "metadata": {},
   "outputs": [],
   "source": [
    "import pandas as pd\n",
    "import numpy as np\n",
    "import seaborn as sns\n",
    "import statsmodels.api as sm\n",
    "from sklearn.metrics import mean_squared_error\n",
    "from sklearn.model_selection import train_test_split\n",
    "from sklearn.model_selection import KFold\n",
    "\n",
    "import xgboost as xgb\n",
    "from sklearn.ensemble import RandomForestRegressor\n",
    "from sklearn.ensemble import GradientBoostingRegressor\n",
    "from sklearn.feature_selection import SelectFromModel\n",
    "\n",
    "import matplotlib.pyplot as plt\n",
    "%matplotlib inline\n",
    "from IPython.display import clear_output"
   ]
  },
  {
   "cell_type": "code",
   "execution_count": 15,
   "metadata": {},
   "outputs": [],
   "source": [
    "from tensorflow.keras.layers import Input, Dense, Activation,Dropout\n",
    "from tensorflow.keras.models import Model"
   ]
  },
  {
   "cell_type": "code",
   "execution_count": 42,
   "metadata": {},
   "outputs": [],
   "source": [
    "# Load data\n",
    "houses = pd.read_csv('houses.csv', index_col=0)\n",
    "houses_competition = pd.read_csv('houses_competition.csv', index_col=0)\n",
    "houses_competition.insert(0, 'Fake price', np.nan) # to have same indexes for predictions"
   ]
  },
  {
   "cell_type": "code",
   "execution_count": 43,
   "metadata": {},
   "outputs": [],
   "source": [
    "X = houses.iloc[:,1:]\n",
    "y = houses.iloc[:,0]\n",
    "y = y.values\n",
    "# split data into train and test sets\n",
    "X_train, X_test, y_train, y_test = train_test_split(X, y, test_size=0.2, random_state=20)"
   ]
  },
  {
   "cell_type": "code",
   "execution_count": 44,
   "metadata": {},
   "outputs": [],
   "source": [
    "from sklearn.preprocessing import StandardScaler\n",
    "\n",
    "sc = StandardScaler()\n",
    "X_train = sc.fit_transform(X_train)\n",
    "X_test = sc.transform(X_test)"
   ]
  },
  {
   "cell_type": "code",
   "execution_count": 52,
   "metadata": {},
   "outputs": [
    {
     "output_type": "stream",
     "name": "stdout",
     "text": [
      "Model: \"functional_13\"\n_________________________________________________________________\nLayer (type)                 Output Shape              Param #   \n=================================================================\ninput_7 (InputLayer)         [(None, 18)]              0         \n_________________________________________________________________\ndense_29 (Dense)             (None, 100)               1900      \n_________________________________________________________________\ndense_30 (Dense)             (None, 64)                6464      \n_________________________________________________________________\ndense_31 (Dense)             (None, 64)                4160      \n_________________________________________________________________\ndense_32 (Dense)             (None, 25)                1625      \n_________________________________________________________________\ndense_33 (Dense)             (None, 1)                 26        \n=================================================================\nTotal params: 14,175\nTrainable params: 14,175\nNon-trainable params: 0\n_________________________________________________________________\n"
     ]
    }
   ],
   "source": [
    "input_layer = Input(shape=(X.shape[1],))\n",
    "dense_layer_1 = Dense(100, activation='relu')(input_layer)\n",
    "dense_layer_2 = Dense(64, activation='relu')(dense_layer_1)\n",
    "dense_layer_3 = Dense(64, activation='relu')(dense_layer_2)\n",
    "dense_layer_4 = Dense(25, activation='relu')(dense_layer_3)\n",
    "output = Dense(1)(dense_layer_4)\n",
    "\n",
    "model = Model(inputs=input_layer, outputs=output)\n",
    "model.compile(loss=\"mean_squared_error\" , optimizer=\"adam\", metrics=[\"mean_squared_error\"])\n",
    "model.summary()"
   ]
  },
  {
   "cell_type": "code",
   "execution_count": 53,
   "metadata": {},
   "outputs": [
    {
     "output_type": "stream",
     "name": "stdout",
     "text": [
      "Epoch 1/100\n",
      "4287/4287 [==============================] - 18s 4ms/step - loss: 4.0213 - mean_squared_error: 4.0213 - val_loss: 38.0158 - val_mean_squared_error: 38.0158\n",
      "Epoch 2/100\n",
      "4287/4287 [==============================] - 20s 5ms/step - loss: 2.8319 - mean_squared_error: 2.8319 - val_loss: 2.7245 - val_mean_squared_error: 2.7245\n",
      "Epoch 3/100\n",
      "4287/4287 [==============================] - 19s 4ms/step - loss: 2.7913 - mean_squared_error: 2.7913 - val_loss: 2.3467 - val_mean_squared_error: 2.3467\n",
      "Epoch 4/100\n",
      "4287/4287 [==============================] - 16s 4ms/step - loss: 2.2132 - mean_squared_error: 2.2132 - val_loss: 2.2097 - val_mean_squared_error: 2.2097\n",
      "Epoch 5/100\n",
      "4287/4287 [==============================] - 15s 4ms/step - loss: 2.1343 - mean_squared_error: 2.1343 - val_loss: 2.1550 - val_mean_squared_error: 2.1550\n",
      "Epoch 6/100\n",
      "4287/4287 [==============================] - 21s 5ms/step - loss: 2.0819 - mean_squared_error: 2.0819 - val_loss: 2.2808 - val_mean_squared_error: 2.2808\n",
      "Epoch 7/100\n",
      "4287/4287 [==============================] - 20s 5ms/step - loss: 2.1658 - mean_squared_error: 2.1658 - val_loss: 1.9812 - val_mean_squared_error: 1.9812\n",
      "Epoch 8/100\n",
      "4287/4287 [==============================] - 19s 4ms/step - loss: 1.8402 - mean_squared_error: 1.8402 - val_loss: 1.7307 - val_mean_squared_error: 1.7307\n",
      "Epoch 9/100\n",
      "4287/4287 [==============================] - 19s 5ms/step - loss: 1.6109 - mean_squared_error: 1.6109 - val_loss: 1.7255 - val_mean_squared_error: 1.7255\n",
      "Epoch 10/100\n",
      "4287/4287 [==============================] - 22s 5ms/step - loss: 1.6218 - mean_squared_error: 1.6218 - val_loss: 2.2816 - val_mean_squared_error: 2.2816\n",
      "Epoch 11/100\n",
      "4287/4287 [==============================] - 21s 5ms/step - loss: 1.6817 - mean_squared_error: 1.6817 - val_loss: 2.5984 - val_mean_squared_error: 2.5984\n",
      "Epoch 12/100\n",
      "4287/4287 [==============================] - 16s 4ms/step - loss: 1.5369 - mean_squared_error: 1.5369 - val_loss: 1.7339 - val_mean_squared_error: 1.7339\n",
      "Epoch 13/100\n",
      "4287/4287 [==============================] - 20s 5ms/step - loss: 1.4763 - mean_squared_error: 1.4763 - val_loss: 1.6637 - val_mean_squared_error: 1.6637\n",
      "Epoch 14/100\n",
      "4287/4287 [==============================] - 18s 4ms/step - loss: 1.5767 - mean_squared_error: 1.5767 - val_loss: 1.6622 - val_mean_squared_error: 1.6622\n",
      "Epoch 15/100\n",
      "4287/4287 [==============================] - 19s 4ms/step - loss: 1.4755 - mean_squared_error: 1.4755 - val_loss: 2.9058 - val_mean_squared_error: 2.9058\n",
      "Epoch 16/100\n",
      "4287/4287 [==============================] - 18s 4ms/step - loss: 1.4040 - mean_squared_error: 1.4040 - val_loss: 1.7524 - val_mean_squared_error: 1.7524\n",
      "Epoch 17/100\n",
      "4287/4287 [==============================] - 19s 5ms/step - loss: 1.4224 - mean_squared_error: 1.4224 - val_loss: 2.2333 - val_mean_squared_error: 2.2333\n",
      "Epoch 18/100\n",
      "4287/4287 [==============================] - 21s 5ms/step - loss: 1.4529 - mean_squared_error: 1.4529 - val_loss: 1.6604 - val_mean_squared_error: 1.6604\n",
      "Epoch 19/100\n",
      "4287/4287 [==============================] - 17s 4ms/step - loss: 1.3336 - mean_squared_error: 1.3336 - val_loss: 1.8280 - val_mean_squared_error: 1.8280\n",
      "Epoch 20/100\n",
      "4287/4287 [==============================] - 16s 4ms/step - loss: 1.3247 - mean_squared_error: 1.3247 - val_loss: 1.6576 - val_mean_squared_error: 1.6576\n",
      "Epoch 21/100\n",
      "4287/4287 [==============================] - 16s 4ms/step - loss: 1.4129 - mean_squared_error: 1.4129 - val_loss: 1.6577 - val_mean_squared_error: 1.6577\n",
      "Epoch 22/100\n",
      "4287/4287 [==============================] - 19s 4ms/step - loss: 1.3541 - mean_squared_error: 1.3541 - val_loss: 1.7452 - val_mean_squared_error: 1.7452\n",
      "Epoch 23/100\n",
      "4287/4287 [==============================] - 17s 4ms/step - loss: 1.3064 - mean_squared_error: 1.3064 - val_loss: 1.6267 - val_mean_squared_error: 1.6267\n",
      "Epoch 24/100\n",
      "4287/4287 [==============================] - 19s 4ms/step - loss: 1.1791 - mean_squared_error: 1.1791 - val_loss: 1.8856 - val_mean_squared_error: 1.8856\n",
      "Epoch 25/100\n",
      "4287/4287 [==============================] - 19s 5ms/step - loss: 1.1440 - mean_squared_error: 1.1440 - val_loss: 1.6188 - val_mean_squared_error: 1.6188\n",
      "Epoch 26/100\n",
      "4287/4287 [==============================] - 13s 3ms/step - loss: 1.1838 - mean_squared_error: 1.1838 - val_loss: 1.8704 - val_mean_squared_error: 1.8704\n",
      "Epoch 27/100\n",
      "4287/4287 [==============================] - 10s 2ms/step - loss: 1.3117 - mean_squared_error: 1.3117 - val_loss: 1.8138 - val_mean_squared_error: 1.8138\n",
      "Epoch 28/100\n",
      "4287/4287 [==============================] - 17s 4ms/step - loss: 1.1137 - mean_squared_error: 1.1137 - val_loss: 1.6098 - val_mean_squared_error: 1.6098\n",
      "Epoch 29/100\n",
      "4287/4287 [==============================] - 17s 4ms/step - loss: 1.1260 - mean_squared_error: 1.1260 - val_loss: 1.7097 - val_mean_squared_error: 1.7097\n",
      "Epoch 30/100\n",
      "4287/4287 [==============================] - 18s 4ms/step - loss: 1.0760 - mean_squared_error: 1.0760 - val_loss: 1.7942 - val_mean_squared_error: 1.7942\n",
      "Epoch 31/100\n",
      "4287/4287 [==============================] - 14s 3ms/step - loss: 1.1050 - mean_squared_error: 1.1050 - val_loss: 2.0714 - val_mean_squared_error: 2.0714\n",
      "Epoch 32/100\n",
      "4287/4287 [==============================] - 18s 4ms/step - loss: 1.1163 - mean_squared_error: 1.1163 - val_loss: 1.7252 - val_mean_squared_error: 1.7252\n",
      "Epoch 33/100\n",
      "4287/4287 [==============================] - 18s 4ms/step - loss: 1.0254 - mean_squared_error: 1.0254 - val_loss: 1.7030 - val_mean_squared_error: 1.7030\n",
      "Epoch 34/100\n",
      "4287/4287 [==============================] - 17s 4ms/step - loss: 1.0501 - mean_squared_error: 1.0501 - val_loss: 1.7725 - val_mean_squared_error: 1.7725\n",
      "Epoch 35/100\n",
      "4287/4287 [==============================] - 16s 4ms/step - loss: 1.0560 - mean_squared_error: 1.0560 - val_loss: 1.6991 - val_mean_squared_error: 1.6991\n",
      "Epoch 36/100\n",
      "4287/4287 [==============================] - 10s 2ms/step - loss: 0.9642 - mean_squared_error: 0.9642 - val_loss: 1.7488 - val_mean_squared_error: 1.7488\n",
      "Epoch 37/100\n",
      "4287/4287 [==============================] - 12s 3ms/step - loss: 1.0019 - mean_squared_error: 1.0019 - val_loss: 1.8016 - val_mean_squared_error: 1.8016\n",
      "Epoch 38/100\n",
      "4287/4287 [==============================] - 7s 2ms/step - loss: 0.9578 - mean_squared_error: 0.9578 - val_loss: 1.8076 - val_mean_squared_error: 1.8076\n",
      "Epoch 39/100\n",
      "4287/4287 [==============================] - 12s 3ms/step - loss: 0.9030 - mean_squared_error: 0.9030 - val_loss: 1.9528 - val_mean_squared_error: 1.9528\n",
      "Epoch 40/100\n",
      "4287/4287 [==============================] - 11s 3ms/step - loss: 0.9259 - mean_squared_error: 0.9259 - val_loss: 1.7551 - val_mean_squared_error: 1.7551\n",
      "Epoch 41/100\n",
      "4287/4287 [==============================] - 12s 3ms/step - loss: 0.9124 - mean_squared_error: 0.9124 - val_loss: 1.7262 - val_mean_squared_error: 1.7262\n",
      "Epoch 42/100\n",
      "4287/4287 [==============================] - 16s 4ms/step - loss: 0.8635 - mean_squared_error: 0.8635 - val_loss: 1.9100 - val_mean_squared_error: 1.9100\n",
      "Epoch 43/100\n",
      "4287/4287 [==============================] - 17s 4ms/step - loss: 0.9625 - mean_squared_error: 0.9625 - val_loss: 1.9787 - val_mean_squared_error: 1.9787\n",
      "Epoch 44/100\n",
      "4287/4287 [==============================] - 19s 4ms/step - loss: 0.9343 - mean_squared_error: 0.9343 - val_loss: 1.7682 - val_mean_squared_error: 1.7682\n",
      "Epoch 45/100\n",
      "4287/4287 [==============================] - 18s 4ms/step - loss: 0.8722 - mean_squared_error: 0.8722 - val_loss: 1.6692 - val_mean_squared_error: 1.6692\n",
      "Epoch 46/100\n",
      "4287/4287 [==============================] - 17s 4ms/step - loss: 0.8210 - mean_squared_error: 0.8210 - val_loss: 2.2891 - val_mean_squared_error: 2.2891\n",
      "Epoch 47/100\n",
      "4287/4287 [==============================] - 16s 4ms/step - loss: 0.8452 - mean_squared_error: 0.8452 - val_loss: 1.7693 - val_mean_squared_error: 1.7693\n",
      "Epoch 48/100\n",
      "4287/4287 [==============================] - 17s 4ms/step - loss: 0.8542 - mean_squared_error: 0.8542 - val_loss: 2.0337 - val_mean_squared_error: 2.0337\n",
      "Epoch 49/100\n",
      "4287/4287 [==============================] - 16s 4ms/step - loss: 0.8203 - mean_squared_error: 0.8203 - val_loss: 1.7756 - val_mean_squared_error: 1.7756\n",
      "Epoch 50/100\n",
      "4287/4287 [==============================] - 17s 4ms/step - loss: 0.9026 - mean_squared_error: 0.9026 - val_loss: 1.7728 - val_mean_squared_error: 1.7728\n",
      "Epoch 51/100\n",
      "4287/4287 [==============================] - 15s 3ms/step - loss: 0.8535 - mean_squared_error: 0.8535 - val_loss: 1.8443 - val_mean_squared_error: 1.8443\n",
      "Epoch 52/100\n",
      "4287/4287 [==============================] - 19s 4ms/step - loss: 0.7668 - mean_squared_error: 0.7668 - val_loss: 1.7765 - val_mean_squared_error: 1.7765\n",
      "Epoch 53/100\n",
      "4287/4287 [==============================] - 19s 4ms/step - loss: 0.8854 - mean_squared_error: 0.8854 - val_loss: 1.7779 - val_mean_squared_error: 1.7779\n",
      "Epoch 54/100\n",
      "4287/4287 [==============================] - 18s 4ms/step - loss: 0.7828 - mean_squared_error: 0.7828 - val_loss: 2.0146 - val_mean_squared_error: 2.0146\n",
      "Epoch 55/100\n",
      "4287/4287 [==============================] - 17s 4ms/step - loss: 0.8251 - mean_squared_error: 0.8251 - val_loss: 1.8181 - val_mean_squared_error: 1.8181\n",
      "Epoch 56/100\n",
      "4287/4287 [==============================] - 15s 4ms/step - loss: 0.7731 - mean_squared_error: 0.7731 - val_loss: 1.8546 - val_mean_squared_error: 1.8546\n",
      "Epoch 57/100\n",
      "4287/4287 [==============================] - 17s 4ms/step - loss: 0.7706 - mean_squared_error: 0.7706 - val_loss: 1.9634 - val_mean_squared_error: 1.9634\n",
      "Epoch 58/100\n",
      "4287/4287 [==============================] - 16s 4ms/step - loss: 0.8481 - mean_squared_error: 0.8481 - val_loss: 1.7377 - val_mean_squared_error: 1.7377\n",
      "Epoch 59/100\n",
      "4287/4287 [==============================] - 13s 3ms/step - loss: 0.7451 - mean_squared_error: 0.7451 - val_loss: 1.8394 - val_mean_squared_error: 1.8394\n",
      "Epoch 60/100\n",
      "4287/4287 [==============================] - 16s 4ms/step - loss: 0.6933 - mean_squared_error: 0.6933 - val_loss: 2.0641 - val_mean_squared_error: 2.0641\n",
      "Epoch 61/100\n",
      "4287/4287 [==============================] - 18s 4ms/step - loss: 0.7382 - mean_squared_error: 0.7382 - val_loss: 1.8720 - val_mean_squared_error: 1.8720\n",
      "Epoch 62/100\n",
      "4287/4287 [==============================] - 17s 4ms/step - loss: 0.7349 - mean_squared_error: 0.7349 - val_loss: 1.9415 - val_mean_squared_error: 1.9415\n",
      "Epoch 63/100\n",
      "4287/4287 [==============================] - 15s 4ms/step - loss: 0.7433 - mean_squared_error: 0.7433 - val_loss: 2.1973 - val_mean_squared_error: 2.1973\n",
      "Epoch 64/100\n",
      "4287/4287 [==============================] - 22s 5ms/step - loss: 0.6871 - mean_squared_error: 0.6871 - val_loss: 1.9416 - val_mean_squared_error: 1.9416\n",
      "Epoch 65/100\n",
      "4287/4287 [==============================] - 20s 5ms/step - loss: 0.7029 - mean_squared_error: 0.7029 - val_loss: 1.9413 - val_mean_squared_error: 1.9413\n",
      "Epoch 66/100\n",
      "4287/4287 [==============================] - 19s 4ms/step - loss: 0.8300 - mean_squared_error: 0.8300 - val_loss: 1.9368 - val_mean_squared_error: 1.9368\n",
      "Epoch 67/100\n",
      "4287/4287 [==============================] - 19s 4ms/step - loss: 0.7311 - mean_squared_error: 0.7311 - val_loss: 1.7535 - val_mean_squared_error: 1.7535\n",
      "Epoch 68/100\n",
      "4287/4287 [==============================] - 19s 4ms/step - loss: 0.6696 - mean_squared_error: 0.6696 - val_loss: 1.9033 - val_mean_squared_error: 1.9033\n",
      "Epoch 69/100\n",
      "4287/4287 [==============================] - 19s 4ms/step - loss: 0.7243 - mean_squared_error: 0.7243 - val_loss: 1.9096 - val_mean_squared_error: 1.9096\n",
      "Epoch 70/100\n",
      "4287/4287 [==============================] - 19s 4ms/step - loss: 0.6973 - mean_squared_error: 0.6973 - val_loss: 1.8844 - val_mean_squared_error: 1.8844\n",
      "Epoch 71/100\n",
      "4287/4287 [==============================] - 19s 4ms/step - loss: 0.6440 - mean_squared_error: 0.6440 - val_loss: 1.8989 - val_mean_squared_error: 1.8989\n",
      "Epoch 72/100\n",
      "4287/4287 [==============================] - 19s 4ms/step - loss: 0.6980 - mean_squared_error: 0.6980 - val_loss: 1.9801 - val_mean_squared_error: 1.9801\n",
      "Epoch 73/100\n",
      "4287/4287 [==============================] - 19s 4ms/step - loss: 0.6749 - mean_squared_error: 0.6749 - val_loss: 1.8986 - val_mean_squared_error: 1.8986\n",
      "Epoch 74/100\n",
      "4287/4287 [==============================] - 19s 4ms/step - loss: 0.6512 - mean_squared_error: 0.6512 - val_loss: 1.8892 - val_mean_squared_error: 1.8892\n",
      "Epoch 75/100\n",
      "4287/4287 [==============================] - 27s 6ms/step - loss: 0.6658 - mean_squared_error: 0.6658 - val_loss: 1.8498 - val_mean_squared_error: 1.8498\n",
      "Epoch 76/100\n",
      "4287/4287 [==============================] - 25s 6ms/step - loss: 0.6509 - mean_squared_error: 0.6509 - val_loss: 1.8682 - val_mean_squared_error: 1.8682\n",
      "Epoch 77/100\n",
      "4287/4287 [==============================] - 26s 6ms/step - loss: 0.6629 - mean_squared_error: 0.6629 - val_loss: 1.8958 - val_mean_squared_error: 1.8958\n",
      "Epoch 78/100\n",
      "4287/4287 [==============================] - 27s 6ms/step - loss: 0.6577 - mean_squared_error: 0.6577 - val_loss: 1.8217 - val_mean_squared_error: 1.8217\n",
      "Epoch 79/100\n",
      "4287/4287 [==============================] - 25s 6ms/step - loss: 0.6633 - mean_squared_error: 0.6633 - val_loss: 1.7538 - val_mean_squared_error: 1.7538\n",
      "Epoch 80/100\n",
      "4287/4287 [==============================] - 23s 5ms/step - loss: 0.6435 - mean_squared_error: 0.6435 - val_loss: 1.9308 - val_mean_squared_error: 1.9308\n",
      "Epoch 81/100\n",
      "4287/4287 [==============================] - 24s 6ms/step - loss: 0.6693 - mean_squared_error: 0.6693 - val_loss: 1.7197 - val_mean_squared_error: 1.7197\n",
      "Epoch 82/100\n",
      "4287/4287 [==============================] - 23s 5ms/step - loss: 0.6785 - mean_squared_error: 0.6785 - val_loss: 1.8555 - val_mean_squared_error: 1.8555\n",
      "Epoch 83/100\n",
      "4287/4287 [==============================] - 23s 5ms/step - loss: 0.5900 - mean_squared_error: 0.5900 - val_loss: 1.9602 - val_mean_squared_error: 1.9602\n",
      "Epoch 84/100\n",
      "4287/4287 [==============================] - 23s 5ms/step - loss: 0.5844 - mean_squared_error: 0.5844 - val_loss: 2.0285 - val_mean_squared_error: 2.0285\n",
      "Epoch 85/100\n",
      "4287/4287 [==============================] - 24s 6ms/step - loss: 0.6150 - mean_squared_error: 0.6150 - val_loss: 1.9322 - val_mean_squared_error: 1.9322\n",
      "Epoch 86/100\n",
      "4287/4287 [==============================] - 25s 6ms/step - loss: 0.6360 - mean_squared_error: 0.6360 - val_loss: 2.0749 - val_mean_squared_error: 2.0749\n",
      "Epoch 87/100\n",
      "4287/4287 [==============================] - 22s 5ms/step - loss: 0.6498 - mean_squared_error: 0.6498 - val_loss: 1.8041 - val_mean_squared_error: 1.8041\n",
      "Epoch 88/100\n",
      "4287/4287 [==============================] - 22s 5ms/step - loss: 0.6292 - mean_squared_error: 0.6292 - val_loss: 1.9610 - val_mean_squared_error: 1.9610\n",
      "Epoch 89/100\n",
      "4287/4287 [==============================] - 20s 5ms/step - loss: 0.5627 - mean_squared_error: 0.5627 - val_loss: 2.1457 - val_mean_squared_error: 2.1457\n",
      "Epoch 90/100\n",
      "4287/4287 [==============================] - 20s 5ms/step - loss: 0.6384 - mean_squared_error: 0.6384 - val_loss: 2.0473 - val_mean_squared_error: 2.0473\n",
      "Epoch 91/100\n",
      "4287/4287 [==============================] - 18s 4ms/step - loss: 0.6088 - mean_squared_error: 0.6088 - val_loss: 2.0376 - val_mean_squared_error: 2.0376\n",
      "Epoch 92/100\n",
      "4287/4287 [==============================] - 20s 5ms/step - loss: 0.5850 - mean_squared_error: 0.5850 - val_loss: 2.0781 - val_mean_squared_error: 2.0781\n",
      "Epoch 93/100\n",
      "4287/4287 [==============================] - 20s 5ms/step - loss: 0.6273 - mean_squared_error: 0.6273 - val_loss: 1.9685 - val_mean_squared_error: 1.9685\n",
      "Epoch 94/100\n",
      "4287/4287 [==============================] - 20s 5ms/step - loss: 0.5612 - mean_squared_error: 0.5612 - val_loss: 1.9959 - val_mean_squared_error: 1.9959\n",
      "Epoch 95/100\n",
      "4287/4287 [==============================] - 18s 4ms/step - loss: 0.5862 - mean_squared_error: 0.5862 - val_loss: 1.9596 - val_mean_squared_error: 1.9596\n",
      "Epoch 96/100\n",
      "4287/4287 [==============================] - 20s 5ms/step - loss: 0.5707 - mean_squared_error: 0.5707 - val_loss: 2.2338 - val_mean_squared_error: 2.2338\n",
      "Epoch 97/100\n",
      "4287/4287 [==============================] - 19s 4ms/step - loss: 0.5626 - mean_squared_error: 0.5626 - val_loss: 1.9653 - val_mean_squared_error: 1.9653\n",
      "Epoch 98/100\n",
      "4287/4287 [==============================] - 20s 5ms/step - loss: 0.5485 - mean_squared_error: 0.5485 - val_loss: 1.8502 - val_mean_squared_error: 1.8502\n",
      "Epoch 99/100\n",
      "4287/4287 [==============================] - 21s 5ms/step - loss: 0.5593 - mean_squared_error: 0.5593 - val_loss: 1.9344 - val_mean_squared_error: 1.9344\n",
      "Epoch 100/100\n",
      "4287/4287 [==============================] - 23s 5ms/step - loss: 0.5798 - mean_squared_error: 0.5798 - val_loss: 2.0696 - val_mean_squared_error: 2.0696\n"
     ]
    }
   ],
   "source": [
    "history = model.fit(X_train, y_train, batch_size=2, epochs=100, verbose=1, validation_split=0.2)"
   ]
  },
  {
   "cell_type": "code",
   "execution_count": 54,
   "metadata": {},
   "outputs": [
    {
     "output_type": "stream",
     "name": "stdout",
     "text": [
      "1.2961536202987098\n"
     ]
    }
   ],
   "source": [
    "pred = model.predict(X_test)\n",
    "print(np.sqrt(mean_squared_error(y_test, pred)))"
   ]
  },
  {
   "cell_type": "code",
   "execution_count": 75,
   "metadata": {},
   "outputs": [],
   "source": [
    "X_competition = houses_competition.iloc[:,1:]\n",
    "Y_competition = houses_competition.iloc[:,0]\n",
    "\n",
    "X_competition = sc.transform(X_competition)\n",
    "\n",
    "pred = model.predict(X_competition)\n",
    "pred = pd.DataFrame({'ID': Y_competition.index, 'Price': pred.flatten()})\n",
    "pred.to_csv('predictions/submission.csv', index=False)"
   ]
  },
  {
   "cell_type": "code",
   "execution_count": 74,
   "metadata": {},
   "outputs": [],
   "source": [
    "pred = pd.DataFrame({'Price': pred.flatten()})"
   ]
  },
  {
   "cell_type": "code",
   "execution_count": null,
   "metadata": {},
   "outputs": [],
   "source": []
  },
  {
   "cell_type": "code",
   "execution_count": null,
   "metadata": {},
   "outputs": [],
   "source": []
  },
  {
   "cell_type": "code",
   "execution_count": 78,
   "metadata": {},
   "outputs": [],
   "source": [
    "X = houses.iloc[:,1:]\n",
    "Y = houses.iloc[:,0]\n",
    "# split data into train and test sets\n",
    "X_train, X_test, y_train, y_test = train_test_split(X, Y, test_size=0.2, random_state=42)"
   ]
  },
  {
   "cell_type": "code",
   "execution_count": 110,
   "metadata": {},
   "outputs": [
    {
     "output_type": "execute_result",
     "data": {
      "text/plain": [
       "1.217070092922464"
      ]
     },
     "metadata": {},
     "execution_count": 110
    }
   ],
   "source": [
    "xgb_model = xgb.XGBRegressor(objective=\"reg:squarederror\", \n",
    "                                random_state=20, \n",
    "                                learning_rate=0.1,\n",
    "                                n_estimators=1000,\n",
    "                                max_depth=5,\n",
    "                                subsample=0.8,\n",
    "                                colsample_bytree=0.8,\n",
    "                                gamma=10)\n",
    "xgb_model.fit(X_train, y_train)\n",
    "\n",
    "# MSE\n",
    "y_pred = xgb_model.predict(X_test)\n",
    "mse = mean_squared_error(y_test, y_pred)\n",
    "\n",
    "clear_output()\n",
    "mse"
   ]
  },
  {
   "cell_type": "code",
   "execution_count": 112,
   "metadata": {},
   "outputs": [
    {
     "output_type": "execute_result",
     "data": {
      "text/plain": [
       "1.1786110540503665"
      ]
     },
     "metadata": {},
     "execution_count": 112
    }
   ],
   "source": [
    "xgb_model = xgb.XGBRegressor(objective=\"reg:squarederror\", \n",
    "                                random_state=20, \n",
    "                                learning_rate=0.1,\n",
    "                                n_estimators=1000,\n",
    "                                max_depth=5,\n",
    "                                subsample=0.8,\n",
    "                                colsample_bytree=0.8,\n",
    "                                gamma=5)\n",
    "xgb_model.fit(X_train, y_train)\n",
    "\n",
    "# MSE\n",
    "y_pred = xgb_model.predict(X_test)\n",
    "mse = mean_squared_error(y_test, y_pred)\n",
    "\n",
    "clear_output()\n",
    "mse"
   ]
  },
  {
   "cell_type": "code",
   "execution_count": 158,
   "metadata": {},
   "outputs": [
    {
     "output_type": "execute_result",
     "data": {
      "text/plain": [
       "1.1786110540503665"
      ]
     },
     "metadata": {},
     "execution_count": 158
    }
   ],
   "source": [
    "xgb_model = xgb.XGBRegressor(objective=\"reg:squarederror\", \n",
    "                                random_state=20, \n",
    "                                learning_rate=0.1,\n",
    "                                n_estimators=1000,\n",
    "                                max_depth=5,\n",
    "                                subsample=0.8,\n",
    "                                colsample_bytree=0.8,\n",
    "                                gamma=5)\n",
    "xgb_model.fit(X_train, y_train)\n",
    "\n",
    "# MSE\n",
    "y_pred = xgb_model.predict(X_test)\n",
    "mse = mean_squared_error(y_test, y_pred)\n",
    "\n",
    "clear_output()\n",
    "mse"
   ]
  },
  {
   "cell_type": "code",
   "execution_count": 157,
   "metadata": {},
   "outputs": [
    {
     "output_type": "stream",
     "name": "stderr",
     "text": [
      "/home/henri/anaconda3/envs/tfx-last/lib/python3.7/site-packages/xgboost/data.py:114: UserWarning: Use subset (sliced data) of np.ndarray is not recommended because it will generate extra copies and increase memory consumption\n  \"because it will generate extra copies and increase \" +\n"
     ]
    }
   ],
   "source": [
    "X_competition = houses_competition.iloc[:,1:]\n",
    "Y_competition = houses_competition.iloc[:,0]\n",
    "\n",
    "pred = xgb_model.predict(X_competition)\n",
    "\n",
    "pred = pd.DataFrame({'ID': Y_competition.index, 'Price': pred})\n",
    "pred.to_csv('predictions/submission.csv', index=False)"
   ]
  },
  {
   "cell_type": "code",
   "execution_count": null,
   "metadata": {},
   "outputs": [],
   "source": []
  }
 ]
}